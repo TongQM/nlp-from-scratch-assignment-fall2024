{
 "cells": [
  {
   "cell_type": "code",
   "execution_count": 29,
   "metadata": {},
   "outputs": [],
   "source": [
    "import requests\n",
    "import os\n",
    "from tqdm import tqdm\n",
    "\n",
    "def get_wikipedia_page(title, get_links=False):\n",
    "    \"\"\"\n",
    "    Fetches the content and links of a Wikipedia page given its title.\n",
    "\n",
    "    Args:\n",
    "        title (str): The title of the Wikipedia page.\n",
    "\n",
    "    Returns:\n",
    "        dict: A dictionary containing the page content and links.\n",
    "    \"\"\"\n",
    "    S = requests.Session()\n",
    "\n",
    "    URL = \"https://en.wikipedia.org/w/api.php\"\n",
    "\n",
    "    # First, get the content of the page\n",
    "    PARAMS_CONTENT = {\n",
    "        \"action\": \"query\",\n",
    "        \"format\": \"json\",\n",
    "        \"prop\": \"extracts\",\n",
    "        \"titles\": title,\n",
    "        \"explaintext\": True,\n",
    "    }\n",
    "\n",
    "    response_content = S.get(url=URL, params=PARAMS_CONTENT)\n",
    "    data_content = response_content.json()\n",
    "\n",
    "    pages_content = data_content['query']['pages']\n",
    "    page = next(iter(pages_content.values()))\n",
    "    page_content = page.get('extract', '')\n",
    "\n",
    "    # Next, get the links from the page\n",
    "    PARAMS_LINKS = {\n",
    "        \"action\": \"query\",\n",
    "        \"format\": \"json\",\n",
    "        \"prop\": \"links\",\n",
    "        \"titles\": title,\n",
    "        \"pllimit\": \"max\",\n",
    "    }\n",
    "\n",
    "    if get_links:\n",
    "        links = []\n",
    "        while True:\n",
    "            response_links = S.get(url=URL, params=PARAMS_LINKS)\n",
    "            data_links = response_links.json()\n",
    "            pages_links = data_links['query']['pages']\n",
    "            page_links = next(iter(pages_links.values()))\n",
    "            if 'links' in page_links:\n",
    "                links.extend([link['title'] for link in page_links['links']])\n",
    "\n",
    "            # Check if there is a continuation\n",
    "            if 'continue' in data_links:\n",
    "                PARAMS_LINKS.update(data_links['continue'])\n",
    "            else:\n",
    "                break\n",
    "\n",
    "        return {\n",
    "            'title': page.get('title'),\n",
    "            'content': page_content,\n",
    "            'links': links\n",
    "        }\n",
    "    else:\n",
    "        return {\n",
    "            'title': page.get('title'),\n",
    "            'content': page_content,\n",
    "        }\n",
    "\n",
    "def get_pages_content(titles):\n",
    "    \"\"\"\n",
    "    Fetches the content of multiple Wikipedia pages.\n",
    "\n",
    "    Args:\n",
    "        titles (list): A list of Wikipedia page titles.\n",
    "\n",
    "    Returns:\n",
    "        dict: A dictionary mapping page titles to their content.\n",
    "    \"\"\"\n",
    "    S = requests.Session()\n",
    "    URL = \"https://en.wikipedia.org/w/api.php\"\n",
    "\n",
    "    contents = {}\n",
    "    for title in titles:\n",
    "        PARAMS = {\n",
    "            \"action\": \"query\",\n",
    "            \"format\": \"json\",\n",
    "            \"prop\": \"extracts\",\n",
    "            \"titles\": title,\n",
    "            \"explaintext\": True,\n",
    "        }\n",
    "        response = S.get(url=URL, params=PARAMS)\n",
    "        data = response.json()\n",
    "        pages = data['query']['pages']\n",
    "        page = next(iter(pages.values()))\n",
    "        content = page.get('extract', '')\n",
    "        contents[title] = content\n",
    "\n",
    "    return contents\n",
    "\n",
    "def save_content_to_file(title, content, directory='output/History of Pittsburgh/'):\n",
    "    \"\"\"\n",
    "    Saves the content to a text file named after the page title.\n",
    "\n",
    "    Args:\n",
    "        title (str): The title of the Wikipedia page.\n",
    "        content (str): The content to be saved.\n",
    "        directory (str): The directory where the file will be saved.\n",
    "    \"\"\"\n",
    "    # Ensure the output directory exists\n",
    "    if not os.path.exists(directory):\n",
    "        os.makedirs(directory)\n",
    "\n",
    "    # Create a safe file name by replacing or removing invalid characters\n",
    "    safe_title = \"\".join(c for c in title if c.isalnum() or c in (\" \", \"_\")).rstrip()\n",
    "    file_name = f\"{safe_title}.txt\"\n",
    "    file_path = os.path.join(directory, file_name)\n",
    "\n",
    "    # Write content to the file\n",
    "    with open(file_path, 'w', encoding='utf-8') as file:\n",
    "        file.write(content)\n",
    "\n",
    "    # print(f\"Content saved to {file_path}\")\n",
    "\n",
    "\n",
    "\n",
    "\n",
    "if __name__ == \"__main__\":\n",
    "    page_title = \"Railway air brake\"\n",
    "    main_page = get_wikipedia_page(page_title, get_links=True)\n",
    "\n",
    "    # Output the main page content\n",
    "    save_content_to_file(main_page['title'], main_page['content'])\n",
    "\n",
    "    # Now, get the content of the subtopics (links)\n",
    "    subtopics = list(set(main_page['links']))\n",
    "    for topic in tqdm(subtopics):\n",
    "        print(f\"Fetching content for {topic}...\")\n",
    "        content = get_wikipedia_page(topic)\n",
    "        save_content_to_file(content['title'], content['content'])\n"
   ]
  },
  {
   "cell_type": "code",
   "execution_count": 30,
   "metadata": {},
   "outputs": [
    {
     "name": "stdout",
     "output_type": "stream",
     "text": [
      "Fetching content for: History of Pittsburgh\n",
      "Content saved to output/History of Pittsburgh/History of Pittsburgh.txt\n",
      "Found 408 linked pages.\n"
     ]
    },
    {
     "name": "stderr",
     "output_type": "stream",
     "text": [
      "  0%|          | 1/408 [00:00<01:12,  5.60it/s]"
     ]
    },
    {
     "name": "stdout",
     "output_type": "stream",
     "text": [
      "Content saved to output/History of Pittsburgh/Archaeological_site.txt\n"
     ]
    },
    {
     "name": "stderr",
     "output_type": "stream",
     "text": [
      "  0%|          | 2/408 [00:00<01:42,  3.95it/s]"
     ]
    },
    {
     "name": "stdout",
     "output_type": "stream",
     "text": [
      "Content saved to output/History of Pittsburgh/Smallpox.txt\n"
     ]
    },
    {
     "name": "stderr",
     "output_type": "stream",
     "text": [
      "  1%|          | 3/408 [00:00<01:34,  4.27it/s]"
     ]
    },
    {
     "name": "stdout",
     "output_type": "stream",
     "text": [
      "Content saved to output/History of Pittsburgh/Fort.txt\n"
     ]
    },
    {
     "name": "stderr",
     "output_type": "stream",
     "text": [
      "  1%|          | 5/408 [00:01<01:26,  4.65it/s]"
     ]
    },
    {
     "name": "stdout",
     "output_type": "stream",
     "text": [
      "Content saved to output/History of Pittsburgh/Culture_of_Pittsburgh.txt\n",
      "Content saved to output/History of Pittsburgh/Allegheny_West_Pittsburgh.txt\n"
     ]
    },
    {
     "name": "stderr",
     "output_type": "stream",
     "text": [
      "  2%|▏         | 7/408 [00:01<01:21,  4.93it/s]"
     ]
    },
    {
     "name": "stdout",
     "output_type": "stream",
     "text": [
      "Content saved to output/History of Pittsburgh/US_Steel_Tower.txt\n",
      "Content saved to output/History of Pittsburgh/FileCourthouse_Pittsburgh_1857jpg.txt\n"
     ]
    },
    {
     "name": "stderr",
     "output_type": "stream",
     "text": [
      "  2%|▏         | 9/408 [00:01<01:17,  5.15it/s]"
     ]
    },
    {
     "name": "stdout",
     "output_type": "stream",
     "text": [
      "Content saved to output/History of Pittsburgh/TemplatePittsburgh.txt\n",
      "Content saved to output/History of Pittsburgh/John_Forbes_General.txt\n"
     ]
    },
    {
     "name": "stderr",
     "output_type": "stream",
     "text": [
      "  3%|▎         | 11/408 [00:02<01:17,  5.13it/s]"
     ]
    },
    {
     "name": "stdout",
     "output_type": "stream",
     "text": [
      "Content saved to output/History of Pittsburgh/The_University_of_Pittsburgh.txt\n",
      "Content saved to output/History of Pittsburgh/FileGwash_map01jpg.txt\n"
     ]
    },
    {
     "name": "stderr",
     "output_type": "stream",
     "text": [
      "  3%|▎         | 13/408 [00:02<01:17,  5.08it/s]"
     ]
    },
    {
     "name": "stdout",
     "output_type": "stream",
     "text": [
      "Content saved to output/History of Pittsburgh/Economic_Club_of_Pittsburgh.txt\n",
      "Content saved to output/History of Pittsburgh/Pittsburgh_in_the_American_Civil_War.txt\n"
     ]
    },
    {
     "name": "stderr",
     "output_type": "stream",
     "text": [
      "  4%|▎         | 15/408 [00:03<01:20,  4.91it/s]"
     ]
    },
    {
     "name": "stdout",
     "output_type": "stream",
     "text": [
      "Content saved to output/History of Pittsburgh/Scotch-Irish_Americans.txt\n",
      "Content saved to output/History of Pittsburgh/French_Creek_Allegheny_River.txt\n"
     ]
    },
    {
     "name": "stderr",
     "output_type": "stream",
     "text": [
      "  4%|▍         | 16/408 [00:03<01:20,  4.87it/s]"
     ]
    },
    {
     "name": "stdout",
     "output_type": "stream",
     "text": [
      "Content saved to output/History of Pittsburgh/Billy_Strayhorn.txt\n"
     ]
    },
    {
     "name": "stderr",
     "output_type": "stream",
     "text": [
      "  4%|▍         | 17/408 [00:03<01:20,  4.87it/s]"
     ]
    },
    {
     "name": "stdout",
     "output_type": "stream",
     "text": [
      "Content saved to output/History of Pittsburgh/Pittsburgh_Stock_Exchange.txt\n"
     ]
    },
    {
     "name": "stderr",
     "output_type": "stream",
     "text": [
      "  4%|▍         | 18/408 [00:03<01:19,  4.89it/s]"
     ]
    },
    {
     "name": "stdout",
     "output_type": "stream",
     "text": [
      "Content saved to output/History of Pittsburgh/Allegheny_County_Sheriff.txt\n"
     ]
    },
    {
     "name": "stderr",
     "output_type": "stream",
     "text": [
      "  5%|▍         | 20/408 [00:04<01:19,  4.88it/s]"
     ]
    },
    {
     "name": "stdout",
     "output_type": "stream",
     "text": [
      "Content saved to output/History of Pittsburgh/Odawa.txt\n",
      "Content saved to output/History of Pittsburgh/Picklesburgh.txt\n"
     ]
    },
    {
     "name": "stderr",
     "output_type": "stream",
     "text": [
      "  5%|▌         | 22/408 [00:04<01:17,  4.98it/s]"
     ]
    },
    {
     "name": "stdout",
     "output_type": "stream",
     "text": [
      "Content saved to output/History of Pittsburgh/FileMonongahela_River_Scene_Pittsburgh_PA_1857jpg.txt\n",
      "Content saved to output/History of Pittsburgh/Flag_of_Pittsburgh.txt\n"
     ]
    },
    {
     "name": "stderr",
     "output_type": "stream",
     "text": [
      "  6%|▌         | 24/408 [00:04<01:18,  4.92it/s]"
     ]
    },
    {
     "name": "stdout",
     "output_type": "stream",
     "text": [
      "Content saved to output/History of Pittsburgh/East_Liberty_Pittsburgh.txt\n",
      "Content saved to output/History of Pittsburgh/Nemacolin's_Trail.txt\n"
     ]
    },
    {
     "name": "stderr",
     "output_type": "stream",
     "text": [
      "  6%|▋         | 26/408 [00:05<01:14,  5.11it/s]"
     ]
    },
    {
     "name": "stdout",
     "output_type": "stream",
     "text": [
      "Content saved to output/History of Pittsburgh/Christopher_Gist.txt\n",
      "Content saved to output/History of Pittsburgh/United_Steelworkers.txt\n"
     ]
    },
    {
     "name": "stderr",
     "output_type": "stream",
     "text": [
      "  7%|▋         | 28/408 [00:05<01:12,  5.21it/s]"
     ]
    },
    {
     "name": "stdout",
     "output_type": "stream",
     "text": [
      "Content saved to output/History of Pittsburgh/List_of_mayors_of_Pittsburgh.txt\n",
      "Content saved to output/History of Pittsburgh/Homestead_Grays.txt\n"
     ]
    },
    {
     "name": "stderr",
     "output_type": "stream",
     "text": [
      "  7%|▋         | 29/408 [00:05<01:13,  5.17it/s]"
     ]
    },
    {
     "name": "stdout",
     "output_type": "stream",
     "text": [
      "Content saved to output/History of Pittsburgh/Mellon_family.txt\n"
     ]
    },
    {
     "name": "stderr",
     "output_type": "stream",
     "text": [
      "  8%|▊         | 31/408 [00:06<01:18,  4.83it/s]"
     ]
    },
    {
     "name": "stdout",
     "output_type": "stream",
     "text": [
      "Content saved to output/History of Pittsburgh/Pittsburgh_International_Airport.txt\n",
      "Content saved to output/History of Pittsburgh/CategoryPittsburgh.txt\n"
     ]
    },
    {
     "name": "stderr",
     "output_type": "stream",
     "text": [
      "  8%|▊         | 32/408 [00:06<01:22,  4.57it/s]"
     ]
    },
    {
     "name": "stdout",
     "output_type": "stream",
     "text": [
      "Content saved to output/History of Pittsburgh/Alcoa.txt\n"
     ]
    },
    {
     "name": "stderr",
     "output_type": "stream",
     "text": [
      "  8%|▊         | 34/408 [00:07<01:18,  4.75it/s]"
     ]
    },
    {
     "name": "stdout",
     "output_type": "stream",
     "text": [
      "Content saved to output/History of Pittsburgh/Carnegie_Steel_Company.txt\n",
      "Content saved to output/History of Pittsburgh/Mountain_pass.txt\n"
     ]
    },
    {
     "name": "stderr",
     "output_type": "stream",
     "text": [
      "  9%|▊         | 35/408 [00:07<01:28,  4.21it/s]"
     ]
    },
    {
     "name": "stdout",
     "output_type": "stream",
     "text": [
      "Content saved to output/History of Pittsburgh/Carnegie_Mellon_University.txt\n"
     ]
    },
    {
     "name": "stderr",
     "output_type": "stream",
     "text": [
      "  9%|▉         | 37/408 [00:07<01:21,  4.57it/s]"
     ]
    },
    {
     "name": "stdout",
     "output_type": "stream",
     "text": [
      "Content saved to output/History of Pittsburgh/Carnegie_Library_of_Pittsburgh.txt\n",
      "Content saved to output/History of Pittsburgh/Bloomfield_Pittsburgh.txt\n"
     ]
    },
    {
     "name": "stderr",
     "output_type": "stream",
     "text": [
      "  9%|▉         | 38/408 [00:07<01:17,  4.78it/s]"
     ]
    },
    {
     "name": "stdout",
     "output_type": "stream",
     "text": [
      "Content saved to output/History of Pittsburgh/Doi_identifier.txt\n"
     ]
    },
    {
     "name": "stderr",
     "output_type": "stream",
     "text": [
      " 10%|▉         | 40/408 [00:08<01:15,  4.86it/s]"
     ]
    },
    {
     "name": "stdout",
     "output_type": "stream",
     "text": [
      "Content saved to output/History of Pittsburgh/Wheeling_West_Virginia.txt\n",
      "Content saved to output/History of Pittsburgh/William_Pitt_the_Elder.txt\n"
     ]
    },
    {
     "name": "stderr",
     "output_type": "stream",
     "text": [
      " 10%|█         | 41/408 [00:08<01:30,  4.04it/s]"
     ]
    },
    {
     "name": "stdout",
     "output_type": "stream",
     "text": [
      "Content saved to output/History of Pittsburgh/Hunter-gatherer.txt\n"
     ]
    },
    {
     "name": "stderr",
     "output_type": "stream",
     "text": [
      " 11%|█         | 43/408 [00:09<01:21,  4.50it/s]"
     ]
    },
    {
     "name": "stdout",
     "output_type": "stream",
     "text": [
      "Content saved to output/History of Pittsburgh/Meadowcroft_Rockshelter.txt\n",
      "Content saved to output/History of Pittsburgh/J__L_Steel.txt\n"
     ]
    },
    {
     "name": "stderr",
     "output_type": "stream",
     "text": [
      " 11%|█         | 45/408 [00:09<01:15,  4.78it/s]"
     ]
    },
    {
     "name": "stdout",
     "output_type": "stream",
     "text": [
      "Content saved to output/History of Pittsburgh/Western_Pennsylvania_English.txt\n",
      "Content saved to output/History of Pittsburgh/Fort_Cumberland_Maryland.txt\n"
     ]
    },
    {
     "name": "stderr",
     "output_type": "stream",
     "text": [
      " 11%|█▏        | 46/408 [00:09<01:14,  4.88it/s]"
     ]
    },
    {
     "name": "stdout",
     "output_type": "stream",
     "text": [
      "Content saved to output/History of Pittsburgh/FileFort_Pitt_1795_largejpg.txt\n"
     ]
    },
    {
     "name": "stderr",
     "output_type": "stream",
     "text": [
      " 12%|█▏        | 47/408 [00:09<01:26,  4.19it/s]"
     ]
    },
    {
     "name": "stdout",
     "output_type": "stream",
     "text": [
      "Content saved to output/History of Pittsburgh/University_of_Pittsburgh.txt\n"
     ]
    },
    {
     "name": "stderr",
     "output_type": "stream",
     "text": [
      " 12%|█▏        | 49/408 [00:10<01:20,  4.47it/s]"
     ]
    },
    {
     "name": "stdout",
     "output_type": "stream",
     "text": [
      "Content saved to output/History of Pittsburgh/Adena_culture.txt\n",
      "Content saved to output/History of Pittsburgh/Fort_Burd.txt\n"
     ]
    },
    {
     "name": "stderr",
     "output_type": "stream",
     "text": [
      " 12%|█▎        | 51/408 [00:10<01:13,  4.85it/s]"
     ]
    },
    {
     "name": "stdout",
     "output_type": "stream",
     "text": [
      "Content saved to output/History of Pittsburgh/Cayuga_nation.txt\n",
      "Content saved to output/History of Pittsburgh/Ayr_Township_Pennsylvania.txt\n"
     ]
    },
    {
     "name": "stderr",
     "output_type": "stream",
     "text": [
      " 13%|█▎        | 53/408 [00:11<01:16,  4.66it/s]"
     ]
    },
    {
     "name": "stdout",
     "output_type": "stream",
     "text": [
      "Content saved to output/History of Pittsburgh/Timeline_of_Pittsburgh.txt\n",
      "Content saved to output/History of Pittsburgh/S2CID_identifier.txt\n"
     ]
    },
    {
     "name": "stderr",
     "output_type": "stream",
     "text": [
      " 13%|█▎        | 54/408 [00:11<01:19,  4.46it/s]"
     ]
    },
    {
     "name": "stdout",
     "output_type": "stream",
     "text": [
      "Content saved to output/History of Pittsburgh/Conrad_Weiser.txt\n"
     ]
    },
    {
     "name": "stderr",
     "output_type": "stream",
     "text": [
      " 14%|█▎        | 56/408 [00:11<01:18,  4.47it/s]"
     ]
    },
    {
     "name": "stdout",
     "output_type": "stream",
     "text": [
      "Content saved to output/History of Pittsburgh/English_Americans.txt\n",
      "Content saved to output/History of Pittsburgh/FileThreeRiversStadiumjpg.txt\n"
     ]
    },
    {
     "name": "stderr",
     "output_type": "stream",
     "text": [
      " 14%|█▍        | 58/408 [00:12<01:13,  4.79it/s]"
     ]
    },
    {
     "name": "stdout",
     "output_type": "stream",
     "text": [
      "Content saved to output/History of Pittsburgh/Richard_K_Mellon.txt\n",
      "Content saved to output/History of Pittsburgh/Henry_Bouquet.txt\n"
     ]
    },
    {
     "name": "stderr",
     "output_type": "stream",
     "text": [
      " 14%|█▍        | 59/408 [00:12<01:15,  4.64it/s]"
     ]
    },
    {
     "name": "stdout",
     "output_type": "stream",
     "text": [
      "Content saved to output/History of Pittsburgh/Westinghouse_Electric_Company.txt\n"
     ]
    },
    {
     "name": "stderr",
     "output_type": "stream",
     "text": [
      " 15%|█▍        | 61/408 [00:13<01:12,  4.79it/s]"
     ]
    },
    {
     "name": "stdout",
     "output_type": "stream",
     "text": [
      "Content saved to output/History of Pittsburgh/Seneca_nation.txt\n",
      "Content saved to output/History of Pittsburgh/Economy_of_Pittsburgh.txt\n"
     ]
    },
    {
     "name": "stderr",
     "output_type": "stream",
     "text": [
      " 15%|█▌        | 62/408 [00:13<01:16,  4.54it/s]"
     ]
    },
    {
     "name": "stdout",
     "output_type": "stream",
     "text": [
      "Content saved to output/History of Pittsburgh/Battle_of_Jumonville_Glen.txt\n"
     ]
    },
    {
     "name": "stderr",
     "output_type": "stream",
     "text": [
      " 15%|█▌        | 63/408 [00:13<01:16,  4.52it/s]"
     ]
    },
    {
     "name": "stdout",
     "output_type": "stream",
     "text": [
      "Content saved to output/History of Pittsburgh/Herrs_Island_Pittsburgh.txt\n"
     ]
    },
    {
     "name": "stderr",
     "output_type": "stream",
     "text": [
      " 16%|█▌        | 65/408 [00:13<01:13,  4.70it/s]"
     ]
    },
    {
     "name": "stdout",
     "output_type": "stream",
     "text": [
      "Content saved to output/History of Pittsburgh/Edward_Hand.txt\n",
      "Content saved to output/History of Pittsburgh/Carnegie_Museums_of_Pittsburgh.txt\n"
     ]
    },
    {
     "name": "stderr",
     "output_type": "stream",
     "text": [
      " 16%|█▌        | 66/408 [00:14<01:13,  4.66it/s]"
     ]
    },
    {
     "name": "stdout",
     "output_type": "stream",
     "text": [
      "Content saved to output/History of Pittsburgh/Keelboats.txt\n"
     ]
    },
    {
     "name": "stderr",
     "output_type": "stream",
     "text": [
      " 16%|█▋        | 67/408 [00:14<01:36,  3.55it/s]"
     ]
    },
    {
     "name": "stdout",
     "output_type": "stream",
     "text": [
      "Content saved to output/History of Pittsburgh/Theodore_Roosevelt.txt\n"
     ]
    },
    {
     "name": "stderr",
     "output_type": "stream",
     "text": [
      " 17%|█▋        | 68/408 [00:14<01:30,  3.74it/s]"
     ]
    },
    {
     "name": "stdout",
     "output_type": "stream",
     "text": [
      "Content saved to output/History of Pittsburgh/WikipediaLink_rot.txt\n"
     ]
    },
    {
     "name": "stderr",
     "output_type": "stream",
     "text": [
      " 17%|█▋        | 69/408 [00:15<01:34,  3.60it/s]"
     ]
    },
    {
     "name": "stdout",
     "output_type": "stream",
     "text": [
      "Content saved to output/History of Pittsburgh/Assassination_of_Martin_Luther_King_Jr.txt\n"
     ]
    },
    {
     "name": "stderr",
     "output_type": "stream",
     "text": [
      " 17%|█▋        | 70/408 [00:15<01:26,  3.91it/s]"
     ]
    },
    {
     "name": "stdout",
     "output_type": "stream",
     "text": [
      "Content saved to output/History of Pittsburgh/Hopewell_culture.txt\n"
     ]
    },
    {
     "name": "stderr",
     "output_type": "stream",
     "text": [
      " 18%|█▊        | 72/408 [00:15<01:19,  4.20it/s]"
     ]
    },
    {
     "name": "stdout",
     "output_type": "stream",
     "text": [
      "Content saved to output/History of Pittsburgh/Common_Era.txt\n",
      "Content saved to output/History of Pittsburgh/William_Flinn.txt\n"
     ]
    },
    {
     "name": "stderr",
     "output_type": "stream",
     "text": [
      " 18%|█▊        | 73/408 [00:15<01:16,  4.39it/s]"
     ]
    },
    {
     "name": "stdout",
     "output_type": "stream",
     "text": [
      "Content saved to output/History of Pittsburgh/FileThaddeus_M_Fowler_-_Pittsburgh_Pennsylvania_1902jpg.txt\n"
     ]
    },
    {
     "name": "stderr",
     "output_type": "stream",
     "text": [
      " 18%|█▊        | 74/408 [00:16<01:14,  4.46it/s]"
     ]
    },
    {
     "name": "stdout",
     "output_type": "stream",
     "text": [
      "Content saved to output/History of Pittsburgh/Second_Great_Migration_African_American.txt\n"
     ]
    },
    {
     "name": "stderr",
     "output_type": "stream",
     "text": [
      " 19%|█▊        | 76/408 [00:16<01:11,  4.67it/s]"
     ]
    },
    {
     "name": "stdout",
     "output_type": "stream",
     "text": [
      "Content saved to output/History of Pittsburgh/Allegheny_River.txt\n",
      "Content saved to output/History of Pittsburgh/Kittanning_Expedition.txt\n"
     ]
    },
    {
     "name": "stderr",
     "output_type": "stream",
     "text": [
      " 19%|█▉        | 78/408 [00:16<01:08,  4.85it/s]"
     ]
    },
    {
     "name": "stdout",
     "output_type": "stream",
     "text": [
      "Content saved to output/History of Pittsburgh/Redoubt.txt\n",
      "Content saved to output/History of Pittsburgh/Pittsburgh_Flood_of_1936.txt\n"
     ]
    },
    {
     "name": "stderr",
     "output_type": "stream",
     "text": [
      " 20%|█▉        | 80/408 [00:17<01:16,  4.26it/s]"
     ]
    },
    {
     "name": "stdout",
     "output_type": "stream",
     "text": [
      "Content saved to output/History of Pittsburgh/American_Civil_War.txt\n",
      "Content saved to output/History of Pittsburgh/Mahican.txt\n"
     ]
    },
    {
     "name": "stderr",
     "output_type": "stream",
     "text": [
      " 20%|██        | 82/408 [00:17<01:08,  4.76it/s]"
     ]
    },
    {
     "name": "stdout",
     "output_type": "stream",
     "text": [
      "Content saved to output/History of Pittsburgh/William_Trent.txt\n",
      "Content saved to output/History of Pittsburgh/Wigle_Whiskey.txt\n"
     ]
    },
    {
     "name": "stderr",
     "output_type": "stream",
     "text": [
      " 20%|██        | 83/408 [00:18<01:11,  4.58it/s]"
     ]
    },
    {
     "name": "stdout",
     "output_type": "stream",
     "text": [
      "Content saved to output/History of Pittsburgh/Allegheny_Mountains.txt\n"
     ]
    },
    {
     "name": "stderr",
     "output_type": "stream",
     "text": [
      " 21%|██        | 85/408 [00:18<01:08,  4.70it/s]"
     ]
    },
    {
     "name": "stdout",
     "output_type": "stream",
     "text": [
      "Content saved to output/History of Pittsburgh/Yinzer.txt\n",
      "Content saved to output/History of Pittsburgh/FileNativeTowns_Pittsburghpng.txt\n"
     ]
    },
    {
     "name": "stderr",
     "output_type": "stream",
     "text": [
      " 21%|██        | 86/408 [00:18<01:07,  4.78it/s]"
     ]
    },
    {
     "name": "stdout",
     "output_type": "stream",
     "text": [
      "Content saved to output/History of Pittsburgh/Bridges_of_Pittsburgh.txt\n"
     ]
    },
    {
     "name": "stderr",
     "output_type": "stream",
     "text": [
      " 22%|██▏       | 88/408 [00:19<01:15,  4.24it/s]"
     ]
    },
    {
     "name": "stdout",
     "output_type": "stream",
     "text": [
      "Content saved to output/History of Pittsburgh/Iroquois.txt\n",
      "Content saved to output/History of Pittsburgh/Thomas_Mellon.txt\n"
     ]
    },
    {
     "name": "stderr",
     "output_type": "stream",
     "text": [
      " 22%|██▏       | 90/408 [00:19<01:11,  4.43it/s]"
     ]
    },
    {
     "name": "stdout",
     "output_type": "stream",
     "text": [
      "Content saved to output/History of Pittsburgh/Welsh_Americans.txt\n",
      "Content saved to output/History of Pittsburgh/Great_Railroad_Strike_of_1877.txt\n"
     ]
    },
    {
     "name": "stderr",
     "output_type": "stream",
     "text": [
      " 23%|██▎       | 92/408 [00:20<01:08,  4.62it/s]"
     ]
    },
    {
     "name": "stdout",
     "output_type": "stream",
     "text": [
      "Content saved to output/History of Pittsburgh/Braddock_Expedition.txt\n",
      "Content saved to output/History of Pittsburgh/Hugh_Henry_Brackenridge.txt\n"
     ]
    },
    {
     "name": "stderr",
     "output_type": "stream",
     "text": [
      " 23%|██▎       | 94/408 [00:20<01:06,  4.75it/s]"
     ]
    },
    {
     "name": "stdout",
     "output_type": "stream",
     "text": [
      "Content saved to output/History of Pittsburgh/Comma-separated_values.txt\n",
      "Content saved to output/History of Pittsburgh/HJ_Heinz.txt\n"
     ]
    },
    {
     "name": "stderr",
     "output_type": "stream",
     "text": [
      " 23%|██▎       | 95/408 [00:20<01:14,  4.20it/s]"
     ]
    },
    {
     "name": "stdout",
     "output_type": "stream",
     "text": [
      "Content saved to output/History of Pittsburgh/Kingdom_of_Great_Britain.txt\n"
     ]
    },
    {
     "name": "stderr",
     "output_type": "stream",
     "text": [
      " 24%|██▎       | 96/408 [00:21<01:10,  4.40it/s]"
     ]
    },
    {
     "name": "stdout",
     "output_type": "stream",
     "text": [
      "Content saved to output/History of Pittsburgh/FileForts_at_Forks_of_Ohiopng.txt\n"
     ]
    },
    {
     "name": "stderr",
     "output_type": "stream",
     "text": [
      " 24%|██▍       | 97/408 [00:21<01:17,  4.02it/s]"
     ]
    },
    {
     "name": "stdout",
     "output_type": "stream",
     "text": [
      "Content saved to output/History of Pittsburgh/Pennsylvania_Railroad.txt\n"
     ]
    },
    {
     "name": "stderr",
     "output_type": "stream",
     "text": [
      " 24%|██▍       | 99/408 [00:21<01:08,  4.53it/s]"
     ]
    },
    {
     "name": "stdout",
     "output_type": "stream",
     "text": [
      "Content saved to output/History of Pittsburgh/FileDarlington_map_of_Pennsylvania_1680png.txt\n",
      "Content saved to output/History of Pittsburgh/Allegheny_Foundation.txt\n"
     ]
    },
    {
     "name": "stderr",
     "output_type": "stream",
     "text": [
      " 25%|██▍       | 100/408 [00:21<01:05,  4.68it/s]"
     ]
    },
    {
     "name": "stdout",
     "output_type": "stream",
     "text": [
      "Content saved to output/History of Pittsburgh/David_L_Lawrence.txt\n"
     ]
    },
    {
     "name": "stderr",
     "output_type": "stream",
     "text": [
      " 25%|██▍       | 101/408 [00:22<01:05,  4.71it/s]"
     ]
    },
    {
     "name": "stdout",
     "output_type": "stream",
     "text": [
      "Content saved to output/History of Pittsburgh/Pittsburgh_Plate_Glass.txt\n"
     ]
    },
    {
     "name": "stderr",
     "output_type": "stream",
     "text": [
      " 25%|██▌       | 102/408 [00:22<01:06,  4.60it/s]"
     ]
    },
    {
     "name": "stdout",
     "output_type": "stream",
     "text": [
      "Content saved to output/History of Pittsburgh/Allegheny_Pennsylvania.txt\n"
     ]
    },
    {
     "name": "stderr",
     "output_type": "stream",
     "text": [
      " 25%|██▌       | 104/408 [00:22<01:06,  4.59it/s]"
     ]
    },
    {
     "name": "stdout",
     "output_type": "stream",
     "text": [
      "Content saved to output/History of Pittsburgh/Locomotive.txt\n",
      "Content saved to output/History of Pittsburgh/Catholic_Radical_Alliance.txt\n"
     ]
    },
    {
     "name": "stderr",
     "output_type": "stream",
     "text": [
      " 26%|██▌       | 105/408 [00:23<01:03,  4.77it/s]"
     ]
    },
    {
     "name": "stdout",
     "output_type": "stream",
     "text": [
      "Content saved to output/History of Pittsburgh/Pittsburgh_City_Council.txt\n"
     ]
    },
    {
     "name": "stderr",
     "output_type": "stream",
     "text": [
      " 26%|██▌       | 106/408 [00:23<01:03,  4.76it/s]"
     ]
    },
    {
     "name": "stdout",
     "output_type": "stream",
     "text": [
      "Content saved to output/History of Pittsburgh/Pittsburgh_Public_Schools.txt\n"
     ]
    },
    {
     "name": "stderr",
     "output_type": "stream",
     "text": [
      " 26%|██▌       | 107/408 [00:23<01:07,  4.45it/s]"
     ]
    },
    {
     "name": "stdout",
     "output_type": "stream",
     "text": [
      "Content saved to output/History of Pittsburgh/Great_Fire_of_Pittsburgh.txt\n"
     ]
    },
    {
     "name": "stderr",
     "output_type": "stream",
     "text": [
      " 27%|██▋       | 109/408 [00:23<01:04,  4.62it/s]"
     ]
    },
    {
     "name": "stdout",
     "output_type": "stream",
     "text": [
      "Content saved to output/History of Pittsburgh/Smelting.txt\n",
      "Content saved to output/History of Pittsburgh/Redstone_Old_Fort.txt\n"
     ]
    },
    {
     "name": "stderr",
     "output_type": "stream",
     "text": [
      " 27%|██▋       | 111/408 [00:24<01:10,  4.23it/s]"
     ]
    },
    {
     "name": "stdout",
     "output_type": "stream",
     "text": [
      "Content saved to output/History of Pittsburgh/German_Americans.txt\n",
      "Content saved to output/History of Pittsburgh/TemplateCite_book.txt\n"
     ]
    },
    {
     "name": "stderr",
     "output_type": "stream",
     "text": [
      " 28%|██▊       | 113/408 [00:24<01:03,  4.66it/s]"
     ]
    },
    {
     "name": "stdout",
     "output_type": "stream",
     "text": [
      "Content saved to output/History of Pittsburgh/Arsenal_of_Democracy.txt\n",
      "Content saved to output/History of Pittsburgh/Cumberland_County_Pennsylvania.txt\n"
     ]
    },
    {
     "name": "stderr",
     "output_type": "stream",
     "text": [
      " 28%|██▊       | 114/408 [00:25<01:04,  4.58it/s]"
     ]
    },
    {
     "name": "stdout",
     "output_type": "stream",
     "text": [
      "Content saved to output/History of Pittsburgh/Deindustrialization.txt\n"
     ]
    },
    {
     "name": "stderr",
     "output_type": "stream",
     "text": [
      " 28%|██▊       | 116/408 [00:25<01:03,  4.60it/s]"
     ]
    },
    {
     "name": "stdout",
     "output_type": "stream",
     "text": [
      "Content saved to output/History of Pittsburgh/Measles.txt\n",
      "Content saved to output/History of Pittsburgh/Pittsburgh_Courier.txt\n"
     ]
    },
    {
     "name": "stderr",
     "output_type": "stream",
     "text": [
      " 29%|██▊       | 117/408 [00:25<01:01,  4.70it/s]"
     ]
    },
    {
     "name": "stdout",
     "output_type": "stream",
     "text": [
      "Content saved to output/History of Pittsburgh/Fort_Duquesne.txt\n"
     ]
    },
    {
     "name": "stderr",
     "output_type": "stream",
     "text": [
      " 29%|██▉       | 119/408 [00:26<01:14,  3.86it/s]"
     ]
    },
    {
     "name": "stdout",
     "output_type": "stream",
     "text": [
      "Content saved to output/History of Pittsburgh/Pittsburgh_crime_family.txt\n",
      "Content saved to output/History of Pittsburgh/Allegheny_County_Airport_Authority.txt\n"
     ]
    },
    {
     "name": "stderr",
     "output_type": "stream",
     "text": [
      " 29%|██▉       | 120/408 [00:26<01:08,  4.20it/s]"
     ]
    },
    {
     "name": "stdout",
     "output_type": "stream",
     "text": [
      "Content saved to output/History of Pittsburgh/Westmoreland_County_Pennsylvania.txt\n"
     ]
    },
    {
     "name": "stderr",
     "output_type": "stream",
     "text": [
      " 30%|██▉       | 122/408 [00:27<01:02,  4.61it/s]"
     ]
    },
    {
     "name": "stdout",
     "output_type": "stream",
     "text": [
      "Content saved to output/History of Pittsburgh/Dunmore's_War.txt\n",
      "Content saved to output/History of Pittsburgh/World's_Most_Livable_Cities.txt\n"
     ]
    },
    {
     "name": "stderr",
     "output_type": "stream",
     "text": [
      " 30%|███       | 124/408 [00:27<01:07,  4.18it/s]"
     ]
    },
    {
     "name": "stdout",
     "output_type": "stream",
     "text": [
      "Content saved to output/History of Pittsburgh/Progressive_Era.txt\n",
      "Content saved to output/History of Pittsburgh/List_of_parks_in_Pittsburgh.txt\n"
     ]
    },
    {
     "name": "stderr",
     "output_type": "stream",
     "text": [
      " 31%|███       | 126/408 [00:27<01:02,  4.50it/s]"
     ]
    },
    {
     "name": "stdout",
     "output_type": "stream",
     "text": [
      "Content saved to output/History of Pittsburgh/Fort_Stanwix_Treaty_of_1768.txt\n",
      "Content saved to output/History of Pittsburgh/Hill_District.txt\n"
     ]
    },
    {
     "name": "stderr",
     "output_type": "stream",
     "text": [
      " 31%|███       | 127/408 [00:28<01:09,  4.03it/s]"
     ]
    },
    {
     "name": "stdout",
     "output_type": "stream",
     "text": [
      "Content saved to output/History of Pittsburgh/Baltimore.txt\n"
     ]
    },
    {
     "name": "stderr",
     "output_type": "stream",
     "text": [
      " 31%|███▏      | 128/408 [00:28<01:08,  4.09it/s]"
     ]
    },
    {
     "name": "stdout",
     "output_type": "stream",
     "text": [
      "Content saved to output/History of Pittsburgh/Frederick_Law_Olmsted.txt\n"
     ]
    },
    {
     "name": "stderr",
     "output_type": "stream",
     "text": [
      " 32%|███▏      | 129/408 [00:28<01:06,  4.18it/s]"
     ]
    },
    {
     "name": "stdout",
     "output_type": "stream",
     "text": [
      "Content saved to output/History of Pittsburgh/FilePittsburgh_1795_largejpg.txt\n"
     ]
    },
    {
     "name": "stderr",
     "output_type": "stream",
     "text": [
      " 32%|███▏      | 131/408 [00:29<01:01,  4.48it/s]"
     ]
    },
    {
     "name": "stdout",
     "output_type": "stream",
     "text": [
      "Content saved to output/History of Pittsburgh/Point_Park_University.txt\n",
      "Content saved to output/History of Pittsburgh/Robert_Morris_University.txt\n"
     ]
    },
    {
     "name": "stderr",
     "output_type": "stream",
     "text": [
      " 33%|███▎      | 133/408 [00:29<00:58,  4.68it/s]"
     ]
    },
    {
     "name": "stdout",
     "output_type": "stream",
     "text": [
      "Content saved to output/History of Pittsburgh/Mohawk_nation.txt\n",
      "Content saved to output/History of Pittsburgh/Eminent_domain.txt\n"
     ]
    },
    {
     "name": "stderr",
     "output_type": "stream",
     "text": [
      " 33%|███▎      | 135/408 [00:29<00:55,  4.91it/s]"
     ]
    },
    {
     "name": "stdout",
     "output_type": "stream",
     "text": [
      "Content saved to output/History of Pittsburgh/JP_Morgan.txt\n",
      "Content saved to output/History of Pittsburgh/Fort_Pitt_Blockhouse.txt\n"
     ]
    },
    {
     "name": "stderr",
     "output_type": "stream",
     "text": [
      " 33%|███▎      | 136/408 [00:30<00:57,  4.70it/s]"
     ]
    },
    {
     "name": "stdout",
     "output_type": "stream",
     "text": [
      "Content saved to output/History of Pittsburgh/Squirrel_Hill.txt\n"
     ]
    },
    {
     "name": "stderr",
     "output_type": "stream",
     "text": [
      " 34%|███▍      | 138/408 [00:30<00:56,  4.80it/s]"
     ]
    },
    {
     "name": "stdout",
     "output_type": "stream",
     "text": [
      "Content saved to output/History of Pittsburgh/Urban_Renewal.txt\n",
      "Content saved to output/History of Pittsburgh/List_of_tallest_buildings_in_Pittsburgh.txt\n"
     ]
    },
    {
     "name": "stderr",
     "output_type": "stream",
     "text": [
      " 34%|███▍      | 139/408 [00:30<00:53,  4.99it/s]"
     ]
    },
    {
     "name": "stdout",
     "output_type": "stream",
     "text": [
      "Content saved to output/History of Pittsburgh/Pittsburgh_metropolitan_area.txt\n"
     ]
    },
    {
     "name": "stderr",
     "output_type": "stream",
     "text": [
      " 34%|███▍      | 140/408 [00:31<01:02,  4.31it/s]"
     ]
    },
    {
     "name": "stdout",
     "output_type": "stream",
     "text": [
      "Content saved to output/History of Pittsburgh/Great_Depression.txt\n"
     ]
    },
    {
     "name": "stderr",
     "output_type": "stream",
     "text": [
      " 35%|███▍      | 142/408 [00:31<00:58,  4.55it/s]"
     ]
    },
    {
     "name": "stdout",
     "output_type": "stream",
     "text": [
      "Content saved to output/History of Pittsburgh/Pittsburgh_and_Lake_Erie_Railroad.txt\n",
      "Content saved to output/History of Pittsburgh/List_of_people_from_Pittsburgh.txt\n"
     ]
    },
    {
     "name": "stderr",
     "output_type": "stream",
     "text": [
      " 35%|███▌      | 143/408 [00:31<00:56,  4.71it/s]"
     ]
    },
    {
     "name": "stdout",
     "output_type": "stream",
     "text": [
      "Content saved to output/History of Pittsburgh/James_Grant_British_Army_officer_born_1720.txt\n"
     ]
    },
    {
     "name": "stderr",
     "output_type": "stream",
     "text": [
      " 35%|███▌      | 144/408 [00:31<01:00,  4.36it/s]"
     ]
    },
    {
     "name": "stdout",
     "output_type": "stream",
     "text": [
      "Content saved to output/History of Pittsburgh/Appalachian_Mountains.txt\n"
     ]
    },
    {
     "name": "stderr",
     "output_type": "stream",
     "text": [
      " 36%|███▌      | 145/408 [00:32<01:13,  3.60it/s]"
     ]
    },
    {
     "name": "stdout",
     "output_type": "stream",
     "text": [
      "Content saved to output/History of Pittsburgh/New_Deal.txt\n"
     ]
    },
    {
     "name": "stderr",
     "output_type": "stream",
     "text": [
      " 36%|███▌      | 146/408 [00:32<01:10,  3.71it/s]"
     ]
    },
    {
     "name": "stdout",
     "output_type": "stream",
     "text": [
      "Content saved to output/History of Pittsburgh/Governor_of_New_France.txt\n"
     ]
    },
    {
     "name": "stderr",
     "output_type": "stream",
     "text": [
      " 36%|███▌      | 147/408 [00:32<01:05,  3.96it/s]"
     ]
    },
    {
     "name": "stdout",
     "output_type": "stream",
     "text": [
      "Content saved to output/History of Pittsburgh/Seneca_language.txt\n"
     ]
    },
    {
     "name": "stderr",
     "output_type": "stream",
     "text": [
      " 37%|███▋      | 149/408 [00:33<00:58,  4.42it/s]"
     ]
    },
    {
     "name": "stdout",
     "output_type": "stream",
     "text": [
      "Content saved to output/History of Pittsburgh/White_flight.txt\n",
      "Content saved to output/History of Pittsburgh/North_Side_Pittsburgh.txt\n"
     ]
    },
    {
     "name": "stderr",
     "output_type": "stream",
     "text": [
      " 37%|███▋      | 151/408 [00:33<00:51,  5.00it/s]"
     ]
    },
    {
     "name": "stdout",
     "output_type": "stream",
     "text": [
      "Content saved to output/History of Pittsburgh/Sawcunk.txt\n",
      "Content saved to output/History of Pittsburgh/WikipediaCitation_needed.txt\n"
     ]
    },
    {
     "name": "stderr",
     "output_type": "stream",
     "text": [
      " 37%|███▋      | 152/408 [00:33<00:51,  4.99it/s]"
     ]
    },
    {
     "name": "stdout",
     "output_type": "stream",
     "text": [
      "Content saved to output/History of Pittsburgh/Cumberland_Narrows.txt\n"
     ]
    },
    {
     "name": "stderr",
     "output_type": "stream",
     "text": [
      " 38%|███▊      | 154/408 [00:34<00:55,  4.60it/s]"
     ]
    },
    {
     "name": "stdout",
     "output_type": "stream",
     "text": [
      "Content saved to output/History of Pittsburgh/Works_Progress_Administration.txt\n",
      "Content saved to output/History of Pittsburgh/Allegheny_Conference.txt\n"
     ]
    },
    {
     "name": "stderr",
     "output_type": "stream",
     "text": [
      " 38%|███▊      | 155/408 [00:34<00:55,  4.57it/s]"
     ]
    },
    {
     "name": "stdout",
     "output_type": "stream",
     "text": [
      "Content saved to output/History of Pittsburgh/Shingas.txt\n",
      "Content saved to output/History of Pittsburgh/Pittsburgh_toilet.txt\n"
     ]
    },
    {
     "name": "stderr",
     "output_type": "stream",
     "text": [
      " 38%|███▊      | 157/408 [00:34<00:53,  4.68it/s]"
     ]
    },
    {
     "name": "stdout",
     "output_type": "stream",
     "text": [
      "Content saved to output/History of Pittsburgh/Koppers.txt\n"
     ]
    },
    {
     "name": "stderr",
     "output_type": "stream",
     "text": [
      " 39%|███▊      | 158/408 [00:35<00:52,  4.75it/s]"
     ]
    },
    {
     "name": "stdout",
     "output_type": "stream",
     "text": [
      "Content saved to output/History of Pittsburgh/Lawrenceville_Pittsburgh.txt\n"
     ]
    },
    {
     "name": "stderr",
     "output_type": "stream",
     "text": [
      " 39%|███▉      | 160/408 [00:35<00:53,  4.62it/s]"
     ]
    },
    {
     "name": "stdout",
     "output_type": "stream",
     "text": [
      "Content saved to output/History of Pittsburgh/George_Croghan.txt\n",
      "Content saved to output/History of Pittsburgh/Treaty_of_Fort_Stanwix.txt\n"
     ]
    },
    {
     "name": "stderr",
     "output_type": "stream",
     "text": [
      " 40%|███▉      | 162/408 [00:35<00:49,  4.96it/s]"
     ]
    },
    {
     "name": "stdout",
     "output_type": "stream",
     "text": [
      "Content saved to output/History of Pittsburgh/Air_brake_rail.txt\n",
      "Content saved to output/History of Pittsburgh/Port_Authority_of_Allegheny_County.txt\n"
     ]
    },
    {
     "name": "stderr",
     "output_type": "stream",
     "text": [
      " 40%|████      | 164/408 [00:36<00:52,  4.64it/s]"
     ]
    },
    {
     "name": "stdout",
     "output_type": "stream",
     "text": [
      "Content saved to output/History of Pittsburgh/Andrew_Carnegie.txt\n",
      "Content saved to output/History of Pittsburgh/Government_of_Pittsburgh.txt\n"
     ]
    },
    {
     "name": "stderr",
     "output_type": "stream",
     "text": [
      " 41%|████      | 166/408 [00:36<00:48,  5.03it/s]"
     ]
    },
    {
     "name": "stdout",
     "output_type": "stream",
     "text": [
      "Content saved to output/History of Pittsburgh/List_of_hospitals_in_Pittsburgh.txt\n",
      "Content saved to output/History of Pittsburgh/FilePittsburgh1920jpg.txt\n"
     ]
    },
    {
     "name": "stderr",
     "output_type": "stream",
     "text": [
      " 41%|████      | 167/408 [00:37<00:47,  5.06it/s]"
     ]
    },
    {
     "name": "stdout",
     "output_type": "stream",
     "text": [
      "Content saved to output/History of Pittsburgh/Allegheny_Post_Office.txt\n"
     ]
    },
    {
     "name": "stderr",
     "output_type": "stream",
     "text": [
      " 41%|████▏     | 169/408 [00:37<00:54,  4.35it/s]"
     ]
    },
    {
     "name": "stdout",
     "output_type": "stream",
     "text": [
      "Content saved to output/History of Pittsburgh/Pittsburgh.txt\n",
      "Content saved to output/History of Pittsburgh/Mellon_Arena.txt\n"
     ]
    },
    {
     "name": "stderr",
     "output_type": "stream",
     "text": [
      " 42%|████▏     | 171/408 [00:37<00:52,  4.52it/s]"
     ]
    },
    {
     "name": "stdout",
     "output_type": "stream",
     "text": [
      "Content saved to output/History of Pittsburgh/Duquesne_University.txt\n",
      "Content saved to output/History of Pittsburgh/Parking_chair.txt\n"
     ]
    },
    {
     "name": "stderr",
     "output_type": "stream",
     "text": [
      " 42%|████▏     | 173/408 [00:38<00:50,  4.66it/s]"
     ]
    },
    {
     "name": "stdout",
     "output_type": "stream",
     "text": [
      "Content saved to output/History of Pittsburgh/National_Road.txt\n",
      "Content saved to output/History of Pittsburgh/Fort_Bedford.txt\n"
     ]
    },
    {
     "name": "stderr",
     "output_type": "stream",
     "text": [
      " 43%|████▎     | 174/408 [00:38<00:49,  4.77it/s]"
     ]
    },
    {
     "name": "stdout",
     "output_type": "stream",
     "text": [
      "Content saved to output/History of Pittsburgh/Gateway_Center_Pittsburgh.txt\n"
     ]
    },
    {
     "name": "stderr",
     "output_type": "stream",
     "text": [
      " 43%|████▎     | 175/408 [00:38<00:49,  4.70it/s]"
     ]
    },
    {
     "name": "stdout",
     "output_type": "stream",
     "text": [
      "Content saved to output/History of Pittsburgh/Christopher_Magee_politician.txt\n"
     ]
    },
    {
     "name": "stderr",
     "output_type": "stream",
     "text": [
      " 43%|████▎     | 176/408 [00:39<00:51,  4.53it/s]"
     ]
    },
    {
     "name": "stdout",
     "output_type": "stream",
     "text": [
      "Content saved to output/History of Pittsburgh/Oakland_Pittsburgh.txt\n"
     ]
    },
    {
     "name": "stderr",
     "output_type": "stream",
     "text": [
      " 44%|████▎     | 178/408 [00:39<00:52,  4.37it/s]"
     ]
    },
    {
     "name": "stdout",
     "output_type": "stream",
     "text": [
      "Content saved to output/History of Pittsburgh/French_and_Indian_War.txt\n",
      "Content saved to output/History of Pittsburgh/Pitt_Township_Allegheny_County_Pennsylvania.txt\n"
     ]
    },
    {
     "name": "stderr",
     "output_type": "stream",
     "text": [
      " 44%|████▍     | 179/408 [00:39<00:56,  4.08it/s]"
     ]
    },
    {
     "name": "stdout",
     "output_type": "stream",
     "text": [
      "Content saved to output/History of Pittsburgh/Colony_of_Virginia.txt\n"
     ]
    },
    {
     "name": "stderr",
     "output_type": "stream",
     "text": [
      " 44%|████▍     | 181/408 [00:40<00:52,  4.29it/s]"
     ]
    },
    {
     "name": "stdout",
     "output_type": "stream",
     "text": [
      "Content saved to output/History of Pittsburgh/US_Steel.txt\n",
      "Content saved to output/History of Pittsburgh/Crucible.txt\n"
     ]
    },
    {
     "name": "stderr",
     "output_type": "stream",
     "text": [
      " 45%|████▍     | 182/408 [00:40<00:49,  4.54it/s]"
     ]
    },
    {
     "name": "stdout",
     "output_type": "stream",
     "text": [
      "Content saved to output/History of Pittsburgh/FilePhotograph_of_a_Vat_of_Molten_Pig_Iron_Being_Poured_into_an_Open_Hearth_Furnace_at_the_Jones_and_Laughlin_Steel_Company_Pittsburgh_Pennsy_-_NARA_-_535922_high_contrastjpg.txt\n"
     ]
    },
    {
     "name": "stderr",
     "output_type": "stream",
     "text": [
      " 45%|████▌     | 184/408 [00:40<00:48,  4.63it/s]"
     ]
    },
    {
     "name": "stdout",
     "output_type": "stream",
     "text": [
      "Content saved to output/History of Pittsburgh/Mellon_Bank.txt\n",
      "Content saved to output/History of Pittsburgh/OL_identifier.txt\n"
     ]
    },
    {
     "name": "stderr",
     "output_type": "stream",
     "text": [
      " 45%|████▌     | 185/408 [00:41<00:46,  4.80it/s]"
     ]
    },
    {
     "name": "stdout",
     "output_type": "stream",
     "text": [
      "Content saved to output/History of Pittsburgh/Battle_of_Bushy_Run.txt\n"
     ]
    },
    {
     "name": "stderr",
     "output_type": "stream",
     "text": [
      " 46%|████▌     | 186/408 [00:41<00:46,  4.74it/s]"
     ]
    },
    {
     "name": "stdout",
     "output_type": "stream",
     "text": [
      "Content saved to output/History of Pittsburgh/Carnegie_Library.txt\n"
     ]
    },
    {
     "name": "stderr",
     "output_type": "stream",
     "text": [
      " 46%|████▌     | 188/408 [00:41<00:45,  4.82it/s]"
     ]
    },
    {
     "name": "stdout",
     "output_type": "stream",
     "text": [
      "Content saved to output/History of Pittsburgh/Pittsburgh_Post-Gazette.txt\n",
      "Content saved to output/History of Pittsburgh/Dorothy_Mae_Richardson.txt\n"
     ]
    },
    {
     "name": "stderr",
     "output_type": "stream",
     "text": [
      " 47%|████▋     | 190/408 [00:42<00:42,  5.10it/s]"
     ]
    },
    {
     "name": "stdout",
     "output_type": "stream",
     "text": [
      "Content saved to output/History of Pittsburgh/Pittsburgh_Riot.txt\n",
      "Content saved to output/History of Pittsburgh/Bedford_Township_Pennsylvania.txt\n"
     ]
    },
    {
     "name": "stderr",
     "output_type": "stream",
     "text": [
      " 47%|████▋     | 192/408 [00:42<00:45,  4.71it/s]"
     ]
    },
    {
     "name": "stdout",
     "output_type": "stream",
     "text": [
      "Content saved to output/History of Pittsburgh/Fort_Presque_Isle.txt\n",
      "Content saved to output/History of Pittsburgh/List_of_colleges_and_universities_in_Pittsburgh.txt\n"
     ]
    },
    {
     "name": "stderr",
     "output_type": "stream",
     "text": [
      " 48%|████▊     | 194/408 [00:42<00:41,  5.14it/s]"
     ]
    },
    {
     "name": "stdout",
     "output_type": "stream",
     "text": [
      "Content saved to output/History of Pittsburgh/Henry_J_Heinz.txt\n",
      "Content saved to output/History of Pittsburgh/Braddock_Allegheny_County_Pennsylvania.txt\n"
     ]
    },
    {
     "name": "stderr",
     "output_type": "stream",
     "text": [
      " 48%|████▊     | 195/408 [00:43<00:40,  5.24it/s]"
     ]
    },
    {
     "name": "stdout",
     "output_type": "stream",
     "text": [
      "Content saved to output/History of Pittsburgh/Governor_Dinwiddie.txt\n"
     ]
    },
    {
     "name": "stderr",
     "output_type": "stream",
     "text": [
      " 48%|████▊     | 196/408 [00:43<00:42,  5.00it/s]"
     ]
    },
    {
     "name": "stdout",
     "output_type": "stream",
     "text": [
      "Content saved to output/History of Pittsburgh/Pittsburgh_synagogue_shooting.txt\n"
     ]
    },
    {
     "name": "stderr",
     "output_type": "stream",
     "text": [
      " 48%|████▊     | 197/408 [00:43<00:44,  4.75it/s]"
     ]
    },
    {
     "name": "stdout",
     "output_type": "stream",
     "text": [
      "Content saved to output/History of Pittsburgh/Forbes_Field.txt\n"
     ]
    },
    {
     "name": "stderr",
     "output_type": "stream",
     "text": [
      " 49%|████▉     | 199/408 [00:44<00:42,  4.92it/s]"
     ]
    },
    {
     "name": "stdout",
     "output_type": "stream",
     "text": [
      "Content saved to output/History of Pittsburgh/List_of_films_shot_in_Pittsburgh.txt\n",
      "Content saved to output/History of Pittsburgh/Beaver_River_Pennsylvania.txt\n"
     ]
    },
    {
     "name": "stderr",
     "output_type": "stream",
     "text": [
      " 49%|████▉     | 201/408 [00:44<00:40,  5.06it/s]"
     ]
    },
    {
     "name": "stdout",
     "output_type": "stream",
     "text": [
      "Content saved to output/History of Pittsburgh/Shannopin's_Town.txt\n",
      "Content saved to output/History of Pittsburgh/Ford_river.txt\n"
     ]
    },
    {
     "name": "stderr",
     "output_type": "stream",
     "text": [
      " 50%|████▉     | 202/408 [00:44<00:42,  4.84it/s]"
     ]
    },
    {
     "name": "stdout",
     "output_type": "stream",
     "text": [
      "Content saved to output/History of Pittsburgh/Pittsburgh_History_and_Landmarks_Foundation.txt\n"
     ]
    },
    {
     "name": "stderr",
     "output_type": "stream",
     "text": [
      " 50%|█████     | 204/408 [00:45<00:41,  4.96it/s]"
     ]
    },
    {
     "name": "stdout",
     "output_type": "stream",
     "text": [
      "Content saved to output/History of Pittsburgh/Onondaga_tribe.txt\n",
      "Content saved to output/History of Pittsburgh/Strip_District_Pittsburgh.txt\n"
     ]
    },
    {
     "name": "stderr",
     "output_type": "stream",
     "text": [
      " 50%|█████     | 205/408 [00:45<00:39,  5.14it/s]"
     ]
    },
    {
     "name": "stdout",
     "output_type": "stream",
     "text": [
      "Content saved to output/History of Pittsburgh/Allegheny_HYP_Club.txt\n"
     ]
    },
    {
     "name": "stderr",
     "output_type": "stream",
     "text": [
      " 51%|█████     | 207/408 [00:45<00:38,  5.23it/s]"
     ]
    },
    {
     "name": "stdout",
     "output_type": "stream",
     "text": [
      "Content saved to output/History of Pittsburgh/Monongahela_River.txt\n",
      "Content saved to output/History of Pittsburgh/NeighborWorks_America.txt\n"
     ]
    },
    {
     "name": "stderr",
     "output_type": "stream",
     "text": [
      " 51%|█████     | 209/408 [00:45<00:36,  5.41it/s]"
     ]
    },
    {
     "name": "stdout",
     "output_type": "stream",
     "text": [
      "Content saved to output/History of Pittsburgh/Carnegie_Museum_of_Art.txt\n",
      "Content saved to output/History of Pittsburgh/Rail_tracks.txt\n"
     ]
    },
    {
     "name": "stderr",
     "output_type": "stream",
     "text": [
      " 52%|█████▏    | 211/408 [00:46<00:36,  5.41it/s]"
     ]
    },
    {
     "name": "stdout",
     "output_type": "stream",
     "text": [
      "Content saved to output/History of Pittsburgh/Vandergrift_Pennsylvania.txt\n",
      "Content saved to output/History of Pittsburgh/Pinkerton_Detective_Agency.txt\n"
     ]
    },
    {
     "name": "stderr",
     "output_type": "stream",
     "text": [
      " 52%|█████▏    | 212/408 [00:46<00:35,  5.52it/s]"
     ]
    },
    {
     "name": "stdout",
     "output_type": "stream",
     "text": [
      "Content saved to output/History of Pittsburgh/Pittsburgh_City-County_Building.txt\n"
     ]
    },
    {
     "name": "stderr",
     "output_type": "stream",
     "text": [
      " 52%|█████▏    | 213/408 [00:46<00:45,  4.26it/s]"
     ]
    },
    {
     "name": "stdout",
     "output_type": "stream",
     "text": [
      "Content saved to output/History of Pittsburgh/American_Revolutionary_War.txt\n"
     ]
    },
    {
     "name": "stderr",
     "output_type": "stream",
     "text": [
      " 52%|█████▏    | 214/408 [00:47<00:49,  3.91it/s]"
     ]
    },
    {
     "name": "stdout",
     "output_type": "stream",
     "text": [
      "Content saved to output/History of Pittsburgh/World_War_II.txt\n"
     ]
    },
    {
     "name": "stderr",
     "output_type": "stream",
     "text": [
      " 53%|█████▎    | 216/408 [00:47<00:49,  3.89it/s]"
     ]
    },
    {
     "name": "stdout",
     "output_type": "stream",
     "text": [
      "Content saved to output/History of Pittsburgh/New_Orleans.txt\n",
      "Content saved to output/History of Pittsburgh/OCLC_identifier.txt\n"
     ]
    },
    {
     "name": "stderr",
     "output_type": "stream",
     "text": [
      " 53%|█████▎    | 217/408 [00:47<00:45,  4.24it/s]"
     ]
    },
    {
     "name": "stdout",
     "output_type": "stream",
     "text": [
      "Content saved to output/History of Pittsburgh/Theatre_in_Pittsburgh.txt\n"
     ]
    },
    {
     "name": "stderr",
     "output_type": "stream",
     "text": [
      " 54%|█████▎    | 219/408 [00:48<00:40,  4.66it/s]"
     ]
    },
    {
     "name": "stdout",
     "output_type": "stream",
     "text": [
      "Content saved to output/History of Pittsburgh/Greater_Pittsburgh.txt\n",
      "Content saved to output/History of Pittsburgh/HJ_Heinz_Company.txt\n"
     ]
    },
    {
     "name": "stderr",
     "output_type": "stream",
     "text": [
      " 54%|█████▍    | 220/408 [00:48<00:38,  4.84it/s]"
     ]
    },
    {
     "name": "stdout",
     "output_type": "stream",
     "text": [
      "Content saved to output/History of Pittsburgh/Braddock's_Road.txt\n"
     ]
    },
    {
     "name": "stderr",
     "output_type": "stream",
     "text": [
      " 54%|█████▍    | 222/408 [00:48<00:37,  4.90it/s]"
     ]
    },
    {
     "name": "stdout",
     "output_type": "stream",
     "text": [
      "Content saved to output/History of Pittsburgh/Ohio_River.txt\n",
      "Content saved to output/History of Pittsburgh/Chartiers_Township_Washington_County_Pennsylvania.txt\n"
     ]
    },
    {
     "name": "stderr",
     "output_type": "stream",
     "text": [
      " 55%|█████▍    | 223/408 [00:49<00:36,  5.11it/s]"
     ]
    },
    {
     "name": "stdout",
     "output_type": "stream",
     "text": [
      "Content saved to output/History of Pittsburgh/Andrew_W_Mellon.txt\n"
     ]
    },
    {
     "name": "stderr",
     "output_type": "stream",
     "text": [
      " 55%|█████▍    | 224/408 [00:49<00:37,  4.92it/s]"
     ]
    },
    {
     "name": "stdout",
     "output_type": "stream",
     "text": [
      "Content saved to output/History of Pittsburgh/Forest_City_Enterprises.txt\n"
     ]
    },
    {
     "name": "stderr",
     "output_type": "stream",
     "text": [
      " 55%|█████▌    | 225/408 [00:49<00:42,  4.33it/s]"
     ]
    },
    {
     "name": "stdout",
     "output_type": "stream",
     "text": [
      "Content saved to output/History of Pittsburgh/Seven_Years'_War.txt\n"
     ]
    },
    {
     "name": "stderr",
     "output_type": "stream",
     "text": [
      " 56%|█████▌    | 227/408 [00:49<00:38,  4.71it/s]"
     ]
    },
    {
     "name": "stdout",
     "output_type": "stream",
     "text": [
      "Content saved to output/History of Pittsburgh/List_of_Pittsburgh_neighborhoods.txt\n",
      "Content saved to output/History of Pittsburgh/PittsburghNew_CastleWeirton_combined_statistical_area.txt\n"
     ]
    },
    {
     "name": "stderr",
     "output_type": "stream",
     "text": [
      " 56%|█████▌    | 228/408 [00:50<00:35,  5.00it/s]"
     ]
    },
    {
     "name": "stdout",
     "output_type": "stream",
     "text": [
      "Content saved to output/History of Pittsburgh/List_of_corporations_in_Pittsburgh.txt\n"
     ]
    },
    {
     "name": "stderr",
     "output_type": "stream",
     "text": [
      " 56%|█████▋    | 230/408 [00:50<00:36,  4.88it/s]"
     ]
    },
    {
     "name": "stdout",
     "output_type": "stream",
     "text": [
      "Content saved to output/History of Pittsburgh/Media_in_Pittsburgh.txt\n",
      "Content saved to output/History of Pittsburgh/Pittsburgh_Theological_Seminary.txt\n"
     ]
    },
    {
     "name": "stderr",
     "output_type": "stream",
     "text": [
      " 57%|█████▋    | 231/408 [00:50<00:35,  4.99it/s]"
     ]
    },
    {
     "name": "stdout",
     "output_type": "stream",
     "text": [
      "Content saved to output/History of Pittsburgh/Allegheny_Center_Mall.txt\n"
     ]
    },
    {
     "name": "stderr",
     "output_type": "stream",
     "text": [
      " 57%|█████▋    | 233/408 [00:51<00:38,  4.60it/s]"
     ]
    },
    {
     "name": "stdout",
     "output_type": "stream",
     "text": [
      "Content saved to output/History of Pittsburgh/British_Army.txt\n",
      "Content saved to output/History of Pittsburgh/La_Roche_College.txt\n"
     ]
    },
    {
     "name": "stderr",
     "output_type": "stream",
     "text": [
      " 57%|█████▋    | 234/408 [00:51<00:38,  4.54it/s]"
     ]
    },
    {
     "name": "stdout",
     "output_type": "stream",
     "text": [
      "Content saved to output/History of Pittsburgh/Template_talkPittsburgh.txt\n"
     ]
    },
    {
     "name": "stderr",
     "output_type": "stream",
     "text": [
      " 58%|█████▊    | 236/408 [00:51<00:35,  4.83it/s]"
     ]
    },
    {
     "name": "stdout",
     "output_type": "stream",
     "text": [
      "Content saved to output/History of Pittsburgh/Pittsburgh_Police.txt\n",
      "Content saved to output/History of Pittsburgh/Pontiac_Ottawa_leader.txt\n"
     ]
    },
    {
     "name": "stderr",
     "output_type": "stream",
     "text": [
      " 58%|█████▊    | 237/408 [00:52<00:35,  4.75it/s]"
     ]
    },
    {
     "name": "stdout",
     "output_type": "stream",
     "text": [
      "Content saved to output/History of Pittsburgh/Great_Migration_African_American.txt\n"
     ]
    },
    {
     "name": "stderr",
     "output_type": "stream",
     "text": [
      " 59%|█████▊    | 239/408 [00:52<00:34,  4.90it/s]"
     ]
    },
    {
     "name": "stdout",
     "output_type": "stream",
     "text": [
      "Content saved to output/History of Pittsburgh/Wagon_train.txt\n",
      "Content saved to output/History of Pittsburgh/Northside_Pittsburgh.txt\n"
     ]
    },
    {
     "name": "stderr",
     "output_type": "stream",
     "text": [
      " 59%|█████▉    | 241/408 [00:52<00:31,  5.28it/s]"
     ]
    },
    {
     "name": "stdout",
     "output_type": "stream",
     "text": [
      "Content saved to output/History of Pittsburgh/South_Side_Pittsburgh.txt\n",
      "Content saved to output/History of Pittsburgh/Raymond_Robinson_Green_Man.txt\n"
     ]
    },
    {
     "name": "stderr",
     "output_type": "stream",
     "text": [
      " 60%|█████▉    | 243/408 [00:53<00:31,  5.30it/s]"
     ]
    },
    {
     "name": "stdout",
     "output_type": "stream",
     "text": [
      "Content saved to output/History of Pittsburgh/David_L_Lawrence_Convention_Center.txt\n",
      "Content saved to output/History of Pittsburgh/Nemacolin.txt\n"
     ]
    },
    {
     "name": "stderr",
     "output_type": "stream",
     "text": [
      " 60%|█████▉    | 244/408 [00:53<00:30,  5.36it/s]"
     ]
    },
    {
     "name": "stdout",
     "output_type": "stream",
     "text": [
      "Content saved to output/History of Pittsburgh/Province_of_Quebec_17631791.txt\n"
     ]
    },
    {
     "name": "stderr",
     "output_type": "stream",
     "text": [
      " 60%|██████    | 245/408 [00:53<00:31,  5.21it/s]"
     ]
    },
    {
     "name": "stdout",
     "output_type": "stream",
     "text": [
      "Content saved to output/History of Pittsburgh/List_of_museums_in_Pittsburgh.txt\n"
     ]
    },
    {
     "name": "stderr",
     "output_type": "stream",
     "text": [
      " 60%|██████    | 246/408 [00:53<00:36,  4.46it/s]"
     ]
    },
    {
     "name": "stdout",
     "output_type": "stream",
     "text": [
      "Content saved to output/History of Pittsburgh/Philadelphia.txt\n"
     ]
    },
    {
     "name": "stderr",
     "output_type": "stream",
     "text": [
      " 61%|██████    | 248/408 [00:54<00:32,  4.86it/s]"
     ]
    },
    {
     "name": "stdout",
     "output_type": "stream",
     "text": [
      "Content saved to output/History of Pittsburgh/FileFrench_British_Forts_1753_1758png.txt\n",
      "Content saved to output/History of Pittsburgh/Project_MUSE.txt\n"
     ]
    },
    {
     "name": "stderr",
     "output_type": "stream",
     "text": [
      " 61%|██████▏   | 250/408 [00:54<00:31,  5.03it/s]"
     ]
    },
    {
     "name": "stdout",
     "output_type": "stream",
     "text": [
      "Content saved to output/History of Pittsburgh/Homestead_Strike.txt\n",
      "Content saved to output/History of Pittsburgh/Thaddeus_Mortimer_Fowler.txt\n"
     ]
    },
    {
     "name": "stderr",
     "output_type": "stream",
     "text": [
      " 62%|██████▏   | 251/408 [00:54<00:35,  4.42it/s]"
     ]
    },
    {
     "name": "stdout",
     "output_type": "stream",
     "text": [
      "Content saved to output/History of Pittsburgh/Malaria.txt\n"
     ]
    },
    {
     "name": "stderr",
     "output_type": "stream",
     "text": [
      " 62%|██████▏   | 252/408 [00:55<00:35,  4.40it/s]"
     ]
    },
    {
     "name": "stdout",
     "output_type": "stream",
     "text": [
      "Content saved to output/History of Pittsburgh/Siege_of_Fort_Pitt.txt\n"
     ]
    },
    {
     "name": "stderr",
     "output_type": "stream",
     "text": [
      " 62%|██████▏   | 254/408 [00:55<00:33,  4.57it/s]"
     ]
    },
    {
     "name": "stdout",
     "output_type": "stream",
     "text": [
      "Content saved to output/History of Pittsburgh/Battle_of_Fort_Necessity.txt\n",
      "Content saved to output/History of Pittsburgh/United_States_Census_Bureau.txt\n"
     ]
    },
    {
     "name": "stderr",
     "output_type": "stream",
     "text": [
      " 62%|██████▎   | 255/408 [00:55<00:31,  4.84it/s]"
     ]
    },
    {
     "name": "stdout",
     "output_type": "stream",
     "text": [
      "Content saved to output/History of Pittsburgh/Steel_crisis.txt\n"
     ]
    },
    {
     "name": "stderr",
     "output_type": "stream",
     "text": [
      " 63%|██████▎   | 256/408 [00:56<00:32,  4.65it/s]"
     ]
    },
    {
     "name": "stdout",
     "output_type": "stream",
     "text": [
      "Content saved to output/History of Pittsburgh/PNC_Park.txt\n"
     ]
    },
    {
     "name": "stderr",
     "output_type": "stream",
     "text": [
      " 63%|██████▎   | 258/408 [00:56<00:31,  4.71it/s]"
     ]
    },
    {
     "name": "stdout",
     "output_type": "stream",
     "text": [
      "Content saved to output/History of Pittsburgh/Greater_Pittsburgh_Chamber_of_Commerce.txt\n",
      "Content saved to output/History of Pittsburgh/Miami_tribe.txt\n"
     ]
    },
    {
     "name": "stderr",
     "output_type": "stream",
     "text": [
      " 63%|██████▎   | 259/408 [00:56<00:29,  5.03it/s]"
     ]
    },
    {
     "name": "stdout",
     "output_type": "stream",
     "text": [
      "Content saved to output/History of Pittsburgh/Fort_Ligonier.txt\n"
     ]
    },
    {
     "name": "stderr",
     "output_type": "stream",
     "text": [
      " 64%|██████▍   | 261/408 [00:57<00:30,  4.79it/s]"
     ]
    },
    {
     "name": "stdout",
     "output_type": "stream",
     "text": [
      "Content saved to output/History of Pittsburgh/Treaty_of_Paris_1763.txt\n",
      "Content saved to output/History of Pittsburgh/Point_State_Park.txt\n"
     ]
    },
    {
     "name": "stderr",
     "output_type": "stream",
     "text": [
      " 64%|██████▍   | 262/408 [00:57<00:32,  4.44it/s]"
     ]
    },
    {
     "name": "stdout",
     "output_type": "stream",
     "text": [
      "Content saved to output/History of Pittsburgh/Whiskey_Rebellion.txt\n"
     ]
    },
    {
     "name": "stderr",
     "output_type": "stream",
     "text": [
      " 65%|██████▍   | 264/408 [00:57<00:30,  4.75it/s]"
     ]
    },
    {
     "name": "stdout",
     "output_type": "stream",
     "text": [
      "Content saved to output/History of Pittsburgh/Braddock's_Field.txt\n",
      "Content saved to output/History of Pittsburgh/Mississaugas.txt\n"
     ]
    },
    {
     "name": "stderr",
     "output_type": "stream",
     "text": [
      " 65%|██████▍   | 265/408 [00:57<00:29,  4.93it/s]"
     ]
    },
    {
     "name": "stdout",
     "output_type": "stream",
     "text": [
      "Content saved to output/History of Pittsburgh/New_Deal_Coalition.txt\n"
     ]
    },
    {
     "name": "stderr",
     "output_type": "stream",
     "text": [
      " 65%|██████▌   | 267/408 [00:58<00:28,  4.91it/s]"
     ]
    },
    {
     "name": "stdout",
     "output_type": "stream",
     "text": [
      "Content saved to output/History of Pittsburgh/Coke_fuel.txt\n",
      "Content saved to output/History of Pittsburgh/Sports__Exhibition_Authority_of_Pittsburgh_and_Allegheny_County.txt\n"
     ]
    },
    {
     "name": "stderr",
     "output_type": "stream",
     "text": [
      " 66%|██████▌   | 268/408 [00:58<00:27,  5.06it/s]"
     ]
    },
    {
     "name": "stdout",
     "output_type": "stream",
     "text": [
      "Content saved to output/History of Pittsburgh/Mexican_War_Streets.txt\n"
     ]
    },
    {
     "name": "stderr",
     "output_type": "stream",
     "text": [
      " 66%|██████▌   | 270/408 [00:58<00:27,  4.93it/s]"
     ]
    },
    {
     "name": "stdout",
     "output_type": "stream",
     "text": [
      "Content saved to output/History of Pittsburgh/Community_development.txt\n",
      "Content saved to output/History of Pittsburgh/Braddock_expedition.txt\n"
     ]
    },
    {
     "name": "stderr",
     "output_type": "stream",
     "text": [
      " 67%|██████▋   | 272/408 [00:59<00:26,  5.12it/s]"
     ]
    },
    {
     "name": "stdout",
     "output_type": "stream",
     "text": [
      "Content saved to output/History of Pittsburgh/Name_of_Pittsburgh.txt\n",
      "Content saved to output/History of Pittsburgh/ISBN_identifier.txt\n"
     ]
    },
    {
     "name": "stderr",
     "output_type": "stream",
     "text": [
      " 67%|██████▋   | 274/408 [00:59<00:27,  4.86it/s]"
     ]
    },
    {
     "name": "stdout",
     "output_type": "stream",
     "text": [
      "Content saved to output/History of Pittsburgh/Earl_Hines.txt\n",
      "Content saved to output/History of Pittsburgh/Fifth_Avenue_Pittsburgh.txt\n"
     ]
    },
    {
     "name": "stderr",
     "output_type": "stream",
     "text": [
      " 68%|██████▊   | 276/408 [01:00<00:26,  5.07it/s]"
     ]
    },
    {
     "name": "stdout",
     "output_type": "stream",
     "text": [
      "Content saved to output/History of Pittsburgh/West_Penn_Allegheny_Health_System.txt\n",
      "Content saved to output/History of Pittsburgh/McKees_Rocks_Pennsylvania.txt\n"
     ]
    },
    {
     "name": "stderr",
     "output_type": "stream",
     "text": [
      " 68%|██████▊   | 277/408 [01:00<00:25,  5.08it/s]"
     ]
    },
    {
     "name": "stdout",
     "output_type": "stream",
     "text": [
      "Content saved to output/History of Pittsburgh/Marquis_Duquesne.txt\n"
     ]
    },
    {
     "name": "stderr",
     "output_type": "stream",
     "text": [
      " 68%|██████▊   | 279/408 [01:00<00:25,  5.16it/s]"
     ]
    },
    {
     "name": "stdout",
     "output_type": "stream",
     "text": [
      "Content saved to output/History of Pittsburgh/Port_of_Pittsburgh.txt\n",
      "Content saved to output/History of Pittsburgh/Fort_Pitt_Foundry.txt\n"
     ]
    },
    {
     "name": "stderr",
     "output_type": "stream",
     "text": [
      " 69%|██████▊   | 280/408 [01:00<00:24,  5.14it/s]"
     ]
    },
    {
     "name": "stdout",
     "output_type": "stream",
     "text": [
      "Content saved to output/History of Pittsburgh/Fort_Pitt_Pennsylvania.txt\n"
     ]
    },
    {
     "name": "stderr",
     "output_type": "stream",
     "text": [
      " 69%|██████▉   | 281/408 [01:01<00:29,  4.37it/s]"
     ]
    },
    {
     "name": "stdout",
     "output_type": "stream",
     "text": [
      "Content saved to output/History of Pittsburgh/Seneca_people.txt\n"
     ]
    },
    {
     "name": "stderr",
     "output_type": "stream",
     "text": [
      " 69%|██████▉   | 283/408 [01:01<00:26,  4.67it/s]"
     ]
    },
    {
     "name": "stdout",
     "output_type": "stream",
     "text": [
      "Content saved to output/History of Pittsburgh/Charles_M_Schwab.txt\n",
      "Content saved to output/History of Pittsburgh/United_States_Steel_Corporation.txt\n"
     ]
    },
    {
     "name": "stderr",
     "output_type": "stream",
     "text": [
      " 70%|██████▉   | 285/408 [01:02<00:27,  4.39it/s]"
     ]
    },
    {
     "name": "stdout",
     "output_type": "stream",
     "text": [
      "Content saved to output/History of Pittsburgh/Duke_Ellington.txt\n",
      "Content saved to output/History of Pittsburgh/Penn_Avenue.txt\n"
     ]
    },
    {
     "name": "stderr",
     "output_type": "stream",
     "text": [
      " 70%|███████   | 287/408 [01:02<00:28,  4.21it/s]"
     ]
    },
    {
     "name": "stdout",
     "output_type": "stream",
     "text": [
      "Content saved to output/History of Pittsburgh/George_Washington.txt\n",
      "Content saved to output/History of Pittsburgh/Duquesne_Club.txt\n"
     ]
    },
    {
     "name": "stderr",
     "output_type": "stream",
     "text": [
      " 71%|███████   | 289/408 [01:03<00:26,  4.55it/s]"
     ]
    },
    {
     "name": "stdout",
     "output_type": "stream",
     "text": [
      "Content saved to output/History of Pittsburgh/Margo_J_Anderson.txt\n",
      "Content saved to output/History of Pittsburgh/Peter_Chartier.txt\n"
     ]
    },
    {
     "name": "stderr",
     "output_type": "stream",
     "text": [
      " 71%|███████▏  | 291/408 [01:03<00:24,  4.87it/s]"
     ]
    },
    {
     "name": "stdout",
     "output_type": "stream",
     "text": [
      "Content saved to output/History of Pittsburgh/List_of_major_corporations_in_Pittsburgh.txt\n",
      "Content saved to output/History of Pittsburgh/Manchester_Pittsburgh.txt\n"
     ]
    },
    {
     "name": "stderr",
     "output_type": "stream",
     "text": [
      " 72%|███████▏  | 292/408 [01:03<00:23,  4.97it/s]"
     ]
    },
    {
     "name": "stdout",
     "output_type": "stream",
     "text": [
      "Content saved to output/History of Pittsburgh/Pontiac's_War.txt\n"
     ]
    },
    {
     "name": "stderr",
     "output_type": "stream",
     "text": [
      " 72%|███████▏  | 294/408 [01:04<00:22,  5.01it/s]"
     ]
    },
    {
     "name": "stdout",
     "output_type": "stream",
     "text": [
      "Content saved to output/History of Pittsburgh/Pennsylvania_Main_Line_Canal.txt\n",
      "Content saved to output/History of Pittsburgh/Allegheny_Arsenal.txt\n"
     ]
    },
    {
     "name": "stderr",
     "output_type": "stream",
     "text": [
      " 72%|███████▏  | 295/408 [01:04<00:24,  4.68it/s]"
     ]
    },
    {
     "name": "stdout",
     "output_type": "stream",
     "text": [
      "Content saved to output/History of Pittsburgh/Wyandot_people.txt\n"
     ]
    },
    {
     "name": "stderr",
     "output_type": "stream",
     "text": [
      " 73%|███████▎  | 297/408 [01:04<00:23,  4.81it/s]"
     ]
    },
    {
     "name": "stdout",
     "output_type": "stream",
     "text": [
      "Content saved to output/History of Pittsburgh/Speakeasy.txt\n",
      "Content saved to output/History of Pittsburgh/New_Stanton_Pennsylvania.txt\n"
     ]
    },
    {
     "name": "stderr",
     "output_type": "stream",
     "text": [
      " 73%|███████▎  | 298/408 [01:04<00:22,  4.88it/s]"
     ]
    },
    {
     "name": "stdout",
     "output_type": "stream",
     "text": [
      "Content saved to output/History of Pittsburgh/Oneida_tribe.txt\n"
     ]
    },
    {
     "name": "stderr",
     "output_type": "stream",
     "text": [
      " 73%|███████▎  | 299/408 [01:05<00:22,  4.79it/s]"
     ]
    },
    {
     "name": "stdout",
     "output_type": "stream",
     "text": [
      "Content saved to output/History of Pittsburgh/PPG_Place.txt\n"
     ]
    },
    {
     "name": "stderr",
     "output_type": "stream",
     "text": [
      " 74%|███████▍  | 301/408 [01:05<00:23,  4.54it/s]"
     ]
    },
    {
     "name": "stdout",
     "output_type": "stream",
     "text": [
      "Content saved to output/History of Pittsburgh/Pittsburgh_Pirates.txt\n",
      "Content saved to output/History of Pittsburgh/Pig_iron.txt\n"
     ]
    },
    {
     "name": "stderr",
     "output_type": "stream",
     "text": [
      " 74%|███████▍  | 302/408 [01:05<00:23,  4.44it/s]"
     ]
    },
    {
     "name": "stdout",
     "output_type": "stream",
     "text": [
      "Content saved to output/History of Pittsburgh/Jones_and_Laughlin_Steel_Company.txt\n"
     ]
    },
    {
     "name": "stderr",
     "output_type": "stream",
     "text": [
      " 74%|███████▍  | 303/408 [01:06<00:24,  4.36it/s]"
     ]
    },
    {
     "name": "stdout",
     "output_type": "stream",
     "text": [
      "Content saved to output/History of Pittsburgh/Scotch-Irish_American.txt\n"
     ]
    },
    {
     "name": "stderr",
     "output_type": "stream",
     "text": [
      " 75%|███████▍  | 305/408 [01:06<00:24,  4.27it/s]"
     ]
    },
    {
     "name": "stdout",
     "output_type": "stream",
     "text": [
      "Content saved to output/History of Pittsburgh/1973_oil_crisis.txt\n",
      "Content saved to output/History of Pittsburgh/Etymology_of_Pittsburgh.txt\n"
     ]
    },
    {
     "name": "stderr",
     "output_type": "stream",
     "text": [
      " 75%|███████▌  | 306/408 [01:06<00:23,  4.38it/s]"
     ]
    },
    {
     "name": "stdout",
     "output_type": "stream",
     "text": [
      "Content saved to output/History of Pittsburgh/Fort_Prince_George.txt\n"
     ]
    },
    {
     "name": "stderr",
     "output_type": "stream",
     "text": [
      " 75%|███████▌  | 308/408 [01:07<00:22,  4.50it/s]"
     ]
    },
    {
     "name": "stdout",
     "output_type": "stream",
     "text": [
      "Content saved to output/History of Pittsburgh/Andrew_Mellon.txt\n",
      "Content saved to output/History of Pittsburgh/Virginia_militia.txt\n"
     ]
    },
    {
     "name": "stderr",
     "output_type": "stream",
     "text": [
      " 76%|███████▌  | 309/408 [01:07<00:21,  4.65it/s]"
     ]
    },
    {
     "name": "stdout",
     "output_type": "stream",
     "text": [
      "Content saved to output/History of Pittsburgh/Michael_Cresap.txt\n"
     ]
    },
    {
     "name": "stderr",
     "output_type": "stream",
     "text": [
      " 76%|███████▌  | 311/408 [01:07<00:19,  4.85it/s]"
     ]
    },
    {
     "name": "stdout",
     "output_type": "stream",
     "text": [
      "Content saved to output/History of Pittsburgh/McKeesport_Pennsylvania.txt\n",
      "Content saved to output/History of Pittsburgh/FileHarpers_8_11_1877_Steeple_View_of_Pittsburgh_Conflagarationjpg.txt\n"
     ]
    },
    {
     "name": "stderr",
     "output_type": "stream",
     "text": [
      " 76%|███████▋  | 312/408 [01:08<00:21,  4.51it/s]"
     ]
    },
    {
     "name": "stdout",
     "output_type": "stream",
     "text": [
      "Content saved to output/History of Pittsburgh/Bedford_County_Pennsylvania.txt\n"
     ]
    },
    {
     "name": "stderr",
     "output_type": "stream",
     "text": [
      " 77%|███████▋  | 314/408 [01:08<00:19,  4.74it/s]"
     ]
    },
    {
     "name": "stdout",
     "output_type": "stream",
     "text": [
      "Content saved to output/History of Pittsburgh/Mound_builder_people.txt\n",
      "Content saved to output/History of Pittsburgh/Redstone_Creek_Pennsylvania.txt\n"
     ]
    },
    {
     "name": "stderr",
     "output_type": "stream",
     "text": [
      " 77%|███████▋  | 315/408 [01:08<00:21,  4.28it/s]"
     ]
    },
    {
     "name": "stdout",
     "output_type": "stream",
     "text": [
      "Content saved to output/History of Pittsburgh/University_of_Pittsburgh_Medical_Center.txt\n"
     ]
    },
    {
     "name": "stderr",
     "output_type": "stream",
     "text": [
      " 77%|███████▋  | 316/408 [01:09<00:21,  4.30it/s]"
     ]
    },
    {
     "name": "stdout",
     "output_type": "stream",
     "text": [
      "Content saved to output/History of Pittsburgh/Pittsburgh_Railway_Riots.txt\n"
     ]
    },
    {
     "name": "stderr",
     "output_type": "stream",
     "text": [
      " 78%|███████▊  | 318/408 [01:09<00:19,  4.51it/s]"
     ]
    },
    {
     "name": "stdout",
     "output_type": "stream",
     "text": [
      "Content saved to output/History of Pittsburgh/Three_Rivers_Stadium.txt\n",
      "Content saved to output/History of Pittsburgh/Education_in_Pittsburgh.txt\n"
     ]
    },
    {
     "name": "stderr",
     "output_type": "stream",
     "text": [
      " 78%|███████▊  | 319/408 [01:09<00:19,  4.55it/s]"
     ]
    },
    {
     "name": "stdout",
     "output_type": "stream",
     "text": [
      "Content saved to output/History of Pittsburgh/Pittsburgh_Intergovernmental_Cooperation_Authority.txt\n"
     ]
    },
    {
     "name": "stderr",
     "output_type": "stream",
     "text": [
      " 78%|███████▊  | 320/408 [01:09<00:19,  4.44it/s]"
     ]
    },
    {
     "name": "stdout",
     "output_type": "stream",
     "text": [
      "Content saved to output/History of Pittsburgh/Sports_in_Pittsburgh.txt\n"
     ]
    },
    {
     "name": "stderr",
     "output_type": "stream",
     "text": [
      " 79%|███████▊  | 321/408 [01:10<00:19,  4.41it/s]"
     ]
    },
    {
     "name": "stdout",
     "output_type": "stream",
     "text": [
      "Content saved to output/History of Pittsburgh/Brownsville_Pennsylvania.txt\n"
     ]
    },
    {
     "name": "stderr",
     "output_type": "stream",
     "text": [
      " 79%|███████▉  | 323/408 [01:10<00:18,  4.72it/s]"
     ]
    },
    {
     "name": "stdout",
     "output_type": "stream",
     "text": [
      "Content saved to output/History of Pittsburgh/Celeron_de_Bienville.txt\n",
      "Content saved to output/History of Pittsburgh/FilePittsburgh_from_Mt_Washington_by_Jennifer_Yangjpg.txt\n"
     ]
    },
    {
     "name": "stderr",
     "output_type": "stream",
     "text": [
      " 80%|███████▉  | 325/408 [01:10<00:16,  4.92it/s]"
     ]
    },
    {
     "name": "stdout",
     "output_type": "stream",
     "text": [
      "Content saved to output/History of Pittsburgh/Joseph_Guffey.txt\n",
      "Content saved to output/History of Pittsburgh/Community_College_of_Allegheny_County.txt\n"
     ]
    },
    {
     "name": "stderr",
     "output_type": "stream",
     "text": [
      " 80%|████████  | 327/408 [01:11<00:16,  5.02it/s]"
     ]
    },
    {
     "name": "stdout",
     "output_type": "stream",
     "text": [
      "Content saved to output/History of Pittsburgh/Allegheny_County_Courthouse.txt\n",
      "Content saved to output/History of Pittsburgh/Golden_Triangle_Pittsburgh.txt\n"
     ]
    },
    {
     "name": "stderr",
     "output_type": "stream",
     "text": [
      " 80%|████████  | 328/408 [01:11<00:15,  5.07it/s]"
     ]
    },
    {
     "name": "stdout",
     "output_type": "stream",
     "text": [
      "Content saved to output/History of Pittsburgh/Allegheny_County_District_Attorney.txt\n"
     ]
    },
    {
     "name": "stderr",
     "output_type": "stream",
     "text": [
      " 81%|████████  | 329/408 [01:11<00:15,  4.97it/s]"
     ]
    },
    {
     "name": "stdout",
     "output_type": "stream",
     "text": [
      "Content saved to output/History of Pittsburgh/Edgar_Thomson_Works.txt\n"
     ]
    },
    {
     "name": "stderr",
     "output_type": "stream",
     "text": [
      " 81%|████████  | 331/408 [01:12<00:16,  4.74it/s]"
     ]
    },
    {
     "name": "stdout",
     "output_type": "stream",
     "text": [
      "Content saved to output/History of Pittsburgh/Shawnee.txt\n",
      "Content saved to output/History of Pittsburgh/Fort_Le_Boeuf.txt\n"
     ]
    },
    {
     "name": "stderr",
     "output_type": "stream",
     "text": [
      " 82%|████████▏ | 333/408 [01:12<00:14,  5.05it/s]"
     ]
    },
    {
     "name": "stdout",
     "output_type": "stream",
     "text": [
      "Content saved to output/History of Pittsburgh/Progressive_era.txt\n",
      "Content saved to output/History of Pittsburgh/Housing_Act_of_1949.txt\n"
     ]
    },
    {
     "name": "stderr",
     "output_type": "stream",
     "text": [
      " 82%|████████▏ | 335/408 [01:12<00:14,  5.15it/s]"
     ]
    },
    {
     "name": "stdout",
     "output_type": "stream",
     "text": [
      "Content saved to output/History of Pittsburgh/Joseph_Coulon_de_Jumonville.txt\n",
      "Content saved to output/History of Pittsburgh/Daniel_Brodhead.txt\n"
     ]
    },
    {
     "name": "stderr",
     "output_type": "stream",
     "text": [
      " 82%|████████▏ | 336/408 [01:13<00:13,  5.24it/s]"
     ]
    },
    {
     "name": "stdout",
     "output_type": "stream",
     "text": [
      "Content saved to output/History of Pittsburgh/Purchase_Line.txt\n"
     ]
    },
    {
     "name": "stderr",
     "output_type": "stream",
     "text": [
      " 83%|████████▎ | 338/408 [01:13<00:15,  4.43it/s]"
     ]
    },
    {
     "name": "stdout",
     "output_type": "stream",
     "text": [
      "Content saved to output/History of Pittsburgh/James_Laughlin_industrialist.txt\n",
      "Content saved to output/History of Pittsburgh/Heinz_Field.txt\n"
     ]
    },
    {
     "name": "stderr",
     "output_type": "stream",
     "text": [
      " 83%|████████▎ | 340/408 [01:14<00:14,  4.80it/s]"
     ]
    },
    {
     "name": "stdout",
     "output_type": "stream",
     "text": [
      "Content saved to output/History of Pittsburgh/History_of_the_Jews_in_Pittsburgh.txt\n",
      "Content saved to output/History of Pittsburgh/Darlington_Collection.txt\n"
     ]
    },
    {
     "name": "stderr",
     "output_type": "stream",
     "text": [
      " 84%|████████▎ | 341/408 [01:14<00:15,  4.35it/s]"
     ]
    },
    {
     "name": "stdout",
     "output_type": "stream",
     "text": [
      "Content saved to output/History of Pittsburgh/Logstown.txt\n"
     ]
    },
    {
     "name": "stderr",
     "output_type": "stream",
     "text": [
      " 84%|████████▍ | 343/408 [01:14<00:13,  4.65it/s]"
     ]
    },
    {
     "name": "stdout",
     "output_type": "stream",
     "text": [
      "Content saved to output/History of Pittsburgh/Cookie_table.txt\n",
      "Content saved to output/History of Pittsburgh/Polish_Hill.txt\n"
     ]
    },
    {
     "name": "stderr",
     "output_type": "stream",
     "text": [
      " 84%|████████▍ | 344/408 [01:14<00:13,  4.79it/s]"
     ]
    },
    {
     "name": "stdout",
     "output_type": "stream",
     "text": [
      "Content saved to output/History of Pittsburgh/United_States_urban_area.txt\n"
     ]
    },
    {
     "name": "stderr",
     "output_type": "stream",
     "text": [
      " 85%|████████▍ | 346/408 [01:15<00:12,  4.85it/s]"
     ]
    },
    {
     "name": "stdout",
     "output_type": "stream",
     "text": [
      "Content saved to output/History of Pittsburgh/1927_Pittsburgh_gas_explosion.txt\n",
      "Content saved to output/History of Pittsburgh/Carlow_University.txt\n"
     ]
    },
    {
     "name": "stderr",
     "output_type": "stream",
     "text": [
      " 85%|████████▌ | 348/408 [01:15<00:11,  5.12it/s]"
     ]
    },
    {
     "name": "stdout",
     "output_type": "stream",
     "text": [
      "Content saved to output/History of Pittsburgh/Open_hearth_furnace.txt\n",
      "Content saved to output/History of Pittsburgh/FileBouquet_blockhouseJPG.txt\n"
     ]
    },
    {
     "name": "stderr",
     "output_type": "stream",
     "text": [
      " 86%|████████▌ | 350/408 [01:16<00:11,  5.10it/s]"
     ]
    },
    {
     "name": "stdout",
     "output_type": "stream",
     "text": [
      "Content saved to output/History of Pittsburgh/RIDC.txt\n",
      "Content saved to output/History of Pittsburgh/Tanaghrisson.txt\n"
     ]
    },
    {
     "name": "stderr",
     "output_type": "stream",
     "text": [
      " 86%|████████▌ | 351/408 [01:16<00:12,  4.57it/s]"
     ]
    },
    {
     "name": "stdout",
     "output_type": "stream",
     "text": [
      "Content saved to output/History of Pittsburgh/Great_Depression_in_the_United_States.txt\n"
     ]
    },
    {
     "name": "stderr",
     "output_type": "stream",
     "text": [
      " 86%|████████▋ | 352/408 [01:16<00:12,  4.44it/s]"
     ]
    },
    {
     "name": "stdout",
     "output_type": "stream",
     "text": [
      "Content saved to output/History of Pittsburgh/Cathedral_of_Learning.txt\n"
     ]
    },
    {
     "name": "stderr",
     "output_type": "stream",
     "text": [
      " 87%|████████▋ | 354/408 [01:17<00:11,  4.81it/s]"
     ]
    },
    {
     "name": "stdout",
     "output_type": "stream",
     "text": [
      "Content saved to output/History of Pittsburgh/Shadyside_Pennsylvania.txt\n",
      "Content saved to output/History of Pittsburgh/Carnegie_Institute_of_Technology.txt\n"
     ]
    },
    {
     "name": "stderr",
     "output_type": "stream",
     "text": [
      " 87%|████████▋ | 355/408 [01:17<00:10,  4.91it/s]"
     ]
    },
    {
     "name": "stdout",
     "output_type": "stream",
     "text": [
      "Content saved to output/History of Pittsburgh/Pittsburgh_Bureau_of_Fire.txt\n"
     ]
    },
    {
     "name": "stderr",
     "output_type": "stream",
     "text": [
      " 87%|████████▋ | 356/408 [01:17<00:11,  4.40it/s]"
     ]
    },
    {
     "name": "stdout",
     "output_type": "stream",
     "text": [
      "Content saved to output/History of Pittsburgh/René-Robert_Cavelier_Sieur_de_La_Salle.txt\n"
     ]
    },
    {
     "name": "stderr",
     "output_type": "stream",
     "text": [
      " 88%|████████▊ | 358/408 [01:17<00:10,  4.63it/s]"
     ]
    },
    {
     "name": "stdout",
     "output_type": "stream",
     "text": [
      "Content saved to output/History of Pittsburgh/Erie_Pennsylvania.txt\n",
      "Content saved to output/History of Pittsburgh/George_Westinghouse.txt\n"
     ]
    },
    {
     "name": "stderr",
     "output_type": "stream",
     "text": [
      " 88%|████████▊ | 360/408 [01:18<00:10,  4.56it/s]"
     ]
    },
    {
     "name": "stdout",
     "output_type": "stream",
     "text": [
      "Content saved to output/History of Pittsburgh/Rust_Belt.txt\n",
      "Content saved to output/History of Pittsburgh/Sacramento.txt\n"
     ]
    },
    {
     "name": "stderr",
     "output_type": "stream",
     "text": [
      " 89%|████████▊ | 362/408 [01:18<00:09,  4.89it/s]"
     ]
    },
    {
     "name": "stdout",
     "output_type": "stream",
     "text": [
      "Content saved to output/History of Pittsburgh/List_of_fiction_set_in_Pittsburgh.txt\n",
      "Content saved to output/History of Pittsburgh/Union_Switch__Signal.txt\n"
     ]
    },
    {
     "name": "stderr",
     "output_type": "stream",
     "text": [
      " 89%|████████▉ | 364/408 [01:19<00:09,  4.51it/s]"
     ]
    },
    {
     "name": "stdout",
     "output_type": "stream",
     "text": [
      "Content saved to output/History of Pittsburgh/Steamboat.txt\n",
      "Content saved to output/History of Pittsburgh/Battle_of_Fort_Duquesne.txt\n"
     ]
    },
    {
     "name": "stderr",
     "output_type": "stream",
     "text": [
      " 90%|████████▉ | 366/408 [01:19<00:08,  4.81it/s]"
     ]
    },
    {
     "name": "stdout",
     "output_type": "stream",
     "text": [
      "Content saved to output/History of Pittsburgh/Negro_National_League_19331948.txt\n",
      "Content saved to output/History of Pittsburgh/FileGOLDEN_TRIANGLE_SHOWN_FROM_THE_MT_WASHINGTON_AREA_IT_WAS_GIVEN_THE_NEW_REFERENCE_IN_THE_EARLY_1950'S_DURING_THE_-_NARA_-_557273jpg.txt\n"
     ]
    },
    {
     "name": "stderr",
     "output_type": "stream",
     "text": [
      " 90%|████████▉ | 367/408 [01:20<00:12,  3.16it/s]"
     ]
    },
    {
     "name": "stdout",
     "output_type": "stream",
     "text": [
      "Content saved to output/History of Pittsburgh/CategoryCS1_maint_multiple_names_authors_list.txt\n"
     ]
    },
    {
     "name": "stderr",
     "output_type": "stream",
     "text": [
      " 90%|█████████ | 368/408 [01:20<00:11,  3.43it/s]"
     ]
    },
    {
     "name": "stdout",
     "output_type": "stream",
     "text": [
      "Content saved to output/History of Pittsburgh/Rockwell_International.txt\n"
     ]
    },
    {
     "name": "stderr",
     "output_type": "stream",
     "text": [
      " 90%|█████████ | 369/408 [01:20<00:11,  3.49it/s]"
     ]
    },
    {
     "name": "stdout",
     "output_type": "stream",
     "text": [
      "Content saved to output/History of Pittsburgh/Kittanning_village.txt\n"
     ]
    },
    {
     "name": "stderr",
     "output_type": "stream",
     "text": [
      " 91%|█████████ | 370/408 [01:20<00:10,  3.79it/s]"
     ]
    },
    {
     "name": "stdout",
     "output_type": "stream",
     "text": [
      "Content saved to output/History of Pittsburgh/Westinghouse_Electric_1886.txt\n"
     ]
    },
    {
     "name": "stderr",
     "output_type": "stream",
     "text": [
      " 91%|█████████ | 371/408 [01:21<00:09,  3.76it/s]"
     ]
    },
    {
     "name": "stdout",
     "output_type": "stream",
     "text": [
      "Content saved to output/History of Pittsburgh/War_of_1812.txt\n"
     ]
    },
    {
     "name": "stderr",
     "output_type": "stream",
     "text": [
      " 91%|█████████ | 372/408 [01:21<00:09,  3.72it/s]"
     ]
    },
    {
     "name": "stdout",
     "output_type": "stream",
     "text": [
      "Content saved to output/History of Pittsburgh/Lenape.txt\n"
     ]
    },
    {
     "name": "stderr",
     "output_type": "stream",
     "text": [
      " 92%|█████████▏| 374/408 [01:21<00:07,  4.25it/s]"
     ]
    },
    {
     "name": "stdout",
     "output_type": "stream",
     "text": [
      "Content saved to output/History of Pittsburgh/Welfare_capitalism.txt\n",
      "Content saved to output/History of Pittsburgh/Pittsburgh_Crawfords.txt\n"
     ]
    },
    {
     "name": "stderr",
     "output_type": "stream",
     "text": [
      " 92%|█████████▏| 375/408 [01:22<00:07,  4.19it/s]"
     ]
    },
    {
     "name": "stdout",
     "output_type": "stream",
     "text": [
      "Content saved to output/History of Pittsburgh/Henry_Clay_Frick.txt\n"
     ]
    },
    {
     "name": "stderr",
     "output_type": "stream",
     "text": [
      " 92%|█████████▏| 376/408 [01:22<00:07,  4.25it/s]"
     ]
    },
    {
     "name": "stdout",
     "output_type": "stream",
     "text": [
      "Content saved to output/History of Pittsburgh/List_of_television_shows_shot_in_Pittsburgh.txt\n"
     ]
    },
    {
     "name": "stderr",
     "output_type": "stream",
     "text": [
      " 92%|█████████▏| 377/408 [01:22<00:07,  4.23it/s]"
     ]
    },
    {
     "name": "stdout",
     "output_type": "stream",
     "text": [
      "Content saved to output/History of Pittsburgh/Fort_Machault.txt\n"
     ]
    },
    {
     "name": "stderr",
     "output_type": "stream",
     "text": [
      " 93%|█████████▎| 379/408 [01:23<00:07,  4.12it/s]"
     ]
    },
    {
     "name": "stdout",
     "output_type": "stream",
     "text": [
      "Content saved to output/History of Pittsburgh/San_Antonio.txt\n",
      "Content saved to output/History of Pittsburgh/Flatboats.txt\n"
     ]
    },
    {
     "name": "stderr",
     "output_type": "stream",
     "text": [
      " 93%|█████████▎| 381/408 [01:23<00:05,  4.66it/s]"
     ]
    },
    {
     "name": "stdout",
     "output_type": "stream",
     "text": [
      "Content saved to output/History of Pittsburgh/Blacksmiths.txt\n",
      "Content saved to output/History of Pittsburgh/Chatham_University.txt\n"
     ]
    },
    {
     "name": "stderr",
     "output_type": "stream",
     "text": [
      " 94%|█████████▍| 383/408 [01:23<00:05,  4.94it/s]"
     ]
    },
    {
     "name": "stdout",
     "output_type": "stream",
     "text": [
      "Content saved to output/History of Pittsburgh/Pittsburgh_Rens.txt\n",
      "Content saved to output/History of Pittsburgh/Braddock_Pennsylvania.txt\n"
     ]
    },
    {
     "name": "stderr",
     "output_type": "stream",
     "text": [
      " 94%|█████████▍| 384/408 [01:24<00:04,  5.06it/s]"
     ]
    },
    {
     "name": "stdout",
     "output_type": "stream",
     "text": [
      "Content saved to output/History of Pittsburgh/Braddock_Road_Braddock_expedition.txt\n"
     ]
    },
    {
     "name": "stderr",
     "output_type": "stream",
     "text": [
      " 95%|█████████▍| 386/408 [01:24<00:04,  4.90it/s]"
     ]
    },
    {
     "name": "stdout",
     "output_type": "stream",
     "text": [
      "Content saved to output/History of Pittsburgh/Cumberland_Maryland.txt\n",
      "Content saved to output/History of Pittsburgh/FileWLA_cma_View_of_the_Great_Fire_of_Pittsburgh_1846jpg.txt\n"
     ]
    },
    {
     "name": "stderr",
     "output_type": "stream",
     "text": [
      " 95%|█████████▍| 387/408 [01:24<00:04,  4.34it/s]"
     ]
    },
    {
     "name": "stdout",
     "output_type": "stream",
     "text": [
      "Content saved to output/History of Pittsburgh/Adaptive_reuse.txt\n"
     ]
    },
    {
     "name": "stderr",
     "output_type": "stream",
     "text": [
      " 95%|█████████▌| 388/408 [01:25<00:04,  4.48it/s]"
     ]
    },
    {
     "name": "stdout",
     "output_type": "stream",
     "text": [
      "Content saved to output/History of Pittsburgh/Ohio_and_Pennsylvania_Railroad_18481856.txt\n"
     ]
    },
    {
     "name": "stderr",
     "output_type": "stream",
     "text": [
      " 95%|█████████▌| 389/408 [01:25<00:04,  4.37it/s]"
     ]
    },
    {
     "name": "stdout",
     "output_type": "stream",
     "text": [
      "Content saved to output/History of Pittsburgh/Boat_building.txt\n"
     ]
    },
    {
     "name": "stderr",
     "output_type": "stream",
     "text": [
      " 96%|█████████▌| 390/408 [01:25<00:04,  4.38it/s]"
     ]
    },
    {
     "name": "stdout",
     "output_type": "stream",
     "text": [
      "Content saved to output/History of Pittsburgh/Kingdom_of_France.txt\n"
     ]
    },
    {
     "name": "stderr",
     "output_type": "stream",
     "text": [
      " 96%|█████████▌| 391/408 [01:25<00:03,  4.36it/s]"
     ]
    },
    {
     "name": "stdout",
     "output_type": "stream",
     "text": [
      "Content saved to output/History of Pittsburgh/Westinghouse_Works_1904.txt\n"
     ]
    },
    {
     "name": "stderr",
     "output_type": "stream",
     "text": [
      " 96%|█████████▋| 393/408 [01:26<00:03,  4.51it/s]"
     ]
    },
    {
     "name": "stdout",
     "output_type": "stream",
     "text": [
      "Content saved to output/History of Pittsburgh/Prohibition_in_the_United_States.txt\n",
      "Content saved to output/History of Pittsburgh/Fort_Frontenac.txt\n"
     ]
    },
    {
     "name": "stderr",
     "output_type": "stream",
     "text": [
      " 97%|█████████▋| 394/408 [01:26<00:02,  4.76it/s]"
     ]
    },
    {
     "name": "stdout",
     "output_type": "stream",
     "text": [
      "Content saved to output/History of Pittsburgh/Southside_Pittsburgh.txt\n"
     ]
    },
    {
     "name": "stderr",
     "output_type": "stream",
     "text": [
      " 97%|█████████▋| 395/408 [01:26<00:02,  4.47it/s]"
     ]
    },
    {
     "name": "stdout",
     "output_type": "stream",
     "text": [
      "Content saved to output/History of Pittsburgh/Bessemer_process.txt\n"
     ]
    },
    {
     "name": "stderr",
     "output_type": "stream",
     "text": [
      " 97%|█████████▋| 397/408 [01:27<00:02,  4.67it/s]"
     ]
    },
    {
     "name": "stdout",
     "output_type": "stream",
     "text": [
      "Content saved to output/History of Pittsburgh/WikipediaVerifiability.txt\n",
      "Content saved to output/History of Pittsburgh/Ohio_Company.txt\n"
     ]
    },
    {
     "name": "stderr",
     "output_type": "stream",
     "text": [
      " 98%|█████████▊| 398/408 [01:27<00:02,  4.50it/s]"
     ]
    },
    {
     "name": "stdout",
     "output_type": "stream",
     "text": [
      "Content saved to output/History of Pittsburgh/William_Clapham.txt\n"
     ]
    },
    {
     "name": "stderr",
     "output_type": "stream",
     "text": [
      " 98%|█████████▊| 400/408 [01:27<00:01,  4.47it/s]"
     ]
    },
    {
     "name": "stdout",
     "output_type": "stream",
     "text": [
      "Content saved to output/History of Pittsburgh/National_Weather_Service.txt\n",
      "Content saved to output/History of Pittsburgh/Mellon_Financial_Corporation.txt\n"
     ]
    },
    {
     "name": "stderr",
     "output_type": "stream",
     "text": [
      " 98%|█████████▊| 401/408 [01:28<00:01,  4.13it/s]"
     ]
    },
    {
     "name": "stdout",
     "output_type": "stream",
     "text": [
      "Content saved to output/History of Pittsburgh/Influenza.txt\n"
     ]
    },
    {
     "name": "stderr",
     "output_type": "stream",
     "text": [
      " 99%|█████████▊| 402/408 [01:28<00:01,  4.16it/s]"
     ]
    },
    {
     "name": "stdout",
     "output_type": "stream",
     "text": [
      "Content saved to output/History of Pittsburgh/The_Crown.txt\n"
     ]
    },
    {
     "name": "stderr",
     "output_type": "stream",
     "text": [
      " 99%|█████████▉| 404/408 [01:28<00:00,  4.37it/s]"
     ]
    },
    {
     "name": "stdout",
     "output_type": "stream",
     "text": [
      "Content saved to output/History of Pittsburgh/List_of_tallest_educational_buildings.txt\n",
      "Content saved to output/History of Pittsburgh/List_of_nicknames_for_Pittsburgh.txt\n"
     ]
    },
    {
     "name": "stderr",
     "output_type": "stream",
     "text": [
      "100%|█████████▉| 406/408 [01:29<00:00,  4.54it/s]"
     ]
    },
    {
     "name": "stdout",
     "output_type": "stream",
     "text": [
      "Content saved to output/History of Pittsburgh/Gulf_Oil.txt\n",
      "Content saved to output/History of Pittsburgh/Paleo-Indian.txt\n"
     ]
    },
    {
     "name": "stderr",
     "output_type": "stream",
     "text": [
      "100%|██████████| 408/408 [01:29<00:00,  4.56it/s]"
     ]
    },
    {
     "name": "stdout",
     "output_type": "stream",
     "text": [
      "Content saved to output/History of Pittsburgh/Work-rule.txt\n",
      "Content saved to output/History of Pittsburgh/Coal_dust.txt\n"
     ]
    },
    {
     "name": "stderr",
     "output_type": "stream",
     "text": [
      "\n"
     ]
    }
   ],
   "source": [
    "import requests\n",
    "from bs4 import BeautifulSoup\n",
    "import os\n",
    "import urllib.parse\n",
    "from tqdm import tqdm\n",
    "\n",
    "def get_wikipedia_page_content(title):\n",
    "    \"\"\"\n",
    "    Fetches the plain text content of a Wikipedia page given its title.\n",
    "\n",
    "    Args:\n",
    "        title (str): The title of the Wikipedia page.\n",
    "\n",
    "    Returns:\n",
    "        str: The plain text content of the page.\n",
    "    \"\"\"\n",
    "    S = requests.Session()\n",
    "    URL = \"https://en.wikipedia.org/w/api.php\"\n",
    "\n",
    "    PARAMS = {\n",
    "        \"action\": \"query\",\n",
    "        \"format\": \"json\",\n",
    "        \"prop\": \"extracts\",\n",
    "        \"titles\": title,\n",
    "        \"explaintext\": True,\n",
    "    }\n",
    "\n",
    "    response = S.get(url=URL, params=PARAMS)\n",
    "    data = response.json()\n",
    "\n",
    "    pages = data['query']['pages']\n",
    "    page = next(iter(pages.values()))\n",
    "    page_content = page.get('extract', '')\n",
    "\n",
    "    return page_content\n",
    "\n",
    "def get_wikipedia_page_links(title):\n",
    "    \"\"\"\n",
    "    Retrieves all unique Wikipedia page titles linked from the specified page,\n",
    "    using the actual URLs to ensure accurate titles.\n",
    "\n",
    "    Args:\n",
    "        title (str): The title of the Wikipedia page.\n",
    "\n",
    "    Returns:\n",
    "        list: A list of linked page titles.\n",
    "    \"\"\"\n",
    "    S = requests.Session()\n",
    "    URL = f\"https://en.wikipedia.org/wiki/{urllib.parse.quote(title)}\"\n",
    "\n",
    "    response = S.get(URL)\n",
    "    soup = BeautifulSoup(response.content, 'html.parser')\n",
    "\n",
    "    # Extract all anchor tags within the main content area\n",
    "    content_div = soup.find('div', {'id': 'mw-content-text'})\n",
    "    links = content_div.find_all('a', href=True)\n",
    "\n",
    "    page_titles = set()\n",
    "    for link in links:\n",
    "        href = link['href']\n",
    "        if href.startswith('/wiki/') and not href.startswith('/wiki/Special:'):\n",
    "            # Extract the title from the URL\n",
    "            linked_title = href.split('/wiki/')[-1]\n",
    "            # Decode URL-encoded characters\n",
    "            linked_title = urllib.parse.unquote(linked_title)\n",
    "            # Skip links to sections within the same page\n",
    "            if '#' in linked_title:\n",
    "                linked_title = linked_title.split('#')[0]\n",
    "            # Skip empty titles\n",
    "            if linked_title:\n",
    "                page_titles.add(linked_title)\n",
    "\n",
    "    return list(page_titles)\n",
    "\n",
    "def save_content_to_file(title, content, directory='output/History of Pittsburgh/'):\n",
    "    \"\"\"\n",
    "    Saves the content to a text file named after the page title.\n",
    "\n",
    "    Args:\n",
    "        title (str): The title of the Wikipedia page.\n",
    "        content (str): The content to be saved.\n",
    "        directory (str): The directory where the file will be saved.\n",
    "    \"\"\"\n",
    "    # Ensure the output directory exists\n",
    "    if not os.path.exists(directory):\n",
    "        os.makedirs(directory)\n",
    "\n",
    "    # Create a safe file name by replacing or removing invalid characters\n",
    "    safe_title = \"\".join(c for c in title if c.isalnum() or c in (\" \", \"_\", \"-\", \"'\")).rstrip()\n",
    "    file_name = f\"{safe_title}.txt\"\n",
    "    file_path = os.path.join(directory, file_name)\n",
    "\n",
    "    # Write content to the file\n",
    "    with open(file_path, 'w', encoding='utf-8') as file:\n",
    "        file.write(content)\n",
    "\n",
    "    # print(f\"Content saved to {file_path}\")\n",
    "\n",
    "if __name__ == \"__main__\":\n",
    "    main_page_title = \"History of Pittsburgh\"\n",
    "    print(f\"Fetching content for: {main_page_title}\")\n",
    "\n",
    "    # Step 1: Get and save the main page content\n",
    "    main_content = get_wikipedia_page_content(main_page_title)\n",
    "    save_content_to_file(main_page_title, main_content)\n",
    "\n",
    "    # Step 2: Get linked page titles using actual URLs\n",
    "    linked_titles = get_wikipedia_page_links(main_page_title)\n",
    "    print(f\"Found {len(linked_titles)} linked pages.\")\n",
    "\n",
    "    # Optional: Limit the number of linked pages to process\n",
    "    # linked_titles = linked_titles[:10]\n",
    "\n",
    "    # Step 3: Fetch and save content for each linked page\n",
    "    for title in tqdm(linked_titles):\n",
    "        # print(f\"Fetching content for: {title}\")\n",
    "        content = get_wikipedia_page_content(title)\n",
    "        save_content_to_file(title, content)\n"
   ]
  },
  {
   "cell_type": "markdown",
   "metadata": {},
   "source": [
    "# Pittsburgh Events"
   ]
  },
  {
   "cell_type": "markdown",
   "metadata": {},
   "source": [
    "##### Scrape all texts, urls and events without ``show more''"
   ]
  },
  {
   "cell_type": "code",
   "execution_count": 4,
   "metadata": {},
   "outputs": [
    {
     "name": "stdout",
     "output_type": "stream",
     "text": [
      "Paragraphs saved to ./output/pittsburgh_events_oct/paragraphs.txt\n",
      "Extracted 30 events and saved to ./output/pittsburgh_events_oct/events.csv\n"
     ]
    },
    {
     "name": "stderr",
     "output_type": "stream",
     "text": [
      "/var/folders/jt/kpshpf8d1991jhtxl__hj8p00000gn/T/ipykernel_9164/2469560081.py:69: DeprecationWarning: The 'text' argument to find()-type methods is deprecated. Use 'string' instead.\n",
      "  ticket_link_tag = date_row.find('a', text='Tickets')\n"
     ]
    }
   ],
   "source": [
    "import requests\n",
    "from bs4 import BeautifulSoup\n",
    "import os\n",
    "import urllib.parse\n",
    "from tqdm import tqdm\n",
    "import csv\n",
    "\n",
    "def extract_events(soup, output_path):\n",
    "    \"\"\"\n",
    "    Extracts event details (date, time, location) from the parsed HTML soup\n",
    "    and saves them into 'events.csv' in the output_path.\n",
    "    \n",
    "    Args:\n",
    "        soup (BeautifulSoup): The parsed HTML content.\n",
    "        output_path (str): The directory where output files will be saved.\n",
    "    \"\"\"\n",
    "    events = []\n",
    "    \n",
    "    # Find the unordered list with class 'dates-list'\n",
    "    dates_list = soup.find('ul', class_='dates-list')\n",
    "    \n",
    "    if not dates_list:\n",
    "        print(\"No events found in the HTML content.\")\n",
    "        return\n",
    "    \n",
    "    # Loop through each list item with class 'date-row'\n",
    "    for date_row in dates_list.find_all('li', class_='date-row'):\n",
    "        # Extract date information\n",
    "        date_div = date_row.find('div', class_='date')\n",
    "        if date_div:\n",
    "            month = date_div.find('div', class_='month').get_text(strip=True)\n",
    "            day = date_div.find('div', class_='day').get_text(strip=True)\n",
    "            year = date_div.find('div', class_='year').get_text(strip=True)\n",
    "            event_date = f\"{month} {day}, {year}\"\n",
    "        else:\n",
    "            event_date = 'N/A'\n",
    "        \n",
    "        # Extract time information\n",
    "        time_div = date_row.find('div', class_='time')\n",
    "        if time_div:\n",
    "            time_text = time_div.contents[0].strip()\n",
    "        else:\n",
    "            time_text = 'N/A'\n",
    "        \n",
    "        # Extract event name and venue\n",
    "        venue_div = date_row.find('div', class_='venue')\n",
    "        if venue_div:\n",
    "            # Event Name\n",
    "            event_name_div = venue_div.find('div')\n",
    "            event_name = event_name_div.get_text(strip=True) if event_name_div else 'N/A'\n",
    "            \n",
    "            # Venue Name\n",
    "            venue_name_div = venue_div.find('div', class_='date-desc')\n",
    "            venue_name = venue_name_div.get_text(strip=True) if venue_name_div else 'N/A'\n",
    "            \n",
    "            # Location\n",
    "            location_span = venue_div.find('span', class_='location')\n",
    "            location = location_span.get_text(strip=True) if location_span else 'N/A'\n",
    "        else:\n",
    "            event_name = 'N/A'\n",
    "            venue_name = 'N/A'\n",
    "            location = 'N/A'\n",
    "        \n",
    "        # Extract price\n",
    "        price_div = date_row.find('div', class_='from-price')\n",
    "        price = price_div.get_text(strip=True) if price_div else 'N/A'\n",
    "        \n",
    "        # Extract ticket link\n",
    "        ticket_link_tag = date_row.find('a', text='Tickets')\n",
    "        ticket_link = ticket_link_tag['href'] if ticket_link_tag else 'N/A'\n",
    "        \n",
    "        # Store the extracted data\n",
    "        event = {\n",
    "            'Date': event_date,\n",
    "            'Time': time_text,\n",
    "            'Event Name': event_name,\n",
    "            'Venue': venue_name,\n",
    "            'Location': location,\n",
    "            'Price': price,\n",
    "            'Ticket Link': ticket_link\n",
    "        }\n",
    "        events.append(event)\n",
    "    \n",
    "    # Save events to a CSV file\n",
    "    if events:\n",
    "        events_file = os.path.join(output_path, 'events.csv')\n",
    "        keys = ['Date', 'Time', 'Event Name', 'Venue', 'Location', 'Price', 'Ticket Link']\n",
    "        with open(events_file, 'w', newline='', encoding='utf-8') as f:\n",
    "            dict_writer = csv.DictWriter(f, fieldnames=keys)\n",
    "            dict_writer.writeheader()\n",
    "            dict_writer.writerows(events)\n",
    "        print(f\"Extracted {len(events)} events and saved to {events_file}\")\n",
    "    else:\n",
    "        print(\"No events were extracted.\")\n",
    "\n",
    "\n",
    "def scrape_website(url, output_path):\n",
    "    \"\"\"\n",
    "    Given a URL and an output path, this function:\n",
    "    - Finds all paragraphs on the webpage and stores them into 'paragraphs.txt'.\n",
    "    - Finds all links on the webpage and stores them into 'url.txt'.\n",
    "    - Downloads all PDFs linked on the webpage into the 'downloaded_files' folder.\n",
    "    \n",
    "    Args:\n",
    "        url (str): The URL of the webpage to scrape.\n",
    "        output_path (str): The directory where output files and folders will be saved.\n",
    "    \"\"\"\n",
    "    # Ensure the output directory exists\n",
    "    if not os.path.exists(output_path):\n",
    "        os.makedirs(output_path)\n",
    "    \n",
    "    try:\n",
    "        # Fetch the webpage content\n",
    "        response = requests.get(url)\n",
    "        response.raise_for_status()  # Check for HTTP errors\n",
    "        \n",
    "        # Parse the HTML content using BeautifulSoup\n",
    "        soup = BeautifulSoup(response.content, 'html.parser')\n",
    "        \n",
    "        # Extract all paragraphs and save to paragraphs.txt\n",
    "        paragraphs = soup.find_all('p')\n",
    "        paragraphs_text = [para.get_text(strip=True) for para in paragraphs if para.get_text(strip=True)]\n",
    "        paragraphs_file = os.path.join(output_path, 'paragraphs.txt')\n",
    "        with open(paragraphs_file, 'w', encoding='utf-8') as f:\n",
    "            for para in paragraphs_text:\n",
    "                f.write(para + '\\n\\n')\n",
    "        print(f\"Paragraphs saved to {paragraphs_file}\")\n",
    "        \n",
    "        # Extract all links and save to url.txt\n",
    "        links = []\n",
    "        for link in soup.find_all('a', href=True):\n",
    "            href = link['href']\n",
    "            full_url = urllib.parse.urljoin(url, href)\n",
    "            links.append(full_url)\n",
    "        links_file = os.path.join(output_path, 'url.txt')\n",
    "        with open(links_file, 'w', encoding='utf-8') as f:\n",
    "            for link in links:\n",
    "                f.write(link + '\\n')\n",
    "        # print(f\"Links saved to {links_file}\")\n",
    "        \n",
    "        # Download files linked on the webpage\n",
    "        file_extensions = ('.pdf', '.docx')\n",
    "        file_links = [link for link in links if link.lower().endswith(file_extensions)]\n",
    "        if (len(file_links) > 0):\n",
    "            downloads_folder = os.path.join(output_path, 'downloaded_files')\n",
    "            if not os.path.exists(downloads_folder):\n",
    "                os.makedirs(downloads_folder)\n",
    "        for file_link in file_links:\n",
    "            file_url = file_link\n",
    "            file_name = os.path.basename(urllib.parse.urlsplit(file_url).path)\n",
    "            file_path = os.path.join(downloads_folder, file_name)\n",
    "            # print(f\"Downloading {file_name}...\")\n",
    "            file_response = requests.get(file_url)\n",
    "            file_response.raise_for_status()\n",
    "            with open(file_path, 'wb') as f:\n",
    "                f.write(file_response.content)\n",
    "        \n",
    "\n",
    "        # Extract event details and save to events.csv\n",
    "        extract_events(soup, output_path)\n",
    "\n",
    "\n",
    "    except requests.exceptions.RequestException as e:\n",
    "        print(f\"An error occurred: {e}\")\n",
    "\n",
    "\n",
    "# URL of the webpage to scrape\n",
    "url = 'https://www.britannica.com/place/Pittsburgh'\n",
    "url = 'https://pittsburghpa.gov/events/'\n",
    "url = 'https://www.visitpittsburgh.com/'\n",
    "url = 'https://www.cmu.edu/about/'\n",
    "url = 'https://pittsburgh.events/october/'\n",
    "url = 'https://pittsburgh.events/november/'\n",
    "url = 'https://pittsburgh.events/december/'\n",
    "url = 'https://pittsburgh.events/january/'\n",
    "url = 'https://pittsburgh.events/february/'\n",
    "url = 'https://pittsburgh.events/march/'\n",
    "url = 'https://pittsburgh.events/april/'\n",
    "url = 'https://pittsburgh.events/may/'\n",
    "url = 'https://pittsburgh.events/june/'\n",
    "url = 'https://pittsburgh.events/july/'\n",
    "url = 'https://pittsburgh.events/august/'\n",
    "url = 'https://pittsburgh.events/september/'\n",
    "\n",
    "scrape_website(url, './output/pittsburgh_events/')\n",
    "\n",
    "# Read urls in a text file and scrape each one\n",
    "with open('./output/downtown_events/url.txt', 'r') as file:\n",
    "    urls = file.readlines()\n",
    "    for url in tqdm(urls):\n",
    "        url = url.strip()\n",
    "        title = url.split('//')[-1].replace('/', '_')\n",
    "        scrape_website(url, f'./output/downtown_events/children/{title}')\n",
    "\n"
   ]
  },
  {
   "cell_type": "markdown",
   "metadata": {},
   "source": [
    "#### Scrape all events"
   ]
  },
  {
   "cell_type": "code",
   "execution_count": 15,
   "metadata": {},
   "outputs": [
    {
     "name": "stdout",
     "output_type": "stream",
     "text": [
      "WebDriver initialized successfully.\n",
      "Navigating to https://pittsburgh.events/\n",
      "Looking for the 'Show More' button...\n",
      "'Show More' button found. Scrolling into view...\n",
      "Clicking the 'Show More' button...\n",
      "Clicked 'Show More'. Waiting for new content to load...\n",
      "Looking for the 'Show More' button...\n",
      "'Show More' button found. Scrolling into view...\n",
      "Clicking the 'Show More' button...\n",
      "Click intercepted. Retrying after a short delay...\n",
      "Looking for the 'Show More' button...\n",
      "'Show More' button found. Scrolling into view...\n",
      "Clicking the 'Show More' button...\n",
      "Clicked 'Show More'. Waiting for new content to load...\n",
      "Looking for the 'Show More' button...\n",
      "'Show More' button found. Scrolling into view...\n",
      "Clicking the 'Show More' button...\n",
      "Clicked 'Show More'. Waiting for new content to load...\n",
      "Looking for the 'Show More' button...\n",
      "'Show More' button found. Scrolling into view...\n",
      "Clicking the 'Show More' button...\n",
      "Clicked 'Show More'. Waiting for new content to load...\n",
      "Looking for the 'Show More' button...\n",
      "'Show More' button found. Scrolling into view...\n",
      "Clicking the 'Show More' button...\n",
      "Clicked 'Show More'. Waiting for new content to load...\n",
      "Looking for the 'Show More' button...\n",
      "'Show More' button found. Scrolling into view...\n",
      "Clicking the 'Show More' button...\n",
      "Clicked 'Show More'. Waiting for new content to load...\n",
      "Looking for the 'Show More' button...\n",
      "'Show More' button found. Scrolling into view...\n",
      "Clicking the 'Show More' button...\n",
      "Clicked 'Show More'. Waiting for new content to load...\n",
      "Looking for the 'Show More' button...\n",
      "'Show More' button found. Scrolling into view...\n",
      "Clicking the 'Show More' button...\n",
      "Clicked 'Show More'. Waiting for new content to load...\n",
      "Looking for the 'Show More' button...\n",
      "'Show More' button found. Scrolling into view...\n",
      "Clicking the 'Show More' button...\n",
      "Clicked 'Show More'. Waiting for new content to load...\n",
      "Looking for the 'Show More' button...\n",
      "'Show More' button found. Scrolling into view...\n",
      "Clicking the 'Show More' button...\n",
      "Clicked 'Show More'. Waiting for new content to load...\n",
      "Looking for the 'Show More' button...\n",
      "'Show More' button found. Scrolling into view...\n",
      "Clicking the 'Show More' button...\n",
      "Clicked 'Show More'. Waiting for new content to load...\n",
      "Looking for the 'Show More' button...\n",
      "'Show More' button found. Scrolling into view...\n",
      "Clicking the 'Show More' button...\n",
      "Clicked 'Show More'. Waiting for new content to load...\n",
      "Looking for the 'Show More' button...\n",
      "'Show More' button found. Scrolling into view...\n",
      "Clicking the 'Show More' button...\n",
      "Clicked 'Show More'. Waiting for new content to load...\n",
      "Looking for the 'Show More' button...\n",
      "'Show More' button found. Scrolling into view...\n",
      "Clicking the 'Show More' button...\n",
      "Clicked 'Show More'. Waiting for new content to load...\n",
      "Looking for the 'Show More' button...\n",
      "'Show More' button found. Scrolling into view...\n",
      "Clicking the 'Show More' button...\n",
      "Clicked 'Show More'. Waiting for new content to load...\n",
      "Looking for the 'Show More' button...\n",
      "'Show More' button found. Scrolling into view...\n",
      "Clicking the 'Show More' button...\n",
      "Clicked 'Show More'. Waiting for new content to load...\n",
      "Looking for the 'Show More' button...\n",
      "'Show More' button found. Scrolling into view...\n",
      "Clicking the 'Show More' button...\n",
      "Clicked 'Show More'. Waiting for new content to load...\n",
      "Looking for the 'Show More' button...\n",
      "'Show More' button found. Scrolling into view...\n",
      "Clicking the 'Show More' button...\n",
      "Clicked 'Show More'. Waiting for new content to load...\n",
      "Looking for the 'Show More' button...\n",
      "'Show More' button found. Scrolling into view...\n",
      "Clicking the 'Show More' button...\n",
      "Clicked 'Show More'. Waiting for new content to load...\n",
      "Looking for the 'Show More' button...\n",
      "'Show More' button found. Scrolling into view...\n",
      "Clicking the 'Show More' button...\n",
      "Clicked 'Show More'. Waiting for new content to load...\n",
      "Looking for the 'Show More' button...\n",
      "'Show More' button found. Scrolling into view...\n",
      "Clicking the 'Show More' button...\n",
      "Clicked 'Show More'. Waiting for new content to load...\n",
      "Looking for the 'Show More' button...\n",
      "'Show More' button found. Scrolling into view...\n",
      "Clicking the 'Show More' button...\n",
      "Clicked 'Show More'. Waiting for new content to load...\n",
      "Looking for the 'Show More' button...\n",
      "'Show More' button found. Scrolling into view...\n",
      "Clicking the 'Show More' button...\n",
      "Clicked 'Show More'. Waiting for new content to load...\n",
      "Looking for the 'Show More' button...\n",
      "'Show More' button found. Scrolling into view...\n",
      "Clicking the 'Show More' button...\n",
      "Clicked 'Show More'. Waiting for new content to load...\n",
      "Looking for the 'Show More' button...\n",
      "'Show More' button found. Scrolling into view...\n",
      "Clicking the 'Show More' button...\n",
      "Clicked 'Show More'. Waiting for new content to load...\n",
      "Looking for the 'Show More' button...\n",
      "'Show More' button found. Scrolling into view...\n",
      "Clicking the 'Show More' button...\n",
      "Clicked 'Show More'. Waiting for new content to load...\n",
      "Looking for the 'Show More' button...\n",
      "'Show More' button found. Scrolling into view...\n",
      "Clicking the 'Show More' button...\n",
      "Clicked 'Show More'. Waiting for new content to load...\n",
      "Looking for the 'Show More' button...\n",
      "No more 'Show More' buttons found or an error occurred.\n",
      "Retrieving page source...\n",
      "Extracting event details...\n",
      "Extracted 875 events and saved to ./output/pittsburgh_events/events.csv\n",
      "Closing the WebDriver.\n"
     ]
    },
    {
     "name": "stderr",
     "output_type": "stream",
     "text": [
      "/var/folders/jt/kpshpf8d1991jhtxl__hj8p00000gn/T/ipykernel_12451/190630264.py:85: DeprecationWarning: The 'text' argument to find()-type methods is deprecated. Use 'string' instead.\n",
      "  ticket_link_tag = date_row.find('a', text='Tickets')\n"
     ]
    }
   ],
   "source": [
    "import os\n",
    "import urllib.parse\n",
    "import csv\n",
    "import time\n",
    "import random\n",
    "from tqdm import tqdm\n",
    "from selenium import webdriver\n",
    "from selenium.webdriver.common.by import By\n",
    "from selenium.webdriver.chrome.options import Options\n",
    "from webdriver_manager.chrome import ChromeDriverManager\n",
    "from selenium.webdriver.chrome.service import Service\n",
    "from selenium.webdriver.support.ui import WebDriverWait\n",
    "from selenium.webdriver.support import expected_conditions as EC\n",
    "from selenium.common.exceptions import (\n",
    "    NoSuchElementException,\n",
    "    TimeoutException,\n",
    "    ElementClickInterceptedException,\n",
    "    StaleElementReferenceException,\n",
    ")\n",
    "from bs4 import BeautifulSoup\n",
    "\n",
    "def extract_events(soup, output_path, url):\n",
    "    \"\"\"\n",
    "    Extracts event details (date, time, location) from the parsed HTML soup\n",
    "    and saves them into 'events.csv' in the output_path.\n",
    "\n",
    "    Args:\n",
    "        soup (BeautifulSoup): The parsed HTML content.\n",
    "        output_path (str): The directory where output files will be saved.\n",
    "        url (str): The base URL for resolving relative links.\n",
    "    \"\"\"\n",
    "    events = []\n",
    "\n",
    "    # Find the unordered list with class 'dates-list'\n",
    "    dates_list = soup.find('ul', class_='dates-list')\n",
    "\n",
    "    if not dates_list:\n",
    "        print(\"No events found in the HTML content.\")\n",
    "        return\n",
    "\n",
    "    # Loop through each list item with class 'date-row'\n",
    "    for date_row in dates_list.find_all('li', class_='date-row'):\n",
    "        # Extract date information\n",
    "        date_div = date_row.find('div', class_='date')\n",
    "        if date_div:\n",
    "            month = date_div.find('div', class_='month').get_text(strip=True)\n",
    "            day = date_div.find('div', class_='day').get_text(strip=True)\n",
    "            year = date_div.find('div', class_='year').get_text(strip=True)\n",
    "            event_date = f\"{month} {day}, {year}\"\n",
    "        else:\n",
    "            event_date = 'N/A'\n",
    "\n",
    "        # Extract time information\n",
    "        time_div = date_row.find('div', class_='time')\n",
    "        if time_div:\n",
    "            # Assuming time is the first text node\n",
    "            time_text = time_div.contents[0].strip()\n",
    "        else:\n",
    "            time_text = 'N/A'\n",
    "\n",
    "        # Extract event name and venue\n",
    "        venue_div = date_row.find('div', class_='venue')\n",
    "        if venue_div:\n",
    "            # Event Name\n",
    "            event_name_div = venue_div.find('div')\n",
    "            event_name = event_name_div.get_text(strip=True) if event_name_div else 'N/A'\n",
    "\n",
    "            # Venue Name\n",
    "            venue_name_div = venue_div.find('div', class_='date-desc')\n",
    "            venue_name = venue_name_div.get_text(strip=True) if venue_name_div else 'N/A'\n",
    "\n",
    "            # Location\n",
    "            location_span = venue_div.find('span', class_='location')\n",
    "            location = location_span.get_text(strip=True) if location_span else 'N/A'\n",
    "        else:\n",
    "            event_name = 'N/A'\n",
    "            venue_name = 'N/A'\n",
    "            location = 'N/A'\n",
    "\n",
    "        # Extract price\n",
    "        price_div = date_row.find('div', class_='from-price')\n",
    "        price = price_div.get_text(strip=True) if price_div else 'N/A'\n",
    "\n",
    "        # Extract ticket link\n",
    "        ticket_link_tag = date_row.find('a', text='Tickets')\n",
    "        ticket_link = ticket_link_tag['href'] if ticket_link_tag else 'N/A'\n",
    "        if ticket_link != 'N/A':\n",
    "            ticket_link = urllib.parse.urljoin(url, ticket_link)\n",
    "\n",
    "        # Store the extracted data\n",
    "        event = {\n",
    "            'Date': event_date,\n",
    "            'Time': time_text,\n",
    "            'Event Name': event_name,\n",
    "            'Venue': venue_name,\n",
    "            'Location': location,\n",
    "            'Price': price,\n",
    "            'Ticket Link': ticket_link\n",
    "        }\n",
    "        events.append(event)\n",
    "\n",
    "    # Save events to a CSV file\n",
    "    if events:\n",
    "        events_file = os.path.join(output_path, 'events.csv')\n",
    "        keys = ['Date', 'Time', 'Event Name', 'Venue', 'Location', 'Price', 'Ticket Link']\n",
    "        with open(events_file, 'w', newline='', encoding='utf-8') as f:\n",
    "            dict_writer = csv.DictWriter(f, fieldnames=keys)\n",
    "            dict_writer.writeheader()\n",
    "            dict_writer.writerows(events)\n",
    "        print(f\"Extracted {len(events)} events and saved to {events_file}\")\n",
    "    else:\n",
    "        print(\"No events were extracted.\")\n",
    "\n",
    "def scrape_website(url, output_path):\n",
    "    \"\"\"\n",
    "    Given a URL and an output path, this function:\n",
    "    - Loads the webpage using Selenium and clicks 'Show More' until all events are loaded.\n",
    "    - Extracts event details and saves them into 'events.csv'.\n",
    "\n",
    "    Args:\n",
    "        url (str): The URL of the webpage to scrape.\n",
    "        output_path (str): The directory where output files and folders will be saved.\n",
    "    \"\"\"\n",
    "    # Ensure the output directory exists\n",
    "    if not os.path.exists(output_path):\n",
    "        os.makedirs(output_path)\n",
    "\n",
    "    # Set up Selenium WebDriver using webdriver-manager\n",
    "    options = Options()\n",
    "    options.headless = False  # Set to True after debugging\n",
    "    # Optional: Set user-agent to mimic a real browser\n",
    "    options.add_argument(\n",
    "        \"user-agent=Mozilla/5.0 (Windows NT 10.0; Win64; x64) \"\n",
    "        \"AppleWebKit/537.36 (KHTML, like Gecko) \"\n",
    "        \"Chrome/112.0.0.0 Safari/537.36\"\n",
    "    )\n",
    "\n",
    "    try:\n",
    "        # Initialize WebDriver with webdriver-manager\n",
    "        service = Service(ChromeDriverManager().install())\n",
    "        driver = webdriver.Chrome(service=service, options=options)\n",
    "        print(\"WebDriver initialized successfully.\")\n",
    "    except Exception as e:\n",
    "        print(f\"Error initializing WebDriver: {e}\")\n",
    "        return\n",
    "\n",
    "    try:\n",
    "        print(f\"Navigating to {url}\")\n",
    "        driver.get(url)\n",
    "        wait = WebDriverWait(driver, 10)\n",
    "\n",
    "        while True:\n",
    "            try:\n",
    "                print(\"Looking for the 'Show More' button...\")\n",
    "                # XPath selector to find the span with exact text \"Show More\"\n",
    "                show_more_xpath = '//span[text()=\"Show More\"]/parent::*'\n",
    "\n",
    "                # Wait until the 'Show More' button is present and clickable\n",
    "                show_more_button = wait.until(\n",
    "                    EC.element_to_be_clickable((By.XPATH, show_more_xpath))\n",
    "                )\n",
    "                if show_more_button:\n",
    "                    print(\"'Show More' button found. Scrolling into view...\")\n",
    "                    driver.execute_script(\"arguments[0].scrollIntoView({ behavior: 'smooth', block: 'center' });\", show_more_button)\n",
    "                    time.sleep(random.uniform(1, 2))  # Random sleep to mimic human behavior\n",
    "\n",
    "                    print(\"Clicking the 'Show More' button...\")\n",
    "                    show_more_button.click()\n",
    "                    print(\"Clicked 'Show More'. Waiting for new content to load...\")\n",
    "                    time.sleep(random.uniform(3, 6))  # Random sleep to allow content to load\n",
    "            except (NoSuchElementException, TimeoutException):\n",
    "                print(\"No more 'Show More' buttons found or an error occurred.\")\n",
    "                break\n",
    "            except ElementClickInterceptedException:\n",
    "                print(\"Click intercepted. Retrying after a short delay...\")\n",
    "                time.sleep(2)\n",
    "                continue\n",
    "            except StaleElementReferenceException:\n",
    "                print(\"Stale element reference. Retrying after a short delay...\")\n",
    "                time.sleep(2)\n",
    "                continue\n",
    "            except Exception as e:\n",
    "                print(f\"An unexpected error occurred while clicking 'Show More': {e}\")\n",
    "                break\n",
    "\n",
    "        # Get the page source after all events are loaded\n",
    "        print(\"Retrieving page source...\")\n",
    "        html = driver.page_source\n",
    "        soup = BeautifulSoup(html, 'html.parser')\n",
    "\n",
    "        # Extract event details and save to events.csv\n",
    "        print(\"Extracting event details...\")\n",
    "        extract_events(soup, output_path, url)\n",
    "\n",
    "    except Exception as e:\n",
    "        print(f\"An error occurred during scraping: {e}\")\n",
    "\n",
    "    finally:\n",
    "        print(\"Closing the WebDriver.\")\n",
    "        driver.quit()\n",
    "\n",
    "if __name__ == \"__main__\":\n",
    "    # URL of the webpage to scrape\n",
    "    url = 'https://pittsburgh.events/'  # Replace with your actual URL\n",
    "    output_path = './output/pittsburgh_events/'\n",
    "    scrape_website(url, output_path)\n"
   ]
  },
  {
   "cell_type": "markdown",
   "metadata": {},
   "source": [
    "#### Scrape all events, texts, urls and file "
   ]
  },
  {
   "cell_type": "code",
   "execution_count": 16,
   "metadata": {},
   "outputs": [
    {
     "name": "stdout",
     "output_type": "stream",
     "text": [
      "Created output directory at ./output/pittsburgh_events/\n",
      "WebDriver initialized successfully.\n",
      "Navigating to https://pittsburgh.events/\n",
      "Looking for the 'Show More' button...\n",
      "'Show More' button found. Scrolling into view...\n",
      "Clicking the 'Show More' button...\n",
      "Clicked 'Show More'. Waiting for new content to load...\n",
      "Looking for the 'Show More' button...\n",
      "'Show More' button found. Scrolling into view...\n",
      "Clicking the 'Show More' button...\n",
      "Clicked 'Show More'. Waiting for new content to load...\n",
      "Looking for the 'Show More' button...\n",
      "'Show More' button found. Scrolling into view...\n",
      "Clicking the 'Show More' button...\n",
      "Clicked 'Show More'. Waiting for new content to load...\n",
      "Looking for the 'Show More' button...\n",
      "'Show More' button found. Scrolling into view...\n",
      "Clicking the 'Show More' button...\n",
      "Clicked 'Show More'. Waiting for new content to load...\n",
      "Looking for the 'Show More' button...\n",
      "'Show More' button found. Scrolling into view...\n",
      "Clicking the 'Show More' button...\n",
      "Clicked 'Show More'. Waiting for new content to load...\n",
      "Looking for the 'Show More' button...\n",
      "'Show More' button found. Scrolling into view...\n",
      "Clicking the 'Show More' button...\n",
      "Clicked 'Show More'. Waiting for new content to load...\n",
      "Looking for the 'Show More' button...\n",
      "'Show More' button found. Scrolling into view...\n",
      "Clicking the 'Show More' button...\n",
      "Clicked 'Show More'. Waiting for new content to load...\n",
      "Looking for the 'Show More' button...\n",
      "'Show More' button found. Scrolling into view...\n",
      "Clicking the 'Show More' button...\n",
      "Clicked 'Show More'. Waiting for new content to load...\n",
      "Looking for the 'Show More' button...\n",
      "'Show More' button found. Scrolling into view...\n",
      "Clicking the 'Show More' button...\n",
      "Clicked 'Show More'. Waiting for new content to load...\n",
      "Looking for the 'Show More' button...\n",
      "'Show More' button found. Scrolling into view...\n",
      "Clicking the 'Show More' button...\n",
      "Clicked 'Show More'. Waiting for new content to load...\n",
      "Looking for the 'Show More' button...\n",
      "'Show More' button found. Scrolling into view...\n",
      "Clicking the 'Show More' button...\n",
      "Clicked 'Show More'. Waiting for new content to load...\n",
      "Looking for the 'Show More' button...\n",
      "'Show More' button found. Scrolling into view...\n",
      "Clicking the 'Show More' button...\n",
      "Clicked 'Show More'. Waiting for new content to load...\n",
      "Looking for the 'Show More' button...\n",
      "'Show More' button found. Scrolling into view...\n",
      "Clicking the 'Show More' button...\n",
      "Clicked 'Show More'. Waiting for new content to load...\n",
      "Looking for the 'Show More' button...\n",
      "'Show More' button found. Scrolling into view...\n",
      "Clicking the 'Show More' button...\n",
      "Clicked 'Show More'. Waiting for new content to load...\n",
      "Looking for the 'Show More' button...\n",
      "'Show More' button found. Scrolling into view...\n",
      "Clicking the 'Show More' button...\n",
      "Clicked 'Show More'. Waiting for new content to load...\n",
      "Looking for the 'Show More' button...\n",
      "'Show More' button found. Scrolling into view...\n",
      "Clicking the 'Show More' button...\n",
      "Clicked 'Show More'. Waiting for new content to load...\n",
      "Looking for the 'Show More' button...\n",
      "'Show More' button found. Scrolling into view...\n",
      "Clicking the 'Show More' button...\n",
      "Clicked 'Show More'. Waiting for new content to load...\n",
      "Looking for the 'Show More' button...\n",
      "'Show More' button found. Scrolling into view...\n",
      "Clicking the 'Show More' button...\n",
      "Clicked 'Show More'. Waiting for new content to load...\n",
      "Looking for the 'Show More' button...\n",
      "'Show More' button found. Scrolling into view...\n",
      "Clicking the 'Show More' button...\n",
      "Clicked 'Show More'. Waiting for new content to load...\n",
      "Looking for the 'Show More' button...\n",
      "'Show More' button found. Scrolling into view...\n",
      "Clicking the 'Show More' button...\n",
      "Clicked 'Show More'. Waiting for new content to load...\n",
      "Looking for the 'Show More' button...\n",
      "'Show More' button found. Scrolling into view...\n",
      "Clicking the 'Show More' button...\n",
      "Clicked 'Show More'. Waiting for new content to load...\n",
      "Looking for the 'Show More' button...\n",
      "'Show More' button found. Scrolling into view...\n",
      "Clicking the 'Show More' button...\n",
      "Clicked 'Show More'. Waiting for new content to load...\n",
      "Looking for the 'Show More' button...\n",
      "'Show More' button found. Scrolling into view...\n",
      "Clicking the 'Show More' button...\n",
      "Clicked 'Show More'. Waiting for new content to load...\n",
      "Looking for the 'Show More' button...\n",
      "'Show More' button found. Scrolling into view...\n",
      "Clicking the 'Show More' button...\n",
      "Clicked 'Show More'. Waiting for new content to load...\n",
      "Looking for the 'Show More' button...\n",
      "'Show More' button found. Scrolling into view...\n",
      "Clicking the 'Show More' button...\n",
      "Clicked 'Show More'. Waiting for new content to load...\n",
      "Looking for the 'Show More' button...\n",
      "'Show More' button found. Scrolling into view...\n",
      "Clicking the 'Show More' button...\n",
      "Clicked 'Show More'. Waiting for new content to load...\n",
      "Looking for the 'Show More' button...\n",
      "'Show More' button found. Scrolling into view...\n",
      "Clicking the 'Show More' button...\n",
      "Clicked 'Show More'. Waiting for new content to load...\n",
      "Looking for the 'Show More' button...\n",
      "'Show More' button found. Scrolling into view...\n",
      "Clicking the 'Show More' button...\n",
      "Clicked 'Show More'. Waiting for new content to load...\n",
      "Looking for the 'Show More' button...\n",
      "'Show More' button found. Scrolling into view...\n",
      "Clicking the 'Show More' button...\n",
      "Clicked 'Show More'. Waiting for new content to load...\n",
      "Looking for the 'Show More' button...\n",
      "No more 'Show More' buttons found or an error occurred.\n",
      "Retrieving page source...\n",
      "Extracting event details...\n",
      "Extracted 868 events and saved to ./output/pittsburgh_events/events.csv\n",
      "Extracting all links...\n",
      "Extracted 1318 links and saved to ./output/pittsburgh_events/url.txt\n",
      "Downloading PDF and DOC/DOCX files...\n",
      "Found 0 files to download.\n"
     ]
    },
    {
     "name": "stderr",
     "output_type": "stream",
     "text": [
      "/var/folders/jt/kpshpf8d1991jhtxl__hj8p00000gn/T/ipykernel_12451/3795299568.py:95: DeprecationWarning: The 'text' argument to find()-type methods is deprecated. Use 'string' instead.\n",
      "  ticket_link_tag = date_row.find('a', text='Tickets')\n",
      "Downloading files: 0it [00:00, ?it/s]\n",
      "/var/folders/jt/kpshpf8d1991jhtxl__hj8p00000gn/T/ipykernel_12451/3795299568.py:210: DeprecationWarning: The 'text' argument to find()-type methods is deprecated. Use 'string' instead.\n",
      "  for p_tag in soup.find_all(['p', 'div', 'span'], text=True):\n"
     ]
    },
    {
     "name": "stdout",
     "output_type": "stream",
     "text": [
      "Extracting all paragraphs...\n",
      "Extracted 5569 paragraphs and saved to ./output/pittsburgh_events/paragraphs.txt\n",
      "Closing the WebDriver.\n"
     ]
    }
   ],
   "source": [
    "import os\n",
    "import urllib.parse\n",
    "import csv\n",
    "import time\n",
    "import random\n",
    "import logging\n",
    "import requests\n",
    "from tqdm import tqdm\n",
    "from selenium import webdriver\n",
    "from selenium.webdriver.common.by import By\n",
    "from selenium.webdriver.chrome.options import Options\n",
    "from webdriver_manager.chrome import ChromeDriverManager\n",
    "from selenium.webdriver.chrome.service import Service\n",
    "from selenium.webdriver.support.ui import WebDriverWait\n",
    "from selenium.webdriver.support import expected_conditions as EC\n",
    "from selenium.common.exceptions import (\n",
    "    NoSuchElementException,\n",
    "    TimeoutException,\n",
    "    ElementClickInterceptedException,\n",
    "    StaleElementReferenceException,\n",
    ")\n",
    "from bs4 import BeautifulSoup\n",
    "\n",
    "# Configure logging\n",
    "logging.basicConfig(\n",
    "    filename='scraping.log',\n",
    "    level=logging.INFO,\n",
    "    format='%(asctime)s - %(levelname)s - %(message)s'\n",
    ")\n",
    "\n",
    "def extract_events(soup, output_path, url):\n",
    "    \"\"\"\n",
    "    Extracts event details (date, time, location) from the parsed HTML soup\n",
    "    and saves them into 'events.csv' in the output_path.\n",
    "\n",
    "    Args:\n",
    "        soup (BeautifulSoup): The parsed HTML content.\n",
    "        output_path (str): The directory where output files will be saved.\n",
    "        url (str): The base URL for resolving relative links.\n",
    "    \"\"\"\n",
    "    events = []\n",
    "\n",
    "    # Find the unordered list with class 'dates-list'\n",
    "    dates_list = soup.find('ul', class_='dates-list')\n",
    "\n",
    "    if not dates_list:\n",
    "        logging.warning(\"No events found in the HTML content.\")\n",
    "        print(\"No events found in the HTML content.\")\n",
    "        return\n",
    "\n",
    "    # Loop through each list item with class 'date-row'\n",
    "    for date_row in dates_list.find_all('li', class_='date-row'):\n",
    "        # Extract date information\n",
    "        date_div = date_row.find('div', class_='date')\n",
    "        if date_div:\n",
    "            month = date_div.find('div', class_='month').get_text(strip=True)\n",
    "            day = date_div.find('div', class_='day').get_text(strip=True)\n",
    "            year = date_div.find('div', class_='year').get_text(strip=True)\n",
    "            event_date = f\"{month} {day}, {year}\"\n",
    "        else:\n",
    "            event_date = 'N/A'\n",
    "\n",
    "        # Extract time information\n",
    "        time_div = date_row.find('div', class_='time')\n",
    "        if time_div:\n",
    "            # Assuming time is the first text node\n",
    "            time_text = time_div.contents[0].strip()\n",
    "        else:\n",
    "            time_text = 'N/A'\n",
    "\n",
    "        # Extract event name and venue\n",
    "        venue_div = date_row.find('div', class_='venue')\n",
    "        if venue_div:\n",
    "            # Event Name\n",
    "            event_name_div = venue_div.find('div')\n",
    "            event_name = event_name_div.get_text(strip=True) if event_name_div else 'N/A'\n",
    "\n",
    "            # Venue Name\n",
    "            venue_name_div = venue_div.find('div', class_='date-desc')\n",
    "            venue_name = venue_name_div.get_text(strip=True) if venue_name_div else 'N/A'\n",
    "\n",
    "            # Location\n",
    "            location_span = venue_div.find('span', class_='location')\n",
    "            location = location_span.get_text(strip=True) if location_span else 'N/A'\n",
    "        else:\n",
    "            event_name = 'N/A'\n",
    "            venue_name = 'N/A'\n",
    "            location = 'N/A'\n",
    "\n",
    "        # Extract price\n",
    "        price_div = date_row.find('div', class_='from-price')\n",
    "        price = price_div.get_text(strip=True) if price_div else 'N/A'\n",
    "\n",
    "        # Extract ticket link\n",
    "        ticket_link_tag = date_row.find('a', text='Tickets')\n",
    "        ticket_link = ticket_link_tag['href'] if ticket_link_tag else 'N/A'\n",
    "        if ticket_link != 'N/A':\n",
    "            ticket_link = urllib.parse.urljoin(url, ticket_link)\n",
    "\n",
    "        # Store the extracted data\n",
    "        event = {\n",
    "            'Date': event_date,\n",
    "            'Time': time_text,\n",
    "            'Event Name': event_name,\n",
    "            'Venue': venue_name,\n",
    "            'Location': location,\n",
    "            'Price': price,\n",
    "            'Ticket Link': ticket_link\n",
    "        }\n",
    "        events.append(event)\n",
    "\n",
    "    # Save events to a CSV file\n",
    "    if events:\n",
    "        events_file = os.path.join(output_path, 'events.csv')\n",
    "        keys = ['Date', 'Time', 'Event Name', 'Venue', 'Location', 'Price', 'Ticket Link']\n",
    "        with open(events_file, 'w', newline='', encoding='utf-8') as f:\n",
    "            dict_writer = csv.DictWriter(f, fieldnames=keys)\n",
    "            dict_writer.writeheader()\n",
    "            dict_writer.writerows(events)\n",
    "        logging.info(f\"Extracted {len(events)} events and saved to {events_file}\")\n",
    "        print(f\"Extracted {len(events)} events and saved to {events_file}\")\n",
    "    else:\n",
    "        logging.warning(\"No events were extracted.\")\n",
    "        print(\"No events were extracted.\")\n",
    "\n",
    "def scrape_links(soup, output_path):\n",
    "    \"\"\"\n",
    "    Extracts all hyperlinks from the parsed HTML soup and saves them to 'url.txt'.\n",
    "\n",
    "    Args:\n",
    "        soup (BeautifulSoup): The parsed HTML content.\n",
    "        output_path (str): The directory where output files will be saved.\n",
    "    \"\"\"\n",
    "    links = set()\n",
    "    for a_tag in soup.find_all('a', href=True):\n",
    "        href = a_tag['href']\n",
    "        # Resolve relative URLs\n",
    "        full_url = urllib.parse.urljoin('https://pittsburgh.events/', href)\n",
    "        links.add(full_url)\n",
    "\n",
    "    # Save links to url.txt\n",
    "    url_file = os.path.join(output_path, 'url.txt')\n",
    "    with open(url_file, 'w', encoding='utf-8') as f:\n",
    "        for link in sorted(links):\n",
    "            f.write(f\"{link}\\n\")\n",
    "    logging.info(f\"Extracted {len(links)} links and saved to {url_file}\")\n",
    "    print(f\"Extracted {len(links)} links and saved to {url_file}\")\n",
    "\n",
    "def download_files(soup, output_path):\n",
    "    \"\"\"\n",
    "    Downloads PDF and DOC/DOCX files linked in the parsed HTML soup.\n",
    "\n",
    "    Args:\n",
    "        soup (BeautifulSoup): The parsed HTML content.\n",
    "        output_path (str): The directory where output files will be saved.\n",
    "    \"\"\"\n",
    "    # Create downloaded_files directory\n",
    "    download_dir = os.path.join(output_path, 'downloaded_files')\n",
    "    os.makedirs(download_dir, exist_ok=True)\n",
    "\n",
    "    # Supported file extensions\n",
    "    supported_extensions = ['.pdf', '.doc', '.docx']\n",
    "\n",
    "    # Find all links with supported extensions\n",
    "    files = set()\n",
    "    for a_tag in soup.find_all('a', href=True):\n",
    "        href = a_tag['href']\n",
    "        parsed_href = urllib.parse.urlparse(href)\n",
    "        _, ext = os.path.splitext(parsed_href.path)\n",
    "        if ext.lower() in supported_extensions:\n",
    "            full_url = urllib.parse.urljoin('https://pittsburgh.events/', href)\n",
    "            files.add(full_url)\n",
    "\n",
    "    logging.info(f\"Found {len(files)} files to download.\")\n",
    "    print(f\"Found {len(files)} files to download.\")\n",
    "\n",
    "    for file_url in tqdm(files, desc=\"Downloading files\"):\n",
    "        try:\n",
    "            response = requests.get(file_url, stream=True, timeout=30)\n",
    "            response.raise_for_status()\n",
    "\n",
    "            # Extract the file name\n",
    "            filename = os.path.basename(urllib.parse.urlparse(file_url).path)\n",
    "            file_path = os.path.join(download_dir, filename)\n",
    "\n",
    "            # Avoid downloading the same file multiple times\n",
    "            if os.path.exists(file_path):\n",
    "                logging.info(f\"File already exists: {file_path}. Skipping download.\")\n",
    "                continue\n",
    "\n",
    "            # Write the file in chunks\n",
    "            with open(file_path, 'wb') as f:\n",
    "                for chunk in response.iter_content(chunk_size=8192):\n",
    "                    if chunk:\n",
    "                        f.write(chunk)\n",
    "            logging.info(f\"Downloaded file: {file_path}\")\n",
    "        except requests.exceptions.RequestException as e:\n",
    "            logging.error(f\"Failed to download {file_url}: {e}\")\n",
    "            print(f\"Failed to download {file_url}: {e}\")\n",
    "\n",
    "def extract_paragraphs(soup, output_path):\n",
    "    \"\"\"\n",
    "    Extracts all paragraph texts from the parsed HTML soup and saves them to 'paragraphs.txt'.\n",
    "\n",
    "    Args:\n",
    "        soup (BeautifulSoup): The parsed HTML content.\n",
    "        output_path (str): The directory where output files will be saved.\n",
    "    \"\"\"\n",
    "    paragraphs = []\n",
    "    for p_tag in soup.find_all(['p', 'div', 'span'], text=True):\n",
    "        text = p_tag.get_text(separator=' ', strip=True)\n",
    "        if text:\n",
    "            paragraphs.append(text)\n",
    "\n",
    "    # Save paragraphs to paragraphs.txt\n",
    "    paragraphs_file = os.path.join(output_path, 'paragraphs.txt')\n",
    "    with open(paragraphs_file, 'w', encoding='utf-8') as f:\n",
    "        for para in paragraphs:\n",
    "            f.write(f\"{para}\\n\")\n",
    "    logging.info(f\"Extracted {len(paragraphs)} paragraphs and saved to {paragraphs_file}\")\n",
    "    print(f\"Extracted {len(paragraphs)} paragraphs and saved to {paragraphs_file}\")\n",
    "\n",
    "def scrape_website(url, output_path):\n",
    "    \"\"\"\n",
    "    Given a URL and an output path, this function:\n",
    "    - Loads the webpage using Selenium and clicks 'Show More' until all events are loaded.\n",
    "    - Extracts event details and saves them into 'events.csv'.\n",
    "    - Extracts all links and saves them into 'url.txt'.\n",
    "    - Downloads PDF and DOC/DOCX files into 'downloaded_files'.\n",
    "    - Extracts all paragraph texts and saves them into 'paragraphs.txt'.\n",
    "\n",
    "    Args:\n",
    "        url (str): The URL of the webpage to scrape.\n",
    "        output_path (str): The directory where output files and folders will be saved.\n",
    "    \"\"\"\n",
    "    # Ensure the output directory exists\n",
    "    if not os.path.exists(output_path):\n",
    "        os.makedirs(output_path)\n",
    "        logging.info(f\"Created output directory at {output_path}\")\n",
    "        print(f\"Created output directory at {output_path}\")\n",
    "\n",
    "    # Set up Selenium WebDriver using webdriver-manager\n",
    "    options = Options()\n",
    "    options.headless = False  # Set to True for headless mode\n",
    "    # Optional: Set user-agent to mimic a real browser\n",
    "    options.add_argument(\n",
    "        \"user-agent=Mozilla/5.0 (Windows NT 10.0; Win64; x64) \"\n",
    "        \"AppleWebKit/537.36 (KHTML, like Gecko) \"\n",
    "        \"Chrome/112.0.0.0 Safari/537.36\"\n",
    "    )\n",
    "\n",
    "    try:\n",
    "        # Initialize WebDriver with webdriver-manager\n",
    "        service = Service(ChromeDriverManager().install())\n",
    "        driver = webdriver.Chrome(service=service, options=options)\n",
    "        logging.info(\"WebDriver initialized successfully.\")\n",
    "        print(\"WebDriver initialized successfully.\")\n",
    "    except Exception as e:\n",
    "        logging.error(f\"Error initializing WebDriver: {e}\")\n",
    "        print(f\"Error initializing WebDriver: {e}\")\n",
    "        return\n",
    "\n",
    "    try:\n",
    "        logging.info(f\"Navigating to {url}\")\n",
    "        print(f\"Navigating to {url}\")\n",
    "        driver.get(url)\n",
    "        wait = WebDriverWait(driver, 10)\n",
    "\n",
    "        while True:\n",
    "            try:\n",
    "                logging.info(\"Looking for the 'Show More' button...\")\n",
    "                print(\"Looking for the 'Show More' button...\")\n",
    "\n",
    "                # XPath selector to find the span with exact text \"Show More\" and its parent\n",
    "                show_more_xpath = '//span[text()=\"Show More\"]/parent::*'\n",
    "\n",
    "                # Wait until the 'Show More' button is present and clickable\n",
    "                show_more_button = wait.until(\n",
    "                    EC.element_to_be_clickable((By.XPATH, show_more_xpath))\n",
    "                )\n",
    "\n",
    "                if show_more_button:\n",
    "                    logging.info(\"'Show More' button found. Scrolling into view...\")\n",
    "                    print(\"'Show More' button found. Scrolling into view...\")\n",
    "                    driver.execute_script(\"arguments[0].scrollIntoView({ behavior: 'smooth', block: 'center' });\", show_more_button)\n",
    "                    time.sleep(random.uniform(1, 2))  # Random sleep to mimic human behavior\n",
    "\n",
    "                    logging.info(\"Clicking the 'Show More' button...\")\n",
    "                    print(\"Clicking the 'Show More' button...\")\n",
    "                    show_more_button.click()\n",
    "                    logging.info(\"Clicked 'Show More'. Waiting for new content to load...\")\n",
    "                    print(\"Clicked 'Show More'. Waiting for new content to load...\")\n",
    "                    time.sleep(random.uniform(3, 6))  # Random sleep to allow content to load\n",
    "            except (NoSuchElementException, TimeoutException):\n",
    "                logging.info(\"No more 'Show More' buttons found or an error occurred.\")\n",
    "                print(\"No more 'Show More' buttons found or an error occurred.\")\n",
    "                break\n",
    "            except ElementClickInterceptedException:\n",
    "                logging.warning(\"Click intercepted. Retrying after a short delay...\")\n",
    "                print(\"Click intercepted. Retrying after a short delay...\")\n",
    "                time.sleep(2)\n",
    "                continue\n",
    "            except StaleElementReferenceException:\n",
    "                logging.warning(\"Stale element reference. Retrying after a short delay...\")\n",
    "                print(\"Stale element reference. Retrying after a short delay...\")\n",
    "                time.sleep(2)\n",
    "                continue\n",
    "            except Exception as e:\n",
    "                logging.error(f\"An unexpected error occurred while clicking 'Show More': {e}\")\n",
    "                print(f\"An unexpected error occurred while clicking 'Show More': {e}\")\n",
    "                break\n",
    "\n",
    "        # Get the page source after all events are loaded\n",
    "        logging.info(\"Retrieving page source...\")\n",
    "        print(\"Retrieving page source...\")\n",
    "        html = driver.page_source\n",
    "        soup = BeautifulSoup(html, 'html.parser')\n",
    "\n",
    "        # Extract event details and save to events.csv\n",
    "        logging.info(\"Extracting event details...\")\n",
    "        print(\"Extracting event details...\")\n",
    "        extract_events(soup, output_path, url)\n",
    "\n",
    "        # Extract all links and save to url.txt\n",
    "        logging.info(\"Extracting all links...\")\n",
    "        print(\"Extracting all links...\")\n",
    "        scrape_links(soup, output_path)\n",
    "\n",
    "        # Download PDF and DOC/DOCX files\n",
    "        logging.info(\"Downloading PDF and DOC/DOCX files...\")\n",
    "        print(\"Downloading PDF and DOC/DOCX files...\")\n",
    "        download_files(soup, output_path)\n",
    "\n",
    "        # Extract all paragraphs and save to paragraphs.txt\n",
    "        logging.info(\"Extracting all paragraphs...\")\n",
    "        print(\"Extracting all paragraphs...\")\n",
    "        extract_paragraphs(soup, output_path)\n",
    "\n",
    "    except Exception as e:\n",
    "        logging.error(f\"An error occurred during scraping: {e}\")\n",
    "        print(f\"An error occurred during scraping: {e}\")\n",
    "\n",
    "    finally:\n",
    "        logging.info(\"Closing the WebDriver.\")\n",
    "        print(\"Closing the WebDriver.\")\n",
    "        driver.quit()\n",
    "\n",
    "if __name__ == \"__main__\":\n",
    "    # URL of the webpage to scrape\n",
    "    url = 'https://pittsburgh.events/'  # Replace with your actual URL\n",
    "    output_path = './output/pittsburgh_events/'\n",
    "    scrape_website(url, output_path)\n",
    "\n",
    "    # Read URLs from 'url.txt' and scrape each one\n",
    "    url_txt_path = os.path.join(output_path, 'url.txt')\n",
    "    if os.path.exists(url_txt_path):\n",
    "        logging.info(f\"Found URL file at {url_txt_path}. Starting to scrape child URLs.\")\n",
    "        print(f\"Found URL file at {url_txt_path}. Starting to scrape child URLs.\")\n",
    "        with open(url_txt_path, 'r') as file:\n",
    "            urls = file.readlines()\n",
    "            for url in tqdm(urls, desc=\"Scraping child URLs\"):\n",
    "                url = url.strip()\n",
    "                if not url:\n",
    "                    continue\n",
    "                title = url.split('//')[-1].replace('/', '_')\n",
    "                child_output_path = f'./output/downtown_events/children/{title}'\n",
    "                scrape_website(url, child_output_path)\n",
    "    else:\n",
    "        logging.warning(f\"URL file not found at {url_txt_path}\")\n",
    "        print(f\"URL file not found at {url_txt_path}\")\n"
   ]
  },
  {
   "cell_type": "markdown",
   "metadata": {},
   "source": [
    "# Downtown Pittsburgh Events"
   ]
  },
  {
   "cell_type": "code",
   "execution_count": 22,
   "metadata": {},
   "outputs": [
    {
     "name": "stdout",
     "output_type": "stream",
     "text": [
      "No events found in the HTML content.\n"
     ]
    }
   ],
   "source": [
    "\n",
    "import requests\n",
    "from bs4 import BeautifulSoup\n",
    "import os\n",
    "import urllib.parse\n",
    "import csv\n",
    "import json\n",
    "\n",
    "\n",
    "\n",
    "def extract_events_new_structure(soup, output_path):\n",
    "    \"\"\"\n",
    "    Extracts event details from the new HTML structure and saves them into 'events.csv'.\n",
    "    \n",
    "    Args:\n",
    "        soup (BeautifulSoup): The parsed HTML content.\n",
    "        output_path (str): The directory where output files will be saved.\n",
    "    \"\"\"\n",
    "    events = []\n",
    "    \n",
    "    # Find all divs with class 'eventitem'\n",
    "    event_items = soup.find_all('div', class_='eventitem')\n",
    "    \n",
    "    if not event_items:\n",
    "        print(\"No events found in the HTML content.\")\n",
    "        return\n",
    "    \n",
    "    for event_div in event_items:\n",
    "        # Event Name\n",
    "        event_name_tag = event_div.find('h1')\n",
    "        event_name = event_name_tag.get_text(strip=True) if event_name_tag else 'N/A'\n",
    "        \n",
    "        # Event URL\n",
    "        event_url_tag = event_name_tag.find('a') if event_name_tag else None\n",
    "        event_url = urllib.parse.urljoin(url, event_url_tag['href']) if event_url_tag else 'N/A'\n",
    "        \n",
    "        # Event Date and Time\n",
    "        event_date_div = event_div.find('div', class_='eventdate')\n",
    "        if event_date_div:\n",
    "            event_date_time = event_date_div.get_text(strip=True)\n",
    "            # Split date and time if possible\n",
    "            if '|' in event_date_time:\n",
    "                event_date, event_time = map(str.strip, event_date_time.split('|'))\n",
    "            else:\n",
    "                event_date = event_date_time.strip()\n",
    "                event_time = 'N/A'\n",
    "        else:\n",
    "            event_date = 'N/A'\n",
    "            event_time = 'N/A'\n",
    "        \n",
    "        # Event Description\n",
    "        description = event_div.get_text(strip=True)\n",
    "        if event_date_div:\n",
    "            # Remove date and time from description\n",
    "            description = description.split(event_date_div.get_text(strip=True))[-1].strip()\n",
    "        # Remove 'READ MORE' if present\n",
    "        description = description.replace('READ MORE', '').strip()\n",
    "        \n",
    "        # Categories\n",
    "        category_div = event_div.find('div', class_='category')\n",
    "        categories = [term.get_text(strip=True) for term in category_div.find_all('div', class_='term')] if category_div else []\n",
    "        categories_str = ', '.join(categories)\n",
    "        \n",
    "        # Location (from JSON-LD script)\n",
    "        script_tag = event_div.find_next_sibling('script', type='application/ld+json')\n",
    "        if script_tag:\n",
    "            json_data = json.loads(script_tag.string)\n",
    "            location_address = json_data.get('location', {}).get('address', 'N/A')\n",
    "        else:\n",
    "            location_address = 'N/A'\n",
    "        \n",
    "        # Store the extracted data\n",
    "        event = {\n",
    "            'Event Name': event_name,\n",
    "            'Event URL': event_url,\n",
    "            'Date': event_date,\n",
    "            'Time': event_time,\n",
    "            'Location': location_address,\n",
    "            'Categories': categories_str,\n",
    "            'Description': description\n",
    "        }\n",
    "        events.append(event)\n",
    "    \n",
    "    # Save events to a CSV file\n",
    "    if events:\n",
    "        events_file = os.path.join(output_path, 'events.csv')\n",
    "        keys = ['Event Name', 'Event URL', 'Date', 'Time', 'Location', 'Categories', 'Description']\n",
    "        with open(events_file, 'w', newline='', encoding='utf-8') as f:\n",
    "            dict_writer = csv.DictWriter(f, fieldnames=keys)\n",
    "            dict_writer.writeheader()\n",
    "            dict_writer.writerows(events)\n",
    "        print(f\"Extracted {len(events)} events and saved to {events_file}\")\n",
    "    else:\n",
    "        print(\"No events were extracted.\")\n",
    "\n",
    "\n",
    "def scrape_website(url, output_path):\n",
    "    # Ensure the output directory exists\n",
    "    if not os.path.exists(output_path):\n",
    "        os.makedirs(output_path)\n",
    "        \n",
    "    try:\n",
    "        # Fetch the webpage content\n",
    "        response = requests.get(url)\n",
    "        response.raise_for_status()  # Check for HTTP errors\n",
    "        \n",
    "        # Parse the HTML content using BeautifulSoup\n",
    "        soup = BeautifulSoup(response.content, 'html.parser')\n",
    "        \n",
    "        # Extract all paragraphs and save to paragraphs.txt\n",
    "        paragraphs = soup.find_all('p')\n",
    "        paragraphs_text = [para.get_text(strip=True) for para in paragraphs if para.get_text(strip=True)]\n",
    "        paragraphs_file = os.path.join(output_path, 'paragraphs.txt')\n",
    "        with open(paragraphs_file, 'w', encoding='utf-8') as f:\n",
    "            for para in paragraphs_text:\n",
    "                f.write(para + '\\n\\n')\n",
    "        # print(f\"Paragraphs saved to {paragraphs_file}\")\n",
    "        \n",
    "        # Extract all links and save to url.txt\n",
    "        links = []\n",
    "        for link in soup.find_all('a', href=True):\n",
    "            href = link['href']\n",
    "            full_url = urllib.parse.urljoin(url, href)\n",
    "            links.append(full_url)\n",
    "        links_file = os.path.join(output_path, 'url.txt')\n",
    "        with open(links_file, 'w', encoding='utf-8') as f:\n",
    "            for link in links:\n",
    "                f.write(link + '\\n')\n",
    "        # print(f\"Links saved to {links_file}\")\n",
    "        \n",
    "        # Find all PDF and DOCX links and download them\n",
    "        file_extensions = ('.pdf', '.docx')\n",
    "        file_links = [link for link in links if link.lower().endswith(file_extensions)]\n",
    "        if (len(file_links) > 0):\n",
    "            # Ensure the downloaded_files directory exists\n",
    "\n",
    "            downloads_folder = os.path.join(output_path, 'downloaded_files')\n",
    "            if not os.path.exists(downloads_folder):\n",
    "                os.makedirs(downloads_folder)\n",
    "        for file_link in file_links:\n",
    "            file_url = file_link\n",
    "            file_name = os.path.basename(urllib.parse.urlsplit(file_url).path)\n",
    "            file_path = os.path.join(downloads_folder, file_name)\n",
    "            # print(f\"Downloading {file_name}...\")\n",
    "            file_response = requests.get(file_url)\n",
    "            file_response.raise_for_status()\n",
    "            with open(file_path, 'wb') as f:\n",
    "                f.write(file_response.content)\n",
    "            # print(f\"Saved {file_name} to {downloads_folder}\")\n",
    "        # print(\"All PDFs and DOCX files have been downloaded.\")\n",
    "        \n",
    "        # Extract event details and save to events.csv\n",
    "        extract_events_new_structure(soup, output_path)\n",
    "        \n",
    "    except requests.exceptions.RequestException as e:\n",
    "        print(f\"An error occurred: {e}\")\n",
    "\n",
    "\n",
    "\n",
    "\n",
    "url = 'https://downtownpittsburgh.com/events/'\n",
    "url = 'https://downtownpittsburgh.com/events/?n=10&y=2024&cat=0'\n",
    "url = 'https://downtownpittsburgh.com/events/?n=11&y=2024&cat=0'\n",
    "url = 'https://downtownpittsburgh.com/events/?n=12&y=2024&cat=0'\n",
    "url = 'https://downtownpittsburgh.com/events/?n=1&y=2025&cat=0'\n",
    "url = 'https://downtownpittsburgh.com/events/?n=2&y=2025&cat=0'\n",
    "url = 'https://downtownpittsburgh.com/events/?n=3&y=2025&cat=0'\n",
    "url = 'https://downtownpittsburgh.com/events/?n=4&y=2025&cat=0'\n",
    "url = 'https://downtownpittsburgh.com/events/?n=5&y=2025&cat=0'\n",
    "url = 'https://downtownpittsburgh.com/events/?n=6&y=2025&cat=0'\n",
    "url = 'https://downtownpittsburgh.com/events/?n=7&y=2025&cat=0'\n",
    "url = 'https://downtownpittsburgh.com/events/?n=8&y=2025&cat=0'\n",
    "url = 'https://downtownpittsburgh.com/events/?n=9&y=2025&cat=0'\n",
    "url = 'https://downtownpittsburgh.com/events/?n=10&y=2025&cat=0'\n",
    "\n",
    "scrape_website(url, './output/downtown_events_feb/')\n",
    "\n",
    "# Read urls in a text file and scrape each one\n",
    "with open('./output/downtown_events_oct/url.txt', 'r') as file:\n",
    "    urls = file.readlines()\n",
    "    for url in tqdm(urls):\n",
    "        url = url.strip()\n",
    "        title = url.split('//')[-1].replace('/', '_')\n",
    "        scrape_website(url, f'./output/downtown_events_oct/children/{title}')\n"
   ]
  },
  {
   "cell_type": "markdown",
   "metadata": {},
   "source": [
    "# CMU events"
   ]
  },
  {
   "cell_type": "code",
   "execution_count": null,
   "metadata": {},
   "outputs": [],
   "source": [
    "\n",
    "import requests\n",
    "from bs4 import BeautifulSoup\n",
    "import os\n",
    "import urllib.parse\n",
    "import csv\n",
    "import json\n",
    "\n",
    "def fetch_cmu_events(start_date, timezone=\"America/New_York\", csv_filename=\"cmu_events.csv\"):\n",
    "    \"\"\"\n",
    "    Fetch events from the CMU Events Calendar and store them in a CSV file.\n",
    "    \n",
    "    Parameters:\n",
    "        start_date (str): The start date in YYYYMMDD format (e.g., '20241101').\n",
    "        timezone (str): The timezone for the events (default is 'America/New_York').\n",
    "        csv_filename (str): The filename to store the CSV data.\n",
    "    \"\"\"\n",
    "    # Base URL for fetching events\n",
    "    base_url = \"https://events.cmu.edu/live/calendar/view/month/date/\"\n",
    "    \n",
    "    # URL-encode the timezone to make it safe for the request\n",
    "    encoded_timezone = timezone.replace(\"/\", \"%2F\")\n",
    "    \n",
    "    # Define the request URL\n",
    "    url = (f\"{base_url}{start_date}?user_tz={encoded_timezone}&template_vars=id,time,title_link,summary,until,repeats,\"\n",
    "           \"is_multi_day,is_first_multi_day,multi_day_span,href,tag_classes,category_classes&syntax=\"\n",
    "           \"%3Cwidget%20type%3D%22events_calendar%22%3E%3Carg%20id%3D%22mini_cal_heat_map%22%3Etrue%3C%2Farg%3E\"\n",
    "           \"%3Carg%20id%3D%22thumb_width%22%3E200%3C%2Farg%3E%3Carg%20id%3D%22thumb_height%22%3E200%3C%2Farg%3E\"\n",
    "           \"%3Carg%20id%3D%22hide_repeats%22%3Efalse%3C%2Farg%3E%3Carg%20id%3D%22show_groups%22%3Etrue%3C%2Farg%3E\"\n",
    "           \"%3Carg%20id%3D%22show_locations%22%3Efalse%3C%2Farg%3E%3Carg%20id%3D%22show_tags%22%3Etrue%3C%2Farg%3E\"\n",
    "           \"%3Carg%20id%3D%22month_view_day_limit%22%3E2%3C%2Farg%3E\")\n",
    "    \n",
    "    # Optional: Add headers to simulate a browser request\n",
    "    headers = {\n",
    "        'User-Agent': 'Mozilla/5.0 (Windows NT 10.0; Win64; x64) AppleWebKit/537.36 (KHTML, like Gecko) Chrome/58.0.3029.110 Safari/537.36'\n",
    "    }\n",
    "    \n",
    "    try:\n",
    "        # Make the GET request to fetch the events\n",
    "        response = requests.get(url, headers=headers)\n",
    "        \n",
    "        # Check if the request was successful\n",
    "        if response.status_code == 200:\n",
    "            # Parse the JSON response\n",
    "            print(f\"response.json(): {response.json()}\")\n",
    "            event_data = response.json().get('days', [])\n",
    "            print(f'{event_data}')\n",
    "\n",
    "            # Check if we have any events to write\n",
    "            if event_data:\n",
    "                # Open CSV file for writing\n",
    "                with open(csv_filename, mode='w', newline='') as csv_file:\n",
    "                    writer = csv.writer(csv_file)\n",
    "                    \n",
    "                    # Write header row\n",
    "                    writer.writerow([\"Event ID\", \"Title\", \"Start Time\", \"End Time\", \"Location\", \"Summary\", \"Is Online\", \"Event URL\"])\n",
    "                    # Loop over the \"days\" list and extract events\n",
    "                    for day in event_data:\n",
    "                        events = day.get('events', [])\n",
    "                        for event in events:\n",
    "                            # Write each event's details to the CSV file\n",
    "                            writer.writerow([\n",
    "                                event.get(\"id\", \"\"),\n",
    "                                event.get(\"title\", \"\"),\n",
    "                                event.get(\"ts_start\", \"\"),\n",
    "                                event.get(\"ts_end\", \"\"),\n",
    "                                event.get(\"location\", \"\"),\n",
    "                                event.get(\"summary\", \"\"),\n",
    "                                event.get(\"is_online\", False),\n",
    "                                event.get(\"href\", \"\")\n",
    "                            ])\n",
    "                \n",
    "                return f\"Events successfully saved to {csv_filename}\"\n",
    "            else:\n",
    "                return \"No events found for the specified date.\"\n",
    "        else:\n",
    "            return f\"Failed to fetch events, status code: {response.status_code}\"\n",
    "    \n",
    "    except requests.exceptions.RequestException as e:\n",
    "        print(f\"An error occurred: {e}\")\n",
    "        return None\n",
    "\n",
    "def scrape_website(url, output_path):\n",
    "    # Ensure the output directory exists\n",
    "    if not os.path.exists(output_path):\n",
    "        os.makedirs(output_path)\n",
    "        \n",
    "    try:\n",
    "        # Fetch the webpage content\n",
    "        response = requests.get(url)\n",
    "        response.raise_for_status()  # Check for HTTP errors\n",
    "        \n",
    "        # Parse the HTML content using BeautifulSoup\n",
    "        soup = BeautifulSoup(response.content, 'html.parser')\n",
    "        \n",
    "        # Extract all paragraphs and save to paragraphs.txt\n",
    "        paragraphs = soup.find_all('p')\n",
    "        paragraphs_text = [para.get_text(strip=True) for para in paragraphs if para.get_text(strip=True)]\n",
    "        paragraphs_file = os.path.join(output_path, 'paragraphs.txt')\n",
    "        with open(paragraphs_file, 'w', encoding='utf-8') as f:\n",
    "            for para in paragraphs_text:\n",
    "                f.write(para + '\\n\\n')\n",
    "        # print(f\"Paragraphs saved to {paragraphs_file}\")\n",
    "        \n",
    "        # Extract all links and save to url.txt\n",
    "        links = []\n",
    "        for link in soup.find_all('a', href=True):\n",
    "            href = link['href']\n",
    "            full_url = urllib.parse.urljoin(url, href)\n",
    "            links.append(full_url)\n",
    "        links_file = os.path.join(output_path, 'url.txt')\n",
    "        with open(links_file, 'w', encoding='utf-8') as f:\n",
    "            for link in links:\n",
    "                f.write(link + '\\n')\n",
    "        # print(f\"Links saved to {links_file}\")\n",
    "        \n",
    "        # Find all PDF and DOCX links and download them\n",
    "        file_extensions = ('.pdf', '.docx')\n",
    "        file_links = [link for link in links if link.lower().endswith(file_extensions)]\n",
    "        if (len(file_links) > 0):\n",
    "            # Ensure the downloaded_files directory exists\n",
    "\n",
    "            downloads_folder = os.path.join(output_path, 'downloaded_files')\n",
    "            if not os.path.exists(downloads_folder):\n",
    "                os.makedirs(downloads_folder)\n",
    "        for file_link in file_links:\n",
    "            file_url = file_link\n",
    "            file_name = os.path.basename(urllib.parse.urlsplit(file_url).path)\n",
    "            file_path = os.path.join(downloads_folder, file_name)\n",
    "            # print(f\"Downloading {file_name}...\")\n",
    "            file_response = requests.get(file_url)\n",
    "            file_response.raise_for_status()\n",
    "            with open(file_path, 'wb') as f:\n",
    "                f.write(file_response.content)\n",
    "            # print(f\"Saved {file_name} to {downloads_folder}\")\n",
    "        # print(\"All PDFs and DOCX files have been downloaded.\")\n",
    "        \n",
    "        # Extract event details and save to events.csv\n",
    "        fetch_cmu_events('20241101', timezone=\"America/New_York\", csv_filename=os.path.join(output_path, 'cmu_events.csv'))\n",
    "\n",
    "        \n",
    "    except requests.exceptions.RequestException as e:\n",
    "        print(f\"An error occurred: {e}\")\n",
    "\n",
    "\n",
    "url = 'https://events.cmu.edu/month/date/20241101'\n",
    "scrape_website(url, './output/cmu_events_oct/')\n",
    "\n",
    "# Read urls in a text file and scrape each one\n",
    "with open('./output/downtown_events_oct/url.txt', 'r') as file:\n",
    "    urls = file.readlines()\n",
    "    for url in tqdm(urls):\n",
    "        url = url.strip()\n",
    "        title = url.split('//')[-1].replace('/', '_')\n",
    "        scrape_website(url, f'./output/downtown_events_oct/children/{title}')\n"
   ]
  },
  {
   "cell_type": "code",
   "execution_count": 4,
   "metadata": {},
   "outputs": [
    {
     "name": "stdout",
     "output_type": "stream",
     "text": [
      "Events have been successfully saved to ./output/cmu_events/cmu_events_aug.csv and URLs appended to ./output/cmu_events/events_url.txt\n"
     ]
    }
   ],
   "source": [
    "import json\n",
    "import csv\n",
    "from datetime import datetime, timedelta\n",
    "\n",
    "def extract_cmu_events(json_input_path, csv_output_path, url_output_path):\n",
    "    \"\"\"\n",
    "    Extract events from a CMU events JSON file, convert times and locations, and save them into a CSV file.\n",
    "    Also append event URLs to a URL text file.\n",
    "\n",
    "    :param json_input_path: Path to the JSON file containing the events data.\n",
    "    :param csv_output_path: Path to the CSV file where the extracted events will be saved.\n",
    "    :param url_output_path: Path to the text file where the event URLs will be appended.\n",
    "    \"\"\"\n",
    "    \n",
    "    # Function to convert Unix timestamp to a readable format in PDT (UTC-7 or UTC-8 depending on DST)\n",
    "    def convert_timestamp(ts, tz_offset):\n",
    "        utc_time = datetime.utcfromtimestamp(ts)\n",
    "        local_time = utc_time + timedelta(seconds=tz_offset)\n",
    "        return local_time.strftime('%Y-%m-%d %H:%M:%S')\n",
    "\n",
    "    # Load the JSON data from the input file\n",
    "    with open(json_input_path, 'r') as json_file:\n",
    "        data = json.load(json_file)\n",
    "\n",
    "    # Create a CSV file to store event information\n",
    "    with open(csv_output_path, 'w', newline='') as csv_file, open(url_output_path, 'a') as url_file:\n",
    "        writer = csv.writer(csv_file)\n",
    "        \n",
    "        # Write the header row\n",
    "        writer.writerow([\"Event ID\", \"Title\", \"Start Time\", \"End Time\", \"Time Zone\", \"Summary\", \"Categories\", \"Audience\", \"Event URL\"])\n",
    "        \n",
    "        # Loop through each day's events\n",
    "        for day in data.get('days', []):\n",
    "            for event in day.get('events', []):\n",
    "                # Extract event information\n",
    "                event_id = event.get('id', '')\n",
    "                title = event.get('title', '')\n",
    "                \n",
    "                # Convert Unix timestamps to human-readable time in PDT\n",
    "                start_time = convert_timestamp(event.get('ts_start', 0), event.get('tz_offset', 0))\n",
    "                end_time = convert_timestamp(event.get('ts_end', 0), event.get('tz_offset', 0))\n",
    "                \n",
    "                timezone = event.get('tz_abbrv', 'PDT')  # Default to PDT if not available\n",
    "                summary = event.get('summary', '')\n",
    "                categories = \", \".join(event.get('categories', []))\n",
    "                audience = \", \".join(event.get('categories_audience', []))\n",
    "                event_url = f\"https://events.cmu.edu/{event.get('href', '')}\"\n",
    "\n",
    "                # Write the event information into the CSV file\n",
    "                writer.writerow([event_id, title, start_time, end_time, timezone, summary, categories, audience, event_url])\n",
    "\n",
    "                # Append the event URL to the URL text file\n",
    "                url_file.write(f\"{event_url}\\n\")\n",
    "\n",
    "    print(f\"Events have been successfully saved to {csv_output_path} and URLs appended to {url_output_path}\")\n",
    "\n",
    "\n",
    "\n",
    "# Example usage:\n",
    "json_input_path = './output/cmu_events/cmu_events_oct.json'\n",
    "csv_output_path = './output/cmu_events/cmu_events_oct.csv'\n",
    "url_output_path = './output/cmu_events/events_url.txt'\n",
    "\n",
    "\n",
    "json_input_path = './output/cmu_events/cmu_events_nov.json'  # Replace with your JSON file path\n",
    "csv_output_path = './output/cmu_events/cmu_events_nov.csv'       # Replace with your desired CSV output file path\n",
    "url_output_path = './output/cmu_events/events_url.txt'              # Replace with your desired URL text file path\n",
    "\n",
    "\n",
    "json_input_path = './output/cmu_events/cmu_events_dec.json'\n",
    "csv_output_path = './output/cmu_events/cmu_events_dec.csv'\n",
    "url_output_path = './output/cmu_events/events_url.txt'\n",
    "\n",
    "json_input_path = './output/cmu_events/cmu_events_jan.json'\n",
    "csv_output_path = './output/cmu_events/cmu_events_jan.csv'\n",
    "url_output_path = './output/cmu_events/events_url.txt'\n",
    "\n",
    "json_input_path = './output/cmu_events/cmu_events_feb.json'\n",
    "csv_output_path = './output/cmu_events/cmu_events_feb.csv'\n",
    "url_output_path = './output/cmu_events/events_url.txt'\n",
    "\n",
    "json_input_path = './output/cmu_events/cmu_events_mar.json'\n",
    "csv_output_path = './output/cmu_events/cmu_events_mar.csv'\n",
    "url_output_path = './output/cmu_events/events_url.txt'\n",
    "\n",
    "json_input_path = './output/cmu_events/cmu_events_apr.json'\n",
    "csv_output_path = './output/cmu_events/cmu_events_apr.csv'\n",
    "url_output_path = './output/cmu_events/events_url.txt'\n",
    "\n",
    "json_input_path = './output/cmu_events/cmu_events_may.json'\n",
    "csv_output_path = './output/cmu_events/cmu_events_may.csv'\n",
    "url_output_path = './output/cmu_events/events_url.txt'\n",
    "\n",
    "json_input_path = './output/cmu_events/cmu_events_jun.json'\n",
    "csv_output_path = './output/cmu_events/cmu_events_jun.csv'\n",
    "url_output_path = './output/cmu_events/events_url.txt'\n",
    "\n",
    "json_input_path = './output/cmu_events/cmu_events_jul.json'\n",
    "csv_output_path = './output/cmu_events/cmu_events_jul.csv'\n",
    "url_output_path = './output/cmu_events/events_url.txt'\n",
    "\n",
    "json_input_path = './output/cmu_events/cmu_events_aug.json'\n",
    "csv_output_path = './output/cmu_events/cmu_events_aug.csv'\n",
    "url_output_path = './output/cmu_events/events_url.txt'\n",
    "# Call the function\n",
    "extract_cmu_events(json_input_path, csv_output_path, url_output_path)\n"
   ]
  },
  {
   "cell_type": "code",
   "execution_count": 14,
   "metadata": {},
   "outputs": [
    {
     "name": "stdout",
     "output_type": "stream",
     "text": [
      "Events have been successfully saved to ./output/cmu_events/cmu_events_oct.csv and URLs appended to ./output/cmu_events/events_url.txt\n"
     ]
    }
   ],
   "source": [
    "import json\n",
    "import csv\n",
    "from datetime import datetime, timedelta\n",
    "\n",
    "def extract_cmu_events(json_input_path, csv_output_path, url_output_path):\n",
    "    \"\"\"\n",
    "    Extract events from a CMU events JSON file, convert times and locations, and save them into a CSV file.\n",
    "    Also append event URLs to a URL text file.\n",
    "\n",
    "    :param json_input_path: Path to the JSON file containing the events data.\n",
    "    :param csv_output_path: Path to the CSV file where the extracted events will be saved.\n",
    "    :param url_output_path: Path to the text file where the event URLs will be appended.\n",
    "    \"\"\"\n",
    "    \n",
    "    # Function to convert Unix timestamp to a readable format in PDT (UTC-7 or UTC-8 depending on DST)\n",
    "    def convert_timestamp(ts, tz_offset):\n",
    "        if ts > 0:  # Ensure timestamp is valid\n",
    "            utc_time = datetime.utcfromtimestamp(ts)\n",
    "            local_time = utc_time + timedelta(seconds=tz_offset)\n",
    "            return local_time.strftime('%Y-%m-%d %H:%M:%S')\n",
    "        else:\n",
    "            return 'N/A'  # Return 'N/A' if timestamp is invalid\n",
    "\n",
    "    # Load the JSON data from the input file\n",
    "    with open(json_input_path, 'r') as json_file:\n",
    "        data = json.load(json_file)\n",
    "\n",
    "    # Create a CSV file to store event information\n",
    "    with open(csv_output_path, 'w', newline='') as csv_file, open(url_output_path, 'a') as url_file:\n",
    "        writer = csv.writer(csv_file)\n",
    "        \n",
    "        # Write the header row\n",
    "        writer.writerow([\"Event ID\", \"Title\", \"Start Time\", \"End Time\", \"Time Zone\", \"Summary\", \"Categories\", \"Audience\", \"Event URL\"])\n",
    "        \n",
    "        # Loop through each day's events\n",
    "        for day in data.get('days', []):\n",
    "            for event in day.get('events', []):\n",
    "                # Extract event information\n",
    "                event_id = event.get('id', '')\n",
    "                title = event.get('title', '')\n",
    "                \n",
    "                # Convert Unix timestamps to human-readable time in PDT\n",
    "                start_time = convert_timestamp(event.get('ts_start', 0), event.get('tz_offset', 0))\n",
    "                end_time = convert_timestamp(event.get('ts_end', 0), event.get('tz_offset', 0))\n",
    "                \n",
    "                timezone = event.get('tz_abbrv', 'EDT')  # Default to PDT if not available\n",
    "                summary = event.get('summary', '')\n",
    "                categories = \", \".join(event.get('categories', []))\n",
    "                audience = \", \".join(event.get('categories_audience', []))\n",
    "                event_url = f\"https://events.cmu.edu/{event.get('href', '')}\"\n",
    "\n",
    "                # Write the event information into the CSV file\n",
    "                writer.writerow([event_id, title, start_time, end_time, timezone, summary, categories, audience, event_url])\n",
    "\n",
    "                # Append the event URL to the URL text file\n",
    "                url_file.write(f\"{event_url}\\n\")\n",
    "\n",
    "    print(f\"Events have been successfully saved to {csv_output_path} and URLs appended to {url_output_path}\")\n",
    "\n",
    "\n",
    "# # Example usage:\n",
    "json_input_path = './output/cmu_events/cmu_events_oct.json'\n",
    "csv_output_path = './output/cmu_events/cmu_events_oct.csv'\n",
    "url_output_path = './output/cmu_events/events_url.txt'\n",
    "\n",
    "\n",
    "json_input_path = './output/cmu_events/cmu_events_nov.json'  # Replace with your JSON file path\n",
    "csv_output_path = './output/cmu_events/cmu_events_nov.csv'       # Replace with your desired CSV output file path\n",
    "url_output_path = './output/cmu_events/events_url.txt'              # Replace with your desired URL text file path\n",
    "\n",
    "json_input_path = './output/cmu_events/cmu_events_dec.json'\n",
    "csv_output_path = './output/cmu_events/cmu_events_dec.csv'\n",
    "url_output_path = './output/cmu_events/events_url.txt'\n",
    "\n",
    "json_input_path = './output/cmu_events/cmu_events_jan.json'\n",
    "csv_output_path = './output/cmu_events/cmu_events_jan.csv'\n",
    "url_output_path = './output/cmu_events/events_url.txt'\n",
    "\n",
    "json_input_path = './output/cmu_events/cmu_events_feb.json'\n",
    "csv_output_path = './output/cmu_events/cmu_events_feb.csv'\n",
    "url_output_path = './output/cmu_events/events_url.txt'\n",
    "\n",
    "json_input_path = './output/cmu_events/cmu_events_mar.json'\n",
    "csv_output_path = './output/cmu_events/cmu_events_mar.csv'\n",
    "url_output_path = './output/cmu_events/events_url.txt'\n",
    "\n",
    "json_input_path = './output/cmu_events/cmu_events_apr.json'\n",
    "csv_output_path = './output/cmu_events/cmu_events_apr.csv'\n",
    "url_output_path = './output/cmu_events/events_url.txt'\n",
    "\n",
    "json_input_path = './output/cmu_events/cmu_events_may.json'\n",
    "csv_output_path = './output/cmu_events/cmu_events_may.csv'\n",
    "url_output_path = './output/cmu_events/events_url.txt'\n",
    "\n",
    "json_input_path = './output/cmu_events/cmu_events_jun.json'\n",
    "csv_output_path = './output/cmu_events/cmu_events_jun.csv'\n",
    "url_output_path = './output/cmu_events/events_url.txt'\n",
    "\n",
    "json_input_path = './output/cmu_events/cmu_events_jul.json'\n",
    "csv_output_path = './output/cmu_events/cmu_events_jul.csv'\n",
    "url_output_path = './output/cmu_events/events_url.txt'\n",
    "\n",
    "json_input_path = './output/cmu_events/cmu_events_aug.json'\n",
    "csv_output_path = './output/cmu_events/cmu_events_aug.csv'\n",
    "url_output_path = './output/cmu_events/events_url.txt'\n",
    "# Call the function\n",
    "extract_cmu_events(json_input_path, csv_output_path, url_output_path)"
   ]
  },
  {
   "cell_type": "code",
   "execution_count": 65,
   "metadata": {},
   "outputs": [
    {
     "name": "stderr",
     "output_type": "stream",
     "text": [
      "  0%|          | 1/585 [00:00<03:12,  3.04it/s]"
     ]
    },
    {
     "name": "stdout",
     "output_type": "stream",
     "text": [
      "Event details saved to ./output/cmu_events/children/events.cmu.edu_event_11977-womens-volleyball-case-western-reserve-vs-carnegie/event_details.txt\n",
      "Links saved to ./output/cmu_events/children/events.cmu.edu_event_11977-womens-volleyball-case-western-reserve-vs-carnegie/url.txt\n"
     ]
    },
    {
     "name": "stderr",
     "output_type": "stream",
     "text": [
      "  1%|          | 3/585 [00:00<02:18,  4.20it/s]"
     ]
    },
    {
     "name": "stdout",
     "output_type": "stream",
     "text": [
      "Event details saved to ./output/cmu_events/children/events.cmu.edu_event_12531-halloween-trick-or-treat-with-tartan-football/event_details.txt\n",
      "Links saved to ./output/cmu_events/children/events.cmu.edu_event_12531-halloween-trick-or-treat-with-tartan-football/url.txt\n",
      "Event details saved to ./output/cmu_events/children/events.cmu.edu_event_9777-provosts-office-hours/event_details.txt\n",
      "Links saved to ./output/cmu_events/children/events.cmu.edu_event_9777-provosts-office-hours/url.txt\n"
     ]
    },
    {
     "name": "stderr",
     "output_type": "stream",
     "text": [
      "  1%|          | 5/585 [00:01<02:12,  4.37it/s]"
     ]
    },
    {
     "name": "stdout",
     "output_type": "stream",
     "text": [
      "Event details saved to ./output/cmu_events/children/events.cmu.edu_event_8431-17th-international-exhibition-of-botanical-art-amp/event_details.txt\n",
      "Links saved to ./output/cmu_events/children/events.cmu.edu_event_8431-17th-international-exhibition-of-botanical-art-amp/url.txt\n",
      "Event details saved to ./output/cmu_events/children/events.cmu.edu_event_8432-17th-international-exhibition-of-botanical-art-amp/event_details.txt\n",
      "Links saved to ./output/cmu_events/children/events.cmu.edu_event_8432-17th-international-exhibition-of-botanical-art-amp/url.txt\n"
     ]
    },
    {
     "name": "stderr",
     "output_type": "stream",
     "text": [
      "  1%|          | 7/585 [00:01<02:08,  4.49it/s]"
     ]
    },
    {
     "name": "stdout",
     "output_type": "stream",
     "text": [
      "Event details saved to ./output/cmu_events/children/events.cmu.edu_event_10222-cleaning-untidy-data-with-openrefine/event_details.txt\n",
      "Links saved to ./output/cmu_events/children/events.cmu.edu_event_10222-cleaning-untidy-data-with-openrefine/url.txt\n",
      "Event details saved to ./output/cmu_events/children/events.cmu.edu_event_10224-data-visualization-in-r-shiny/event_details.txt\n",
      "Links saved to ./output/cmu_events/children/events.cmu.edu_event_10224-data-visualization-in-r-shiny/url.txt\n"
     ]
    },
    {
     "name": "stderr",
     "output_type": "stream",
     "text": [
      "  1%|▏         | 8/585 [00:01<01:57,  4.91it/s]"
     ]
    },
    {
     "name": "stdout",
     "output_type": "stream",
     "text": [
      "Event details saved to ./output/cmu_events/children/events.cmu.edu_event_8433-17th-international-exhibition-of-botanical-art-amp/event_details.txt\n",
      "Links saved to ./output/cmu_events/children/events.cmu.edu_event_8433-17th-international-exhibition-of-botanical-art-amp/url.txt\n"
     ]
    },
    {
     "name": "stderr",
     "output_type": "stream",
     "text": [
      "  2%|▏         | 9/585 [00:02<02:06,  4.56it/s]"
     ]
    },
    {
     "name": "stdout",
     "output_type": "stream",
     "text": [
      "Event details saved to ./output/cmu_events/children/events.cmu.edu_event_9893-national-disability-employment-awareness-month/event_details.txt\n",
      "Links saved to ./output/cmu_events/children/events.cmu.edu_event_9893-national-disability-employment-awareness-month/url.txt\n"
     ]
    },
    {
     "name": "stderr",
     "output_type": "stream",
     "text": [
      "  2%|▏         | 11/585 [00:02<02:06,  4.55it/s]"
     ]
    },
    {
     "name": "stdout",
     "output_type": "stream",
     "text": [
      "Event details saved to ./output/cmu_events/children/events.cmu.edu_event_8434-17th-international-exhibition-of-botanical-art-amp/event_details.txt\n",
      "Links saved to ./output/cmu_events/children/events.cmu.edu_event_8434-17th-international-exhibition-of-botanical-art-amp/url.txt\n",
      "Event details saved to ./output/cmu_events/children/events.cmu.edu_event_8435-17th-international-exhibition-of-botanical-art-amp/event_details.txt\n",
      "Links saved to ./output/cmu_events/children/events.cmu.edu_event_8435-17th-international-exhibition-of-botanical-art-amp/url.txt\n"
     ]
    },
    {
     "name": "stderr",
     "output_type": "stream",
     "text": [
      "  2%|▏         | 12/585 [00:02<01:55,  4.97it/s]"
     ]
    },
    {
     "name": "stdout",
     "output_type": "stream",
     "text": [
      "Event details saved to ./output/cmu_events/children/events.cmu.edu_event_10121-cmu-pantry-hours/event_details.txt\n",
      "Links saved to ./output/cmu_events/children/events.cmu.edu_event_10121-cmu-pantry-hours/url.txt\n"
     ]
    },
    {
     "name": "stderr",
     "output_type": "stream",
     "text": [
      "  2%|▏         | 13/585 [00:03<02:07,  4.49it/s]"
     ]
    },
    {
     "name": "stdout",
     "output_type": "stream",
     "text": [
      "Event details saved to ./output/cmu_events/children/events.cmu.edu_event_12297-homecoming-weekend-2024/event_details.txt\n",
      "Links saved to ./output/cmu_events/children/events.cmu.edu_event_12297-homecoming-weekend-2024/url.txt\n"
     ]
    },
    {
     "name": "stderr",
     "output_type": "stream",
     "text": [
      "  3%|▎         | 15/585 [00:03<01:59,  4.75it/s]"
     ]
    },
    {
     "name": "stdout",
     "output_type": "stream",
     "text": [
      "Event details saved to ./output/cmu_events/children/events.cmu.edu_event_10139-cmu-pantry-hours/event_details.txt\n",
      "Links saved to ./output/cmu_events/children/events.cmu.edu_event_10139-cmu-pantry-hours/url.txt\n",
      "Event details saved to ./output/cmu_events/children/events.cmu.edu_event_11966-womens-soccer-new-york-u-vs-carnegie-mellon/event_details.txt\n",
      "Links saved to ./output/cmu_events/children/events.cmu.edu_event_11966-womens-soccer-new-york-u-vs-carnegie-mellon/url.txt\n"
     ]
    },
    {
     "name": "stderr",
     "output_type": "stream",
     "text": [
      "  3%|▎         | 17/585 [00:03<01:46,  5.34it/s]"
     ]
    },
    {
     "name": "stdout",
     "output_type": "stream",
     "text": [
      "Event details saved to ./output/cmu_events/children/events.cmu.edu_event_11965-mens-soccer-new-york-u-vs-carnegie-mellon/event_details.txt\n",
      "Links saved to ./output/cmu_events/children/events.cmu.edu_event_11965-mens-soccer-new-york-u-vs-carnegie-mellon/url.txt\n",
      "Event details saved to ./output/cmu_events/children/events.cmu.edu_event_8436-17th-international-exhibition-of-botanical-art-amp/event_details.txt\n",
      "Links saved to ./output/cmu_events/children/events.cmu.edu_event_8436-17th-international-exhibition-of-botanical-art-amp/url.txt\n"
     ]
    },
    {
     "name": "stderr",
     "output_type": "stream",
     "text": [
      "  3%|▎         | 18/585 [00:03<01:44,  5.45it/s]"
     ]
    },
    {
     "name": "stdout",
     "output_type": "stream",
     "text": [
      "Event details saved to ./output/cmu_events/children/events.cmu.edu_event_12482-donuts-democracy/event_details.txt\n",
      "Links saved to ./output/cmu_events/children/events.cmu.edu_event_12482-donuts-democracy/url.txt\n"
     ]
    },
    {
     "name": "stderr",
     "output_type": "stream",
     "text": [
      "  3%|▎         | 20/585 [00:04<01:47,  5.28it/s]"
     ]
    },
    {
     "name": "stdout",
     "output_type": "stream",
     "text": [
      "Event details saved to ./output/cmu_events/children/events.cmu.edu_event_8437-17th-international-exhibition-of-botanical-art-amp/event_details.txt\n",
      "Links saved to ./output/cmu_events/children/events.cmu.edu_event_8437-17th-international-exhibition-of-botanical-art-amp/url.txt\n",
      "Event details saved to ./output/cmu_events/children/events.cmu.edu_event_10065-cmu-pantry-hours/event_details.txt\n",
      "Links saved to ./output/cmu_events/children/events.cmu.edu_event_10065-cmu-pantry-hours/url.txt\n"
     ]
    },
    {
     "name": "stderr",
     "output_type": "stream",
     "text": [
      "  4%|▎         | 21/585 [00:04<01:46,  5.30it/s]"
     ]
    },
    {
     "name": "stdout",
     "output_type": "stream",
     "text": [
      "Event details saved to ./output/cmu_events/children/events.cmu.edu_event_12484-your-vote-your-future-exhibition/event_details.txt\n",
      "Links saved to ./output/cmu_events/children/events.cmu.edu_event_12484-your-vote-your-future-exhibition/url.txt\n"
     ]
    },
    {
     "name": "stderr",
     "output_type": "stream",
     "text": [
      "  4%|▍         | 22/585 [00:04<01:57,  4.79it/s]"
     ]
    },
    {
     "name": "stdout",
     "output_type": "stream",
     "text": [
      "Event details saved to ./output/cmu_events/children/events.cmu.edu_event_8438-17th-international-exhibition-of-botanical-art-amp/event_details.txt\n",
      "Links saved to ./output/cmu_events/children/events.cmu.edu_event_8438-17th-international-exhibition-of-botanical-art-amp/url.txt\n"
     ]
    },
    {
     "name": "stderr",
     "output_type": "stream",
     "text": [
      "  4%|▍         | 23/585 [00:05<02:02,  4.58it/s]"
     ]
    },
    {
     "name": "stdout",
     "output_type": "stream",
     "text": [
      "Event details saved to ./output/cmu_events/children/events.cmu.edu_event_8439-17th-international-exhibition-of-botanical-art-amp/event_details.txt\n",
      "Links saved to ./output/cmu_events/children/events.cmu.edu_event_8439-17th-international-exhibition-of-botanical-art-amp/url.txt\n"
     ]
    },
    {
     "name": "stderr",
     "output_type": "stream",
     "text": [
      "  4%|▍         | 25/585 [00:05<02:10,  4.30it/s]"
     ]
    },
    {
     "name": "stdout",
     "output_type": "stream",
     "text": [
      "Event details saved to ./output/cmu_events/children/events.cmu.edu_event_10172-swartz-center-for-entrepreneurship-connects-seminar-se/event_details.txt\n",
      "Links saved to ./output/cmu_events/children/events.cmu.edu_event_10172-swartz-center-for-entrepreneurship-connects-seminar-se/url.txt\n",
      "Event details saved to ./output/cmu_events/children/events.cmu.edu_event_9484-spark-conversations-spark-change-a-humanities-and/event_details.txt\n",
      "Links saved to ./output/cmu_events/children/events.cmu.edu_event_9484-spark-conversations-spark-change-a-humanities-and/url.txt\n"
     ]
    },
    {
     "name": "stderr",
     "output_type": "stream",
     "text": [
      "  4%|▍         | 26/585 [00:05<02:13,  4.18it/s]"
     ]
    },
    {
     "name": "stdout",
     "output_type": "stream",
     "text": [
      "Event details saved to ./output/cmu_events/children/events.cmu.edu_event_8440-17th-international-exhibition-of-botanical-art-amp/event_details.txt\n",
      "Links saved to ./output/cmu_events/children/events.cmu.edu_event_8440-17th-international-exhibition-of-botanical-art-amp/url.txt\n"
     ]
    },
    {
     "name": "stderr",
     "output_type": "stream",
     "text": [
      "  5%|▍         | 27/585 [00:06<02:19,  3.99it/s]"
     ]
    },
    {
     "name": "stdout",
     "output_type": "stream",
     "text": [
      "Event details saved to ./output/cmu_events/children/events.cmu.edu_event_10140-cmu-pantry-hours/event_details.txt\n",
      "Links saved to ./output/cmu_events/children/events.cmu.edu_event_10140-cmu-pantry-hours/url.txt\n"
     ]
    },
    {
     "name": "stderr",
     "output_type": "stream",
     "text": [
      "  5%|▍         | 28/585 [00:06<02:26,  3.80it/s]"
     ]
    },
    {
     "name": "stdout",
     "output_type": "stream",
     "text": [
      "Event details saved to ./output/cmu_events/children/events.cmu.edu_event_11960-womens-volleyball-grove-city-vs-carnegie-mellon/event_details.txt\n",
      "Links saved to ./output/cmu_events/children/events.cmu.edu_event_11960-womens-volleyball-grove-city-vs-carnegie-mellon/url.txt\n"
     ]
    },
    {
     "name": "stderr",
     "output_type": "stream",
     "text": [
      "  5%|▍         | 29/585 [00:06<02:32,  3.65it/s]"
     ]
    },
    {
     "name": "stdout",
     "output_type": "stream",
     "text": [
      "Event details saved to ./output/cmu_events/children/events.cmu.edu_event_7307-here-to-stay-celebrating-40-years-at-the/event_details.txt\n",
      "Links saved to ./output/cmu_events/children/events.cmu.edu_event_7307-here-to-stay-celebrating-40-years-at-the/url.txt\n"
     ]
    },
    {
     "name": "stderr",
     "output_type": "stream",
     "text": [
      "  5%|▌         | 30/585 [00:06<02:29,  3.71it/s]"
     ]
    },
    {
     "name": "stdout",
     "output_type": "stream",
     "text": [
      "Event details saved to ./output/cmu_events/children/events.cmu.edu_event_10974-like-totally-transformative-cmu-in-the-1980s/event_details.txt\n",
      "Links saved to ./output/cmu_events/children/events.cmu.edu_event_10974-like-totally-transformative-cmu-in-the-1980s/url.txt\n"
     ]
    },
    {
     "name": "stderr",
     "output_type": "stream",
     "text": [
      "  5%|▌         | 31/585 [00:07<02:28,  3.74it/s]"
     ]
    },
    {
     "name": "stdout",
     "output_type": "stream",
     "text": [
      "Event details saved to ./output/cmu_events/children/events.cmu.edu_event_8441-17th-international-exhibition-of-botanical-art-amp/event_details.txt\n",
      "Links saved to ./output/cmu_events/children/events.cmu.edu_event_8441-17th-international-exhibition-of-botanical-art-amp/url.txt\n"
     ]
    },
    {
     "name": "stderr",
     "output_type": "stream",
     "text": [
      "  6%|▌         | 33/585 [00:07<02:11,  4.18it/s]"
     ]
    },
    {
     "name": "stdout",
     "output_type": "stream",
     "text": [
      "Event details saved to ./output/cmu_events/children/events.cmu.edu_event_12542-cee-bake-sale/event_details.txt\n",
      "Links saved to ./output/cmu_events/children/events.cmu.edu_event_12542-cee-bake-sale/url.txt\n",
      "Event details saved to ./output/cmu_events/children/events.cmu.edu_event_8442-17th-international-exhibition-of-botanical-art-amp/event_details.txt\n",
      "Links saved to ./output/cmu_events/children/events.cmu.edu_event_8442-17th-international-exhibition-of-botanical-art-amp/url.txt\n"
     ]
    },
    {
     "name": "stderr",
     "output_type": "stream",
     "text": [
      "  6%|▌         | 34/585 [00:07<01:59,  4.59it/s]"
     ]
    },
    {
     "name": "stdout",
     "output_type": "stream",
     "text": [
      "Event details saved to ./output/cmu_events/children/events.cmu.edu_event_10066-cmu-pantry-hours/event_details.txt\n",
      "Links saved to ./output/cmu_events/children/events.cmu.edu_event_10066-cmu-pantry-hours/url.txt\n"
     ]
    },
    {
     "name": "stderr",
     "output_type": "stream",
     "text": [
      "  6%|▌         | 35/585 [00:08<02:11,  4.17it/s]"
     ]
    },
    {
     "name": "stdout",
     "output_type": "stream",
     "text": [
      "Event details saved to ./output/cmu_events/children/events.cmu.edu_event_10230-data-for-citizen-science-and-developing-community/event_details.txt\n",
      "Links saved to ./output/cmu_events/children/events.cmu.edu_event_10230-data-for-citizen-science-and-developing-community/url.txt\n"
     ]
    },
    {
     "name": "stderr",
     "output_type": "stream",
     "text": [
      "  6%|▌         | 36/585 [00:08<02:16,  4.02it/s]"
     ]
    },
    {
     "name": "stdout",
     "output_type": "stream",
     "text": [
      "Event details saved to ./output/cmu_events/children/events.cmu.edu_event_8443-17th-international-exhibition-of-botanical-art-amp/event_details.txt\n",
      "Links saved to ./output/cmu_events/children/events.cmu.edu_event_8443-17th-international-exhibition-of-botanical-art-amp/url.txt\n"
     ]
    },
    {
     "name": "stderr",
     "output_type": "stream",
     "text": [
      "  6%|▋         | 37/585 [00:08<02:24,  3.80it/s]"
     ]
    },
    {
     "name": "stdout",
     "output_type": "stream",
     "text": [
      "Event details saved to ./output/cmu_events/children/events.cmu.edu_event_8444-17th-international-exhibition-of-botanical-art-amp/event_details.txt\n",
      "Links saved to ./output/cmu_events/children/events.cmu.edu_event_8444-17th-international-exhibition-of-botanical-art-amp/url.txt\n"
     ]
    },
    {
     "name": "stderr",
     "output_type": "stream",
     "text": [
      "  6%|▋         | 38/585 [00:08<02:28,  3.69it/s]"
     ]
    },
    {
     "name": "stdout",
     "output_type": "stream",
     "text": [
      "Event details saved to ./output/cmu_events/children/events.cmu.edu_event_10104-cmu-pantry-hours/event_details.txt\n",
      "Links saved to ./output/cmu_events/children/events.cmu.edu_event_10104-cmu-pantry-hours/url.txt\n"
     ]
    },
    {
     "name": "stderr",
     "output_type": "stream",
     "text": [
      "  7%|▋         | 39/585 [00:09<02:21,  3.85it/s]"
     ]
    },
    {
     "name": "stdout",
     "output_type": "stream",
     "text": [
      "Event details saved to ./output/cmu_events/children/events.cmu.edu_event_8445-17th-international-exhibition-of-botanical-art-amp/event_details.txt\n",
      "Links saved to ./output/cmu_events/children/events.cmu.edu_event_8445-17th-international-exhibition-of-botanical-art-amp/url.txt\n"
     ]
    },
    {
     "name": "stderr",
     "output_type": "stream",
     "text": [
      "  7%|▋         | 40/585 [00:09<02:12,  4.11it/s]"
     ]
    },
    {
     "name": "stdout",
     "output_type": "stream",
     "text": [
      "Event details saved to ./output/cmu_events/children/events.cmu.edu_event_10123-cmu-pantry-hours/event_details.txt\n",
      "Links saved to ./output/cmu_events/children/events.cmu.edu_event_10123-cmu-pantry-hours/url.txt\n"
     ]
    },
    {
     "name": "stderr",
     "output_type": "stream",
     "text": [
      "  7%|▋         | 42/585 [00:09<02:03,  4.41it/s]"
     ]
    },
    {
     "name": "stdout",
     "output_type": "stream",
     "text": [
      "Event details saved to ./output/cmu_events/children/events.cmu.edu_event_10141-cmu-pantry-hours/event_details.txt\n",
      "Links saved to ./output/cmu_events/children/events.cmu.edu_event_10141-cmu-pantry-hours/url.txt\n",
      "Event details saved to ./output/cmu_events/children/events.cmu.edu_event_11948-womens-basketball-muskingum-vs-carnegie-mellon/event_details.txt\n",
      "Links saved to ./output/cmu_events/children/events.cmu.edu_event_11948-womens-basketball-muskingum-vs-carnegie-mellon/url.txt\n"
     ]
    },
    {
     "name": "stderr",
     "output_type": "stream",
     "text": [
      "  7%|▋         | 43/585 [00:09<01:56,  4.66it/s]"
     ]
    },
    {
     "name": "stdout",
     "output_type": "stream",
     "text": [
      "An error occurred: 404 Client Error: Not Found for url: https://events.cmu.edu/https://events.time.ly/vdibqnd/43900779\n"
     ]
    },
    {
     "name": "stderr",
     "output_type": "stream",
     "text": [
      "  8%|▊         | 44/585 [00:10<02:07,  4.25it/s]"
     ]
    },
    {
     "name": "stdout",
     "output_type": "stream",
     "text": [
      "Event details saved to ./output/cmu_events/children/events.cmu.edu_event_7307-here-to-stay-celebrating-40-years-at-the/event_details.txt\n",
      "Links saved to ./output/cmu_events/children/events.cmu.edu_event_7307-here-to-stay-celebrating-40-years-at-the/url.txt\n"
     ]
    },
    {
     "name": "stderr",
     "output_type": "stream",
     "text": [
      "  8%|▊         | 45/585 [00:10<02:17,  3.92it/s]"
     ]
    },
    {
     "name": "stdout",
     "output_type": "stream",
     "text": [
      "Event details saved to ./output/cmu_events/children/events.cmu.edu_event_8446-17th-international-exhibition-of-botanical-art-amp/event_details.txt\n",
      "Links saved to ./output/cmu_events/children/events.cmu.edu_event_8446-17th-international-exhibition-of-botanical-art-amp/url.txt\n"
     ]
    },
    {
     "name": "stderr",
     "output_type": "stream",
     "text": [
      "  8%|▊         | 46/585 [00:10<02:09,  4.16it/s]"
     ]
    },
    {
     "name": "stdout",
     "output_type": "stream",
     "text": [
      "Event details saved to ./output/cmu_events/children/events.cmu.edu_event_10233-analyzing-scholarly-literature-using-bibliometrics/event_details.txt\n",
      "Links saved to ./output/cmu_events/children/events.cmu.edu_event_10233-analyzing-scholarly-literature-using-bibliometrics/url.txt\n"
     ]
    },
    {
     "name": "stderr",
     "output_type": "stream",
     "text": [
      "  8%|▊         | 48/585 [00:11<02:00,  4.46it/s]"
     ]
    },
    {
     "name": "stdout",
     "output_type": "stream",
     "text": [
      "Event details saved to ./output/cmu_events/children/events.cmu.edu_event_8447-17th-international-exhibition-of-botanical-art-amp/event_details.txt\n",
      "Links saved to ./output/cmu_events/children/events.cmu.edu_event_8447-17th-international-exhibition-of-botanical-art-amp/url.txt\n",
      "Event details saved to ./output/cmu_events/children/events.cmu.edu_event_10067-cmu-pantry-hours/event_details.txt\n",
      "Links saved to ./output/cmu_events/children/events.cmu.edu_event_10067-cmu-pantry-hours/url.txt\n"
     ]
    },
    {
     "name": "stderr",
     "output_type": "stream",
     "text": [
      "  8%|▊         | 49/585 [00:11<02:10,  4.12it/s]"
     ]
    },
    {
     "name": "stdout",
     "output_type": "stream",
     "text": [
      "Event details saved to ./output/cmu_events/children/events.cmu.edu_event_8448-17th-international-exhibition-of-botanical-art-amp/event_details.txt\n",
      "Links saved to ./output/cmu_events/children/events.cmu.edu_event_8448-17th-international-exhibition-of-botanical-art-amp/url.txt\n"
     ]
    },
    {
     "name": "stderr",
     "output_type": "stream",
     "text": [
      "  9%|▊         | 50/585 [00:11<02:17,  3.88it/s]"
     ]
    },
    {
     "name": "stdout",
     "output_type": "stream",
     "text": [
      "Event details saved to ./output/cmu_events/children/events.cmu.edu_event_10249-tips-for-writing-literature-reviews-part-2/event_details.txt\n",
      "Links saved to ./output/cmu_events/children/events.cmu.edu_event_10249-tips-for-writing-literature-reviews-part-2/url.txt\n"
     ]
    },
    {
     "name": "stderr",
     "output_type": "stream",
     "text": [
      "  9%|▊         | 51/585 [00:12<02:27,  3.63it/s]"
     ]
    },
    {
     "name": "stdout",
     "output_type": "stream",
     "text": [
      "Event details saved to ./output/cmu_events/children/events.cmu.edu_event_8449-17th-international-exhibition-of-botanical-art-amp/event_details.txt\n",
      "Links saved to ./output/cmu_events/children/events.cmu.edu_event_8449-17th-international-exhibition-of-botanical-art-amp/url.txt\n"
     ]
    },
    {
     "name": "stderr",
     "output_type": "stream",
     "text": [
      "  9%|▉         | 52/585 [00:12<02:25,  3.66it/s]"
     ]
    },
    {
     "name": "stdout",
     "output_type": "stream",
     "text": [
      "Event details saved to ./output/cmu_events/children/events.cmu.edu_event_10105-cmu-pantry-hours/event_details.txt\n",
      "Links saved to ./output/cmu_events/children/events.cmu.edu_event_10105-cmu-pantry-hours/url.txt\n"
     ]
    },
    {
     "name": "stderr",
     "output_type": "stream",
     "text": [
      "  9%|▉         | 53/585 [00:12<02:20,  3.78it/s]"
     ]
    },
    {
     "name": "stdout",
     "output_type": "stream",
     "text": [
      "Event details saved to ./output/cmu_events/children/events.cmu.edu_event_8450-17th-international-exhibition-of-botanical-art-amp/event_details.txt\n",
      "Links saved to ./output/cmu_events/children/events.cmu.edu_event_8450-17th-international-exhibition-of-botanical-art-amp/url.txt\n"
     ]
    },
    {
     "name": "stderr",
     "output_type": "stream",
     "text": [
      "  9%|▉         | 54/585 [00:12<02:16,  3.89it/s]"
     ]
    },
    {
     "name": "stdout",
     "output_type": "stream",
     "text": [
      "Event details saved to ./output/cmu_events/children/events.cmu.edu_event_10124-cmu-pantry-hours/event_details.txt\n",
      "Links saved to ./output/cmu_events/children/events.cmu.edu_event_10124-cmu-pantry-hours/url.txt\n"
     ]
    },
    {
     "name": "stderr",
     "output_type": "stream",
     "text": [
      "  9%|▉         | 55/585 [00:13<02:15,  3.91it/s]"
     ]
    },
    {
     "name": "stdout",
     "output_type": "stream",
     "text": [
      "Event details saved to ./output/cmu_events/children/events.cmu.edu_event_12415-spring-2025-registration-week/event_details.txt\n",
      "Links saved to ./output/cmu_events/children/events.cmu.edu_event_12415-spring-2025-registration-week/url.txt\n"
     ]
    },
    {
     "name": "stderr",
     "output_type": "stream",
     "text": [
      " 10%|▉         | 57/585 [00:13<02:04,  4.25it/s]"
     ]
    },
    {
     "name": "stdout",
     "output_type": "stream",
     "text": [
      "Event details saved to ./output/cmu_events/children/events.cmu.edu_event_10142-cmu-pantry-hours/event_details.txt\n",
      "Links saved to ./output/cmu_events/children/events.cmu.edu_event_10142-cmu-pantry-hours/url.txt\n",
      "Event details saved to ./output/cmu_events/children/events.cmu.edu_event_7307-here-to-stay-celebrating-40-years-at-the/event_details.txt\n",
      "Links saved to ./output/cmu_events/children/events.cmu.edu_event_7307-here-to-stay-celebrating-40-years-at-the/url.txt\n"
     ]
    },
    {
     "name": "stderr",
     "output_type": "stream",
     "text": [
      " 10%|▉         | 58/585 [00:13<01:56,  4.51it/s]"
     ]
    },
    {
     "name": "stdout",
     "output_type": "stream",
     "text": [
      "Event details saved to ./output/cmu_events/children/events.cmu.edu_event_10974-like-totally-transformative-cmu-in-the-1980s/event_details.txt\n",
      "Links saved to ./output/cmu_events/children/events.cmu.edu_event_10974-like-totally-transformative-cmu-in-the-1980s/url.txt\n"
     ]
    },
    {
     "name": "stderr",
     "output_type": "stream",
     "text": [
      " 10%|█         | 59/585 [00:14<01:59,  4.39it/s]"
     ]
    },
    {
     "name": "stdout",
     "output_type": "stream",
     "text": [
      "Event details saved to ./output/cmu_events/children/events.cmu.edu_event_8451-17th-international-exhibition-of-botanical-art-amp/event_details.txt\n",
      "Links saved to ./output/cmu_events/children/events.cmu.edu_event_8451-17th-international-exhibition-of-botanical-art-amp/url.txt\n"
     ]
    },
    {
     "name": "stderr",
     "output_type": "stream",
     "text": [
      " 10%|█         | 60/585 [00:14<02:03,  4.24it/s]"
     ]
    },
    {
     "name": "stdout",
     "output_type": "stream",
     "text": [
      "Event details saved to ./output/cmu_events/children/events.cmu.edu_event_10049-cmu-pantry-hours/event_details.txt\n",
      "Links saved to ./output/cmu_events/children/events.cmu.edu_event_10049-cmu-pantry-hours/url.txt\n"
     ]
    },
    {
     "name": "stderr",
     "output_type": "stream",
     "text": [
      " 10%|█         | 61/585 [00:14<02:09,  4.04it/s]"
     ]
    },
    {
     "name": "stdout",
     "output_type": "stream",
     "text": [
      "Event details saved to ./output/cmu_events/children/events.cmu.edu_event_8452-17th-international-exhibition-of-botanical-art-amp/event_details.txt\n",
      "Links saved to ./output/cmu_events/children/events.cmu.edu_event_8452-17th-international-exhibition-of-botanical-art-amp/url.txt\n"
     ]
    },
    {
     "name": "stderr",
     "output_type": "stream",
     "text": [
      " 11%|█         | 62/585 [00:14<02:19,  3.76it/s]"
     ]
    },
    {
     "name": "stdout",
     "output_type": "stream",
     "text": [
      "Event details saved to ./output/cmu_events/children/events.cmu.edu_event_10068-cmu-pantry-hours/event_details.txt\n",
      "Links saved to ./output/cmu_events/children/events.cmu.edu_event_10068-cmu-pantry-hours/url.txt\n"
     ]
    },
    {
     "name": "stderr",
     "output_type": "stream",
     "text": [
      " 11%|█         | 63/585 [00:15<02:19,  3.75it/s]"
     ]
    },
    {
     "name": "stdout",
     "output_type": "stream",
     "text": [
      "Event details saved to ./output/cmu_events/children/events.cmu.edu_event_10974-like-totally-transformative-cmu-in-the-1980s/event_details.txt\n",
      "Links saved to ./output/cmu_events/children/events.cmu.edu_event_10974-like-totally-transformative-cmu-in-the-1980s/url.txt\n"
     ]
    },
    {
     "name": "stderr",
     "output_type": "stream",
     "text": [
      " 11%|█         | 64/585 [00:15<02:16,  3.82it/s]"
     ]
    },
    {
     "name": "stdout",
     "output_type": "stream",
     "text": [
      "Event details saved to ./output/cmu_events/children/events.cmu.edu_event_8453-17th-international-exhibition-of-botanical-art-amp/event_details.txt\n",
      "Links saved to ./output/cmu_events/children/events.cmu.edu_event_8453-17th-international-exhibition-of-botanical-art-amp/url.txt\n"
     ]
    },
    {
     "name": "stderr",
     "output_type": "stream",
     "text": [
      " 11%|█▏        | 66/585 [00:15<02:01,  4.26it/s]"
     ]
    },
    {
     "name": "stdout",
     "output_type": "stream",
     "text": [
      "Event details saved to ./output/cmu_events/children/events.cmu.edu_event_10106-cmu-pantry-hours/event_details.txt\n",
      "Links saved to ./output/cmu_events/children/events.cmu.edu_event_10106-cmu-pantry-hours/url.txt\n",
      "Event details saved to ./output/cmu_events/children/events.cmu.edu_event_7307-here-to-stay-celebrating-40-years-at-the/event_details.txt\n",
      "Links saved to ./output/cmu_events/children/events.cmu.edu_event_7307-here-to-stay-celebrating-40-years-at-the/url.txt\n"
     ]
    },
    {
     "name": "stderr",
     "output_type": "stream",
     "text": [
      " 11%|█▏        | 67/585 [00:16<02:05,  4.13it/s]"
     ]
    },
    {
     "name": "stdout",
     "output_type": "stream",
     "text": [
      "Event details saved to ./output/cmu_events/children/events.cmu.edu_event_10125-cmu-pantry-hours/event_details.txt\n",
      "Links saved to ./output/cmu_events/children/events.cmu.edu_event_10125-cmu-pantry-hours/url.txt\n"
     ]
    },
    {
     "name": "stderr",
     "output_type": "stream",
     "text": [
      " 12%|█▏        | 68/585 [00:16<02:05,  4.11it/s]"
     ]
    },
    {
     "name": "stdout",
     "output_type": "stream",
     "text": [
      "Event details saved to ./output/cmu_events/children/events.cmu.edu_event_10878-black-womens-support-group/event_details.txt\n",
      "Links saved to ./output/cmu_events/children/events.cmu.edu_event_10878-black-womens-support-group/url.txt\n"
     ]
    },
    {
     "name": "stderr",
     "output_type": "stream",
     "text": [
      " 12%|█▏        | 69/585 [00:16<02:04,  4.13it/s]"
     ]
    },
    {
     "name": "stdout",
     "output_type": "stream",
     "text": [
      "Event details saved to ./output/cmu_events/children/events.cmu.edu_event_9919-native-american-heritage-month/event_details.txt\n",
      "Links saved to ./output/cmu_events/children/events.cmu.edu_event_9919-native-american-heritage-month/url.txt\n"
     ]
    },
    {
     "name": "stderr",
     "output_type": "stream",
     "text": [
      " 12%|█▏        | 70/585 [00:17<04:20,  1.97it/s]"
     ]
    },
    {
     "name": "stdout",
     "output_type": "stream",
     "text": [
      "Event details saved to ./output/cmu_events/children/events.cmu.edu_event_12412-thanksgiving-break-no-classes/event_details.txt\n",
      "Links saved to ./output/cmu_events/children/events.cmu.edu_event_12412-thanksgiving-break-no-classes/url.txt\n"
     ]
    },
    {
     "name": "stderr",
     "output_type": "stream",
     "text": [
      " 12%|█▏        | 71/585 [00:18<05:37,  1.52it/s]"
     ]
    },
    {
     "name": "stdout",
     "output_type": "stream",
     "text": [
      "Event details saved to ./output/cmu_events/children/events.cmu.edu_event_12031-womens-volleyball-brandeis-vs-carnegie-mellon/event_details.txt\n",
      "Links saved to ./output/cmu_events/children/events.cmu.edu_event_12031-womens-volleyball-brandeis-vs-carnegie-mellon/url.txt\n"
     ]
    },
    {
     "name": "stderr",
     "output_type": "stream",
     "text": [
      " 12%|█▏        | 72/585 [00:18<04:29,  1.91it/s]"
     ]
    },
    {
     "name": "stdout",
     "output_type": "stream",
     "text": [
      "An error occurred: 404 Client Error: Not Found for url: https://events.cmu.edu/https://events.time.ly/vdibqnd/43900767\n"
     ]
    },
    {
     "name": "stderr",
     "output_type": "stream",
     "text": [
      " 12%|█▏        | 73/585 [00:19<03:50,  2.22it/s]"
     ]
    },
    {
     "name": "stdout",
     "output_type": "stream",
     "text": [
      "Event details saved to ./output/cmu_events/children/events.cmu.edu_event_8411-17th-international-exhibition-of-botanical-art-amp/event_details.txt\n",
      "Links saved to ./output/cmu_events/children/events.cmu.edu_event_8411-17th-international-exhibition-of-botanical-art-amp/url.txt\n"
     ]
    },
    {
     "name": "stderr",
     "output_type": "stream",
     "text": [
      " 13%|█▎        | 74/585 [00:19<03:17,  2.59it/s]"
     ]
    },
    {
     "name": "stdout",
     "output_type": "stream",
     "text": [
      "Event details saved to ./output/cmu_events/children/events.cmu.edu_event_12111-celebrate-international-translation-day/event_details.txt\n",
      "Links saved to ./output/cmu_events/children/events.cmu.edu_event_12111-celebrate-international-translation-day/url.txt\n"
     ]
    },
    {
     "name": "stderr",
     "output_type": "stream",
     "text": [
      " 13%|█▎        | 75/585 [00:19<03:01,  2.81it/s]"
     ]
    },
    {
     "name": "stdout",
     "output_type": "stream",
     "text": [
      "Event details saved to ./output/cmu_events/children/events.cmu.edu_event_8412-17th-international-exhibition-of-botanical-art-amp/event_details.txt\n",
      "Links saved to ./output/cmu_events/children/events.cmu.edu_event_8412-17th-international-exhibition-of-botanical-art-amp/url.txt\n"
     ]
    },
    {
     "name": "stderr",
     "output_type": "stream",
     "text": [
      " 13%|█▎        | 76/585 [00:19<02:45,  3.08it/s]"
     ]
    },
    {
     "name": "stdout",
     "output_type": "stream",
     "text": [
      "Event details saved to ./output/cmu_events/children/events.cmu.edu_event_10160-swartz-center-for-entrepreneurship-connects-seminar-se/event_details.txt\n",
      "Links saved to ./output/cmu_events/children/events.cmu.edu_event_10160-swartz-center-for-entrepreneurship-connects-seminar-se/url.txt\n"
     ]
    },
    {
     "name": "stderr",
     "output_type": "stream",
     "text": [
      " 13%|█▎        | 77/585 [00:20<02:33,  3.30it/s]"
     ]
    },
    {
     "name": "stdout",
     "output_type": "stream",
     "text": [
      "Event details saved to ./output/cmu_events/children/events.cmu.edu_event_10208-introduction-to-tableau/event_details.txt\n",
      "Links saved to ./output/cmu_events/children/events.cmu.edu_event_10208-introduction-to-tableau/url.txt\n"
     ]
    },
    {
     "name": "stderr",
     "output_type": "stream",
     "text": [
      " 13%|█▎        | 78/585 [00:20<02:28,  3.41it/s]"
     ]
    },
    {
     "name": "stdout",
     "output_type": "stream",
     "text": [
      "Event details saved to ./output/cmu_events/children/events.cmu.edu_event_12131-creating-a-neuroaffirming-classroom-from-week-one/event_details.txt\n",
      "Links saved to ./output/cmu_events/children/events.cmu.edu_event_12131-creating-a-neuroaffirming-classroom-from-week-one/url.txt\n"
     ]
    },
    {
     "name": "stderr",
     "output_type": "stream",
     "text": [
      " 14%|█▎        | 79/585 [00:20<02:22,  3.55it/s]"
     ]
    },
    {
     "name": "stdout",
     "output_type": "stream",
     "text": [
      "Event details saved to ./output/cmu_events/children/events.cmu.edu_event_8414-17th-international-exhibition-of-botanical-art-amp/event_details.txt\n",
      "Links saved to ./output/cmu_events/children/events.cmu.edu_event_8414-17th-international-exhibition-of-botanical-art-amp/url.txt\n"
     ]
    },
    {
     "name": "stderr",
     "output_type": "stream",
     "text": [
      " 14%|█▎        | 80/585 [00:20<02:14,  3.75it/s]"
     ]
    },
    {
     "name": "stdout",
     "output_type": "stream",
     "text": [
      "Event details saved to ./output/cmu_events/children/events.cmu.edu_event_10098-cmu-pantry-hours/event_details.txt\n",
      "Links saved to ./output/cmu_events/children/events.cmu.edu_event_10098-cmu-pantry-hours/url.txt\n"
     ]
    },
    {
     "name": "stderr",
     "output_type": "stream",
     "text": [
      " 14%|█▍        | 81/585 [00:21<02:17,  3.67it/s]"
     ]
    },
    {
     "name": "stdout",
     "output_type": "stream",
     "text": [
      "Event details saved to ./output/cmu_events/children/events.cmu.edu_event_9894-rosh-hashanah/event_details.txt\n",
      "Links saved to ./output/cmu_events/children/events.cmu.edu_event_9894-rosh-hashanah/url.txt\n"
     ]
    },
    {
     "name": "stderr",
     "output_type": "stream",
     "text": [
      " 14%|█▍        | 82/585 [00:21<02:12,  3.81it/s]"
     ]
    },
    {
     "name": "stdout",
     "output_type": "stream",
     "text": [
      "Event details saved to ./output/cmu_events/children/events.cmu.edu_event_8415-17th-international-exhibition-of-botanical-art-amp/event_details.txt\n",
      "Links saved to ./output/cmu_events/children/events.cmu.edu_event_8415-17th-international-exhibition-of-botanical-art-amp/url.txt\n"
     ]
    },
    {
     "name": "stderr",
     "output_type": "stream",
     "text": [
      " 14%|█▍        | 83/585 [00:21<02:09,  3.87it/s]"
     ]
    },
    {
     "name": "stdout",
     "output_type": "stream",
     "text": [
      "Event details saved to ./output/cmu_events/children/events.cmu.edu_event_10135-cmu-pantry-hours/event_details.txt\n",
      "Links saved to ./output/cmu_events/children/events.cmu.edu_event_10135-cmu-pantry-hours/url.txt\n"
     ]
    },
    {
     "name": "stderr",
     "output_type": "stream",
     "text": [
      " 14%|█▍        | 84/585 [00:21<02:08,  3.91it/s]"
     ]
    },
    {
     "name": "stdout",
     "output_type": "stream",
     "text": [
      "Event details saved to ./output/cmu_events/children/events.cmu.edu_event_12022-womens-soccer-brandeis-vs-carnegie-mellon/event_details.txt\n",
      "Links saved to ./output/cmu_events/children/events.cmu.edu_event_12022-womens-soccer-brandeis-vs-carnegie-mellon/url.txt\n"
     ]
    },
    {
     "name": "stderr",
     "output_type": "stream",
     "text": [
      " 15%|█▍        | 85/585 [00:22<02:05,  3.98it/s]"
     ]
    },
    {
     "name": "stdout",
     "output_type": "stream",
     "text": [
      "Event details saved to ./output/cmu_events/children/events.cmu.edu_event_12293-gandhi-community-celebration-2024/event_details.txt\n",
      "Links saved to ./output/cmu_events/children/events.cmu.edu_event_12293-gandhi-community-celebration-2024/url.txt\n"
     ]
    },
    {
     "name": "stderr",
     "output_type": "stream",
     "text": [
      " 15%|█▍        | 86/585 [00:22<02:07,  3.92it/s]"
     ]
    },
    {
     "name": "stdout",
     "output_type": "stream",
     "text": [
      "Event details saved to ./output/cmu_events/children/events.cmu.edu_event_12299-voter-registration-assistance/event_details.txt\n",
      "Links saved to ./output/cmu_events/children/events.cmu.edu_event_12299-voter-registration-assistance/url.txt\n"
     ]
    },
    {
     "name": "stderr",
     "output_type": "stream",
     "text": [
      " 15%|█▍        | 87/585 [00:22<02:05,  3.98it/s]"
     ]
    },
    {
     "name": "stdout",
     "output_type": "stream",
     "text": [
      "Event details saved to ./output/cmu_events/children/events.cmu.edu_event_8416-17th-international-exhibition-of-botanical-art-amp/event_details.txt\n",
      "Links saved to ./output/cmu_events/children/events.cmu.edu_event_8416-17th-international-exhibition-of-botanical-art-amp/url.txt\n"
     ]
    },
    {
     "name": "stderr",
     "output_type": "stream",
     "text": [
      " 15%|█▌        | 88/585 [00:22<02:08,  3.87it/s]"
     ]
    },
    {
     "name": "stdout",
     "output_type": "stream",
     "text": [
      "Event details saved to ./output/cmu_events/children/events.cmu.edu_event_12302-gsa-voter-registration-drive/event_details.txt\n",
      "Links saved to ./output/cmu_events/children/events.cmu.edu_event_12302-gsa-voter-registration-drive/url.txt\n"
     ]
    },
    {
     "name": "stderr",
     "output_type": "stream",
     "text": [
      " 15%|█▌        | 89/585 [00:23<02:08,  3.85it/s]"
     ]
    },
    {
     "name": "stdout",
     "output_type": "stream",
     "text": [
      "Event details saved to ./output/cmu_events/children/events.cmu.edu_event_8417-17th-international-exhibition-of-botanical-art-amp/event_details.txt\n",
      "Links saved to ./output/cmu_events/children/events.cmu.edu_event_8417-17th-international-exhibition-of-botanical-art-amp/url.txt\n"
     ]
    },
    {
     "name": "stderr",
     "output_type": "stream",
     "text": [
      " 15%|█▌        | 90/585 [00:23<02:11,  3.77it/s]"
     ]
    },
    {
     "name": "stdout",
     "output_type": "stream",
     "text": [
      "Event details saved to ./output/cmu_events/children/events.cmu.edu_event_12295-diversity-and-inclusion-network-luncheon-values/event_details.txt\n",
      "Links saved to ./output/cmu_events/children/events.cmu.edu_event_12295-diversity-and-inclusion-network-luncheon-values/url.txt\n"
     ]
    },
    {
     "name": "stderr",
     "output_type": "stream",
     "text": [
      " 16%|█▌        | 91/585 [00:23<02:11,  3.74it/s]"
     ]
    },
    {
     "name": "stdout",
     "output_type": "stream",
     "text": [
      "Event details saved to ./output/cmu_events/children/events.cmu.edu_event_10212-data-visualization-and-tableau-dashboards/event_details.txt\n",
      "Links saved to ./output/cmu_events/children/events.cmu.edu_event_10212-data-visualization-and-tableau-dashboards/url.txt\n"
     ]
    },
    {
     "name": "stderr",
     "output_type": "stream",
     "text": [
      " 16%|█▌        | 92/585 [00:24<02:10,  3.79it/s]"
     ]
    },
    {
     "name": "stdout",
     "output_type": "stream",
     "text": [
      "Event details saved to ./output/cmu_events/children/events.cmu.edu_event_8418-17th-international-exhibition-of-botanical-art-amp/event_details.txt\n",
      "Links saved to ./output/cmu_events/children/events.cmu.edu_event_8418-17th-international-exhibition-of-botanical-art-amp/url.txt\n"
     ]
    },
    {
     "name": "stderr",
     "output_type": "stream",
     "text": [
      " 16%|█▌        | 93/585 [00:24<02:05,  3.91it/s]"
     ]
    },
    {
     "name": "stdout",
     "output_type": "stream",
     "text": [
      "Event details saved to ./output/cmu_events/children/events.cmu.edu_event_8419-17th-international-exhibition-of-botanical-art-amp/event_details.txt\n",
      "Links saved to ./output/cmu_events/children/events.cmu.edu_event_8419-17th-international-exhibition-of-botanical-art-amp/url.txt\n"
     ]
    },
    {
     "name": "stderr",
     "output_type": "stream",
     "text": [
      " 16%|█▌        | 94/585 [00:24<02:03,  3.99it/s]"
     ]
    },
    {
     "name": "stdout",
     "output_type": "stream",
     "text": [
      "Event details saved to ./output/cmu_events/children/events.cmu.edu_event_12112-ai-institutes-expo-day-2024/event_details.txt\n",
      "Links saved to ./output/cmu_events/children/events.cmu.edu_event_12112-ai-institutes-expo-day-2024/url.txt\n"
     ]
    },
    {
     "name": "stderr",
     "output_type": "stream",
     "text": [
      " 16%|█▌        | 95/585 [00:24<02:12,  3.69it/s]"
     ]
    },
    {
     "name": "stdout",
     "output_type": "stream",
     "text": [
      "Event details saved to ./output/cmu_events/children/events.cmu.edu_event_8420-17th-international-exhibition-of-botanical-art-amp/event_details.txt\n",
      "Links saved to ./output/cmu_events/children/events.cmu.edu_event_8420-17th-international-exhibition-of-botanical-art-amp/url.txt\n"
     ]
    },
    {
     "name": "stderr",
     "output_type": "stream",
     "text": [
      " 16%|█▋        | 96/585 [00:25<02:17,  3.56it/s]"
     ]
    },
    {
     "name": "stdout",
     "output_type": "stream",
     "text": [
      "Event details saved to ./output/cmu_events/children/events.cmu.edu_event_12306-stickers-for-sharing/event_details.txt\n",
      "Links saved to ./output/cmu_events/children/events.cmu.edu_event_12306-stickers-for-sharing/url.txt\n"
     ]
    },
    {
     "name": "stderr",
     "output_type": "stream",
     "text": [
      " 17%|█▋        | 97/585 [00:25<02:12,  3.68it/s]"
     ]
    },
    {
     "name": "stdout",
     "output_type": "stream",
     "text": [
      "Event details saved to ./output/cmu_events/children/events.cmu.edu_event_9899-yom-kippur/event_details.txt\n",
      "Links saved to ./output/cmu_events/children/events.cmu.edu_event_9899-yom-kippur/url.txt\n"
     ]
    },
    {
     "name": "stderr",
     "output_type": "stream",
     "text": [
      " 17%|█▋        | 98/585 [00:25<02:08,  3.78it/s]"
     ]
    },
    {
     "name": "stdout",
     "output_type": "stream",
     "text": [
      "Event details saved to ./output/cmu_events/children/events.cmu.edu_event_10136-cmu-pantry-hours/event_details.txt\n",
      "Links saved to ./output/cmu_events/children/events.cmu.edu_event_10136-cmu-pantry-hours/url.txt\n"
     ]
    },
    {
     "name": "stderr",
     "output_type": "stream",
     "text": [
      " 17%|█▋        | 99/585 [00:25<02:04,  3.92it/s]"
     ]
    },
    {
     "name": "stdout",
     "output_type": "stream",
     "text": [
      "Event details saved to ./output/cmu_events/children/events.cmu.edu_event_11999-womens-volleyball-rochester-ny-vs-carnegie-mellon/event_details.txt\n",
      "Links saved to ./output/cmu_events/children/events.cmu.edu_event_11999-womens-volleyball-rochester-ny-vs-carnegie-mellon/url.txt\n"
     ]
    },
    {
     "name": "stderr",
     "output_type": "stream",
     "text": [
      " 17%|█▋        | 100/585 [00:26<02:05,  3.86it/s]"
     ]
    },
    {
     "name": "stdout",
     "output_type": "stream",
     "text": [
      "Event details saved to ./output/cmu_events/children/events.cmu.edu_event_12327-voter-registration-assistance/event_details.txt\n",
      "Links saved to ./output/cmu_events/children/events.cmu.edu_event_12327-voter-registration-assistance/url.txt\n"
     ]
    },
    {
     "name": "stderr",
     "output_type": "stream",
     "text": [
      " 17%|█▋        | 101/585 [00:26<02:03,  3.90it/s]"
     ]
    },
    {
     "name": "stdout",
     "output_type": "stream",
     "text": [
      "Event details saved to ./output/cmu_events/children/events.cmu.edu_event_8421-17th-international-exhibition-of-botanical-art-amp/event_details.txt\n",
      "Links saved to ./output/cmu_events/children/events.cmu.edu_event_8421-17th-international-exhibition-of-botanical-art-amp/url.txt\n"
     ]
    },
    {
     "name": "stderr",
     "output_type": "stream",
     "text": [
      " 17%|█▋        | 102/585 [00:26<02:01,  3.96it/s]"
     ]
    },
    {
     "name": "stdout",
     "output_type": "stream",
     "text": [
      "Event details saved to ./output/cmu_events/children/events.cmu.edu_event_10326-neurospicy-graduate/event_details.txt\n",
      "Links saved to ./output/cmu_events/children/events.cmu.edu_event_10326-neurospicy-graduate/url.txt\n"
     ]
    },
    {
     "name": "stderr",
     "output_type": "stream",
     "text": [
      " 18%|█▊        | 103/585 [00:26<02:01,  3.95it/s]"
     ]
    },
    {
     "name": "stdout",
     "output_type": "stream",
     "text": [
      "Event details saved to ./output/cmu_events/children/events.cmu.edu_event_9891-hispanic-heritage-month/event_details.txt\n",
      "Links saved to ./output/cmu_events/children/events.cmu.edu_event_9891-hispanic-heritage-month/url.txt\n"
     ]
    },
    {
     "name": "stderr",
     "output_type": "stream",
     "text": [
      " 18%|█▊        | 104/585 [00:27<02:08,  3.74it/s]"
     ]
    },
    {
     "name": "stdout",
     "output_type": "stream",
     "text": [
      "Event details saved to ./output/cmu_events/children/events.cmu.edu_event_8422-17th-international-exhibition-of-botanical-art-amp/event_details.txt\n",
      "Links saved to ./output/cmu_events/children/events.cmu.edu_event_8422-17th-international-exhibition-of-botanical-art-amp/url.txt\n"
     ]
    },
    {
     "name": "stderr",
     "output_type": "stream",
     "text": [
      " 18%|█▊        | 105/585 [00:27<02:12,  3.63it/s]"
     ]
    },
    {
     "name": "stdout",
     "output_type": "stream",
     "text": [
      "Event details saved to ./output/cmu_events/children/events.cmu.edu_event_8423-17th-international-exhibition-of-botanical-art-amp/event_details.txt\n",
      "Links saved to ./output/cmu_events/children/events.cmu.edu_event_8423-17th-international-exhibition-of-botanical-art-amp/url.txt\n"
     ]
    },
    {
     "name": "stderr",
     "output_type": "stream",
     "text": [
      " 18%|█▊        | 106/585 [00:27<02:11,  3.64it/s]"
     ]
    },
    {
     "name": "stdout",
     "output_type": "stream",
     "text": [
      "Event details saved to ./output/cmu_events/children/events.cmu.edu_event_12477-lgbtqia-faculty-and-staff-alliance-monthly-meeting/event_details.txt\n",
      "Links saved to ./output/cmu_events/children/events.cmu.edu_event_12477-lgbtqia-faculty-and-staff-alliance-monthly-meeting/url.txt\n"
     ]
    },
    {
     "name": "stderr",
     "output_type": "stream",
     "text": [
      " 18%|█▊        | 107/585 [00:28<02:07,  3.75it/s]"
     ]
    },
    {
     "name": "stdout",
     "output_type": "stream",
     "text": [
      "Event details saved to ./output/cmu_events/children/events.cmu.edu_event_11542-scholars-at-risk-usa-general-assembly/event_details.txt\n",
      "Links saved to ./output/cmu_events/children/events.cmu.edu_event_11542-scholars-at-risk-usa-general-assembly/url.txt\n"
     ]
    },
    {
     "name": "stderr",
     "output_type": "stream",
     "text": [
      " 18%|█▊        | 108/585 [00:28<02:08,  3.72it/s]"
     ]
    },
    {
     "name": "stdout",
     "output_type": "stream",
     "text": [
      "Event details saved to ./output/cmu_events/children/events.cmu.edu_event_8424-17th-international-exhibition-of-botanical-art-amp/event_details.txt\n",
      "Links saved to ./output/cmu_events/children/events.cmu.edu_event_8424-17th-international-exhibition-of-botanical-art-amp/url.txt\n"
     ]
    },
    {
     "name": "stderr",
     "output_type": "stream",
     "text": [
      " 19%|█▊        | 109/585 [00:28<02:10,  3.66it/s]"
     ]
    },
    {
     "name": "stdout",
     "output_type": "stream",
     "text": [
      "Event details saved to ./output/cmu_events/children/events.cmu.edu_event_12463-meaningful-play-2024/event_details.txt\n",
      "Links saved to ./output/cmu_events/children/events.cmu.edu_event_12463-meaningful-play-2024/url.txt\n"
     ]
    },
    {
     "name": "stderr",
     "output_type": "stream",
     "text": [
      " 19%|█▉        | 110/585 [00:28<02:10,  3.63it/s]"
     ]
    },
    {
     "name": "stdout",
     "output_type": "stream",
     "text": [
      "Event details saved to ./output/cmu_events/children/events.cmu.edu_event_8425-17th-international-exhibition-of-botanical-art-amp/event_details.txt\n",
      "Links saved to ./output/cmu_events/children/events.cmu.edu_event_8425-17th-international-exhibition-of-botanical-art-amp/url.txt\n"
     ]
    },
    {
     "name": "stderr",
     "output_type": "stream",
     "text": [
      " 19%|█▉        | 111/585 [00:29<02:06,  3.76it/s]"
     ]
    },
    {
     "name": "stdout",
     "output_type": "stream",
     "text": [
      "Event details saved to ./output/cmu_events/children/events.cmu.edu_event_12422-fall-break-no-classes/event_details.txt\n",
      "Links saved to ./output/cmu_events/children/events.cmu.edu_event_12422-fall-break-no-classes/url.txt\n"
     ]
    },
    {
     "name": "stderr",
     "output_type": "stream",
     "text": [
      " 19%|█▉        | 112/585 [00:29<02:05,  3.78it/s]"
     ]
    },
    {
     "name": "stdout",
     "output_type": "stream",
     "text": [
      "Event details saved to ./output/cmu_events/children/events.cmu.edu_event_10137-cmu-pantry-hours/event_details.txt\n",
      "Links saved to ./output/cmu_events/children/events.cmu.edu_event_10137-cmu-pantry-hours/url.txt\n"
     ]
    },
    {
     "name": "stderr",
     "output_type": "stream",
     "text": [
      " 19%|█▉        | 113/585 [00:29<02:05,  3.76it/s]"
     ]
    },
    {
     "name": "stdout",
     "output_type": "stream",
     "text": [
      "Event details saved to ./output/cmu_events/children/events.cmu.edu_event_12328-voter-registration-assistance/event_details.txt\n",
      "Links saved to ./output/cmu_events/children/events.cmu.edu_event_12328-voter-registration-assistance/url.txt\n"
     ]
    },
    {
     "name": "stderr",
     "output_type": "stream",
     "text": [
      " 19%|█▉        | 114/585 [00:29<02:04,  3.78it/s]"
     ]
    },
    {
     "name": "stdout",
     "output_type": "stream",
     "text": [
      "Event details saved to ./output/cmu_events/children/events.cmu.edu_event_7307-here-to-stay-celebrating-40-years-at-the/event_details.txt\n",
      "Links saved to ./output/cmu_events/children/events.cmu.edu_event_7307-here-to-stay-celebrating-40-years-at-the/url.txt\n"
     ]
    },
    {
     "name": "stderr",
     "output_type": "stream",
     "text": [
      " 20%|█▉        | 115/585 [00:30<02:07,  3.69it/s]"
     ]
    },
    {
     "name": "stdout",
     "output_type": "stream",
     "text": [
      "Event details saved to ./output/cmu_events/children/events.cmu.edu_event_8426-17th-international-exhibition-of-botanical-art-amp/event_details.txt\n",
      "Links saved to ./output/cmu_events/children/events.cmu.edu_event_8426-17th-international-exhibition-of-botanical-art-amp/url.txt\n"
     ]
    },
    {
     "name": "stderr",
     "output_type": "stream",
     "text": [
      " 20%|█▉        | 116/585 [00:30<02:02,  3.83it/s]"
     ]
    },
    {
     "name": "stdout",
     "output_type": "stream",
     "text": [
      "Event details saved to ./output/cmu_events/children/events.cmu.edu_event_12466-register-to-vote/event_details.txt\n",
      "Links saved to ./output/cmu_events/children/events.cmu.edu_event_12466-register-to-vote/url.txt\n"
     ]
    },
    {
     "name": "stderr",
     "output_type": "stream",
     "text": [
      " 20%|██        | 117/585 [00:30<02:05,  3.73it/s]"
     ]
    },
    {
     "name": "stdout",
     "output_type": "stream",
     "text": [
      "Event details saved to ./output/cmu_events/children/events.cmu.edu_event_8427-17th-international-exhibition-of-botanical-art-amp/event_details.txt\n",
      "Links saved to ./output/cmu_events/children/events.cmu.edu_event_8427-17th-international-exhibition-of-botanical-art-amp/url.txt\n"
     ]
    },
    {
     "name": "stderr",
     "output_type": "stream",
     "text": [
      " 20%|██        | 118/585 [00:30<02:08,  3.63it/s]"
     ]
    },
    {
     "name": "stdout",
     "output_type": "stream",
     "text": [
      "Event details saved to ./output/cmu_events/children/events.cmu.edu_event_12538-diy-smores-bar/event_details.txt\n",
      "Links saved to ./output/cmu_events/children/events.cmu.edu_event_12538-diy-smores-bar/url.txt\n"
     ]
    },
    {
     "name": "stderr",
     "output_type": "stream",
     "text": [
      " 20%|██        | 119/585 [00:31<02:03,  3.79it/s]"
     ]
    },
    {
     "name": "stdout",
     "output_type": "stream",
     "text": [
      "Event details saved to ./output/cmu_events/children/events.cmu.edu_event_9901-sukkot/event_details.txt\n",
      "Links saved to ./output/cmu_events/children/events.cmu.edu_event_9901-sukkot/url.txt\n"
     ]
    },
    {
     "name": "stderr",
     "output_type": "stream",
     "text": [
      " 21%|██        | 120/585 [00:31<02:05,  3.71it/s]"
     ]
    },
    {
     "name": "stdout",
     "output_type": "stream",
     "text": [
      "Event details saved to ./output/cmu_events/children/events.cmu.edu_event_10217-data-visualization-in-r/event_details.txt\n",
      "Links saved to ./output/cmu_events/children/events.cmu.edu_event_10217-data-visualization-in-r/url.txt\n"
     ]
    },
    {
     "name": "stderr",
     "output_type": "stream",
     "text": [
      " 21%|██        | 121/585 [00:31<02:00,  3.84it/s]"
     ]
    },
    {
     "name": "stdout",
     "output_type": "stream",
     "text": [
      "Event details saved to ./output/cmu_events/children/events.cmu.edu_event_8429-17th-international-exhibition-of-botanical-art-amp/event_details.txt\n",
      "Links saved to ./output/cmu_events/children/events.cmu.edu_event_8429-17th-international-exhibition-of-botanical-art-amp/url.txt\n"
     ]
    },
    {
     "name": "stderr",
     "output_type": "stream",
     "text": [
      " 21%|██        | 122/585 [00:31<01:56,  3.96it/s]"
     ]
    },
    {
     "name": "stdout",
     "output_type": "stream",
     "text": [
      "Event details saved to ./output/cmu_events/children/events.cmu.edu_event_10219-coding-syntax-in-r/event_details.txt\n",
      "Links saved to ./output/cmu_events/children/events.cmu.edu_event_10219-coding-syntax-in-r/url.txt\n"
     ]
    },
    {
     "name": "stderr",
     "output_type": "stream",
     "text": [
      " 21%|██        | 123/585 [00:32<01:54,  4.03it/s]"
     ]
    },
    {
     "name": "stdout",
     "output_type": "stream",
     "text": [
      "Event details saved to ./output/cmu_events/children/events.cmu.edu_event_9903-shemini-atzeret/event_details.txt\n",
      "Links saved to ./output/cmu_events/children/events.cmu.edu_event_9903-shemini-atzeret/url.txt\n"
     ]
    },
    {
     "name": "stderr",
     "output_type": "stream",
     "text": [
      " 21%|██        | 124/585 [00:32<01:51,  4.12it/s]"
     ]
    },
    {
     "name": "stdout",
     "output_type": "stream",
     "text": [
      "Event details saved to ./output/cmu_events/children/events.cmu.edu_event_9909-simchat-torah/event_details.txt\n",
      "Links saved to ./output/cmu_events/children/events.cmu.edu_event_9909-simchat-torah/url.txt\n"
     ]
    },
    {
     "name": "stderr",
     "output_type": "stream",
     "text": [
      " 22%|██▏       | 126/585 [00:32<01:43,  4.44it/s]"
     ]
    },
    {
     "name": "stdout",
     "output_type": "stream",
     "text": [
      "Event details saved to ./output/cmu_events/children/events.cmu.edu_event_10138-cmu-pantry-hours/event_details.txt\n",
      "Links saved to ./output/cmu_events/children/events.cmu.edu_event_10138-cmu-pantry-hours/url.txt\n",
      "Event details saved to ./output/cmu_events/children/events.cmu.edu_event_7307-here-to-stay-celebrating-40-years-at-the/event_details.txt\n",
      "Links saved to ./output/cmu_events/children/events.cmu.edu_event_7307-here-to-stay-celebrating-40-years-at-the/url.txt\n"
     ]
    },
    {
     "name": "stderr",
     "output_type": "stream",
     "text": [
      " 22%|██▏       | 128/585 [00:33<01:28,  5.15it/s]"
     ]
    },
    {
     "name": "stdout",
     "output_type": "stream",
     "text": [
      "Event details saved to ./output/cmu_events/children/events.cmu.edu_event_11977-womens-volleyball-case-western-reserve-vs-carnegie/event_details.txt\n",
      "Links saved to ./output/cmu_events/children/events.cmu.edu_event_11977-womens-volleyball-case-western-reserve-vs-carnegie/url.txt\n",
      "Event details saved to ./output/cmu_events/children/events.cmu.edu_event_12531-halloween-trick-or-treat-with-tartan-football/event_details.txt\n",
      "Links saved to ./output/cmu_events/children/events.cmu.edu_event_12531-halloween-trick-or-treat-with-tartan-football/url.txt\n"
     ]
    },
    {
     "name": "stderr",
     "output_type": "stream",
     "text": [
      " 22%|██▏       | 130/585 [00:33<01:22,  5.50it/s]"
     ]
    },
    {
     "name": "stdout",
     "output_type": "stream",
     "text": [
      "Event details saved to ./output/cmu_events/children/events.cmu.edu_event_9777-provosts-office-hours/event_details.txt\n",
      "Links saved to ./output/cmu_events/children/events.cmu.edu_event_9777-provosts-office-hours/url.txt\n",
      "Event details saved to ./output/cmu_events/children/events.cmu.edu_event_8431-17th-international-exhibition-of-botanical-art-amp/event_details.txt\n",
      "Links saved to ./output/cmu_events/children/events.cmu.edu_event_8431-17th-international-exhibition-of-botanical-art-amp/url.txt\n"
     ]
    },
    {
     "name": "stderr",
     "output_type": "stream",
     "text": [
      " 23%|██▎       | 132/585 [00:33<01:19,  5.68it/s]"
     ]
    },
    {
     "name": "stdout",
     "output_type": "stream",
     "text": [
      "Event details saved to ./output/cmu_events/children/events.cmu.edu_event_8432-17th-international-exhibition-of-botanical-art-amp/event_details.txt\n",
      "Links saved to ./output/cmu_events/children/events.cmu.edu_event_8432-17th-international-exhibition-of-botanical-art-amp/url.txt\n",
      "Event details saved to ./output/cmu_events/children/events.cmu.edu_event_10222-cleaning-untidy-data-with-openrefine/event_details.txt\n",
      "Links saved to ./output/cmu_events/children/events.cmu.edu_event_10222-cleaning-untidy-data-with-openrefine/url.txt\n"
     ]
    },
    {
     "name": "stderr",
     "output_type": "stream",
     "text": [
      " 23%|██▎       | 133/585 [00:34<01:16,  5.93it/s]"
     ]
    },
    {
     "name": "stdout",
     "output_type": "stream",
     "text": [
      "Event details saved to ./output/cmu_events/children/events.cmu.edu_event_10224-data-visualization-in-r-shiny/event_details.txt\n",
      "Links saved to ./output/cmu_events/children/events.cmu.edu_event_10224-data-visualization-in-r-shiny/url.txt\n"
     ]
    },
    {
     "name": "stderr",
     "output_type": "stream",
     "text": [
      " 23%|██▎       | 134/585 [00:34<01:26,  5.24it/s]"
     ]
    },
    {
     "name": "stdout",
     "output_type": "stream",
     "text": [
      "Event details saved to ./output/cmu_events/children/events.cmu.edu_event_8433-17th-international-exhibition-of-botanical-art-amp/event_details.txt\n",
      "Links saved to ./output/cmu_events/children/events.cmu.edu_event_8433-17th-international-exhibition-of-botanical-art-amp/url.txt\n"
     ]
    },
    {
     "name": "stderr",
     "output_type": "stream",
     "text": [
      " 23%|██▎       | 136/585 [00:34<01:23,  5.38it/s]"
     ]
    },
    {
     "name": "stdout",
     "output_type": "stream",
     "text": [
      "Event details saved to ./output/cmu_events/children/events.cmu.edu_event_9893-national-disability-employment-awareness-month/event_details.txt\n",
      "Links saved to ./output/cmu_events/children/events.cmu.edu_event_9893-national-disability-employment-awareness-month/url.txt\n",
      "Event details saved to ./output/cmu_events/children/events.cmu.edu_event_8434-17th-international-exhibition-of-botanical-art-amp/event_details.txt\n",
      "Links saved to ./output/cmu_events/children/events.cmu.edu_event_8434-17th-international-exhibition-of-botanical-art-amp/url.txt\n"
     ]
    },
    {
     "name": "stderr",
     "output_type": "stream",
     "text": [
      " 23%|██▎       | 137/585 [00:34<01:35,  4.71it/s]"
     ]
    },
    {
     "name": "stdout",
     "output_type": "stream",
     "text": [
      "Event details saved to ./output/cmu_events/children/events.cmu.edu_event_8435-17th-international-exhibition-of-botanical-art-amp/event_details.txt\n",
      "Links saved to ./output/cmu_events/children/events.cmu.edu_event_8435-17th-international-exhibition-of-botanical-art-amp/url.txt\n"
     ]
    },
    {
     "name": "stderr",
     "output_type": "stream",
     "text": [
      " 24%|██▍       | 139/585 [00:35<01:37,  4.56it/s]"
     ]
    },
    {
     "name": "stdout",
     "output_type": "stream",
     "text": [
      "Event details saved to ./output/cmu_events/children/events.cmu.edu_event_10121-cmu-pantry-hours/event_details.txt\n",
      "Links saved to ./output/cmu_events/children/events.cmu.edu_event_10121-cmu-pantry-hours/url.txt\n",
      "Event details saved to ./output/cmu_events/children/events.cmu.edu_event_12297-homecoming-weekend-2024/event_details.txt\n",
      "Links saved to ./output/cmu_events/children/events.cmu.edu_event_12297-homecoming-weekend-2024/url.txt\n"
     ]
    },
    {
     "name": "stderr",
     "output_type": "stream",
     "text": [
      " 24%|██▍       | 140/585 [00:35<01:31,  4.88it/s]"
     ]
    },
    {
     "name": "stdout",
     "output_type": "stream",
     "text": [
      "Event details saved to ./output/cmu_events/children/events.cmu.edu_event_10139-cmu-pantry-hours/event_details.txt\n",
      "Links saved to ./output/cmu_events/children/events.cmu.edu_event_10139-cmu-pantry-hours/url.txt\n"
     ]
    },
    {
     "name": "stderr",
     "output_type": "stream",
     "text": [
      " 24%|██▍       | 141/585 [00:35<01:31,  4.87it/s]"
     ]
    },
    {
     "name": "stdout",
     "output_type": "stream",
     "text": [
      "Event details saved to ./output/cmu_events/children/events.cmu.edu_event_7307-here-to-stay-celebrating-40-years-at-the/event_details.txt\n",
      "Links saved to ./output/cmu_events/children/events.cmu.edu_event_7307-here-to-stay-celebrating-40-years-at-the/url.txt\n"
     ]
    },
    {
     "name": "stderr",
     "output_type": "stream",
     "text": [
      " 24%|██▍       | 142/585 [00:36<01:42,  4.33it/s]"
     ]
    },
    {
     "name": "stdout",
     "output_type": "stream",
     "text": [
      "Event details saved to ./output/cmu_events/children/events.cmu.edu_event_9929-nativity-fast/event_details.txt\n",
      "Links saved to ./output/cmu_events/children/events.cmu.edu_event_9929-nativity-fast/url.txt\n"
     ]
    },
    {
     "name": "stderr",
     "output_type": "stream",
     "text": [
      " 24%|██▍       | 143/585 [00:36<01:49,  4.05it/s]"
     ]
    },
    {
     "name": "stdout",
     "output_type": "stream",
     "text": [
      "Event details saved to ./output/cmu_events/children/events.cmu.edu_event_8456-17th-international-exhibition-of-botanical-art-amp/event_details.txt\n",
      "Links saved to ./output/cmu_events/children/events.cmu.edu_event_8456-17th-international-exhibition-of-botanical-art-amp/url.txt\n"
     ]
    },
    {
     "name": "stderr",
     "output_type": "stream",
     "text": [
      " 25%|██▍       | 144/585 [00:36<01:48,  4.06it/s]"
     ]
    },
    {
     "name": "stdout",
     "output_type": "stream",
     "text": [
      "Event details saved to ./output/cmu_events/children/events.cmu.edu_event_10333-neurospicy-graduate/event_details.txt\n",
      "Links saved to ./output/cmu_events/children/events.cmu.edu_event_10333-neurospicy-graduate/url.txt\n"
     ]
    },
    {
     "name": "stderr",
     "output_type": "stream",
     "text": [
      " 25%|██▍       | 145/585 [00:36<01:47,  4.07it/s]"
     ]
    },
    {
     "name": "stdout",
     "output_type": "stream",
     "text": [
      "Event details saved to ./output/cmu_events/children/events.cmu.edu_event_8457-17th-international-exhibition-of-botanical-art-amp/event_details.txt\n",
      "Links saved to ./output/cmu_events/children/events.cmu.edu_event_8457-17th-international-exhibition-of-botanical-art-amp/url.txt\n"
     ]
    },
    {
     "name": "stderr",
     "output_type": "stream",
     "text": [
      " 25%|██▍       | 146/585 [00:37<01:46,  4.12it/s]"
     ]
    },
    {
     "name": "stdout",
     "output_type": "stream",
     "text": [
      "Event details saved to ./output/cmu_events/children/events.cmu.edu_event_10069-cmu-pantry-hours/event_details.txt\n",
      "Links saved to ./output/cmu_events/children/events.cmu.edu_event_10069-cmu-pantry-hours/url.txt\n"
     ]
    },
    {
     "name": "stderr",
     "output_type": "stream",
     "text": [
      " 25%|██▌       | 147/585 [00:37<01:51,  3.93it/s]"
     ]
    },
    {
     "name": "stdout",
     "output_type": "stream",
     "text": [
      "Event details saved to ./output/cmu_events/children/events.cmu.edu_event_8458-17th-international-exhibition-of-botanical-art-amp/event_details.txt\n",
      "Links saved to ./output/cmu_events/children/events.cmu.edu_event_8458-17th-international-exhibition-of-botanical-art-amp/url.txt\n"
     ]
    },
    {
     "name": "stderr",
     "output_type": "stream",
     "text": [
      " 25%|██▌       | 148/585 [00:37<01:49,  3.99it/s]"
     ]
    },
    {
     "name": "stdout",
     "output_type": "stream",
     "text": [
      "Event details saved to ./output/cmu_events/children/events.cmu.edu_event_10259-monthly-gratitude-gathering/event_details.txt\n",
      "Links saved to ./output/cmu_events/children/events.cmu.edu_event_10259-monthly-gratitude-gathering/url.txt\n"
     ]
    },
    {
     "name": "stderr",
     "output_type": "stream",
     "text": [
      " 25%|██▌       | 149/585 [00:37<01:52,  3.88it/s]"
     ]
    },
    {
     "name": "stdout",
     "output_type": "stream",
     "text": [
      "Event details saved to ./output/cmu_events/children/events.cmu.edu_event_8459-17th-international-exhibition-of-botanical-art-amp/event_details.txt\n",
      "Links saved to ./output/cmu_events/children/events.cmu.edu_event_8459-17th-international-exhibition-of-botanical-art-amp/url.txt\n"
     ]
    },
    {
     "name": "stderr",
     "output_type": "stream",
     "text": [
      " 26%|██▌       | 150/585 [00:38<01:55,  3.77it/s]"
     ]
    },
    {
     "name": "stdout",
     "output_type": "stream",
     "text": [
      "Event details saved to ./output/cmu_events/children/events.cmu.edu_event_10107-cmu-pantry-hours/event_details.txt\n",
      "Links saved to ./output/cmu_events/children/events.cmu.edu_event_10107-cmu-pantry-hours/url.txt\n"
     ]
    },
    {
     "name": "stderr",
     "output_type": "stream",
     "text": [
      " 26%|██▌       | 152/585 [00:38<01:44,  4.13it/s]"
     ]
    },
    {
     "name": "stdout",
     "output_type": "stream",
     "text": [
      "Event details saved to ./output/cmu_events/children/events.cmu.edu_event_8460-17th-international-exhibition-of-botanical-art-amp/event_details.txt\n",
      "Links saved to ./output/cmu_events/children/events.cmu.edu_event_8460-17th-international-exhibition-of-botanical-art-amp/url.txt\n",
      "An error occurred: 404 Client Error: Not Found for url: https://events.cmu.edu/https://events.time.ly/vdibqnd/43900772\n"
     ]
    },
    {
     "name": "stderr",
     "output_type": "stream",
     "text": [
      " 26%|██▌       | 153/585 [00:38<01:46,  4.06it/s]"
     ]
    },
    {
     "name": "stdout",
     "output_type": "stream",
     "text": [
      "Event details saved to ./output/cmu_events/children/events.cmu.edu_event_10144-cmu-pantry-hours/event_details.txt\n",
      "Links saved to ./output/cmu_events/children/events.cmu.edu_event_10144-cmu-pantry-hours/url.txt\n"
     ]
    },
    {
     "name": "stderr",
     "output_type": "stream",
     "text": [
      " 26%|██▋       | 154/585 [00:39<01:49,  3.95it/s]"
     ]
    },
    {
     "name": "stdout",
     "output_type": "stream",
     "text": [
      "Event details saved to ./output/cmu_events/children/events.cmu.edu_event_11919-mens-basketball-bowdoin-middlebury-vs-carnegie/event_details.txt\n",
      "Links saved to ./output/cmu_events/children/events.cmu.edu_event_11919-mens-basketball-bowdoin-middlebury-vs-carnegie/url.txt\n"
     ]
    },
    {
     "name": "stderr",
     "output_type": "stream",
     "text": [
      " 26%|██▋       | 155/585 [00:39<01:48,  3.95it/s]"
     ]
    },
    {
     "name": "stdout",
     "output_type": "stream",
     "text": [
      "Event details saved to ./output/cmu_events/children/events.cmu.edu_event_11914-mens-basketball-bowdoin-vs-carnegie-mellon/event_details.txt\n",
      "Links saved to ./output/cmu_events/children/events.cmu.edu_event_11914-mens-basketball-bowdoin-vs-carnegie-mellon/url.txt\n"
     ]
    },
    {
     "name": "stderr",
     "output_type": "stream",
     "text": [
      " 27%|██▋       | 156/585 [00:39<01:52,  3.81it/s]"
     ]
    },
    {
     "name": "stdout",
     "output_type": "stream",
     "text": [
      "Event details saved to ./output/cmu_events/children/events.cmu.edu_event_11915-mens-basketball-bowdoin-middlebury-vs-carnegie/event_details.txt\n",
      "Links saved to ./output/cmu_events/children/events.cmu.edu_event_11915-mens-basketball-bowdoin-middlebury-vs-carnegie/url.txt\n"
     ]
    },
    {
     "name": "stderr",
     "output_type": "stream",
     "text": [
      " 27%|██▋       | 157/585 [00:39<01:52,  3.82it/s]"
     ]
    },
    {
     "name": "stdout",
     "output_type": "stream",
     "text": [
      "Event details saved to ./output/cmu_events/children/events.cmu.edu_event_8461-17th-international-exhibition-of-botanical-art-amp/event_details.txt\n",
      "Links saved to ./output/cmu_events/children/events.cmu.edu_event_8461-17th-international-exhibition-of-botanical-art-amp/url.txt\n"
     ]
    },
    {
     "name": "stderr",
     "output_type": "stream",
     "text": [
      " 27%|██▋       | 158/585 [00:40<01:57,  3.64it/s]"
     ]
    },
    {
     "name": "stdout",
     "output_type": "stream",
     "text": [
      "Event details saved to ./output/cmu_events/children/events.cmu.edu_event_10334-neurospicy-graduate/event_details.txt\n",
      "Links saved to ./output/cmu_events/children/events.cmu.edu_event_10334-neurospicy-graduate/url.txt\n"
     ]
    },
    {
     "name": "stderr",
     "output_type": "stream",
     "text": [
      " 27%|██▋       | 159/585 [00:40<01:57,  3.64it/s]"
     ]
    },
    {
     "name": "stdout",
     "output_type": "stream",
     "text": [
      "Event details saved to ./output/cmu_events/children/events.cmu.edu_event_8462-17th-international-exhibition-of-botanical-art-amp/event_details.txt\n",
      "Links saved to ./output/cmu_events/children/events.cmu.edu_event_8462-17th-international-exhibition-of-botanical-art-amp/url.txt\n"
     ]
    },
    {
     "name": "stderr",
     "output_type": "stream",
     "text": [
      " 27%|██▋       | 160/585 [00:40<01:57,  3.62it/s]"
     ]
    },
    {
     "name": "stdout",
     "output_type": "stream",
     "text": [
      "Event details saved to ./output/cmu_events/children/events.cmu.edu_event_10070-cmu-pantry-hours/event_details.txt\n",
      "Links saved to ./output/cmu_events/children/events.cmu.edu_event_10070-cmu-pantry-hours/url.txt\n"
     ]
    },
    {
     "name": "stderr",
     "output_type": "stream",
     "text": [
      " 28%|██▊       | 161/585 [00:41<01:52,  3.75it/s]"
     ]
    },
    {
     "name": "stdout",
     "output_type": "stream",
     "text": [
      "Event details saved to ./output/cmu_events/children/events.cmu.edu_event_12409-final-exams/event_details.txt\n",
      "Links saved to ./output/cmu_events/children/events.cmu.edu_event_12409-final-exams/url.txt\n"
     ]
    },
    {
     "name": "stderr",
     "output_type": "stream",
     "text": [
      " 28%|██▊       | 162/585 [00:41<01:56,  3.62it/s]"
     ]
    },
    {
     "name": "stdout",
     "output_type": "stream",
     "text": [
      "Event details saved to ./output/cmu_events/children/events.cmu.edu_event_8463-17th-international-exhibition-of-botanical-art-amp/event_details.txt\n",
      "Links saved to ./output/cmu_events/children/events.cmu.edu_event_8463-17th-international-exhibition-of-botanical-art-amp/url.txt\n"
     ]
    },
    {
     "name": "stderr",
     "output_type": "stream",
     "text": [
      " 28%|██▊       | 163/585 [00:41<01:57,  3.59it/s]"
     ]
    },
    {
     "name": "stdout",
     "output_type": "stream",
     "text": [
      "Event details saved to ./output/cmu_events/children/events.cmu.edu_event_8464-17th-international-exhibition-of-botanical-art-amp/event_details.txt\n",
      "Links saved to ./output/cmu_events/children/events.cmu.edu_event_8464-17th-international-exhibition-of-botanical-art-amp/url.txt\n"
     ]
    },
    {
     "name": "stderr",
     "output_type": "stream",
     "text": [
      " 28%|██▊       | 164/585 [00:41<01:59,  3.51it/s]"
     ]
    },
    {
     "name": "stdout",
     "output_type": "stream",
     "text": [
      "Event details saved to ./output/cmu_events/children/events.cmu.edu_event_10108-cmu-pantry-hours/event_details.txt\n",
      "Links saved to ./output/cmu_events/children/events.cmu.edu_event_10108-cmu-pantry-hours/url.txt\n"
     ]
    },
    {
     "name": "stderr",
     "output_type": "stream",
     "text": [
      " 28%|██▊       | 165/585 [00:42<02:06,  3.32it/s]"
     ]
    },
    {
     "name": "stdout",
     "output_type": "stream",
     "text": [
      "Event details saved to ./output/cmu_events/children/events.cmu.edu_event_8465-17th-international-exhibition-of-botanical-art-amp/event_details.txt\n",
      "Links saved to ./output/cmu_events/children/events.cmu.edu_event_8465-17th-international-exhibition-of-botanical-art-amp/url.txt\n"
     ]
    },
    {
     "name": "stderr",
     "output_type": "stream",
     "text": [
      " 28%|██▊       | 166/585 [00:42<02:05,  3.35it/s]"
     ]
    },
    {
     "name": "stdout",
     "output_type": "stream",
     "text": [
      "Event details saved to ./output/cmu_events/children/events.cmu.edu_event_10127-cmu-pantry-hours/event_details.txt\n",
      "Links saved to ./output/cmu_events/children/events.cmu.edu_event_10127-cmu-pantry-hours/url.txt\n"
     ]
    },
    {
     "name": "stderr",
     "output_type": "stream",
     "text": [
      " 29%|██▊       | 167/585 [00:42<01:58,  3.52it/s]"
     ]
    },
    {
     "name": "stdout",
     "output_type": "stream",
     "text": [
      "Event details saved to ./output/cmu_events/children/events.cmu.edu_event_12407-final-exams/event_details.txt\n",
      "Links saved to ./output/cmu_events/children/events.cmu.edu_event_12407-final-exams/url.txt\n"
     ]
    },
    {
     "name": "stderr",
     "output_type": "stream",
     "text": [
      " 29%|██▊       | 168/585 [00:43<01:55,  3.61it/s]"
     ]
    },
    {
     "name": "stdout",
     "output_type": "stream",
     "text": [
      "Event details saved to ./output/cmu_events/children/events.cmu.edu_event_10145-cmu-pantry-hours/event_details.txt\n",
      "Links saved to ./output/cmu_events/children/events.cmu.edu_event_10145-cmu-pantry-hours/url.txt\n"
     ]
    },
    {
     "name": "stderr",
     "output_type": "stream",
     "text": [
      " 29%|██▉       | 170/585 [00:43<02:05,  3.32it/s]"
     ]
    },
    {
     "name": "stdout",
     "output_type": "stream",
     "text": [
      "Event details saved to ./output/cmu_events/children/events.cmu.edu_event_12404-final-exams/event_details.txt\n",
      "Links saved to ./output/cmu_events/children/events.cmu.edu_event_12404-final-exams/url.txt\n",
      "Event details saved to ./output/cmu_events/children/events.cmu.edu_event_7307-here-to-stay-celebrating-40-years-at-the/event_details.txt\n",
      "Links saved to ./output/cmu_events/children/events.cmu.edu_event_7307-here-to-stay-celebrating-40-years-at-the/url.txt\n"
     ]
    },
    {
     "name": "stderr",
     "output_type": "stream",
     "text": [
      " 29%|██▉       | 171/585 [00:44<02:08,  3.21it/s]"
     ]
    },
    {
     "name": "stdout",
     "output_type": "stream",
     "text": [
      "Event details saved to ./output/cmu_events/children/events.cmu.edu_event_8466-17th-international-exhibition-of-botanical-art-amp/event_details.txt\n",
      "Links saved to ./output/cmu_events/children/events.cmu.edu_event_8466-17th-international-exhibition-of-botanical-art-amp/url.txt\n"
     ]
    },
    {
     "name": "stderr",
     "output_type": "stream",
     "text": [
      " 29%|██▉       | 172/585 [00:44<02:02,  3.38it/s]"
     ]
    },
    {
     "name": "stdout",
     "output_type": "stream",
     "text": [
      "Event details saved to ./output/cmu_events/children/events.cmu.edu_event_10052-cmu-pantry-hours/event_details.txt\n",
      "Links saved to ./output/cmu_events/children/events.cmu.edu_event_10052-cmu-pantry-hours/url.txt\n"
     ]
    },
    {
     "name": "stderr",
     "output_type": "stream",
     "text": [
      " 30%|██▉       | 173/585 [00:44<02:03,  3.33it/s]"
     ]
    },
    {
     "name": "stdout",
     "output_type": "stream",
     "text": [
      "Event details saved to ./output/cmu_events/children/events.cmu.edu_event_11913-mens-basketball-washington-jefferson-vs/event_details.txt\n",
      "Links saved to ./output/cmu_events/children/events.cmu.edu_event_11913-mens-basketball-washington-jefferson-vs/url.txt\n"
     ]
    },
    {
     "name": "stderr",
     "output_type": "stream",
     "text": [
      " 30%|██▉       | 174/585 [00:45<02:10,  3.14it/s]"
     ]
    },
    {
     "name": "stdout",
     "output_type": "stream",
     "text": [
      "Event details saved to ./output/cmu_events/children/events.cmu.edu_event_10071-cmu-pantry-hours/event_details.txt\n",
      "Links saved to ./output/cmu_events/children/events.cmu.edu_event_10071-cmu-pantry-hours/url.txt\n"
     ]
    },
    {
     "name": "stderr",
     "output_type": "stream",
     "text": [
      " 30%|██▉       | 175/585 [00:45<02:13,  3.06it/s]"
     ]
    },
    {
     "name": "stdout",
     "output_type": "stream",
     "text": [
      "Event details saved to ./output/cmu_events/children/events.cmu.edu_event_10090-cmu-pantry-hours/event_details.txt\n",
      "Links saved to ./output/cmu_events/children/events.cmu.edu_event_10090-cmu-pantry-hours/url.txt\n"
     ]
    },
    {
     "name": "stderr",
     "output_type": "stream",
     "text": [
      " 30%|███       | 176/585 [00:45<02:10,  3.14it/s]"
     ]
    },
    {
     "name": "stdout",
     "output_type": "stream",
     "text": [
      "Event details saved to ./output/cmu_events/children/events.cmu.edu_event_12402-final-grades-due-by/event_details.txt\n",
      "Links saved to ./output/cmu_events/children/events.cmu.edu_event_12402-final-grades-due-by/url.txt\n"
     ]
    },
    {
     "name": "stderr",
     "output_type": "stream",
     "text": [
      " 30%|███       | 177/585 [00:45<02:01,  3.35it/s]"
     ]
    },
    {
     "name": "stdout",
     "output_type": "stream",
     "text": [
      "Event details saved to ./output/cmu_events/children/events.cmu.edu_event_10109-cmu-pantry-hours/event_details.txt\n",
      "Links saved to ./output/cmu_events/children/events.cmu.edu_event_10109-cmu-pantry-hours/url.txt\n"
     ]
    },
    {
     "name": "stderr",
     "output_type": "stream",
     "text": [
      " 30%|███       | 178/585 [00:46<01:58,  3.44it/s]"
     ]
    },
    {
     "name": "stdout",
     "output_type": "stream",
     "text": [
      "Event details saved to ./output/cmu_events/children/events.cmu.edu_event_7307-here-to-stay-celebrating-40-years-at-the/event_details.txt\n",
      "Links saved to ./output/cmu_events/children/events.cmu.edu_event_7307-here-to-stay-celebrating-40-years-at-the/url.txt\n",
      "Event details saved to ./output/cmu_events/children/events.cmu.edu_event_7307-here-to-stay-celebrating-40-years-at-the/event_details.txt\n"
     ]
    },
    {
     "name": "stderr",
     "output_type": "stream",
     "text": [
      " 31%|███       | 180/585 [00:46<01:34,  4.30it/s]"
     ]
    },
    {
     "name": "stdout",
     "output_type": "stream",
     "text": [
      "Links saved to ./output/cmu_events/children/events.cmu.edu_event_7307-here-to-stay-celebrating-40-years-at-the/url.txt\n",
      "Event details saved to ./output/cmu_events/children/events.cmu.edu_event_9929-nativity-fast/event_details.txt\n",
      "Links saved to ./output/cmu_events/children/events.cmu.edu_event_9929-nativity-fast/url.txt\n"
     ]
    },
    {
     "name": "stderr",
     "output_type": "stream",
     "text": [
      " 31%|███       | 181/585 [00:46<01:49,  3.70it/s]"
     ]
    },
    {
     "name": "stdout",
     "output_type": "stream",
     "text": [
      "Event details saved to ./output/cmu_events/children/events.cmu.edu_event_7307-here-to-stay-celebrating-40-years-at-the/event_details.txt\n",
      "Links saved to ./output/cmu_events/children/events.cmu.edu_event_7307-here-to-stay-celebrating-40-years-at-the/url.txt\n"
     ]
    },
    {
     "name": "stderr",
     "output_type": "stream",
     "text": [
      " 31%|███▏      | 183/585 [00:47<01:44,  3.83it/s]"
     ]
    },
    {
     "name": "stdout",
     "output_type": "stream",
     "text": [
      "Event details saved to ./output/cmu_events/children/events.cmu.edu_event_9929-nativity-fast/event_details.txt\n",
      "Links saved to ./output/cmu_events/children/events.cmu.edu_event_9929-nativity-fast/url.txt\n",
      "Event details saved to ./output/cmu_events/children/events.cmu.edu_event_7307-here-to-stay-celebrating-40-years-at-the/event_details.txt\n",
      "Links saved to ./output/cmu_events/children/events.cmu.edu_event_7307-here-to-stay-celebrating-40-years-at-the/url.txt\n"
     ]
    },
    {
     "name": "stderr",
     "output_type": "stream",
     "text": [
      " 31%|███▏      | 184/585 [00:47<01:34,  4.25it/s]"
     ]
    },
    {
     "name": "stdout",
     "output_type": "stream",
     "text": [
      "Event details saved to ./output/cmu_events/children/events.cmu.edu_event_9929-nativity-fast/event_details.txt\n",
      "Links saved to ./output/cmu_events/children/events.cmu.edu_event_9929-nativity-fast/url.txt\n"
     ]
    },
    {
     "name": "stderr",
     "output_type": "stream",
     "text": [
      " 32%|███▏      | 185/585 [00:47<01:47,  3.72it/s]"
     ]
    },
    {
     "name": "stdout",
     "output_type": "stream",
     "text": [
      "Event details saved to ./output/cmu_events/children/events.cmu.edu_event_9929-nativity-fast/event_details.txt\n",
      "Links saved to ./output/cmu_events/children/events.cmu.edu_event_9929-nativity-fast/url.txt\n"
     ]
    },
    {
     "name": "stderr",
     "output_type": "stream",
     "text": [
      " 32%|███▏      | 187/585 [00:48<01:43,  3.86it/s]"
     ]
    },
    {
     "name": "stdout",
     "output_type": "stream",
     "text": [
      "Event details saved to ./output/cmu_events/children/events.cmu.edu_event_12401-community-appreciation-day/event_details.txt\n",
      "Links saved to ./output/cmu_events/children/events.cmu.edu_event_12401-community-appreciation-day/url.txt\n",
      "Event details saved to ./output/cmu_events/children/events.cmu.edu_event_7307-here-to-stay-celebrating-40-years-at-the/event_details.txt\n",
      "Links saved to ./output/cmu_events/children/events.cmu.edu_event_7307-here-to-stay-celebrating-40-years-at-the/url.txt\n"
     ]
    },
    {
     "name": "stderr",
     "output_type": "stream",
     "text": [
      " 32%|███▏      | 188/585 [00:48<01:52,  3.52it/s]"
     ]
    },
    {
     "name": "stdout",
     "output_type": "stream",
     "text": [
      "Event details saved to ./output/cmu_events/children/events.cmu.edu_event_12400-university-closed/event_details.txt\n",
      "Links saved to ./output/cmu_events/children/events.cmu.edu_event_12400-university-closed/url.txt\n"
     ]
    },
    {
     "name": "stderr",
     "output_type": "stream",
     "text": [
      " 32%|███▏      | 189/585 [00:49<01:49,  3.61it/s]"
     ]
    },
    {
     "name": "stdout",
     "output_type": "stream",
     "text": [
      "Event details saved to ./output/cmu_events/children/events.cmu.edu_event_9936-christmas-feast-of-the-nativity/event_details.txt\n",
      "Links saved to ./output/cmu_events/children/events.cmu.edu_event_9936-christmas-feast-of-the-nativity/url.txt\n"
     ]
    },
    {
     "name": "stderr",
     "output_type": "stream",
     "text": [
      " 32%|███▏      | 190/585 [00:49<01:49,  3.62it/s]"
     ]
    },
    {
     "name": "stdout",
     "output_type": "stream",
     "text": [
      "Event details saved to ./output/cmu_events/children/events.cmu.edu_event_9938-hanukkah/event_details.txt\n",
      "Links saved to ./output/cmu_events/children/events.cmu.edu_event_9938-hanukkah/url.txt\n"
     ]
    },
    {
     "name": "stderr",
     "output_type": "stream",
     "text": [
      " 33%|███▎      | 192/585 [00:50<02:58,  2.20it/s]"
     ]
    },
    {
     "name": "stdout",
     "output_type": "stream",
     "text": [
      "Event details saved to ./output/cmu_events/children/events.cmu.edu_event_9938-hanukkah/event_details.txt\n",
      "Links saved to ./output/cmu_events/children/events.cmu.edu_event_9938-hanukkah/url.txt\n",
      "Event details saved to ./output/cmu_events/children/events.cmu.edu_event_7307-here-to-stay-celebrating-40-years-at-the/event_details.txt\n",
      "Links saved to ./output/cmu_events/children/events.cmu.edu_event_7307-here-to-stay-celebrating-40-years-at-the/url.txt\n"
     ]
    },
    {
     "name": "stderr",
     "output_type": "stream",
     "text": [
      " 33%|███▎      | 194/585 [00:51<02:09,  3.02it/s]"
     ]
    },
    {
     "name": "stdout",
     "output_type": "stream",
     "text": [
      "Event details saved to ./output/cmu_events/children/events.cmu.edu_event_9938-hanukkah/event_details.txt\n",
      "Links saved to ./output/cmu_events/children/events.cmu.edu_event_9938-hanukkah/url.txt\n",
      "Event details saved to ./output/cmu_events/children/events.cmu.edu_event_7307-here-to-stay-celebrating-40-years-at-the/event_details.txt\n",
      "Links saved to ./output/cmu_events/children/events.cmu.edu_event_7307-here-to-stay-celebrating-40-years-at-the/url.txt\n"
     ]
    },
    {
     "name": "stderr",
     "output_type": "stream",
     "text": [
      " 33%|███▎      | 195/585 [00:51<02:02,  3.19it/s]"
     ]
    },
    {
     "name": "stdout",
     "output_type": "stream",
     "text": [
      "Event details saved to ./output/cmu_events/children/events.cmu.edu_event_12400-university-closed/event_details.txt\n",
      "Links saved to ./output/cmu_events/children/events.cmu.edu_event_12400-university-closed/url.txt\n"
     ]
    },
    {
     "name": "stderr",
     "output_type": "stream",
     "text": [
      " 34%|███▎      | 196/585 [00:51<01:59,  3.24it/s]"
     ]
    },
    {
     "name": "stdout",
     "output_type": "stream",
     "text": [
      "Event details saved to ./output/cmu_events/children/events.cmu.edu_event_9938-hanukkah/event_details.txt\n",
      "Links saved to ./output/cmu_events/children/events.cmu.edu_event_9938-hanukkah/url.txt\n"
     ]
    },
    {
     "name": "stderr",
     "output_type": "stream",
     "text": [
      " 34%|███▍      | 198/585 [00:52<01:47,  3.62it/s]"
     ]
    },
    {
     "name": "stdout",
     "output_type": "stream",
     "text": [
      "Event details saved to ./output/cmu_events/children/events.cmu.edu_event_9938-hanukkah/event_details.txt\n",
      "Links saved to ./output/cmu_events/children/events.cmu.edu_event_9938-hanukkah/url.txt\n",
      "Event details saved to ./output/cmu_events/children/events.cmu.edu_event_7307-here-to-stay-celebrating-40-years-at-the/event_details.txt\n",
      "Links saved to ./output/cmu_events/children/events.cmu.edu_event_7307-here-to-stay-celebrating-40-years-at-the/url.txt\n"
     ]
    },
    {
     "name": "stderr",
     "output_type": "stream",
     "text": [
      " 34%|███▍      | 200/585 [00:52<01:38,  3.93it/s]"
     ]
    },
    {
     "name": "stdout",
     "output_type": "stream",
     "text": [
      "Event details saved to ./output/cmu_events/children/events.cmu.edu_event_9938-hanukkah/event_details.txt\n",
      "Links saved to ./output/cmu_events/children/events.cmu.edu_event_9938-hanukkah/url.txt\n",
      "Event details saved to ./output/cmu_events/children/events.cmu.edu_event_7307-here-to-stay-celebrating-40-years-at-the/event_details.txt\n",
      "Links saved to ./output/cmu_events/children/events.cmu.edu_event_7307-here-to-stay-celebrating-40-years-at-the/url.txt\n"
     ]
    },
    {
     "name": "stderr",
     "output_type": "stream",
     "text": [
      " 34%|███▍      | 201/585 [00:53<01:39,  3.87it/s]"
     ]
    },
    {
     "name": "stdout",
     "output_type": "stream",
     "text": [
      "Event details saved to ./output/cmu_events/children/events.cmu.edu_event_9938-hanukkah/event_details.txt\n",
      "Links saved to ./output/cmu_events/children/events.cmu.edu_event_9938-hanukkah/url.txt\n"
     ]
    },
    {
     "name": "stderr",
     "output_type": "stream",
     "text": [
      " 35%|███▍      | 202/585 [00:53<01:39,  3.84it/s]"
     ]
    },
    {
     "name": "stdout",
     "output_type": "stream",
     "text": [
      "Event details saved to ./output/cmu_events/children/events.cmu.edu_event_7307-here-to-stay-celebrating-40-years-at-the/event_details.txt\n",
      "Links saved to ./output/cmu_events/children/events.cmu.edu_event_7307-here-to-stay-celebrating-40-years-at-the/url.txt\n"
     ]
    },
    {
     "name": "stderr",
     "output_type": "stream",
     "text": [
      " 35%|███▍      | 203/585 [00:53<01:52,  3.40it/s]"
     ]
    },
    {
     "name": "stdout",
     "output_type": "stream",
     "text": [
      "Event details saved to ./output/cmu_events/children/events.cmu.edu_event_9937-kwanzaa/event_details.txt\n",
      "Links saved to ./output/cmu_events/children/events.cmu.edu_event_9937-kwanzaa/url.txt\n"
     ]
    },
    {
     "name": "stderr",
     "output_type": "stream",
     "text": [
      " 35%|███▌      | 205/585 [00:54<01:42,  3.72it/s]"
     ]
    },
    {
     "name": "stdout",
     "output_type": "stream",
     "text": [
      "Event details saved to ./output/cmu_events/children/events.cmu.edu_event_9938-hanukkah/event_details.txt\n",
      "Links saved to ./output/cmu_events/children/events.cmu.edu_event_9938-hanukkah/url.txt\n",
      "Event details saved to ./output/cmu_events/children/events.cmu.edu_event_9938-hanukkah/event_details.txt\n",
      "Links saved to ./output/cmu_events/children/events.cmu.edu_event_9938-hanukkah/url.txt\n"
     ]
    },
    {
     "name": "stderr",
     "output_type": "stream",
     "text": [
      " 35%|███▌      | 207/585 [00:54<01:37,  3.89it/s]"
     ]
    },
    {
     "name": "stdout",
     "output_type": "stream",
     "text": [
      "Event details saved to ./output/cmu_events/children/events.cmu.edu_event_12399-university-closed/event_details.txt\n",
      "Links saved to ./output/cmu_events/children/events.cmu.edu_event_12399-university-closed/url.txt\n",
      "Event details saved to ./output/cmu_events/children/events.cmu.edu_event_7307-here-to-stay-celebrating-40-years-at-the/event_details.txt\n",
      "Links saved to ./output/cmu_events/children/events.cmu.edu_event_7307-here-to-stay-celebrating-40-years-at-the/url.txt\n"
     ]
    },
    {
     "name": "stderr",
     "output_type": "stream",
     "text": [
      " 36%|███▌      | 209/585 [00:55<01:19,  4.71it/s]"
     ]
    },
    {
     "name": "stdout",
     "output_type": "stream",
     "text": [
      "Event details saved to ./output/cmu_events/children/events.cmu.edu_event_7307-here-to-stay-celebrating-40-years-at-the/event_details.txt\n",
      "Links saved to ./output/cmu_events/children/events.cmu.edu_event_7307-here-to-stay-celebrating-40-years-at-the/url.txt\n",
      "Event details saved to ./output/cmu_events/children/events.cmu.edu_event_9938-hanukkah/event_details.txt\n",
      "Links saved to ./output/cmu_events/children/events.cmu.edu_event_9938-hanukkah/url.txt\n"
     ]
    },
    {
     "name": "stderr",
     "output_type": "stream",
     "text": [
      " 36%|███▌      | 211/585 [00:55<01:13,  5.11it/s]"
     ]
    },
    {
     "name": "stdout",
     "output_type": "stream",
     "text": [
      "Event details saved to ./output/cmu_events/children/events.cmu.edu_event_7307-here-to-stay-celebrating-40-years-at-the/event_details.txt\n",
      "Links saved to ./output/cmu_events/children/events.cmu.edu_event_7307-here-to-stay-celebrating-40-years-at-the/url.txt\n",
      "Event details saved to ./output/cmu_events/children/events.cmu.edu_event_9938-hanukkah/event_details.txt\n",
      "Links saved to ./output/cmu_events/children/events.cmu.edu_event_9938-hanukkah/url.txt\n"
     ]
    },
    {
     "name": "stderr",
     "output_type": "stream",
     "text": [
      " 36%|███▌      | 212/585 [00:55<01:19,  4.70it/s]"
     ]
    },
    {
     "name": "stdout",
     "output_type": "stream",
     "text": [
      "Event details saved to ./output/cmu_events/children/events.cmu.edu_event_7307-here-to-stay-celebrating-40-years-at-the/event_details.txt\n",
      "Links saved to ./output/cmu_events/children/events.cmu.edu_event_7307-here-to-stay-celebrating-40-years-at-the/url.txt\n"
     ]
    },
    {
     "name": "stderr",
     "output_type": "stream",
     "text": [
      " 36%|███▋      | 213/585 [00:55<01:21,  4.55it/s]"
     ]
    },
    {
     "name": "stdout",
     "output_type": "stream",
     "text": [
      "Event details saved to ./output/cmu_events/children/events.cmu.edu_event_9938-hanukkah/event_details.txt\n",
      "Links saved to ./output/cmu_events/children/events.cmu.edu_event_9938-hanukkah/url.txt\n"
     ]
    },
    {
     "name": "stderr",
     "output_type": "stream",
     "text": [
      " 37%|███▋      | 214/585 [00:56<01:41,  3.67it/s]"
     ]
    },
    {
     "name": "stdout",
     "output_type": "stream",
     "text": [
      "Event details saved to ./output/cmu_events/children/events.cmu.edu_event_7307-here-to-stay-celebrating-40-years-at-the/event_details.txt\n",
      "Links saved to ./output/cmu_events/children/events.cmu.edu_event_7307-here-to-stay-celebrating-40-years-at-the/url.txt\n"
     ]
    },
    {
     "name": "stderr",
     "output_type": "stream",
     "text": [
      " 37%|███▋      | 216/585 [00:56<01:36,  3.84it/s]"
     ]
    },
    {
     "name": "stdout",
     "output_type": "stream",
     "text": [
      "Event details saved to ./output/cmu_events/children/events.cmu.edu_event_9937-kwanzaa/event_details.txt\n",
      "Links saved to ./output/cmu_events/children/events.cmu.edu_event_9937-kwanzaa/url.txt\n",
      "Event details saved to ./output/cmu_events/children/events.cmu.edu_event_9938-hanukkah/event_details.txt\n",
      "Links saved to ./output/cmu_events/children/events.cmu.edu_event_9938-hanukkah/url.txt\n"
     ]
    },
    {
     "name": "stderr",
     "output_type": "stream",
     "text": [
      " 37%|███▋      | 217/585 [00:57<01:29,  4.11it/s]"
     ]
    },
    {
     "name": "stdout",
     "output_type": "stream",
     "text": [
      "Event details saved to ./output/cmu_events/children/events.cmu.edu_event_9938-hanukkah/event_details.txt\n",
      "Links saved to ./output/cmu_events/children/events.cmu.edu_event_9938-hanukkah/url.txt\n"
     ]
    },
    {
     "name": "stderr",
     "output_type": "stream",
     "text": [
      " 37%|███▋      | 219/585 [00:57<01:26,  4.23it/s]"
     ]
    },
    {
     "name": "stdout",
     "output_type": "stream",
     "text": [
      "Event details saved to ./output/cmu_events/children/events.cmu.edu_event_12399-university-closed/event_details.txt\n",
      "Links saved to ./output/cmu_events/children/events.cmu.edu_event_12399-university-closed/url.txt\n",
      "Event details saved to ./output/cmu_events/children/events.cmu.edu_event_7307-here-to-stay-celebrating-40-years-at-the/event_details.txt\n",
      "Links saved to ./output/cmu_events/children/events.cmu.edu_event_7307-here-to-stay-celebrating-40-years-at-the/url.txt\n"
     ]
    },
    {
     "name": "stderr",
     "output_type": "stream",
     "text": [
      " 38%|███▊      | 220/585 [00:57<01:28,  4.12it/s]"
     ]
    },
    {
     "name": "stdout",
     "output_type": "stream",
     "text": [
      "Event details saved to ./output/cmu_events/children/events.cmu.edu_event_7307-here-to-stay-celebrating-40-years-at-the/event_details.txt\n",
      "Links saved to ./output/cmu_events/children/events.cmu.edu_event_7307-here-to-stay-celebrating-40-years-at-the/url.txt\n"
     ]
    },
    {
     "name": "stderr",
     "output_type": "stream",
     "text": [
      " 38%|███▊      | 221/585 [00:58<01:27,  4.14it/s]"
     ]
    },
    {
     "name": "stdout",
     "output_type": "stream",
     "text": [
      "Event details saved to ./output/cmu_events/children/events.cmu.edu_event_7307-here-to-stay-celebrating-40-years-at-the/event_details.txt\n",
      "Links saved to ./output/cmu_events/children/events.cmu.edu_event_7307-here-to-stay-celebrating-40-years-at-the/url.txt\n"
     ]
    },
    {
     "name": "stderr",
     "output_type": "stream",
     "text": [
      " 38%|███▊      | 222/585 [00:58<01:29,  4.04it/s]"
     ]
    },
    {
     "name": "stdout",
     "output_type": "stream",
     "text": [
      "Event details saved to ./output/cmu_events/children/events.cmu.edu_event_11907-mens-basketball-dickinson-vs-carnegie-mellon/event_details.txt\n",
      "Links saved to ./output/cmu_events/children/events.cmu.edu_event_11907-mens-basketball-dickinson-vs-carnegie-mellon/url.txt\n"
     ]
    },
    {
     "name": "stderr",
     "output_type": "stream",
     "text": [
      " 38%|███▊      | 224/585 [00:59<01:55,  3.11it/s]"
     ]
    },
    {
     "name": "stdout",
     "output_type": "stream",
     "text": [
      "Event details saved to ./output/cmu_events/children/events.cmu.edu_event_12398-fall-deans-lists-posted/event_details.txt\n",
      "Links saved to ./output/cmu_events/children/events.cmu.edu_event_12398-fall-deans-lists-posted/url.txt\n",
      "Event details saved to ./output/cmu_events/children/events.cmu.edu_event_7307-here-to-stay-celebrating-40-years-at-the/event_details.txt\n",
      "Links saved to ./output/cmu_events/children/events.cmu.edu_event_7307-here-to-stay-celebrating-40-years-at-the/url.txt\n"
     ]
    },
    {
     "name": "stderr",
     "output_type": "stream",
     "text": [
      " 38%|███▊      | 225/585 [00:59<01:52,  3.21it/s]"
     ]
    },
    {
     "name": "stdout",
     "output_type": "stream",
     "text": [
      "Event details saved to ./output/cmu_events/children/events.cmu.edu_event_7307-here-to-stay-celebrating-40-years-at-the/event_details.txt\n",
      "Links saved to ./output/cmu_events/children/events.cmu.edu_event_7307-here-to-stay-celebrating-40-years-at-the/url.txt\n",
      "Event details saved to ./output/cmu_events/children/events.cmu.edu_event_7307-here-to-stay-celebrating-40-years-at-the/event_details.txt\n"
     ]
    },
    {
     "name": "stderr",
     "output_type": "stream",
     "text": [
      " 39%|███▊      | 226/585 [00:59<01:39,  3.59it/s]"
     ]
    },
    {
     "name": "stdout",
     "output_type": "stream",
     "text": [
      "Links saved to ./output/cmu_events/children/events.cmu.edu_event_7307-here-to-stay-celebrating-40-years-at-the/url.txt\n"
     ]
    },
    {
     "name": "stderr",
     "output_type": "stream",
     "text": [
      " 39%|███▉      | 227/585 [01:00<01:44,  3.42it/s]"
     ]
    },
    {
     "name": "stdout",
     "output_type": "stream",
     "text": [
      "Event details saved to ./output/cmu_events/children/events.cmu.edu_event_7307-here-to-stay-celebrating-40-years-at-the/event_details.txt\n",
      "Links saved to ./output/cmu_events/children/events.cmu.edu_event_7307-here-to-stay-celebrating-40-years-at-the/url.txt\n"
     ]
    },
    {
     "name": "stderr",
     "output_type": "stream",
     "text": [
      " 39%|███▉      | 228/585 [01:00<01:35,  3.74it/s]"
     ]
    },
    {
     "name": "stdout",
     "output_type": "stream",
     "text": [
      "An error occurred: 404 Client Error: Not Found for url: https://events.cmu.edu/https://events.time.ly/vdibqnd/43900811\n"
     ]
    },
    {
     "name": "stderr",
     "output_type": "stream",
     "text": [
      " 39%|███▉      | 230/585 [01:00<01:29,  3.95it/s]"
     ]
    },
    {
     "name": "stdout",
     "output_type": "stream",
     "text": [
      "Event details saved to ./output/cmu_events/children/events.cmu.edu_event_7307-here-to-stay-celebrating-40-years-at-the/event_details.txt\n",
      "Links saved to ./output/cmu_events/children/events.cmu.edu_event_7307-here-to-stay-celebrating-40-years-at-the/url.txt\n",
      "Event details saved to ./output/cmu_events/children/events.cmu.edu_event_7307-here-to-stay-celebrating-40-years-at-the/event_details.txt\n",
      "Links saved to ./output/cmu_events/children/events.cmu.edu_event_7307-here-to-stay-celebrating-40-years-at-the/url.txt\n"
     ]
    },
    {
     "name": "stderr",
     "output_type": "stream",
     "text": [
      " 39%|███▉      | 231/585 [01:01<01:41,  3.50it/s]"
     ]
    },
    {
     "name": "stdout",
     "output_type": "stream",
     "text": [
      "Event details saved to ./output/cmu_events/children/events.cmu.edu_event_12397-first-day-of-classes/event_details.txt\n",
      "Links saved to ./output/cmu_events/children/events.cmu.edu_event_12397-first-day-of-classes/url.txt\n"
     ]
    },
    {
     "name": "stderr",
     "output_type": "stream",
     "text": [
      " 40%|███▉      | 232/585 [01:01<01:32,  3.84it/s]"
     ]
    },
    {
     "name": "stdout",
     "output_type": "stream",
     "text": [
      "Event details saved to ./output/cmu_events/children/events.cmu.edu_event_7307-here-to-stay-celebrating-40-years-at-the/event_details.txt\n",
      "Links saved to ./output/cmu_events/children/events.cmu.edu_event_7307-here-to-stay-celebrating-40-years-at-the/url.txt\n"
     ]
    },
    {
     "name": "stderr",
     "output_type": "stream",
     "text": [
      " 40%|███▉      | 233/585 [01:01<01:35,  3.70it/s]"
     ]
    },
    {
     "name": "stdout",
     "output_type": "stream",
     "text": [
      "Event details saved to ./output/cmu_events/children/events.cmu.edu_event_7307-here-to-stay-celebrating-40-years-at-the/event_details.txt\n",
      "Links saved to ./output/cmu_events/children/events.cmu.edu_event_7307-here-to-stay-celebrating-40-years-at-the/url.txt\n"
     ]
    },
    {
     "name": "stderr",
     "output_type": "stream",
     "text": [
      " 40%|████      | 234/585 [01:01<01:42,  3.44it/s]"
     ]
    },
    {
     "name": "stdout",
     "output_type": "stream",
     "text": [
      "Event details saved to ./output/cmu_events/children/events.cmu.edu_event_12492-mahayana-new-year/event_details.txt\n",
      "Links saved to ./output/cmu_events/children/events.cmu.edu_event_12492-mahayana-new-year/url.txt\n"
     ]
    },
    {
     "name": "stderr",
     "output_type": "stream",
     "text": [
      " 40%|████      | 236/585 [01:02<01:35,  3.65it/s]"
     ]
    },
    {
     "name": "stdout",
     "output_type": "stream",
     "text": [
      "Event details saved to ./output/cmu_events/children/events.cmu.edu_event_7307-here-to-stay-celebrating-40-years-at-the/event_details.txt\n",
      "Links saved to ./output/cmu_events/children/events.cmu.edu_event_7307-here-to-stay-celebrating-40-years-at-the/url.txt\n",
      "Event details saved to ./output/cmu_events/children/events.cmu.edu_event_7307-here-to-stay-celebrating-40-years-at-the/event_details.txt\n",
      "Links saved to ./output/cmu_events/children/events.cmu.edu_event_7307-here-to-stay-celebrating-40-years-at-the/url.txt\n"
     ]
    },
    {
     "name": "stderr",
     "output_type": "stream",
     "text": [
      " 41%|████      | 237/585 [01:02<01:40,  3.45it/s]"
     ]
    },
    {
     "name": "stdout",
     "output_type": "stream",
     "text": [
      "Event details saved to ./output/cmu_events/children/events.cmu.edu_event_7307-here-to-stay-celebrating-40-years-at-the/event_details.txt\n",
      "Links saved to ./output/cmu_events/children/events.cmu.edu_event_7307-here-to-stay-celebrating-40-years-at-the/url.txt\n"
     ]
    },
    {
     "name": "stderr",
     "output_type": "stream",
     "text": [
      " 41%|████      | 238/585 [01:03<01:46,  3.26it/s]"
     ]
    },
    {
     "name": "stdout",
     "output_type": "stream",
     "text": [
      "Event details saved to ./output/cmu_events/children/events.cmu.edu_event_12396-mini-3-add-audit-tuition-adjustment-drop/event_details.txt\n",
      "Links saved to ./output/cmu_events/children/events.cmu.edu_event_12396-mini-3-add-audit-tuition-adjustment-drop/url.txt\n"
     ]
    },
    {
     "name": "stderr",
     "output_type": "stream",
     "text": [
      " 41%|████      | 239/585 [01:03<01:40,  3.44it/s]"
     ]
    },
    {
     "name": "stdout",
     "output_type": "stream",
     "text": [
      "Event details saved to ./output/cmu_events/children/events.cmu.edu_event_11895-m-swimming-and-diving-cmu-time-trials/event_details.txt\n",
      "Links saved to ./output/cmu_events/children/events.cmu.edu_event_11895-m-swimming-and-diving-cmu-time-trials/url.txt\n"
     ]
    },
    {
     "name": "stderr",
     "output_type": "stream",
     "text": [
      " 41%|████      | 240/585 [01:03<01:39,  3.45it/s]"
     ]
    },
    {
     "name": "stdout",
     "output_type": "stream",
     "text": [
      "Event details saved to ./output/cmu_events/children/events.cmu.edu_event_11897-w-swimming-and-diving-cmu-time-trials/event_details.txt\n",
      "Links saved to ./output/cmu_events/children/events.cmu.edu_event_11897-w-swimming-and-diving-cmu-time-trials/url.txt\n"
     ]
    },
    {
     "name": "stderr",
     "output_type": "stream",
     "text": [
      " 41%|████      | 241/585 [01:03<01:37,  3.54it/s]"
     ]
    },
    {
     "name": "stdout",
     "output_type": "stream",
     "text": [
      "Event details saved to ./output/cmu_events/children/events.cmu.edu_event_7307-here-to-stay-celebrating-40-years-at-the/event_details.txt\n",
      "Links saved to ./output/cmu_events/children/events.cmu.edu_event_7307-here-to-stay-celebrating-40-years-at-the/url.txt\n"
     ]
    },
    {
     "name": "stderr",
     "output_type": "stream",
     "text": [
      " 41%|████▏     | 242/585 [01:04<01:31,  3.76it/s]"
     ]
    },
    {
     "name": "stdout",
     "output_type": "stream",
     "text": [
      "Event details saved to ./output/cmu_events/children/events.cmu.edu_event_7307-here-to-stay-celebrating-40-years-at-the/event_details.txt\n",
      "Links saved to ./output/cmu_events/children/events.cmu.edu_event_7307-here-to-stay-celebrating-40-years-at-the/url.txt\n"
     ]
    },
    {
     "name": "stderr",
     "output_type": "stream",
     "text": [
      " 42%|████▏     | 243/585 [01:04<01:41,  3.36it/s]"
     ]
    },
    {
     "name": "stdout",
     "output_type": "stream",
     "text": [
      "Event details saved to ./output/cmu_events/children/events.cmu.edu_event_12395-martin-luther-king-day-no-classes-university/event_details.txt\n",
      "Links saved to ./output/cmu_events/children/events.cmu.edu_event_12395-martin-luther-king-day-no-classes-university/url.txt\n"
     ]
    },
    {
     "name": "stderr",
     "output_type": "stream",
     "text": [
      " 42%|████▏     | 244/585 [01:04<01:35,  3.57it/s]"
     ]
    },
    {
     "name": "stdout",
     "output_type": "stream",
     "text": [
      "Event details saved to ./output/cmu_events/children/events.cmu.edu_event_7307-here-to-stay-celebrating-40-years-at-the/event_details.txt\n",
      "Links saved to ./output/cmu_events/children/events.cmu.edu_event_7307-here-to-stay-celebrating-40-years-at-the/url.txt\n"
     ]
    },
    {
     "name": "stderr",
     "output_type": "stream",
     "text": [
      " 42%|████▏     | 245/585 [01:05<01:31,  3.73it/s]"
     ]
    },
    {
     "name": "stdout",
     "output_type": "stream",
     "text": [
      "Event details saved to ./output/cmu_events/children/events.cmu.edu_event_7307-here-to-stay-celebrating-40-years-at-the/event_details.txt\n",
      "Links saved to ./output/cmu_events/children/events.cmu.edu_event_7307-here-to-stay-celebrating-40-years-at-the/url.txt\n"
     ]
    },
    {
     "name": "stderr",
     "output_type": "stream",
     "text": [
      " 42%|████▏     | 246/585 [01:05<01:24,  3.99it/s]"
     ]
    },
    {
     "name": "stdout",
     "output_type": "stream",
     "text": [
      "Event details saved to ./output/cmu_events/children/events.cmu.edu_event_7307-here-to-stay-celebrating-40-years-at-the/event_details.txt\n",
      "Links saved to ./output/cmu_events/children/events.cmu.edu_event_7307-here-to-stay-celebrating-40-years-at-the/url.txt\n"
     ]
    },
    {
     "name": "stderr",
     "output_type": "stream",
     "text": [
      " 42%|████▏     | 247/585 [01:05<01:23,  4.03it/s]"
     ]
    },
    {
     "name": "stdout",
     "output_type": "stream",
     "text": [
      "Event details saved to ./output/cmu_events/children/events.cmu.edu_event_11890-mens-basketball-nyu-vs-carnegie-mellon/event_details.txt\n",
      "Links saved to ./output/cmu_events/children/events.cmu.edu_event_11890-mens-basketball-nyu-vs-carnegie-mellon/url.txt\n"
     ]
    },
    {
     "name": "stderr",
     "output_type": "stream",
     "text": [
      " 42%|████▏     | 248/585 [01:05<01:25,  3.96it/s]"
     ]
    },
    {
     "name": "stdout",
     "output_type": "stream",
     "text": [
      "Event details saved to ./output/cmu_events/children/events.cmu.edu_event_11889-womens-basketball-nyu-vs-carnegie-mellon/event_details.txt\n",
      "Links saved to ./output/cmu_events/children/events.cmu.edu_event_11889-womens-basketball-nyu-vs-carnegie-mellon/url.txt\n"
     ]
    },
    {
     "name": "stderr",
     "output_type": "stream",
     "text": [
      " 43%|████▎     | 249/585 [01:06<01:34,  3.55it/s]"
     ]
    },
    {
     "name": "stdout",
     "output_type": "stream",
     "text": [
      "An error occurred: 404 Client Error: Not Found for url: https://events.cmu.edu/https://events.time.ly/vdibqnd/43900780\n"
     ]
    },
    {
     "name": "stderr",
     "output_type": "stream",
     "text": [
      " 43%|████▎     | 250/585 [01:06<01:43,  3.23it/s]"
     ]
    },
    {
     "name": "stdout",
     "output_type": "stream",
     "text": [
      "Event details saved to ./output/cmu_events/children/events.cmu.edu_event_11888-womens-tennis-duquesne-vs-carnegie-mellon/event_details.txt\n",
      "Links saved to ./output/cmu_events/children/events.cmu.edu_event_11888-womens-tennis-duquesne-vs-carnegie-mellon/url.txt\n"
     ]
    },
    {
     "name": "stderr",
     "output_type": "stream",
     "text": [
      " 43%|████▎     | 251/585 [01:06<01:46,  3.14it/s]"
     ]
    },
    {
     "name": "stdout",
     "output_type": "stream",
     "text": [
      "Event details saved to ./output/cmu_events/children/events.cmu.edu_event_11883-womens-basketball-brandeis-vs-carnegie-mellon/event_details.txt\n",
      "Links saved to ./output/cmu_events/children/events.cmu.edu_event_11883-womens-basketball-brandeis-vs-carnegie-mellon/url.txt\n"
     ]
    },
    {
     "name": "stderr",
     "output_type": "stream",
     "text": [
      " 43%|████▎     | 253/585 [01:07<01:25,  3.87it/s]"
     ]
    },
    {
     "name": "stdout",
     "output_type": "stream",
     "text": [
      "Event details saved to ./output/cmu_events/children/events.cmu.edu_event_11882-mens-basketball-brandeis-vs-carnegie-mellon/event_details.txt\n",
      "Links saved to ./output/cmu_events/children/events.cmu.edu_event_11882-mens-basketball-brandeis-vs-carnegie-mellon/url.txt\n",
      "Event details saved to ./output/cmu_events/children/events.cmu.edu_event_7307-here-to-stay-celebrating-40-years-at-the/event_details.txt\n",
      "Links saved to ./output/cmu_events/children/events.cmu.edu_event_7307-here-to-stay-celebrating-40-years-at-the/url.txt\n"
     ]
    },
    {
     "name": "stderr",
     "output_type": "stream",
     "text": [
      " 43%|████▎     | 254/585 [01:07<01:34,  3.49it/s]"
     ]
    },
    {
     "name": "stdout",
     "output_type": "stream",
     "text": [
      "Event details saved to ./output/cmu_events/children/events.cmu.edu_event_12394-semester-add-audit-tuition-adjustment-drop/event_details.txt\n",
      "Links saved to ./output/cmu_events/children/events.cmu.edu_event_12394-semester-add-audit-tuition-adjustment-drop/url.txt\n"
     ]
    },
    {
     "name": "stderr",
     "output_type": "stream",
     "text": [
      " 44%|████▎     | 255/585 [01:07<01:33,  3.52it/s]"
     ]
    },
    {
     "name": "stdout",
     "output_type": "stream",
     "text": [
      "Event details saved to ./output/cmu_events/children/events.cmu.edu_event_7307-here-to-stay-celebrating-40-years-at-the/event_details.txt\n",
      "Links saved to ./output/cmu_events/children/events.cmu.edu_event_7307-here-to-stay-celebrating-40-years-at-the/url.txt\n"
     ]
    },
    {
     "name": "stderr",
     "output_type": "stream",
     "text": [
      " 44%|████▍     | 256/585 [01:09<03:07,  1.76it/s]"
     ]
    },
    {
     "name": "stdout",
     "output_type": "stream",
     "text": [
      "Event details saved to ./output/cmu_events/children/events.cmu.edu_event_7307-here-to-stay-celebrating-40-years-at-the/event_details.txt\n",
      "Links saved to ./output/cmu_events/children/events.cmu.edu_event_7307-here-to-stay-celebrating-40-years-at-the/url.txt\n"
     ]
    },
    {
     "name": "stderr",
     "output_type": "stream",
     "text": [
      " 44%|████▍     | 257/585 [01:09<02:43,  2.00it/s]"
     ]
    },
    {
     "name": "stdout",
     "output_type": "stream",
     "text": [
      "Event details saved to ./output/cmu_events/children/events.cmu.edu_event_12493-lunar-new-year/event_details.txt\n",
      "Links saved to ./output/cmu_events/children/events.cmu.edu_event_12493-lunar-new-year/url.txt\n"
     ]
    },
    {
     "name": "stderr",
     "output_type": "stream",
     "text": [
      " 44%|████▍     | 258/585 [01:09<02:25,  2.24it/s]"
     ]
    },
    {
     "name": "stdout",
     "output_type": "stream",
     "text": [
      "An error occurred: 404 Client Error: Not Found for url: https://events.cmu.edu/https://events.time.ly/vdibqnd/43900797\n"
     ]
    },
    {
     "name": "stderr",
     "output_type": "stream",
     "text": [
      " 44%|████▍     | 260/585 [01:10<01:41,  3.19it/s]"
     ]
    },
    {
     "name": "stdout",
     "output_type": "stream",
     "text": [
      "Event details saved to ./output/cmu_events/children/events.cmu.edu_event_7307-here-to-stay-celebrating-40-years-at-the/event_details.txt\n",
      "Links saved to ./output/cmu_events/children/events.cmu.edu_event_7307-here-to-stay-celebrating-40-years-at-the/url.txt\n",
      "An error occurred: 404 Client Error: Not Found for url: https://events.cmu.edu/https://events.time.ly/vdibqnd/43900798\n"
     ]
    },
    {
     "name": "stderr",
     "output_type": "stream",
     "text": [
      " 45%|████▍     | 261/585 [01:10<01:34,  3.42it/s]"
     ]
    },
    {
     "name": "stdout",
     "output_type": "stream",
     "text": [
      "Event details saved to ./output/cmu_events/children/events.cmu.edu_event_11880-m-swimming-and-diving-western-pa-invitational/event_details.txt\n",
      "Links saved to ./output/cmu_events/children/events.cmu.edu_event_11880-m-swimming-and-diving-western-pa-invitational/url.txt\n"
     ]
    },
    {
     "name": "stderr",
     "output_type": "stream",
     "text": [
      " 45%|████▍     | 262/585 [01:10<01:43,  3.13it/s]"
     ]
    },
    {
     "name": "stdout",
     "output_type": "stream",
     "text": [
      "An error occurred: 404 Client Error: Not Found for url: https://events.cmu.edu/https://events.time.ly/vdibqnd/43900799\n"
     ]
    },
    {
     "name": "stderr",
     "output_type": "stream",
     "text": [
      " 45%|████▍     | 263/585 [01:11<01:41,  3.17it/s]"
     ]
    },
    {
     "name": "stdout",
     "output_type": "stream",
     "text": [
      "Event details saved to ./output/cmu_events/children/events.cmu.edu_event_11873-m-swimming-and-diving-western-pa-invitational/event_details.txt\n",
      "Links saved to ./output/cmu_events/children/events.cmu.edu_event_11873-m-swimming-and-diving-western-pa-invitational/url.txt\n"
     ]
    },
    {
     "name": "stderr",
     "output_type": "stream",
     "text": [
      " 45%|████▌     | 264/585 [01:11<01:39,  3.23it/s]"
     ]
    },
    {
     "name": "stdout",
     "output_type": "stream",
     "text": [
      "Event details saved to ./output/cmu_events/children/events.cmu.edu_event_11883-womens-basketball-brandeis-vs-carnegie-mellon/event_details.txt\n",
      "Links saved to ./output/cmu_events/children/events.cmu.edu_event_11883-womens-basketball-brandeis-vs-carnegie-mellon/url.txt\n"
     ]
    },
    {
     "name": "stderr",
     "output_type": "stream",
     "text": [
      " 45%|████▌     | 266/585 [01:11<01:30,  3.54it/s]"
     ]
    },
    {
     "name": "stdout",
     "output_type": "stream",
     "text": [
      "Event details saved to ./output/cmu_events/children/events.cmu.edu_event_11882-mens-basketball-brandeis-vs-carnegie-mellon/event_details.txt\n",
      "Links saved to ./output/cmu_events/children/events.cmu.edu_event_11882-mens-basketball-brandeis-vs-carnegie-mellon/url.txt\n",
      "Event details saved to ./output/cmu_events/children/events.cmu.edu_event_7307-here-to-stay-celebrating-40-years-at-the/event_details.txt\n",
      "Links saved to ./output/cmu_events/children/events.cmu.edu_event_7307-here-to-stay-celebrating-40-years-at-the/url.txt\n"
     ]
    },
    {
     "name": "stderr",
     "output_type": "stream",
     "text": [
      " 46%|████▌     | 267/585 [01:12<01:40,  3.17it/s]"
     ]
    },
    {
     "name": "stdout",
     "output_type": "stream",
     "text": [
      "Event details saved to ./output/cmu_events/children/events.cmu.edu_event_12394-semester-add-audit-tuition-adjustment-drop/event_details.txt\n",
      "Links saved to ./output/cmu_events/children/events.cmu.edu_event_12394-semester-add-audit-tuition-adjustment-drop/url.txt\n"
     ]
    },
    {
     "name": "stderr",
     "output_type": "stream",
     "text": [
      " 46%|████▌     | 269/585 [01:12<01:23,  3.78it/s]"
     ]
    },
    {
     "name": "stdout",
     "output_type": "stream",
     "text": [
      "Event details saved to ./output/cmu_events/children/events.cmu.edu_event_7307-here-to-stay-celebrating-40-years-at-the/event_details.txt\n",
      "Links saved to ./output/cmu_events/children/events.cmu.edu_event_7307-here-to-stay-celebrating-40-years-at-the/url.txt\n",
      "Event details saved to ./output/cmu_events/children/events.cmu.edu_event_7307-here-to-stay-celebrating-40-years-at-the/event_details.txt\n",
      "Links saved to ./output/cmu_events/children/events.cmu.edu_event_7307-here-to-stay-celebrating-40-years-at-the/url.txt\n"
     ]
    },
    {
     "name": "stderr",
     "output_type": "stream",
     "text": [
      " 46%|████▌     | 270/585 [01:12<01:15,  4.17it/s]"
     ]
    },
    {
     "name": "stdout",
     "output_type": "stream",
     "text": [
      "Event details saved to ./output/cmu_events/children/events.cmu.edu_event_12493-lunar-new-year/event_details.txt\n",
      "Links saved to ./output/cmu_events/children/events.cmu.edu_event_12493-lunar-new-year/url.txt\n"
     ]
    },
    {
     "name": "stderr",
     "output_type": "stream",
     "text": [
      " 46%|████▋     | 271/585 [01:13<01:18,  4.02it/s]"
     ]
    },
    {
     "name": "stdout",
     "output_type": "stream",
     "text": [
      "An error occurred: 404 Client Error: Not Found for url: https://events.cmu.edu/https://events.time.ly/vdibqnd/43900797\n"
     ]
    },
    {
     "name": "stderr",
     "output_type": "stream",
     "text": [
      " 47%|████▋     | 273/585 [01:13<01:09,  4.51it/s]"
     ]
    },
    {
     "name": "stdout",
     "output_type": "stream",
     "text": [
      "Event details saved to ./output/cmu_events/children/events.cmu.edu_event_7307-here-to-stay-celebrating-40-years-at-the/event_details.txt\n",
      "Links saved to ./output/cmu_events/children/events.cmu.edu_event_7307-here-to-stay-celebrating-40-years-at-the/url.txt\n",
      "An error occurred: 404 Client Error: Not Found for url: https://events.cmu.edu/https://events.time.ly/vdibqnd/43900798\n"
     ]
    },
    {
     "name": "stderr",
     "output_type": "stream",
     "text": [
      " 47%|████▋     | 274/585 [01:13<01:12,  4.27it/s]"
     ]
    },
    {
     "name": "stdout",
     "output_type": "stream",
     "text": [
      "Event details saved to ./output/cmu_events/children/events.cmu.edu_event_11880-m-swimming-and-diving-western-pa-invitational/event_details.txt\n",
      "Links saved to ./output/cmu_events/children/events.cmu.edu_event_11880-m-swimming-and-diving-western-pa-invitational/url.txt\n"
     ]
    },
    {
     "name": "stderr",
     "output_type": "stream",
     "text": [
      " 47%|████▋     | 276/585 [01:14<01:08,  4.48it/s]"
     ]
    },
    {
     "name": "stdout",
     "output_type": "stream",
     "text": [
      "An error occurred: 404 Client Error: Not Found for url: https://events.cmu.edu/https://events.time.ly/vdibqnd/43900799\n",
      "Event details saved to ./output/cmu_events/children/events.cmu.edu_event_11873-m-swimming-and-diving-western-pa-invitational/event_details.txt\n",
      "Links saved to ./output/cmu_events/children/events.cmu.edu_event_11873-m-swimming-and-diving-western-pa-invitational/url.txt\n"
     ]
    },
    {
     "name": "stderr",
     "output_type": "stream",
     "text": [
      " 47%|████▋     | 277/585 [01:14<01:04,  4.76it/s]"
     ]
    },
    {
     "name": "stdout",
     "output_type": "stream",
     "text": [
      "An error occurred: 404 Client Error: Not Found for url: https://events.cmu.edu/https://events.time.ly/vdibqnd/43900800\n"
     ]
    },
    {
     "name": "stderr",
     "output_type": "stream",
     "text": [
      " 48%|████▊     | 278/585 [01:14<01:07,  4.55it/s]"
     ]
    },
    {
     "name": "stdout",
     "output_type": "stream",
     "text": [
      "Event details saved to ./output/cmu_events/children/events.cmu.edu_event_12518-black-history-month/event_details.txt\n",
      "Links saved to ./output/cmu_events/children/events.cmu.edu_event_12518-black-history-month/url.txt\n"
     ]
    },
    {
     "name": "stderr",
     "output_type": "stream",
     "text": [
      " 48%|████▊     | 279/585 [01:15<01:13,  4.15it/s]"
     ]
    },
    {
     "name": "stdout",
     "output_type": "stream",
     "text": [
      "Event details saved to ./output/cmu_events/children/events.cmu.edu_event_12518-black-history-month/event_details.txt\n",
      "Links saved to ./output/cmu_events/children/events.cmu.edu_event_12518-black-history-month/url.txt\n"
     ]
    },
    {
     "name": "stderr",
     "output_type": "stream",
     "text": [
      " 48%|████▊     | 281/585 [01:15<01:03,  4.77it/s]"
     ]
    },
    {
     "name": "stdout",
     "output_type": "stream",
     "text": [
      "Event details saved to ./output/cmu_events/children/events.cmu.edu_event_7307-here-to-stay-celebrating-40-years-at-the/event_details.txt\n",
      "Links saved to ./output/cmu_events/children/events.cmu.edu_event_7307-here-to-stay-celebrating-40-years-at-the/url.txt\n",
      "Event details saved to ./output/cmu_events/children/events.cmu.edu_event_12518-black-history-month/event_details.txt\n",
      "Links saved to ./output/cmu_events/children/events.cmu.edu_event_12518-black-history-month/url.txt\n"
     ]
    },
    {
     "name": "stderr",
     "output_type": "stream",
     "text": [
      " 48%|████▊     | 283/585 [01:15<00:59,  5.11it/s]"
     ]
    },
    {
     "name": "stdout",
     "output_type": "stream",
     "text": [
      "Event details saved to ./output/cmu_events/children/events.cmu.edu_event_7307-here-to-stay-celebrating-40-years-at-the/event_details.txt\n",
      "Links saved to ./output/cmu_events/children/events.cmu.edu_event_7307-here-to-stay-celebrating-40-years-at-the/url.txt\n",
      "Event details saved to ./output/cmu_events/children/events.cmu.edu_event_12518-black-history-month/event_details.txt\n",
      "Links saved to ./output/cmu_events/children/events.cmu.edu_event_12518-black-history-month/url.txt\n"
     ]
    },
    {
     "name": "stderr",
     "output_type": "stream",
     "text": [
      " 49%|████▊     | 285/585 [01:16<00:57,  5.24it/s]"
     ]
    },
    {
     "name": "stdout",
     "output_type": "stream",
     "text": [
      "Event details saved to ./output/cmu_events/children/events.cmu.edu_event_7307-here-to-stay-celebrating-40-years-at-the/event_details.txt\n",
      "Links saved to ./output/cmu_events/children/events.cmu.edu_event_7307-here-to-stay-celebrating-40-years-at-the/url.txt\n",
      "Event details saved to ./output/cmu_events/children/events.cmu.edu_event_12518-black-history-month/event_details.txt\n",
      "Links saved to ./output/cmu_events/children/events.cmu.edu_event_12518-black-history-month/url.txt\n"
     ]
    },
    {
     "name": "stderr",
     "output_type": "stream",
     "text": [
      " 49%|████▉     | 286/585 [01:16<00:55,  5.37it/s]"
     ]
    },
    {
     "name": "stdout",
     "output_type": "stream",
     "text": [
      "Event details saved to ./output/cmu_events/children/events.cmu.edu_event_7307-here-to-stay-celebrating-40-years-at-the/event_details.txt\n",
      "Links saved to ./output/cmu_events/children/events.cmu.edu_event_7307-here-to-stay-celebrating-40-years-at-the/url.txt\n"
     ]
    },
    {
     "name": "stderr",
     "output_type": "stream",
     "text": [
      " 49%|████▉     | 287/585 [01:16<01:06,  4.46it/s]"
     ]
    },
    {
     "name": "stdout",
     "output_type": "stream",
     "text": [
      "Event details saved to ./output/cmu_events/children/events.cmu.edu_event_11870-mens-basketball-emory-vs-carnegie-mellon/event_details.txt\n",
      "Links saved to ./output/cmu_events/children/events.cmu.edu_event_11870-mens-basketball-emory-vs-carnegie-mellon/url.txt\n"
     ]
    },
    {
     "name": "stderr",
     "output_type": "stream",
     "text": [
      " 49%|████▉     | 289/585 [01:17<01:05,  4.51it/s]"
     ]
    },
    {
     "name": "stdout",
     "output_type": "stream",
     "text": [
      "Event details saved to ./output/cmu_events/children/events.cmu.edu_event_11869-womens-basketball-emory-vs-carnegie-mellon/event_details.txt\n",
      "Links saved to ./output/cmu_events/children/events.cmu.edu_event_11869-womens-basketball-emory-vs-carnegie-mellon/url.txt\n",
      "Event details saved to ./output/cmu_events/children/events.cmu.edu_event_12518-black-history-month/event_details.txt\n",
      "Links saved to ./output/cmu_events/children/events.cmu.edu_event_12518-black-history-month/url.txt\n"
     ]
    },
    {
     "name": "stderr",
     "output_type": "stream",
     "text": [
      " 50%|████▉     | 290/585 [01:17<00:59,  4.95it/s]"
     ]
    },
    {
     "name": "stdout",
     "output_type": "stream",
     "text": [
      "Event details saved to ./output/cmu_events/children/events.cmu.edu_event_7307-here-to-stay-celebrating-40-years-at-the/event_details.txt\n",
      "Links saved to ./output/cmu_events/children/events.cmu.edu_event_7307-here-to-stay-celebrating-40-years-at-the/url.txt\n"
     ]
    },
    {
     "name": "stderr",
     "output_type": "stream",
     "text": [
      " 50%|████▉     | 291/585 [01:17<01:04,  4.57it/s]"
     ]
    },
    {
     "name": "stdout",
     "output_type": "stream",
     "text": [
      "Event details saved to ./output/cmu_events/children/events.cmu.edu_event_11866-womens-basketball-rochester-vs-carnegie-mellon/event_details.txt\n",
      "Links saved to ./output/cmu_events/children/events.cmu.edu_event_11866-womens-basketball-rochester-vs-carnegie-mellon/url.txt\n"
     ]
    },
    {
     "name": "stderr",
     "output_type": "stream",
     "text": [
      " 50%|█████     | 293/585 [01:17<01:06,  4.42it/s]"
     ]
    },
    {
     "name": "stdout",
     "output_type": "stream",
     "text": [
      "Event details saved to ./output/cmu_events/children/events.cmu.edu_event_11865-mens-basketball-rochester-vs-carnegie-mellon/event_details.txt\n",
      "Links saved to ./output/cmu_events/children/events.cmu.edu_event_11865-mens-basketball-rochester-vs-carnegie-mellon/url.txt\n",
      "Event details saved to ./output/cmu_events/children/events.cmu.edu_event_12518-black-history-month/event_details.txt\n",
      "Links saved to ./output/cmu_events/children/events.cmu.edu_event_12518-black-history-month/url.txt\n"
     ]
    },
    {
     "name": "stderr",
     "output_type": "stream",
     "text": [
      " 50%|█████     | 294/585 [01:18<01:04,  4.53it/s]"
     ]
    },
    {
     "name": "stdout",
     "output_type": "stream",
     "text": [
      "Event details saved to ./output/cmu_events/children/events.cmu.edu_event_7307-here-to-stay-celebrating-40-years-at-the/event_details.txt\n",
      "Links saved to ./output/cmu_events/children/events.cmu.edu_event_7307-here-to-stay-celebrating-40-years-at-the/url.txt\n"
     ]
    },
    {
     "name": "stderr",
     "output_type": "stream",
     "text": [
      " 51%|█████     | 296/585 [01:18<00:57,  5.06it/s]"
     ]
    },
    {
     "name": "stdout",
     "output_type": "stream",
     "text": [
      "Event details saved to ./output/cmu_events/children/events.cmu.edu_event_12518-black-history-month/event_details.txt\n",
      "Links saved to ./output/cmu_events/children/events.cmu.edu_event_12518-black-history-month/url.txt\n",
      "Event details saved to ./output/cmu_events/children/events.cmu.edu_event_7307-here-to-stay-celebrating-40-years-at-the/event_details.txt\n",
      "Links saved to ./output/cmu_events/children/events.cmu.edu_event_7307-here-to-stay-celebrating-40-years-at-the/url.txt\n"
     ]
    },
    {
     "name": "stderr",
     "output_type": "stream",
     "text": [
      " 51%|█████     | 297/585 [01:18<00:57,  5.01it/s]"
     ]
    },
    {
     "name": "stdout",
     "output_type": "stream",
     "text": [
      "Event details saved to ./output/cmu_events/children/events.cmu.edu_event_12518-black-history-month/event_details.txt\n",
      "Links saved to ./output/cmu_events/children/events.cmu.edu_event_12518-black-history-month/url.txt\n"
     ]
    },
    {
     "name": "stderr",
     "output_type": "stream",
     "text": [
      " 51%|█████     | 298/585 [01:18<01:00,  4.72it/s]"
     ]
    },
    {
     "name": "stdout",
     "output_type": "stream",
     "text": [
      "Event details saved to ./output/cmu_events/children/events.cmu.edu_event_12495-darwin-day/event_details.txt\n",
      "Links saved to ./output/cmu_events/children/events.cmu.edu_event_12495-darwin-day/url.txt\n"
     ]
    },
    {
     "name": "stderr",
     "output_type": "stream",
     "text": [
      " 51%|█████▏    | 300/585 [01:19<01:00,  4.73it/s]"
     ]
    },
    {
     "name": "stdout",
     "output_type": "stream",
     "text": [
      "An error occurred: 404 Client Error: Not Found for url: https://events.cmu.edu/https://events.time.ly/vdibqnd/43900813\n",
      "Event details saved to ./output/cmu_events/children/events.cmu.edu_event_12518-black-history-month/event_details.txt\n",
      "Links saved to ./output/cmu_events/children/events.cmu.edu_event_12518-black-history-month/url.txt\n"
     ]
    },
    {
     "name": "stderr",
     "output_type": "stream",
     "text": [
      " 51%|█████▏    | 301/585 [01:19<01:02,  4.56it/s]"
     ]
    },
    {
     "name": "stdout",
     "output_type": "stream",
     "text": [
      "Event details saved to ./output/cmu_events/children/events.cmu.edu_event_11855-mens-basketball-chicago-vs-carnegie-mellon/event_details.txt\n",
      "Links saved to ./output/cmu_events/children/events.cmu.edu_event_11855-mens-basketball-chicago-vs-carnegie-mellon/url.txt\n"
     ]
    },
    {
     "name": "stderr",
     "output_type": "stream",
     "text": [
      " 52%|█████▏    | 303/585 [01:20<01:00,  4.67it/s]"
     ]
    },
    {
     "name": "stdout",
     "output_type": "stream",
     "text": [
      "Event details saved to ./output/cmu_events/children/events.cmu.edu_event_11854-womens-basketball-chicago-vs-carnegie-mellon/event_details.txt\n",
      "Links saved to ./output/cmu_events/children/events.cmu.edu_event_11854-womens-basketball-chicago-vs-carnegie-mellon/url.txt\n",
      "An error occurred: 404 Client Error: Not Found for url: https://events.cmu.edu/https://events.time.ly/vdibqnd/43900769\n"
     ]
    },
    {
     "name": "stderr",
     "output_type": "stream",
     "text": [
      " 52%|█████▏    | 304/585 [01:20<00:59,  4.72it/s]"
     ]
    },
    {
     "name": "stdout",
     "output_type": "stream",
     "text": [
      "Event details saved to ./output/cmu_events/children/events.cmu.edu_event_12518-black-history-month/event_details.txt\n",
      "Links saved to ./output/cmu_events/children/events.cmu.edu_event_12518-black-history-month/url.txt\n"
     ]
    },
    {
     "name": "stderr",
     "output_type": "stream",
     "text": [
      " 52%|█████▏    | 305/585 [01:20<01:06,  4.24it/s]"
     ]
    },
    {
     "name": "stdout",
     "output_type": "stream",
     "text": [
      "Event details saved to ./output/cmu_events/children/events.cmu.edu_event_11848-womens-basketball-washu-vs-carnegie-mellon/event_details.txt\n",
      "Links saved to ./output/cmu_events/children/events.cmu.edu_event_11848-womens-basketball-washu-vs-carnegie-mellon/url.txt\n"
     ]
    },
    {
     "name": "stderr",
     "output_type": "stream",
     "text": [
      " 52%|█████▏    | 307/585 [01:21<01:01,  4.53it/s]"
     ]
    },
    {
     "name": "stdout",
     "output_type": "stream",
     "text": [
      "Event details saved to ./output/cmu_events/children/events.cmu.edu_event_11847-mens-basketball-washu-vs-carnegie-mellon/event_details.txt\n",
      "Links saved to ./output/cmu_events/children/events.cmu.edu_event_11847-mens-basketball-washu-vs-carnegie-mellon/url.txt\n",
      "Event details saved to ./output/cmu_events/children/events.cmu.edu_event_12518-black-history-month/event_details.txt\n",
      "Links saved to ./output/cmu_events/children/events.cmu.edu_event_12518-black-history-month/url.txt\n"
     ]
    },
    {
     "name": "stderr",
     "output_type": "stream",
     "text": [
      " 53%|█████▎    | 309/585 [01:21<00:57,  4.81it/s]"
     ]
    },
    {
     "name": "stdout",
     "output_type": "stream",
     "text": [
      "Event details saved to ./output/cmu_events/children/events.cmu.edu_event_7307-here-to-stay-celebrating-40-years-at-the/event_details.txt\n",
      "Links saved to ./output/cmu_events/children/events.cmu.edu_event_7307-here-to-stay-celebrating-40-years-at-the/url.txt\n",
      "Event details saved to ./output/cmu_events/children/events.cmu.edu_event_12518-black-history-month/event_details.txt\n",
      "Links saved to ./output/cmu_events/children/events.cmu.edu_event_12518-black-history-month/url.txt\n"
     ]
    },
    {
     "name": "stderr",
     "output_type": "stream",
     "text": [
      " 53%|█████▎    | 310/585 [01:21<00:54,  5.02it/s]"
     ]
    },
    {
     "name": "stdout",
     "output_type": "stream",
     "text": [
      "Event details saved to ./output/cmu_events/children/events.cmu.edu_event_7307-here-to-stay-celebrating-40-years-at-the/event_details.txt\n",
      "Links saved to ./output/cmu_events/children/events.cmu.edu_event_7307-here-to-stay-celebrating-40-years-at-the/url.txt\n"
     ]
    },
    {
     "name": "stderr",
     "output_type": "stream",
     "text": [
      " 53%|█████▎    | 312/585 [01:21<00:52,  5.18it/s]"
     ]
    },
    {
     "name": "stdout",
     "output_type": "stream",
     "text": [
      "Event details saved to ./output/cmu_events/children/events.cmu.edu_event_12518-black-history-month/event_details.txt\n",
      "Links saved to ./output/cmu_events/children/events.cmu.edu_event_12518-black-history-month/url.txt\n",
      "Event details saved to ./output/cmu_events/children/events.cmu.edu_event_7307-here-to-stay-celebrating-40-years-at-the/event_details.txt\n",
      "Links saved to ./output/cmu_events/children/events.cmu.edu_event_7307-here-to-stay-celebrating-40-years-at-the/url.txt\n"
     ]
    },
    {
     "name": "stderr",
     "output_type": "stream",
     "text": [
      " 54%|█████▎    | 314/585 [01:22<00:52,  5.20it/s]"
     ]
    },
    {
     "name": "stdout",
     "output_type": "stream",
     "text": [
      "Event details saved to ./output/cmu_events/children/events.cmu.edu_event_12518-black-history-month/event_details.txt\n",
      "Links saved to ./output/cmu_events/children/events.cmu.edu_event_12518-black-history-month/url.txt\n",
      "Event details saved to ./output/cmu_events/children/events.cmu.edu_event_7307-here-to-stay-celebrating-40-years-at-the/event_details.txt\n",
      "Links saved to ./output/cmu_events/children/events.cmu.edu_event_7307-here-to-stay-celebrating-40-years-at-the/url.txt\n"
     ]
    },
    {
     "name": "stderr",
     "output_type": "stream",
     "text": [
      " 54%|█████▍    | 316/585 [01:22<00:50,  5.37it/s]"
     ]
    },
    {
     "name": "stdout",
     "output_type": "stream",
     "text": [
      "Event details saved to ./output/cmu_events/children/events.cmu.edu_event_12518-black-history-month/event_details.txt\n",
      "Links saved to ./output/cmu_events/children/events.cmu.edu_event_12518-black-history-month/url.txt\n",
      "Event details saved to ./output/cmu_events/children/events.cmu.edu_event_7307-here-to-stay-celebrating-40-years-at-the/event_details.txt\n",
      "Links saved to ./output/cmu_events/children/events.cmu.edu_event_7307-here-to-stay-celebrating-40-years-at-the/url.txt\n"
     ]
    },
    {
     "name": "stderr",
     "output_type": "stream",
     "text": [
      " 54%|█████▍    | 318/585 [01:23<00:51,  5.18it/s]"
     ]
    },
    {
     "name": "stdout",
     "output_type": "stream",
     "text": [
      "Event details saved to ./output/cmu_events/children/events.cmu.edu_event_11838-mens-tennis-washington-college-vs-carnegie-mellon/event_details.txt\n",
      "Links saved to ./output/cmu_events/children/events.cmu.edu_event_11838-mens-tennis-washington-college-vs-carnegie-mellon/url.txt\n",
      "Event details saved to ./output/cmu_events/children/events.cmu.edu_event_12518-black-history-month/event_details.txt\n",
      "Links saved to ./output/cmu_events/children/events.cmu.edu_event_12518-black-history-month/url.txt\n"
     ]
    },
    {
     "name": "stderr",
     "output_type": "stream",
     "text": [
      " 55%|█████▍    | 320/585 [01:23<00:51,  5.15it/s]"
     ]
    },
    {
     "name": "stdout",
     "output_type": "stream",
     "text": [
      "Event details saved to ./output/cmu_events/children/events.cmu.edu_event_11836-mens-tennis-kenyon-vs-carnegie-mellon/event_details.txt\n",
      "Links saved to ./output/cmu_events/children/events.cmu.edu_event_11836-mens-tennis-kenyon-vs-carnegie-mellon/url.txt\n",
      "Event details saved to ./output/cmu_events/children/events.cmu.edu_event_12518-black-history-month/event_details.txt\n",
      "Links saved to ./output/cmu_events/children/events.cmu.edu_event_12518-black-history-month/url.txt\n"
     ]
    },
    {
     "name": "stderr",
     "output_type": "stream",
     "text": [
      " 55%|█████▌    | 322/585 [01:23<00:47,  5.56it/s]"
     ]
    },
    {
     "name": "stdout",
     "output_type": "stream",
     "text": [
      "An error occurred: 404 Client Error: Not Found for url: https://events.cmu.edu/https://events.time.ly/vdibqnd/43900814\n",
      "Event details saved to ./output/cmu_events/children/events.cmu.edu_event_12518-black-history-month/event_details.txt\n",
      "Links saved to ./output/cmu_events/children/events.cmu.edu_event_12518-black-history-month/url.txt\n"
     ]
    },
    {
     "name": "stderr",
     "output_type": "stream",
     "text": [
      " 55%|█████▌    | 324/585 [01:24<00:46,  5.66it/s]"
     ]
    },
    {
     "name": "stdout",
     "output_type": "stream",
     "text": [
      "Event details saved to ./output/cmu_events/children/events.cmu.edu_event_12518-black-history-month/event_details.txt\n",
      "Links saved to ./output/cmu_events/children/events.cmu.edu_event_12518-black-history-month/url.txt\n",
      "Event details saved to ./output/cmu_events/children/events.cmu.edu_event_7307-here-to-stay-celebrating-40-years-at-the/event_details.txt\n",
      "Links saved to ./output/cmu_events/children/events.cmu.edu_event_7307-here-to-stay-celebrating-40-years-at-the/url.txt\n"
     ]
    },
    {
     "name": "stderr",
     "output_type": "stream",
     "text": [
      " 56%|█████▌    | 326/585 [01:24<00:45,  5.70it/s]"
     ]
    },
    {
     "name": "stdout",
     "output_type": "stream",
     "text": [
      "Event details saved to ./output/cmu_events/children/events.cmu.edu_event_12518-black-history-month/event_details.txt\n",
      "Links saved to ./output/cmu_events/children/events.cmu.edu_event_12518-black-history-month/url.txt\n",
      "Event details saved to ./output/cmu_events/children/events.cmu.edu_event_7307-here-to-stay-celebrating-40-years-at-the/event_details.txt\n",
      "Links saved to ./output/cmu_events/children/events.cmu.edu_event_7307-here-to-stay-celebrating-40-years-at-the/url.txt\n"
     ]
    },
    {
     "name": "stderr",
     "output_type": "stream",
     "text": [
      " 56%|█████▌    | 328/585 [01:24<00:42,  5.98it/s]"
     ]
    },
    {
     "name": "stdout",
     "output_type": "stream",
     "text": [
      "An error occurred: 404 Client Error: Not Found for url: https://events.cmu.edu/https://events.time.ly/vdibqnd/43900773\n",
      "Event details saved to ./output/cmu_events/children/events.cmu.edu_event_12518-black-history-month/event_details.txt\n",
      "Links saved to ./output/cmu_events/children/events.cmu.edu_event_12518-black-history-month/url.txt\n"
     ]
    },
    {
     "name": "stderr",
     "output_type": "stream",
     "text": [
      " 56%|█████▋    | 330/585 [01:25<00:41,  6.07it/s]"
     ]
    },
    {
     "name": "stdout",
     "output_type": "stream",
     "text": [
      "Event details saved to ./output/cmu_events/children/events.cmu.edu_event_12518-black-history-month/event_details.txt\n",
      "Links saved to ./output/cmu_events/children/events.cmu.edu_event_12518-black-history-month/url.txt\n",
      "Event details saved to ./output/cmu_events/children/events.cmu.edu_event_7307-here-to-stay-celebrating-40-years-at-the/event_details.txt\n",
      "Links saved to ./output/cmu_events/children/events.cmu.edu_event_7307-here-to-stay-celebrating-40-years-at-the/url.txt\n"
     ]
    },
    {
     "name": "stderr",
     "output_type": "stream",
     "text": [
      " 57%|█████▋    | 331/585 [01:25<00:53,  4.78it/s]"
     ]
    },
    {
     "name": "stdout",
     "output_type": "stream",
     "text": [
      "Event details saved to ./output/cmu_events/children/events.cmu.edu_event_11827-mens-basketball-case-western-reserve-vs-carnegie/event_details.txt\n",
      "Links saved to ./output/cmu_events/children/events.cmu.edu_event_11827-mens-basketball-case-western-reserve-vs-carnegie/url.txt\n"
     ]
    },
    {
     "name": "stderr",
     "output_type": "stream",
     "text": [
      " 57%|█████▋    | 333/585 [01:26<00:54,  4.59it/s]"
     ]
    },
    {
     "name": "stdout",
     "output_type": "stream",
     "text": [
      "Event details saved to ./output/cmu_events/children/events.cmu.edu_event_11826-womens-basketball-case-western-reserve-vs-carnegie/event_details.txt\n",
      "Links saved to ./output/cmu_events/children/events.cmu.edu_event_11826-womens-basketball-case-western-reserve-vs-carnegie/url.txt\n",
      "Event details saved to ./output/cmu_events/children/events.cmu.edu_event_11836-mens-tennis-kenyon-vs-carnegie-mellon/event_details.txt\n",
      "Links saved to ./output/cmu_events/children/events.cmu.edu_event_11836-mens-tennis-kenyon-vs-carnegie-mellon/url.txt\n"
     ]
    },
    {
     "name": "stderr",
     "output_type": "stream",
     "text": [
      " 57%|█████▋    | 335/585 [01:26<00:50,  4.96it/s]"
     ]
    },
    {
     "name": "stdout",
     "output_type": "stream",
     "text": [
      "Event details saved to ./output/cmu_events/children/events.cmu.edu_event_12518-black-history-month/event_details.txt\n",
      "Links saved to ./output/cmu_events/children/events.cmu.edu_event_12518-black-history-month/url.txt\n",
      "An error occurred: 404 Client Error: Not Found for url: https://events.cmu.edu/https://events.time.ly/vdibqnd/43900814\n"
     ]
    },
    {
     "name": "stderr",
     "output_type": "stream",
     "text": [
      " 58%|█████▊    | 337/585 [01:26<00:48,  5.07it/s]"
     ]
    },
    {
     "name": "stdout",
     "output_type": "stream",
     "text": [
      "Event details saved to ./output/cmu_events/children/events.cmu.edu_event_12518-black-history-month/event_details.txt\n",
      "Links saved to ./output/cmu_events/children/events.cmu.edu_event_12518-black-history-month/url.txt\n",
      "Event details saved to ./output/cmu_events/children/events.cmu.edu_event_12518-black-history-month/event_details.txt\n",
      "Links saved to ./output/cmu_events/children/events.cmu.edu_event_12518-black-history-month/url.txt\n"
     ]
    },
    {
     "name": "stderr",
     "output_type": "stream",
     "text": [
      " 58%|█████▊    | 339/585 [01:27<00:44,  5.49it/s]"
     ]
    },
    {
     "name": "stdout",
     "output_type": "stream",
     "text": [
      "Event details saved to ./output/cmu_events/children/events.cmu.edu_event_7307-here-to-stay-celebrating-40-years-at-the/event_details.txt\n",
      "Links saved to ./output/cmu_events/children/events.cmu.edu_event_7307-here-to-stay-celebrating-40-years-at-the/url.txt\n",
      "Event details saved to ./output/cmu_events/children/events.cmu.edu_event_12518-black-history-month/event_details.txt\n",
      "Links saved to ./output/cmu_events/children/events.cmu.edu_event_12518-black-history-month/url.txt\n"
     ]
    },
    {
     "name": "stderr",
     "output_type": "stream",
     "text": [
      " 58%|█████▊    | 341/585 [01:27<00:41,  5.90it/s]"
     ]
    },
    {
     "name": "stdout",
     "output_type": "stream",
     "text": [
      "Event details saved to ./output/cmu_events/children/events.cmu.edu_event_7307-here-to-stay-celebrating-40-years-at-the/event_details.txt\n",
      "Links saved to ./output/cmu_events/children/events.cmu.edu_event_7307-here-to-stay-celebrating-40-years-at-the/url.txt\n",
      "An error occurred: 404 Client Error: Not Found for url: https://events.cmu.edu/https://events.time.ly/vdibqnd/43900773\n"
     ]
    },
    {
     "name": "stderr",
     "output_type": "stream",
     "text": [
      " 59%|█████▊    | 343/585 [01:27<00:44,  5.43it/s]"
     ]
    },
    {
     "name": "stdout",
     "output_type": "stream",
     "text": [
      "Event details saved to ./output/cmu_events/children/events.cmu.edu_event_12518-black-history-month/event_details.txt\n",
      "Links saved to ./output/cmu_events/children/events.cmu.edu_event_12518-black-history-month/url.txt\n",
      "Event details saved to ./output/cmu_events/children/events.cmu.edu_event_12518-black-history-month/event_details.txt\n",
      "Links saved to ./output/cmu_events/children/events.cmu.edu_event_12518-black-history-month/url.txt\n"
     ]
    },
    {
     "name": "stderr",
     "output_type": "stream",
     "text": [
      " 59%|█████▉    | 344/585 [01:28<01:07,  3.58it/s]"
     ]
    },
    {
     "name": "stdout",
     "output_type": "stream",
     "text": [
      "Event details saved to ./output/cmu_events/children/events.cmu.edu_event_7307-here-to-stay-celebrating-40-years-at-the/event_details.txt\n",
      "Links saved to ./output/cmu_events/children/events.cmu.edu_event_7307-here-to-stay-celebrating-40-years-at-the/url.txt\n"
     ]
    },
    {
     "name": "stderr",
     "output_type": "stream",
     "text": [
      " 59%|█████▉    | 346/585 [01:28<00:57,  4.18it/s]"
     ]
    },
    {
     "name": "stdout",
     "output_type": "stream",
     "text": [
      "Event details saved to ./output/cmu_events/children/events.cmu.edu_event_11827-mens-basketball-case-western-reserve-vs-carnegie/event_details.txt\n",
      "Links saved to ./output/cmu_events/children/events.cmu.edu_event_11827-mens-basketball-case-western-reserve-vs-carnegie/url.txt\n",
      "Event details saved to ./output/cmu_events/children/events.cmu.edu_event_11826-womens-basketball-case-western-reserve-vs-carnegie/event_details.txt\n",
      "Links saved to ./output/cmu_events/children/events.cmu.edu_event_11826-womens-basketball-case-western-reserve-vs-carnegie/url.txt\n"
     ]
    },
    {
     "name": "stderr",
     "output_type": "stream",
     "text": [
      " 59%|█████▉    | 347/585 [01:28<00:51,  4.63it/s]"
     ]
    },
    {
     "name": "stdout",
     "output_type": "stream",
     "text": [
      "Event details saved to ./output/cmu_events/children/events.cmu.edu_event_7307-here-to-stay-celebrating-40-years-at-the/event_details.txt\n",
      "Links saved to ./output/cmu_events/children/events.cmu.edu_event_7307-here-to-stay-celebrating-40-years-at-the/url.txt\n"
     ]
    },
    {
     "name": "stderr",
     "output_type": "stream",
     "text": [
      " 59%|█████▉    | 348/585 [01:29<00:53,  4.40it/s]"
     ]
    },
    {
     "name": "stdout",
     "output_type": "stream",
     "text": [
      "Event details saved to ./output/cmu_events/children/events.cmu.edu_event_12496-ramadan/event_details.txt\n",
      "Links saved to ./output/cmu_events/children/events.cmu.edu_event_12496-ramadan/url.txt\n"
     ]
    },
    {
     "name": "stderr",
     "output_type": "stream",
     "text": [
      " 60%|█████▉    | 350/585 [01:29<00:49,  4.73it/s]"
     ]
    },
    {
     "name": "stdout",
     "output_type": "stream",
     "text": [
      "Event details saved to ./output/cmu_events/children/events.cmu.edu_event_12497-great-lent/event_details.txt\n",
      "Links saved to ./output/cmu_events/children/events.cmu.edu_event_12497-great-lent/url.txt\n",
      "Event details saved to ./output/cmu_events/children/events.cmu.edu_event_7307-here-to-stay-celebrating-40-years-at-the/event_details.txt\n",
      "Links saved to ./output/cmu_events/children/events.cmu.edu_event_7307-here-to-stay-celebrating-40-years-at-the/url.txt\n"
     ]
    },
    {
     "name": "stderr",
     "output_type": "stream",
     "text": [
      " 60%|██████    | 351/585 [01:29<00:47,  4.90it/s]"
     ]
    },
    {
     "name": "stdout",
     "output_type": "stream",
     "text": [
      "Event details saved to ./output/cmu_events/children/events.cmu.edu_event_12497-great-lent/event_details.txt\n",
      "Links saved to ./output/cmu_events/children/events.cmu.edu_event_12497-great-lent/url.txt\n",
      "Event details saved to ./output/cmu_events/children/events.cmu.edu_event_7307-here-to-stay-celebrating-40-years-at-the/event_details.txt\n"
     ]
    },
    {
     "name": "stderr",
     "output_type": "stream",
     "text": [
      " 60%|██████    | 352/585 [01:29<00:47,  4.90it/s]"
     ]
    },
    {
     "name": "stdout",
     "output_type": "stream",
     "text": [
      "Links saved to ./output/cmu_events/children/events.cmu.edu_event_7307-here-to-stay-celebrating-40-years-at-the/url.txt\n"
     ]
    },
    {
     "name": "stderr",
     "output_type": "stream",
     "text": [
      " 60%|██████    | 353/585 [01:30<00:47,  4.89it/s]"
     ]
    },
    {
     "name": "stdout",
     "output_type": "stream",
     "text": [
      "Event details saved to ./output/cmu_events/children/events.cmu.edu_event_12497-great-lent/event_details.txt\n",
      "Links saved to ./output/cmu_events/children/events.cmu.edu_event_12497-great-lent/url.txt\n"
     ]
    },
    {
     "name": "stderr",
     "output_type": "stream",
     "text": [
      " 61%|██████    | 355/585 [01:30<00:47,  4.83it/s]"
     ]
    },
    {
     "name": "stdout",
     "output_type": "stream",
     "text": [
      "Event details saved to ./output/cmu_events/children/events.cmu.edu_event_12498-ash-wednesday/event_details.txt\n",
      "Links saved to ./output/cmu_events/children/events.cmu.edu_event_12498-ash-wednesday/url.txt\n",
      "Event details saved to ./output/cmu_events/children/events.cmu.edu_event_7307-here-to-stay-celebrating-40-years-at-the/event_details.txt\n",
      "Links saved to ./output/cmu_events/children/events.cmu.edu_event_7307-here-to-stay-celebrating-40-years-at-the/url.txt\n"
     ]
    },
    {
     "name": "stderr",
     "output_type": "stream",
     "text": [
      " 61%|██████    | 357/585 [01:31<00:48,  4.74it/s]"
     ]
    },
    {
     "name": "stdout",
     "output_type": "stream",
     "text": [
      "Event details saved to ./output/cmu_events/children/events.cmu.edu_event_12499-lent-great-lent/event_details.txt\n",
      "Links saved to ./output/cmu_events/children/events.cmu.edu_event_12499-lent-great-lent/url.txt\n",
      "Event details saved to ./output/cmu_events/children/events.cmu.edu_event_7307-here-to-stay-celebrating-40-years-at-the/event_details.txt\n",
      "Links saved to ./output/cmu_events/children/events.cmu.edu_event_7307-here-to-stay-celebrating-40-years-at-the/url.txt\n"
     ]
    },
    {
     "name": "stderr",
     "output_type": "stream",
     "text": [
      " 61%|██████    | 358/585 [01:31<00:47,  4.80it/s]"
     ]
    },
    {
     "name": "stdout",
     "output_type": "stream",
     "text": [
      "Event details saved to ./output/cmu_events/children/events.cmu.edu_event_12499-lent-great-lent/event_details.txt\n",
      "Links saved to ./output/cmu_events/children/events.cmu.edu_event_12499-lent-great-lent/url.txt\n"
     ]
    },
    {
     "name": "stderr",
     "output_type": "stream",
     "text": [
      " 61%|██████▏   | 359/585 [01:31<00:51,  4.39it/s]"
     ]
    },
    {
     "name": "stdout",
     "output_type": "stream",
     "text": [
      "Event details saved to ./output/cmu_events/children/events.cmu.edu_event_12385-spring-break-no-classes/event_details.txt\n",
      "Links saved to ./output/cmu_events/children/events.cmu.edu_event_12385-spring-break-no-classes/url.txt\n"
     ]
    },
    {
     "name": "stderr",
     "output_type": "stream",
     "text": [
      " 62%|██████▏   | 361/585 [01:31<00:47,  4.71it/s]"
     ]
    },
    {
     "name": "stdout",
     "output_type": "stream",
     "text": [
      "Event details saved to ./output/cmu_events/children/events.cmu.edu_event_7307-here-to-stay-celebrating-40-years-at-the/event_details.txt\n",
      "Links saved to ./output/cmu_events/children/events.cmu.edu_event_7307-here-to-stay-celebrating-40-years-at-the/url.txt\n",
      "Event details saved to ./output/cmu_events/children/events.cmu.edu_event_7307-here-to-stay-celebrating-40-years-at-the/event_details.txt\n",
      "Links saved to ./output/cmu_events/children/events.cmu.edu_event_7307-here-to-stay-celebrating-40-years-at-the/url.txt\n"
     ]
    },
    {
     "name": "stderr",
     "output_type": "stream",
     "text": [
      " 62%|██████▏   | 362/585 [01:32<00:44,  5.03it/s]"
     ]
    },
    {
     "name": "stdout",
     "output_type": "stream",
     "text": [
      "Event details saved to ./output/cmu_events/children/events.cmu.edu_event_12499-lent-great-lent/event_details.txt\n",
      "Links saved to ./output/cmu_events/children/events.cmu.edu_event_12499-lent-great-lent/url.txt\n"
     ]
    },
    {
     "name": "stderr",
     "output_type": "stream",
     "text": [
      " 62%|██████▏   | 363/585 [01:32<00:49,  4.46it/s]"
     ]
    },
    {
     "name": "stdout",
     "output_type": "stream",
     "text": [
      "Event details saved to ./output/cmu_events/children/events.cmu.edu_event_12384-first-day-of-mini-4-classes/event_details.txt\n",
      "Links saved to ./output/cmu_events/children/events.cmu.edu_event_12384-first-day-of-mini-4-classes/url.txt\n"
     ]
    },
    {
     "name": "stderr",
     "output_type": "stream",
     "text": [
      " 62%|██████▏   | 365/585 [01:32<00:46,  4.70it/s]"
     ]
    },
    {
     "name": "stdout",
     "output_type": "stream",
     "text": [
      "Event details saved to ./output/cmu_events/children/events.cmu.edu_event_7307-here-to-stay-celebrating-40-years-at-the/event_details.txt\n",
      "Links saved to ./output/cmu_events/children/events.cmu.edu_event_7307-here-to-stay-celebrating-40-years-at-the/url.txt\n",
      "Event details saved to ./output/cmu_events/children/events.cmu.edu_event_7307-here-to-stay-celebrating-40-years-at-the/event_details.txt\n",
      "Links saved to ./output/cmu_events/children/events.cmu.edu_event_7307-here-to-stay-celebrating-40-years-at-the/url.txt\n"
     ]
    },
    {
     "name": "stderr",
     "output_type": "stream",
     "text": [
      " 63%|██████▎   | 366/585 [01:33<00:49,  4.42it/s]"
     ]
    },
    {
     "name": "stdout",
     "output_type": "stream",
     "text": [
      "Event details saved to ./output/cmu_events/children/events.cmu.edu_event_12499-lent-great-lent/event_details.txt\n",
      "Links saved to ./output/cmu_events/children/events.cmu.edu_event_12499-lent-great-lent/url.txt\n"
     ]
    },
    {
     "name": "stderr",
     "output_type": "stream",
     "text": [
      " 63%|██████▎   | 368/585 [01:33<00:49,  4.41it/s]"
     ]
    },
    {
     "name": "stdout",
     "output_type": "stream",
     "text": [
      "Event details saved to ./output/cmu_events/children/events.cmu.edu_event_7307-here-to-stay-celebrating-40-years-at-the/event_details.txt\n",
      "Links saved to ./output/cmu_events/children/events.cmu.edu_event_7307-here-to-stay-celebrating-40-years-at-the/url.txt\n",
      "Event details saved to ./output/cmu_events/children/events.cmu.edu_event_12499-lent-great-lent/event_details.txt\n",
      "Links saved to ./output/cmu_events/children/events.cmu.edu_event_12499-lent-great-lent/url.txt\n"
     ]
    },
    {
     "name": "stderr",
     "output_type": "stream",
     "text": [
      " 63%|██████▎   | 370/585 [01:33<00:42,  5.03it/s]"
     ]
    },
    {
     "name": "stdout",
     "output_type": "stream",
     "text": [
      "Event details saved to ./output/cmu_events/children/events.cmu.edu_event_7307-here-to-stay-celebrating-40-years-at-the/event_details.txt\n",
      "Links saved to ./output/cmu_events/children/events.cmu.edu_event_7307-here-to-stay-celebrating-40-years-at-the/url.txt\n",
      "Event details saved to ./output/cmu_events/children/events.cmu.edu_event_12499-lent-great-lent/event_details.txt\n",
      "Links saved to ./output/cmu_events/children/events.cmu.edu_event_12499-lent-great-lent/url.txt\n"
     ]
    },
    {
     "name": "stderr",
     "output_type": "stream",
     "text": [
      " 64%|██████▎   | 372/585 [01:34<00:44,  4.80it/s]"
     ]
    },
    {
     "name": "stdout",
     "output_type": "stream",
     "text": [
      "Event details saved to ./output/cmu_events/children/events.cmu.edu_event_12500-purim/event_details.txt\n",
      "Links saved to ./output/cmu_events/children/events.cmu.edu_event_12500-purim/url.txt\n",
      "Event details saved to ./output/cmu_events/children/events.cmu.edu_event_7307-here-to-stay-celebrating-40-years-at-the/event_details.txt\n",
      "Links saved to ./output/cmu_events/children/events.cmu.edu_event_7307-here-to-stay-celebrating-40-years-at-the/url.txt\n"
     ]
    },
    {
     "name": "stderr",
     "output_type": "stream",
     "text": [
      " 64%|██████▍   | 374/585 [01:34<00:39,  5.31it/s]"
     ]
    },
    {
     "name": "stdout",
     "output_type": "stream",
     "text": [
      "Event details saved to ./output/cmu_events/children/events.cmu.edu_event_7307-here-to-stay-celebrating-40-years-at-the/event_details.txt\n",
      "Links saved to ./output/cmu_events/children/events.cmu.edu_event_7307-here-to-stay-celebrating-40-years-at-the/url.txt\n",
      "Event details saved to ./output/cmu_events/children/events.cmu.edu_event_12499-lent-great-lent/event_details.txt\n",
      "Links saved to ./output/cmu_events/children/events.cmu.edu_event_12499-lent-great-lent/url.txt\n"
     ]
    },
    {
     "name": "stderr",
     "output_type": "stream",
     "text": [
      " 64%|██████▍   | 376/585 [01:35<00:39,  5.23it/s]"
     ]
    },
    {
     "name": "stdout",
     "output_type": "stream",
     "text": [
      "Event details saved to ./output/cmu_events/children/events.cmu.edu_event_12467-softball-wilmington-ohio-vs-carnegie-mellon/event_details.txt\n",
      "Links saved to ./output/cmu_events/children/events.cmu.edu_event_12467-softball-wilmington-ohio-vs-carnegie-mellon/url.txt\n",
      "Event details saved to ./output/cmu_events/children/events.cmu.edu_event_7307-here-to-stay-celebrating-40-years-at-the/event_details.txt\n",
      "Links saved to ./output/cmu_events/children/events.cmu.edu_event_7307-here-to-stay-celebrating-40-years-at-the/url.txt\n"
     ]
    },
    {
     "name": "stderr",
     "output_type": "stream",
     "text": [
      " 65%|██████▍   | 378/585 [01:35<00:38,  5.43it/s]"
     ]
    },
    {
     "name": "stdout",
     "output_type": "stream",
     "text": [
      "Event details saved to ./output/cmu_events/children/events.cmu.edu_event_7307-here-to-stay-celebrating-40-years-at-the/event_details.txt\n",
      "Links saved to ./output/cmu_events/children/events.cmu.edu_event_7307-here-to-stay-celebrating-40-years-at-the/url.txt\n",
      "Event details saved to ./output/cmu_events/children/events.cmu.edu_event_12499-lent-great-lent/event_details.txt\n",
      "Links saved to ./output/cmu_events/children/events.cmu.edu_event_12499-lent-great-lent/url.txt\n"
     ]
    },
    {
     "name": "stderr",
     "output_type": "stream",
     "text": [
      " 65%|██████▍   | 380/585 [01:35<00:36,  5.62it/s]"
     ]
    },
    {
     "name": "stdout",
     "output_type": "stream",
     "text": [
      "Event details saved to ./output/cmu_events/children/events.cmu.edu_event_7307-here-to-stay-celebrating-40-years-at-the/event_details.txt\n",
      "Links saved to ./output/cmu_events/children/events.cmu.edu_event_7307-here-to-stay-celebrating-40-years-at-the/url.txt\n",
      "Event details saved to ./output/cmu_events/children/events.cmu.edu_event_12499-lent-great-lent/event_details.txt\n",
      "Links saved to ./output/cmu_events/children/events.cmu.edu_event_12499-lent-great-lent/url.txt\n"
     ]
    },
    {
     "name": "stderr",
     "output_type": "stream",
     "text": [
      " 65%|██████▌   | 382/585 [01:36<00:33,  6.03it/s]"
     ]
    },
    {
     "name": "stdout",
     "output_type": "stream",
     "text": [
      "Event details saved to ./output/cmu_events/children/events.cmu.edu_event_7307-here-to-stay-celebrating-40-years-at-the/event_details.txt\n",
      "Links saved to ./output/cmu_events/children/events.cmu.edu_event_7307-here-to-stay-celebrating-40-years-at-the/url.txt\n",
      "Event details saved to ./output/cmu_events/children/events.cmu.edu_event_12499-lent-great-lent/event_details.txt\n",
      "Links saved to ./output/cmu_events/children/events.cmu.edu_event_12499-lent-great-lent/url.txt\n"
     ]
    },
    {
     "name": "stderr",
     "output_type": "stream",
     "text": [
      " 65%|██████▌   | 383/585 [01:36<00:37,  5.32it/s]"
     ]
    },
    {
     "name": "stdout",
     "output_type": "stream",
     "text": [
      "Event details saved to ./output/cmu_events/children/events.cmu.edu_event_12502-naw-ruz/event_details.txt\n",
      "Links saved to ./output/cmu_events/children/events.cmu.edu_event_12502-naw-ruz/url.txt\n"
     ]
    },
    {
     "name": "stderr",
     "output_type": "stream",
     "text": [
      " 66%|██████▌   | 384/585 [01:36<00:38,  5.17it/s]"
     ]
    },
    {
     "name": "stdout",
     "output_type": "stream",
     "text": [
      "An error occurred: 404 Client Error: Not Found for url: https://events.cmu.edu/https://events.time.ly/vdibqnd/43900784\n"
     ]
    },
    {
     "name": "stderr",
     "output_type": "stream",
     "text": [
      " 66%|██████▌   | 385/585 [01:36<00:44,  4.44it/s]"
     ]
    },
    {
     "name": "stdout",
     "output_type": "stream",
     "text": [
      "Event details saved to ./output/cmu_events/children/events.cmu.edu_event_11810-mens-tennis-st-francis-pa-vs-carnegie-mellon/event_details.txt\n",
      "Links saved to ./output/cmu_events/children/events.cmu.edu_event_11810-mens-tennis-st-francis-pa-vs-carnegie-mellon/url.txt\n"
     ]
    },
    {
     "name": "stderr",
     "output_type": "stream",
     "text": [
      " 66%|██████▌   | 386/585 [01:36<00:43,  4.56it/s]"
     ]
    },
    {
     "name": "stdout",
     "output_type": "stream",
     "text": [
      "Event details saved to ./output/cmu_events/children/events.cmu.edu_event_7307-here-to-stay-celebrating-40-years-at-the/event_details.txt\n",
      "Links saved to ./output/cmu_events/children/events.cmu.edu_event_7307-here-to-stay-celebrating-40-years-at-the/url.txt\n"
     ]
    },
    {
     "name": "stderr",
     "output_type": "stream",
     "text": [
      " 66%|██████▋   | 388/585 [01:37<00:42,  4.68it/s]"
     ]
    },
    {
     "name": "stdout",
     "output_type": "stream",
     "text": [
      "Event details saved to ./output/cmu_events/children/events.cmu.edu_event_11808-mens-tennis-stevens-vs-carnegie-mellon/event_details.txt\n",
      "Links saved to ./output/cmu_events/children/events.cmu.edu_event_11808-mens-tennis-stevens-vs-carnegie-mellon/url.txt\n",
      "Event details saved to ./output/cmu_events/children/events.cmu.edu_event_7307-here-to-stay-celebrating-40-years-at-the/event_details.txt\n",
      "Links saved to ./output/cmu_events/children/events.cmu.edu_event_7307-here-to-stay-celebrating-40-years-at-the/url.txt\n"
     ]
    },
    {
     "name": "stderr",
     "output_type": "stream",
     "text": [
      " 66%|██████▋   | 389/585 [01:37<00:39,  4.91it/s]"
     ]
    },
    {
     "name": "stdout",
     "output_type": "stream",
     "text": [
      "An error occurred: 404 Client Error: Not Found for url: https://events.cmu.edu/https://events.time.ly/vdibqnd/43900770\n"
     ]
    },
    {
     "name": "stderr",
     "output_type": "stream",
     "text": [
      " 67%|██████▋   | 391/585 [01:38<00:41,  4.69it/s]"
     ]
    },
    {
     "name": "stdout",
     "output_type": "stream",
     "text": [
      "Event details saved to ./output/cmu_events/children/events.cmu.edu_event_11803-softball-mount-union-vs-carnegie-mellon/event_details.txt\n",
      "Links saved to ./output/cmu_events/children/events.cmu.edu_event_11803-softball-mount-union-vs-carnegie-mellon/url.txt\n",
      "Event details saved to ./output/cmu_events/children/events.cmu.edu_event_7307-here-to-stay-celebrating-40-years-at-the/event_details.txt\n",
      "Links saved to ./output/cmu_events/children/events.cmu.edu_event_7307-here-to-stay-celebrating-40-years-at-the/url.txt\n"
     ]
    },
    {
     "name": "stderr",
     "output_type": "stream",
     "text": [
      " 67%|██████▋   | 393/585 [01:38<00:35,  5.34it/s]"
     ]
    },
    {
     "name": "stdout",
     "output_type": "stream",
     "text": [
      "Event details saved to ./output/cmu_events/children/events.cmu.edu_event_12499-lent-great-lent/event_details.txt\n",
      "Links saved to ./output/cmu_events/children/events.cmu.edu_event_12499-lent-great-lent/url.txt\n",
      "Event details saved to ./output/cmu_events/children/events.cmu.edu_event_7307-here-to-stay-celebrating-40-years-at-the/event_details.txt\n",
      "Links saved to ./output/cmu_events/children/events.cmu.edu_event_7307-here-to-stay-celebrating-40-years-at-the/url.txt\n"
     ]
    },
    {
     "name": "stderr",
     "output_type": "stream",
     "text": [
      " 68%|██████▊   | 395/585 [01:38<00:34,  5.55it/s]"
     ]
    },
    {
     "name": "stdout",
     "output_type": "stream",
     "text": [
      "Event details saved to ./output/cmu_events/children/events.cmu.edu_event_12499-lent-great-lent/event_details.txt\n",
      "Links saved to ./output/cmu_events/children/events.cmu.edu_event_12499-lent-great-lent/url.txt\n",
      "Event details saved to ./output/cmu_events/children/events.cmu.edu_event_7307-here-to-stay-celebrating-40-years-at-the/event_details.txt\n",
      "Links saved to ./output/cmu_events/children/events.cmu.edu_event_7307-here-to-stay-celebrating-40-years-at-the/url.txt\n"
     ]
    },
    {
     "name": "stderr",
     "output_type": "stream",
     "text": [
      " 68%|██████▊   | 397/585 [01:39<00:32,  5.76it/s]"
     ]
    },
    {
     "name": "stdout",
     "output_type": "stream",
     "text": [
      "Event details saved to ./output/cmu_events/children/events.cmu.edu_event_12499-lent-great-lent/event_details.txt\n",
      "Links saved to ./output/cmu_events/children/events.cmu.edu_event_12499-lent-great-lent/url.txt\n",
      "Event details saved to ./output/cmu_events/children/events.cmu.edu_event_7307-here-to-stay-celebrating-40-years-at-the/event_details.txt\n",
      "Links saved to ./output/cmu_events/children/events.cmu.edu_event_7307-here-to-stay-celebrating-40-years-at-the/url.txt\n"
     ]
    },
    {
     "name": "stderr",
     "output_type": "stream",
     "text": [
      " 68%|██████▊   | 398/585 [01:39<00:32,  5.78it/s]"
     ]
    },
    {
     "name": "stdout",
     "output_type": "stream",
     "text": [
      "Event details saved to ./output/cmu_events/children/events.cmu.edu_event_12499-lent-great-lent/event_details.txt\n",
      "Links saved to ./output/cmu_events/children/events.cmu.edu_event_12499-lent-great-lent/url.txt\n"
     ]
    },
    {
     "name": "stderr",
     "output_type": "stream",
     "text": [
      " 68%|██████▊   | 399/585 [01:39<00:38,  4.86it/s]"
     ]
    },
    {
     "name": "stdout",
     "output_type": "stream",
     "text": [
      "Event details saved to ./output/cmu_events/children/events.cmu.edu_event_11797-softball-emory-vs-carnegie-mellon/event_details.txt\n",
      "Links saved to ./output/cmu_events/children/events.cmu.edu_event_11797-softball-emory-vs-carnegie-mellon/url.txt\n"
     ]
    },
    {
     "name": "stderr",
     "output_type": "stream",
     "text": [
      " 68%|██████▊   | 400/585 [01:39<00:44,  4.19it/s]"
     ]
    },
    {
     "name": "stdout",
     "output_type": "stream",
     "text": [
      "Event details saved to ./output/cmu_events/children/events.cmu.edu_event_11798-m-track-and-field-carnegie-mellon-invitational/event_details.txt\n",
      "Links saved to ./output/cmu_events/children/events.cmu.edu_event_11798-m-track-and-field-carnegie-mellon-invitational/url.txt\n"
     ]
    },
    {
     "name": "stderr",
     "output_type": "stream",
     "text": [
      " 69%|██████▊   | 401/585 [01:40<00:46,  3.97it/s]"
     ]
    },
    {
     "name": "stdout",
     "output_type": "stream",
     "text": [
      "Event details saved to ./output/cmu_events/children/events.cmu.edu_event_12496-ramadan/event_details.txt\n",
      "Links saved to ./output/cmu_events/children/events.cmu.edu_event_12496-ramadan/url.txt\n"
     ]
    },
    {
     "name": "stderr",
     "output_type": "stream",
     "text": [
      " 69%|██████▊   | 402/585 [01:40<00:47,  3.85it/s]"
     ]
    },
    {
     "name": "stdout",
     "output_type": "stream",
     "text": [
      "Event details saved to ./output/cmu_events/children/events.cmu.edu_event_11793-softball-emory-vs-carnegie-mellon/event_details.txt\n",
      "Links saved to ./output/cmu_events/children/events.cmu.edu_event_11793-softball-emory-vs-carnegie-mellon/url.txt\n"
     ]
    },
    {
     "name": "stderr",
     "output_type": "stream",
     "text": [
      " 69%|██████▉   | 404/585 [01:40<00:43,  4.20it/s]"
     ]
    },
    {
     "name": "stdout",
     "output_type": "stream",
     "text": [
      "Event details saved to ./output/cmu_events/children/events.cmu.edu_event_12504-eid-al-fitr/event_details.txt\n",
      "Links saved to ./output/cmu_events/children/events.cmu.edu_event_12504-eid-al-fitr/url.txt\n",
      "Event details saved to ./output/cmu_events/children/events.cmu.edu_event_7307-here-to-stay-celebrating-40-years-at-the/event_details.txt\n",
      "Links saved to ./output/cmu_events/children/events.cmu.edu_event_7307-here-to-stay-celebrating-40-years-at-the/url.txt\n"
     ]
    },
    {
     "name": "stderr",
     "output_type": "stream",
     "text": [
      " 69%|██████▉   | 405/585 [01:41<00:39,  4.52it/s]"
     ]
    },
    {
     "name": "stdout",
     "output_type": "stream",
     "text": [
      "Event details saved to ./output/cmu_events/children/events.cmu.edu_event_12504-eid-al-fitr/event_details.txt\n",
      "Links saved to ./output/cmu_events/children/events.cmu.edu_event_12504-eid-al-fitr/url.txt\n"
     ]
    },
    {
     "name": "stderr",
     "output_type": "stream",
     "text": [
      " 70%|██████▉   | 407/585 [01:41<00:40,  4.40it/s]"
     ]
    },
    {
     "name": "stdout",
     "output_type": "stream",
     "text": [
      "Event details saved to ./output/cmu_events/children/events.cmu.edu_event_12519-womens-history-month/event_details.txt\n",
      "Links saved to ./output/cmu_events/children/events.cmu.edu_event_12519-womens-history-month/url.txt\n",
      "An error occurred: 404 Client Error: Not Found for url: https://events.cmu.edu/https://events.time.ly/vdibqnd/43900815\n"
     ]
    },
    {
     "name": "stderr",
     "output_type": "stream",
     "text": [
      " 70%|██████▉   | 409/585 [01:41<00:35,  4.92it/s]"
     ]
    },
    {
     "name": "stdout",
     "output_type": "stream",
     "text": [
      "Event details saved to ./output/cmu_events/children/events.cmu.edu_event_7307-here-to-stay-celebrating-40-years-at-the/event_details.txt\n",
      "Links saved to ./output/cmu_events/children/events.cmu.edu_event_7307-here-to-stay-celebrating-40-years-at-the/url.txt\n",
      "An error occurred: 404 Client Error: Not Found for url: https://events.cmu.edu/https://events.time.ly/vdibqnd/43900776\n"
     ]
    },
    {
     "name": "stderr",
     "output_type": "stream",
     "text": [
      " 70%|███████   | 411/585 [01:42<00:35,  4.85it/s]"
     ]
    },
    {
     "name": "stdout",
     "output_type": "stream",
     "text": [
      "Event details saved to ./output/cmu_events/children/events.cmu.edu_event_7307-here-to-stay-celebrating-40-years-at-the/event_details.txt\n",
      "Links saved to ./output/cmu_events/children/events.cmu.edu_event_7307-here-to-stay-celebrating-40-years-at-the/url.txt\n",
      "Event details saved to ./output/cmu_events/children/events.cmu.edu_event_7307-here-to-stay-celebrating-40-years-at-the/event_details.txt\n",
      "Links saved to ./output/cmu_events/children/events.cmu.edu_event_7307-here-to-stay-celebrating-40-years-at-the/url.txt\n"
     ]
    },
    {
     "name": "stderr",
     "output_type": "stream",
     "text": [
      " 70%|███████   | 412/585 [01:42<00:34,  4.97it/s]"
     ]
    },
    {
     "name": "stdout",
     "output_type": "stream",
     "text": [
      "Event details saved to ./output/cmu_events/children/events.cmu.edu_event_12499-lent-great-lent/event_details.txt\n",
      "Links saved to ./output/cmu_events/children/events.cmu.edu_event_12499-lent-great-lent/url.txt\n"
     ]
    },
    {
     "name": "stderr",
     "output_type": "stream",
     "text": [
      " 71%|███████   | 414/585 [01:42<00:36,  4.65it/s]"
     ]
    },
    {
     "name": "stdout",
     "output_type": "stream",
     "text": [
      "Event details saved to ./output/cmu_events/children/events.cmu.edu_event_11786-softball-chicago-vs-carnegie-mellon/event_details.txt\n",
      "Links saved to ./output/cmu_events/children/events.cmu.edu_event_11786-softball-chicago-vs-carnegie-mellon/url.txt\n",
      "Event details saved to ./output/cmu_events/children/events.cmu.edu_event_7307-here-to-stay-celebrating-40-years-at-the/event_details.txt\n",
      "Links saved to ./output/cmu_events/children/events.cmu.edu_event_7307-here-to-stay-celebrating-40-years-at-the/url.txt\n"
     ]
    },
    {
     "name": "stderr",
     "output_type": "stream",
     "text": [
      " 71%|███████   | 415/585 [01:43<00:40,  4.24it/s]"
     ]
    },
    {
     "name": "stdout",
     "output_type": "stream",
     "text": [
      "Event details saved to ./output/cmu_events/children/events.cmu.edu_event_11782-softball-chicago-vs-carnegie-mellon/event_details.txt\n",
      "Links saved to ./output/cmu_events/children/events.cmu.edu_event_11782-softball-chicago-vs-carnegie-mellon/url.txt\n"
     ]
    },
    {
     "name": "stderr",
     "output_type": "stream",
     "text": [
      " 71%|███████   | 416/585 [01:43<00:39,  4.25it/s]"
     ]
    },
    {
     "name": "stdout",
     "output_type": "stream",
     "text": [
      "Event details saved to ./output/cmu_events/children/events.cmu.edu_event_11781-softball-chicago-vs-carnegie-mellon/event_details.txt\n",
      "Links saved to ./output/cmu_events/children/events.cmu.edu_event_11781-softball-chicago-vs-carnegie-mellon/url.txt\n"
     ]
    },
    {
     "name": "stderr",
     "output_type": "stream",
     "text": [
      " 71%|███████▏  | 417/585 [01:43<00:40,  4.19it/s]"
     ]
    },
    {
     "name": "stdout",
     "output_type": "stream",
     "text": [
      "Event details saved to ./output/cmu_events/children/events.cmu.edu_event_12504-eid-al-fitr/event_details.txt\n",
      "Links saved to ./output/cmu_events/children/events.cmu.edu_event_12504-eid-al-fitr/url.txt\n"
     ]
    },
    {
     "name": "stderr",
     "output_type": "stream",
     "text": [
      " 72%|███████▏  | 419/585 [01:44<00:35,  4.68it/s]"
     ]
    },
    {
     "name": "stdout",
     "output_type": "stream",
     "text": [
      "Event details saved to ./output/cmu_events/children/events.cmu.edu_event_7307-here-to-stay-celebrating-40-years-at-the/event_details.txt\n",
      "Links saved to ./output/cmu_events/children/events.cmu.edu_event_7307-here-to-stay-celebrating-40-years-at-the/url.txt\n",
      "Event details saved to ./output/cmu_events/children/events.cmu.edu_event_12504-eid-al-fitr/event_details.txt\n",
      "Links saved to ./output/cmu_events/children/events.cmu.edu_event_12504-eid-al-fitr/url.txt\n"
     ]
    },
    {
     "name": "stderr",
     "output_type": "stream",
     "text": [
      " 72%|███████▏  | 421/585 [01:44<00:32,  5.05it/s]"
     ]
    },
    {
     "name": "stdout",
     "output_type": "stream",
     "text": [
      "Event details saved to ./output/cmu_events/children/events.cmu.edu_event_12519-womens-history-month/event_details.txt\n",
      "Links saved to ./output/cmu_events/children/events.cmu.edu_event_12519-womens-history-month/url.txt\n",
      "An error occurred: 404 Client Error: Not Found for url: https://events.cmu.edu/https://events.time.ly/vdibqnd/43900815\n"
     ]
    },
    {
     "name": "stderr",
     "output_type": "stream",
     "text": [
      " 72%|███████▏  | 423/585 [01:44<00:28,  5.74it/s]"
     ]
    },
    {
     "name": "stdout",
     "output_type": "stream",
     "text": [
      "Event details saved to ./output/cmu_events/children/events.cmu.edu_event_7307-here-to-stay-celebrating-40-years-at-the/event_details.txt\n",
      "Links saved to ./output/cmu_events/children/events.cmu.edu_event_7307-here-to-stay-celebrating-40-years-at-the/url.txt\n",
      "An error occurred: 404 Client Error: Not Found for url: https://events.cmu.edu/https://events.time.ly/vdibqnd/43900776\n"
     ]
    },
    {
     "name": "stderr",
     "output_type": "stream",
     "text": [
      " 73%|███████▎  | 425/585 [01:45<00:27,  5.75it/s]"
     ]
    },
    {
     "name": "stdout",
     "output_type": "stream",
     "text": [
      "Event details saved to ./output/cmu_events/children/events.cmu.edu_event_7307-here-to-stay-celebrating-40-years-at-the/event_details.txt\n",
      "Links saved to ./output/cmu_events/children/events.cmu.edu_event_7307-here-to-stay-celebrating-40-years-at-the/url.txt\n",
      "Event details saved to ./output/cmu_events/children/events.cmu.edu_event_7307-here-to-stay-celebrating-40-years-at-the/event_details.txt\n",
      "Links saved to ./output/cmu_events/children/events.cmu.edu_event_7307-here-to-stay-celebrating-40-years-at-the/url.txt\n"
     ]
    },
    {
     "name": "stderr",
     "output_type": "stream",
     "text": [
      " 73%|███████▎  | 426/585 [01:45<00:28,  5.52it/s]"
     ]
    },
    {
     "name": "stdout",
     "output_type": "stream",
     "text": [
      "Event details saved to ./output/cmu_events/children/events.cmu.edu_event_12499-lent-great-lent/event_details.txt\n",
      "Links saved to ./output/cmu_events/children/events.cmu.edu_event_12499-lent-great-lent/url.txt\n"
     ]
    },
    {
     "name": "stderr",
     "output_type": "stream",
     "text": [
      " 73%|███████▎  | 428/585 [01:45<00:31,  5.04it/s]"
     ]
    },
    {
     "name": "stdout",
     "output_type": "stream",
     "text": [
      "Event details saved to ./output/cmu_events/children/events.cmu.edu_event_11786-softball-chicago-vs-carnegie-mellon/event_details.txt\n",
      "Links saved to ./output/cmu_events/children/events.cmu.edu_event_11786-softball-chicago-vs-carnegie-mellon/url.txt\n",
      "Event details saved to ./output/cmu_events/children/events.cmu.edu_event_7307-here-to-stay-celebrating-40-years-at-the/event_details.txt\n",
      "Links saved to ./output/cmu_events/children/events.cmu.edu_event_7307-here-to-stay-celebrating-40-years-at-the/url.txt\n"
     ]
    },
    {
     "name": "stderr",
     "output_type": "stream",
     "text": [
      " 74%|███████▎  | 430/585 [01:46<00:30,  5.05it/s]"
     ]
    },
    {
     "name": "stdout",
     "output_type": "stream",
     "text": [
      "Event details saved to ./output/cmu_events/children/events.cmu.edu_event_11782-softball-chicago-vs-carnegie-mellon/event_details.txt\n",
      "Links saved to ./output/cmu_events/children/events.cmu.edu_event_11782-softball-chicago-vs-carnegie-mellon/url.txt\n",
      "Event details saved to ./output/cmu_events/children/events.cmu.edu_event_11781-softball-chicago-vs-carnegie-mellon/event_details.txt\n",
      "Links saved to ./output/cmu_events/children/events.cmu.edu_event_11781-softball-chicago-vs-carnegie-mellon/url.txt\n"
     ]
    },
    {
     "name": "stderr",
     "output_type": "stream",
     "text": [
      " 74%|███████▍  | 432/585 [01:46<00:31,  4.81it/s]"
     ]
    },
    {
     "name": "stdout",
     "output_type": "stream",
     "text": [
      "Event details saved to ./output/cmu_events/children/events.cmu.edu_event_12378-spring-carnival-no-classes/event_details.txt\n",
      "Links saved to ./output/cmu_events/children/events.cmu.edu_event_12378-spring-carnival-no-classes/url.txt\n",
      "Event details saved to ./output/cmu_events/children/events.cmu.edu_event_7307-here-to-stay-celebrating-40-years-at-the/event_details.txt\n",
      "Links saved to ./output/cmu_events/children/events.cmu.edu_event_7307-here-to-stay-celebrating-40-years-at-the/url.txt\n"
     ]
    },
    {
     "name": "stderr",
     "output_type": "stream",
     "text": [
      " 74%|███████▍  | 434/585 [01:47<00:30,  4.97it/s]"
     ]
    },
    {
     "name": "stdout",
     "output_type": "stream",
     "text": [
      "Event details saved to ./output/cmu_events/children/events.cmu.edu_event_12377-fall-2025-registration-week/event_details.txt\n",
      "Links saved to ./output/cmu_events/children/events.cmu.edu_event_12377-fall-2025-registration-week/url.txt\n",
      "Event details saved to ./output/cmu_events/children/events.cmu.edu_event_7307-here-to-stay-celebrating-40-years-at-the/event_details.txt\n",
      "Links saved to ./output/cmu_events/children/events.cmu.edu_event_7307-here-to-stay-celebrating-40-years-at-the/url.txt\n"
     ]
    },
    {
     "name": "stderr",
     "output_type": "stream",
     "text": [
      " 74%|███████▍  | 435/585 [01:47<00:31,  4.75it/s]"
     ]
    },
    {
     "name": "stdout",
     "output_type": "stream",
     "text": [
      "Event details saved to ./output/cmu_events/children/events.cmu.edu_event_12377-fall-2025-registration-week/event_details.txt\n",
      "Links saved to ./output/cmu_events/children/events.cmu.edu_event_12377-fall-2025-registration-week/url.txt\n",
      "Event details saved to ./output/cmu_events/children/events.cmu.edu_event_7307-here-to-stay-celebrating-40-years-at-the/event_details.txt\n",
      "Links saved to ./output/cmu_events/children/events.cmu.edu_event_7307-here-to-stay-celebrating-40-years-at-the/url.txt\n"
     ]
    },
    {
     "name": "stderr",
     "output_type": "stream",
     "text": [
      " 75%|███████▍  | 438/585 [01:47<00:29,  4.96it/s]"
     ]
    },
    {
     "name": "stdout",
     "output_type": "stream",
     "text": [
      "Event details saved to ./output/cmu_events/children/events.cmu.edu_event_12377-fall-2025-registration-week/event_details.txt\n",
      "Links saved to ./output/cmu_events/children/events.cmu.edu_event_12377-fall-2025-registration-week/url.txt\n",
      "Event details saved to ./output/cmu_events/children/events.cmu.edu_event_7307-here-to-stay-celebrating-40-years-at-the/event_details.txt\n",
      "Links saved to ./output/cmu_events/children/events.cmu.edu_event_7307-here-to-stay-celebrating-40-years-at-the/url.txt\n"
     ]
    },
    {
     "name": "stderr",
     "output_type": "stream",
     "text": [
      " 75%|███████▌  | 440/585 [01:48<00:32,  4.53it/s]"
     ]
    },
    {
     "name": "stdout",
     "output_type": "stream",
     "text": [
      "Event details saved to ./output/cmu_events/children/events.cmu.edu_event_12377-fall-2025-registration-week/event_details.txt\n",
      "Links saved to ./output/cmu_events/children/events.cmu.edu_event_12377-fall-2025-registration-week/url.txt\n",
      "Event details saved to ./output/cmu_events/children/events.cmu.edu_event_7307-here-to-stay-celebrating-40-years-at-the/event_details.txt\n",
      "Links saved to ./output/cmu_events/children/events.cmu.edu_event_7307-here-to-stay-celebrating-40-years-at-the/url.txt\n"
     ]
    },
    {
     "name": "stderr",
     "output_type": "stream",
     "text": [
      " 75%|███████▌  | 441/585 [01:48<00:35,  4.08it/s]"
     ]
    },
    {
     "name": "stdout",
     "output_type": "stream",
     "text": [
      "Event details saved to ./output/cmu_events/children/events.cmu.edu_event_12524-day-of-silence/event_details.txt\n",
      "Links saved to ./output/cmu_events/children/events.cmu.edu_event_12524-day-of-silence/url.txt\n"
     ]
    },
    {
     "name": "stderr",
     "output_type": "stream",
     "text": [
      " 76%|███████▌  | 443/585 [01:50<01:03,  2.23it/s]"
     ]
    },
    {
     "name": "stdout",
     "output_type": "stream",
     "text": [
      "Event details saved to ./output/cmu_events/children/events.cmu.edu_event_12377-fall-2025-registration-week/event_details.txt\n",
      "Links saved to ./output/cmu_events/children/events.cmu.edu_event_12377-fall-2025-registration-week/url.txt\n",
      "Event details saved to ./output/cmu_events/children/events.cmu.edu_event_12377-fall-2025-registration-week/event_details.txt\n",
      "Links saved to ./output/cmu_events/children/events.cmu.edu_event_12377-fall-2025-registration-week/url.txt\n"
     ]
    },
    {
     "name": "stderr",
     "output_type": "stream",
     "text": [
      " 76%|███████▌  | 445/585 [01:50<00:44,  3.18it/s]"
     ]
    },
    {
     "name": "stdout",
     "output_type": "stream",
     "text": [
      "Event details saved to ./output/cmu_events/children/events.cmu.edu_event_12499-lent-great-lent/event_details.txt\n",
      "Links saved to ./output/cmu_events/children/events.cmu.edu_event_12499-lent-great-lent/url.txt\n",
      "Event details saved to ./output/cmu_events/children/events.cmu.edu_event_7307-here-to-stay-celebrating-40-years-at-the/event_details.txt\n",
      "Links saved to ./output/cmu_events/children/events.cmu.edu_event_7307-here-to-stay-celebrating-40-years-at-the/url.txt\n"
     ]
    },
    {
     "name": "stderr",
     "output_type": "stream",
     "text": [
      " 76%|███████▋  | 447/585 [01:50<00:35,  3.91it/s]"
     ]
    },
    {
     "name": "stdout",
     "output_type": "stream",
     "text": [
      "Event details saved to ./output/cmu_events/children/events.cmu.edu_event_12508-holy-week-or-passion-week/event_details.txt\n",
      "Links saved to ./output/cmu_events/children/events.cmu.edu_event_12508-holy-week-or-passion-week/url.txt\n",
      "Event details saved to ./output/cmu_events/children/events.cmu.edu_event_7307-here-to-stay-celebrating-40-years-at-the/event_details.txt\n",
      "Links saved to ./output/cmu_events/children/events.cmu.edu_event_7307-here-to-stay-celebrating-40-years-at-the/url.txt\n"
     ]
    },
    {
     "name": "stderr",
     "output_type": "stream",
     "text": [
      " 77%|███████▋  | 449/585 [01:51<00:28,  4.74it/s]"
     ]
    },
    {
     "name": "stdout",
     "output_type": "stream",
     "text": [
      "Event details saved to ./output/cmu_events/children/events.cmu.edu_event_12508-holy-week-or-passion-week/event_details.txt\n",
      "Links saved to ./output/cmu_events/children/events.cmu.edu_event_12508-holy-week-or-passion-week/url.txt\n",
      "An error occurred: 404 Client Error: Not Found for url: https://events.cmu.edu/https://events.time.ly/vdibqnd/43900791\n"
     ]
    },
    {
     "name": "stderr",
     "output_type": "stream",
     "text": [
      " 77%|███████▋  | 450/585 [01:51<00:27,  4.86it/s]"
     ]
    },
    {
     "name": "stdout",
     "output_type": "stream",
     "text": [
      "Event details saved to ./output/cmu_events/children/events.cmu.edu_event_7307-here-to-stay-celebrating-40-years-at-the/event_details.txt\n",
      "Links saved to ./output/cmu_events/children/events.cmu.edu_event_7307-here-to-stay-celebrating-40-years-at-the/url.txt\n"
     ]
    },
    {
     "name": "stderr",
     "output_type": "stream",
     "text": [
      " 77%|███████▋  | 451/585 [01:51<00:28,  4.64it/s]"
     ]
    },
    {
     "name": "stdout",
     "output_type": "stream",
     "text": [
      "An error occurred: 404 Client Error: Not Found for url: https://events.cmu.edu/https://events.time.ly/vdibqnd/43900792\n"
     ]
    },
    {
     "name": "stderr",
     "output_type": "stream",
     "text": [
      " 77%|███████▋  | 453/585 [01:52<00:27,  4.84it/s]"
     ]
    },
    {
     "name": "stdout",
     "output_type": "stream",
     "text": [
      "Event details saved to ./output/cmu_events/children/events.cmu.edu_event_7307-here-to-stay-celebrating-40-years-at-the/event_details.txt\n",
      "Links saved to ./output/cmu_events/children/events.cmu.edu_event_7307-here-to-stay-celebrating-40-years-at-the/url.txt\n",
      "Event details saved to ./output/cmu_events/children/events.cmu.edu_event_7307-here-to-stay-celebrating-40-years-at-the/event_details.txt\n",
      "Links saved to ./output/cmu_events/children/events.cmu.edu_event_7307-here-to-stay-celebrating-40-years-at-the/url.txt\n"
     ]
    },
    {
     "name": "stderr",
     "output_type": "stream",
     "text": [
      " 78%|███████▊  | 454/585 [01:52<00:26,  4.91it/s]"
     ]
    },
    {
     "name": "stdout",
     "output_type": "stream",
     "text": [
      "Event details saved to ./output/cmu_events/children/events.cmu.edu_event_12508-holy-week-or-passion-week/event_details.txt\n",
      "Links saved to ./output/cmu_events/children/events.cmu.edu_event_12508-holy-week-or-passion-week/url.txt\n",
      "Event details saved to ./output/cmu_events/children/events.cmu.edu_event_7307-here-to-stay-celebrating-40-years-at-the/event_details.txt\n",
      "Links saved to ./output/cmu_events/children/events.cmu.edu_event_7307-here-to-stay-celebrating-40-years-at-the/url.txt\n"
     ]
    },
    {
     "name": "stderr",
     "output_type": "stream",
     "text": [
      " 78%|███████▊  | 457/585 [01:52<00:24,  5.26it/s]"
     ]
    },
    {
     "name": "stdout",
     "output_type": "stream",
     "text": [
      "Event details saved to ./output/cmu_events/children/events.cmu.edu_event_12508-holy-week-or-passion-week/event_details.txt\n",
      "Links saved to ./output/cmu_events/children/events.cmu.edu_event_12508-holy-week-or-passion-week/url.txt\n",
      "Event details saved to ./output/cmu_events/children/events.cmu.edu_event_12508-holy-week-or-passion-week/event_details.txt\n",
      "Links saved to ./output/cmu_events/children/events.cmu.edu_event_12508-holy-week-or-passion-week/url.txt\n"
     ]
    },
    {
     "name": "stderr",
     "output_type": "stream",
     "text": [
      " 78%|███████▊  | 458/585 [01:53<00:26,  4.78it/s]"
     ]
    },
    {
     "name": "stdout",
     "output_type": "stream",
     "text": [
      "Event details saved to ./output/cmu_events/children/events.cmu.edu_event_11759-mens-tennis-case-western-reserve-vs-carnegie/event_details.txt\n",
      "Links saved to ./output/cmu_events/children/events.cmu.edu_event_11759-mens-tennis-case-western-reserve-vs-carnegie/url.txt\n"
     ]
    },
    {
     "name": "stderr",
     "output_type": "stream",
     "text": [
      " 78%|███████▊  | 459/585 [01:53<00:29,  4.24it/s]"
     ]
    },
    {
     "name": "stdout",
     "output_type": "stream",
     "text": [
      "Event details saved to ./output/cmu_events/children/events.cmu.edu_event_12507-passover/event_details.txt\n",
      "Links saved to ./output/cmu_events/children/events.cmu.edu_event_12507-passover/url.txt\n"
     ]
    },
    {
     "name": "stderr",
     "output_type": "stream",
     "text": [
      " 79%|███████▉  | 461/585 [01:53<00:27,  4.48it/s]"
     ]
    },
    {
     "name": "stdout",
     "output_type": "stream",
     "text": [
      "Event details saved to ./output/cmu_events/children/events.cmu.edu_event_12511-easter-sunday-or-holy-pascha/event_details.txt\n",
      "Links saved to ./output/cmu_events/children/events.cmu.edu_event_12511-easter-sunday-or-holy-pascha/url.txt\n",
      "Event details saved to ./output/cmu_events/children/events.cmu.edu_event_7307-here-to-stay-celebrating-40-years-at-the/event_details.txt\n",
      "Links saved to ./output/cmu_events/children/events.cmu.edu_event_7307-here-to-stay-celebrating-40-years-at-the/url.txt\n"
     ]
    },
    {
     "name": "stderr",
     "output_type": "stream",
     "text": [
      " 79%|███████▉  | 462/585 [01:54<00:29,  4.18it/s]"
     ]
    },
    {
     "name": "stdout",
     "output_type": "stream",
     "text": [
      "Event details saved to ./output/cmu_events/children/events.cmu.edu_event_12523-national-arab-american-heritage-month/event_details.txt\n",
      "Links saved to ./output/cmu_events/children/events.cmu.edu_event_12523-national-arab-american-heritage-month/url.txt\n"
     ]
    },
    {
     "name": "stderr",
     "output_type": "stream",
     "text": [
      " 79%|███████▉  | 464/585 [01:54<00:27,  4.44it/s]"
     ]
    },
    {
     "name": "stdout",
     "output_type": "stream",
     "text": [
      "Event details saved to ./output/cmu_events/children/events.cmu.edu_event_12525-earth-day/event_details.txt\n",
      "Links saved to ./output/cmu_events/children/events.cmu.edu_event_12525-earth-day/url.txt\n",
      "Event details saved to ./output/cmu_events/children/events.cmu.edu_event_7307-here-to-stay-celebrating-40-years-at-the/event_details.txt\n",
      "Links saved to ./output/cmu_events/children/events.cmu.edu_event_7307-here-to-stay-celebrating-40-years-at-the/url.txt\n"
     ]
    },
    {
     "name": "stderr",
     "output_type": "stream",
     "text": [
      " 79%|███████▉  | 465/585 [01:54<00:25,  4.68it/s]"
     ]
    },
    {
     "name": "stdout",
     "output_type": "stream",
     "text": [
      "Event details saved to ./output/cmu_events/children/events.cmu.edu_event_7307-here-to-stay-celebrating-40-years-at-the/event_details.txt\n",
      "Links saved to ./output/cmu_events/children/events.cmu.edu_event_7307-here-to-stay-celebrating-40-years-at-the/url.txt\n"
     ]
    },
    {
     "name": "stderr",
     "output_type": "stream",
     "text": [
      " 80%|███████▉  | 467/585 [01:55<00:25,  4.71it/s]"
     ]
    },
    {
     "name": "stdout",
     "output_type": "stream",
     "text": [
      "Event details saved to ./output/cmu_events/children/events.cmu.edu_event_12523-national-arab-american-heritage-month/event_details.txt\n",
      "Links saved to ./output/cmu_events/children/events.cmu.edu_event_12523-national-arab-american-heritage-month/url.txt\n",
      "Event details saved to ./output/cmu_events/children/events.cmu.edu_event_7307-here-to-stay-celebrating-40-years-at-the/event_details.txt\n",
      "Links saved to ./output/cmu_events/children/events.cmu.edu_event_7307-here-to-stay-celebrating-40-years-at-the/url.txt\n"
     ]
    },
    {
     "name": "stderr",
     "output_type": "stream",
     "text": [
      " 80%|████████  | 468/585 [01:55<00:22,  5.20it/s]"
     ]
    },
    {
     "name": "stdout",
     "output_type": "stream",
     "text": [
      "Event details saved to ./output/cmu_events/children/events.cmu.edu_event_12523-national-arab-american-heritage-month/event_details.txt\n",
      "Links saved to ./output/cmu_events/children/events.cmu.edu_event_12523-national-arab-american-heritage-month/url.txt\n"
     ]
    },
    {
     "name": "stderr",
     "output_type": "stream",
     "text": [
      " 80%|████████  | 469/585 [01:55<00:24,  4.80it/s]"
     ]
    },
    {
     "name": "stdout",
     "output_type": "stream",
     "text": [
      "Event details saved to ./output/cmu_events/children/events.cmu.edu_event_11753-softball-washu-vs-carnegie-mellon/event_details.txt\n",
      "Links saved to ./output/cmu_events/children/events.cmu.edu_event_11753-softball-washu-vs-carnegie-mellon/url.txt\n"
     ]
    },
    {
     "name": "stderr",
     "output_type": "stream",
     "text": [
      " 80%|████████  | 470/585 [01:55<00:23,  4.81it/s]"
     ]
    },
    {
     "name": "stdout",
     "output_type": "stream",
     "text": [
      "Event details saved to ./output/cmu_events/children/events.cmu.edu_event_7307-here-to-stay-celebrating-40-years-at-the/event_details.txt\n",
      "Links saved to ./output/cmu_events/children/events.cmu.edu_event_7307-here-to-stay-celebrating-40-years-at-the/url.txt\n"
     ]
    },
    {
     "name": "stderr",
     "output_type": "stream",
     "text": [
      " 81%|████████  | 471/585 [01:56<00:26,  4.37it/s]"
     ]
    },
    {
     "name": "stdout",
     "output_type": "stream",
     "text": [
      "Event details saved to ./output/cmu_events/children/events.cmu.edu_event_11748-softball-washu-vs-carnegie-mellon/event_details.txt\n",
      "Links saved to ./output/cmu_events/children/events.cmu.edu_event_11748-softball-washu-vs-carnegie-mellon/url.txt\n"
     ]
    },
    {
     "name": "stderr",
     "output_type": "stream",
     "text": [
      " 81%|████████  | 473/585 [01:56<00:23,  4.70it/s]"
     ]
    },
    {
     "name": "stdout",
     "output_type": "stream",
     "text": [
      "Event details saved to ./output/cmu_events/children/events.cmu.edu_event_11747-softball-washu-vs-carnegie-mellon/event_details.txt\n",
      "Links saved to ./output/cmu_events/children/events.cmu.edu_event_11747-softball-washu-vs-carnegie-mellon/url.txt\n",
      "An error occurred: 404 Client Error: Not Found for url: https://events.cmu.edu/https://events.time.ly/vdibqnd/43900777\n"
     ]
    },
    {
     "name": "stderr",
     "output_type": "stream",
     "text": [
      " 81%|████████  | 474/585 [01:56<00:22,  4.86it/s]"
     ]
    },
    {
     "name": "stdout",
     "output_type": "stream",
     "text": [
      "Event details saved to ./output/cmu_events/children/events.cmu.edu_event_7307-here-to-stay-celebrating-40-years-at-the/event_details.txt\n",
      "Links saved to ./output/cmu_events/children/events.cmu.edu_event_7307-here-to-stay-celebrating-40-years-at-the/url.txt\n"
     ]
    },
    {
     "name": "stderr",
     "output_type": "stream",
     "text": [
      " 81%|████████▏ | 476/585 [01:57<00:23,  4.69it/s]"
     ]
    },
    {
     "name": "stdout",
     "output_type": "stream",
     "text": [
      "Event details saved to ./output/cmu_events/children/events.cmu.edu_event_12372-final-examinations/event_details.txt\n",
      "Links saved to ./output/cmu_events/children/events.cmu.edu_event_12372-final-examinations/url.txt\n",
      "Event details saved to ./output/cmu_events/children/events.cmu.edu_event_7307-here-to-stay-celebrating-40-years-at-the/event_details.txt\n",
      "Links saved to ./output/cmu_events/children/events.cmu.edu_event_7307-here-to-stay-celebrating-40-years-at-the/url.txt\n"
     ]
    },
    {
     "name": "stderr",
     "output_type": "stream",
     "text": [
      " 82%|████████▏ | 478/585 [01:57<00:20,  5.30it/s]"
     ]
    },
    {
     "name": "stdout",
     "output_type": "stream",
     "text": [
      "Event details saved to ./output/cmu_events/children/events.cmu.edu_event_12372-final-examinations/event_details.txt\n",
      "Links saved to ./output/cmu_events/children/events.cmu.edu_event_12372-final-examinations/url.txt\n",
      "Event details saved to ./output/cmu_events/children/events.cmu.edu_event_7307-here-to-stay-celebrating-40-years-at-the/event_details.txt\n",
      "Links saved to ./output/cmu_events/children/events.cmu.edu_event_7307-here-to-stay-celebrating-40-years-at-the/url.txt\n"
     ]
    },
    {
     "name": "stderr",
     "output_type": "stream",
     "text": [
      " 82%|████████▏ | 480/585 [01:57<00:17,  6.04it/s]"
     ]
    },
    {
     "name": "stdout",
     "output_type": "stream",
     "text": [
      "Event details saved to ./output/cmu_events/children/events.cmu.edu_event_12372-final-examinations/event_details.txt\n",
      "Links saved to ./output/cmu_events/children/events.cmu.edu_event_12372-final-examinations/url.txt\n",
      "Event details saved to ./output/cmu_events/children/events.cmu.edu_event_12523-national-arab-american-heritage-month/event_details.txt\n",
      "Links saved to ./output/cmu_events/children/events.cmu.edu_event_12523-national-arab-american-heritage-month/url.txt\n"
     ]
    },
    {
     "name": "stderr",
     "output_type": "stream",
     "text": [
      " 82%|████████▏ | 481/585 [01:58<00:19,  5.34it/s]"
     ]
    },
    {
     "name": "stdout",
     "output_type": "stream",
     "text": [
      "Event details saved to ./output/cmu_events/children/events.cmu.edu_event_12526-asian-american-and-pacific-islander-heritage-month/event_details.txt\n",
      "Links saved to ./output/cmu_events/children/events.cmu.edu_event_12526-asian-american-and-pacific-islander-heritage-month/url.txt\n"
     ]
    },
    {
     "name": "stderr",
     "output_type": "stream",
     "text": [
      " 82%|████████▏ | 482/585 [01:58<00:20,  4.96it/s]"
     ]
    },
    {
     "name": "stdout",
     "output_type": "stream",
     "text": [
      "Event details saved to ./output/cmu_events/children/events.cmu.edu_event_12514-beltane/event_details.txt\n",
      "Links saved to ./output/cmu_events/children/events.cmu.edu_event_12514-beltane/url.txt\n"
     ]
    },
    {
     "name": "stderr",
     "output_type": "stream",
     "text": [
      " 83%|████████▎ | 484/585 [01:58<00:20,  4.85it/s]"
     ]
    },
    {
     "name": "stdout",
     "output_type": "stream",
     "text": [
      "Event details saved to ./output/cmu_events/children/events.cmu.edu_event_12512-ridvan/event_details.txt\n",
      "Links saved to ./output/cmu_events/children/events.cmu.edu_event_12512-ridvan/url.txt\n",
      "Event details saved to ./output/cmu_events/children/events.cmu.edu_event_12526-asian-american-and-pacific-islander-heritage-month/event_details.txt\n",
      "Links saved to ./output/cmu_events/children/events.cmu.edu_event_12526-asian-american-and-pacific-islander-heritage-month/url.txt\n"
     ]
    },
    {
     "name": "stderr",
     "output_type": "stream",
     "text": [
      " 83%|████████▎ | 485/585 [01:58<00:22,  4.47it/s]"
     ]
    },
    {
     "name": "stdout",
     "output_type": "stream",
     "text": [
      "Event details saved to ./output/cmu_events/children/events.cmu.edu_event_12370-final-examinations/event_details.txt\n",
      "Links saved to ./output/cmu_events/children/events.cmu.edu_event_12370-final-examinations/url.txt\n"
     ]
    },
    {
     "name": "stderr",
     "output_type": "stream",
     "text": [
      " 83%|████████▎ | 487/585 [01:59<00:19,  5.02it/s]"
     ]
    },
    {
     "name": "stdout",
     "output_type": "stream",
     "text": [
      "Event details saved to ./output/cmu_events/children/events.cmu.edu_event_12526-asian-american-and-pacific-islander-heritage-month/event_details.txt\n",
      "Links saved to ./output/cmu_events/children/events.cmu.edu_event_12526-asian-american-and-pacific-islander-heritage-month/url.txt\n",
      "An error occurred: 404 Client Error: Not Found for url: https://events.cmu.edu/https://events.time.ly/vdibqnd/43900777\n"
     ]
    },
    {
     "name": "stderr",
     "output_type": "stream",
     "text": [
      " 84%|████████▎ | 489/585 [01:59<00:17,  5.40it/s]"
     ]
    },
    {
     "name": "stdout",
     "output_type": "stream",
     "text": [
      "Event details saved to ./output/cmu_events/children/events.cmu.edu_event_7307-here-to-stay-celebrating-40-years-at-the/event_details.txt\n",
      "Links saved to ./output/cmu_events/children/events.cmu.edu_event_7307-here-to-stay-celebrating-40-years-at-the/url.txt\n",
      "Event details saved to ./output/cmu_events/children/events.cmu.edu_event_12372-final-examinations/event_details.txt\n",
      "Links saved to ./output/cmu_events/children/events.cmu.edu_event_12372-final-examinations/url.txt\n"
     ]
    },
    {
     "name": "stderr",
     "output_type": "stream",
     "text": [
      " 84%|████████▍ | 491/585 [02:00<00:17,  5.40it/s]"
     ]
    },
    {
     "name": "stdout",
     "output_type": "stream",
     "text": [
      "Event details saved to ./output/cmu_events/children/events.cmu.edu_event_7307-here-to-stay-celebrating-40-years-at-the/event_details.txt\n",
      "Links saved to ./output/cmu_events/children/events.cmu.edu_event_7307-here-to-stay-celebrating-40-years-at-the/url.txt\n",
      "Event details saved to ./output/cmu_events/children/events.cmu.edu_event_12372-final-examinations/event_details.txt\n",
      "Links saved to ./output/cmu_events/children/events.cmu.edu_event_12372-final-examinations/url.txt\n"
     ]
    },
    {
     "name": "stderr",
     "output_type": "stream",
     "text": [
      " 84%|████████▍ | 492/585 [02:00<00:16,  5.58it/s]"
     ]
    },
    {
     "name": "stdout",
     "output_type": "stream",
     "text": [
      "Event details saved to ./output/cmu_events/children/events.cmu.edu_event_7307-here-to-stay-celebrating-40-years-at-the/event_details.txt\n",
      "Links saved to ./output/cmu_events/children/events.cmu.edu_event_7307-here-to-stay-celebrating-40-years-at-the/url.txt\n"
     ]
    },
    {
     "name": "stderr",
     "output_type": "stream",
     "text": [
      " 84%|████████▍ | 494/585 [02:00<00:18,  4.80it/s]"
     ]
    },
    {
     "name": "stdout",
     "output_type": "stream",
     "text": [
      "Event details saved to ./output/cmu_events/children/events.cmu.edu_event_12372-final-examinations/event_details.txt\n",
      "Links saved to ./output/cmu_events/children/events.cmu.edu_event_12372-final-examinations/url.txt\n",
      "Event details saved to ./output/cmu_events/children/events.cmu.edu_event_12523-national-arab-american-heritage-month/event_details.txt\n",
      "Links saved to ./output/cmu_events/children/events.cmu.edu_event_12523-national-arab-american-heritage-month/url.txt\n"
     ]
    },
    {
     "name": "stderr",
     "output_type": "stream",
     "text": [
      " 85%|████████▍ | 496/585 [02:01<00:18,  4.92it/s]"
     ]
    },
    {
     "name": "stdout",
     "output_type": "stream",
     "text": [
      "Event details saved to ./output/cmu_events/children/events.cmu.edu_event_12526-asian-american-and-pacific-islander-heritage-month/event_details.txt\n",
      "Links saved to ./output/cmu_events/children/events.cmu.edu_event_12526-asian-american-and-pacific-islander-heritage-month/url.txt\n",
      "Event details saved to ./output/cmu_events/children/events.cmu.edu_event_12514-beltane/event_details.txt\n",
      "Links saved to ./output/cmu_events/children/events.cmu.edu_event_12514-beltane/url.txt\n"
     ]
    },
    {
     "name": "stderr",
     "output_type": "stream",
     "text": [
      " 85%|████████▍ | 497/585 [02:01<00:17,  4.96it/s]"
     ]
    },
    {
     "name": "stdout",
     "output_type": "stream",
     "text": [
      "Event details saved to ./output/cmu_events/children/events.cmu.edu_event_12512-ridvan/event_details.txt\n",
      "Links saved to ./output/cmu_events/children/events.cmu.edu_event_12512-ridvan/url.txt\n"
     ]
    },
    {
     "name": "stderr",
     "output_type": "stream",
     "text": [
      " 85%|████████▌ | 499/585 [02:01<00:16,  5.34it/s]"
     ]
    },
    {
     "name": "stdout",
     "output_type": "stream",
     "text": [
      "Event details saved to ./output/cmu_events/children/events.cmu.edu_event_12526-asian-american-and-pacific-islander-heritage-month/event_details.txt\n",
      "Links saved to ./output/cmu_events/children/events.cmu.edu_event_12526-asian-american-and-pacific-islander-heritage-month/url.txt\n",
      "Event details saved to ./output/cmu_events/children/events.cmu.edu_event_12370-final-examinations/event_details.txt\n",
      "Links saved to ./output/cmu_events/children/events.cmu.edu_event_12370-final-examinations/url.txt\n"
     ]
    },
    {
     "name": "stderr",
     "output_type": "stream",
     "text": [
      " 85%|████████▌ | 500/585 [02:01<00:19,  4.38it/s]"
     ]
    },
    {
     "name": "stdout",
     "output_type": "stream",
     "text": [
      "Event details saved to ./output/cmu_events/children/events.cmu.edu_event_12526-asian-american-and-pacific-islander-heritage-month/event_details.txt\n",
      "Links saved to ./output/cmu_events/children/events.cmu.edu_event_12526-asian-american-and-pacific-islander-heritage-month/url.txt\n"
     ]
    },
    {
     "name": "stderr",
     "output_type": "stream",
     "text": [
      " 86%|████████▌ | 502/585 [02:02<00:17,  4.84it/s]"
     ]
    },
    {
     "name": "stdout",
     "output_type": "stream",
     "text": [
      "Event details saved to ./output/cmu_events/children/events.cmu.edu_event_12526-asian-american-and-pacific-islander-heritage-month/event_details.txt\n",
      "Links saved to ./output/cmu_events/children/events.cmu.edu_event_12526-asian-american-and-pacific-islander-heritage-month/url.txt\n",
      "Event details saved to ./output/cmu_events/children/events.cmu.edu_event_7307-here-to-stay-celebrating-40-years-at-the/event_details.txt\n",
      "Links saved to ./output/cmu_events/children/events.cmu.edu_event_7307-here-to-stay-celebrating-40-years-at-the/url.txt\n"
     ]
    },
    {
     "name": "stderr",
     "output_type": "stream",
     "text": [
      " 86%|████████▌ | 504/585 [02:02<00:16,  5.06it/s]"
     ]
    },
    {
     "name": "stdout",
     "output_type": "stream",
     "text": [
      "Event details saved to ./output/cmu_events/children/events.cmu.edu_event_12369-reading-days/event_details.txt\n",
      "Links saved to ./output/cmu_events/children/events.cmu.edu_event_12369-reading-days/url.txt\n",
      "Event details saved to ./output/cmu_events/children/events.cmu.edu_event_12526-asian-american-and-pacific-islander-heritage-month/event_details.txt\n",
      "Links saved to ./output/cmu_events/children/events.cmu.edu_event_12526-asian-american-and-pacific-islander-heritage-month/url.txt\n"
     ]
    },
    {
     "name": "stderr",
     "output_type": "stream",
     "text": [
      " 86%|████████▋ | 506/585 [02:03<00:14,  5.27it/s]"
     ]
    },
    {
     "name": "stdout",
     "output_type": "stream",
     "text": [
      "Event details saved to ./output/cmu_events/children/events.cmu.edu_event_12526-asian-american-and-pacific-islander-heritage-month/event_details.txt\n",
      "Links saved to ./output/cmu_events/children/events.cmu.edu_event_12526-asian-american-and-pacific-islander-heritage-month/url.txt\n",
      "Event details saved to ./output/cmu_events/children/events.cmu.edu_event_7307-here-to-stay-celebrating-40-years-at-the/event_details.txt\n",
      "Links saved to ./output/cmu_events/children/events.cmu.edu_event_7307-here-to-stay-celebrating-40-years-at-the/url.txt\n"
     ]
    },
    {
     "name": "stderr",
     "output_type": "stream",
     "text": [
      " 87%|████████▋ | 507/585 [02:03<00:13,  5.60it/s]"
     ]
    },
    {
     "name": "stdout",
     "output_type": "stream",
     "text": [
      "Event details saved to ./output/cmu_events/children/events.cmu.edu_event_12526-asian-american-and-pacific-islander-heritage-month/event_details.txt\n",
      "Links saved to ./output/cmu_events/children/events.cmu.edu_event_12526-asian-american-and-pacific-islander-heritage-month/url.txt\n",
      "Event details saved to ./output/cmu_events/children/events.cmu.edu_event_7307-here-to-stay-celebrating-40-years-at-the/event_details.txt\n"
     ]
    },
    {
     "name": "stderr",
     "output_type": "stream",
     "text": [
      " 87%|████████▋ | 509/585 [02:03<00:13,  5.50it/s]"
     ]
    },
    {
     "name": "stdout",
     "output_type": "stream",
     "text": [
      "Links saved to ./output/cmu_events/children/events.cmu.edu_event_7307-here-to-stay-celebrating-40-years-at-the/url.txt\n",
      "Event details saved to ./output/cmu_events/children/events.cmu.edu_event_12526-asian-american-and-pacific-islander-heritage-month/event_details.txt\n",
      "Links saved to ./output/cmu_events/children/events.cmu.edu_event_12526-asian-american-and-pacific-islander-heritage-month/url.txt\n"
     ]
    },
    {
     "name": "stderr",
     "output_type": "stream",
     "text": [
      " 87%|████████▋ | 510/585 [02:03<00:16,  4.56it/s]"
     ]
    },
    {
     "name": "stdout",
     "output_type": "stream",
     "text": [
      "Event details saved to ./output/cmu_events/children/events.cmu.edu_event_12365-graduating-students-final-grades-due-by-4-pm/event_details.txt\n",
      "Links saved to ./output/cmu_events/children/events.cmu.edu_event_12365-graduating-students-final-grades-due-by-4-pm/url.txt\n"
     ]
    },
    {
     "name": "stderr",
     "output_type": "stream",
     "text": [
      " 88%|████████▊ | 512/585 [02:04<00:15,  4.74it/s]"
     ]
    },
    {
     "name": "stdout",
     "output_type": "stream",
     "text": [
      "Event details saved to ./output/cmu_events/children/events.cmu.edu_event_12526-asian-american-and-pacific-islander-heritage-month/event_details.txt\n",
      "Links saved to ./output/cmu_events/children/events.cmu.edu_event_12526-asian-american-and-pacific-islander-heritage-month/url.txt\n",
      "Event details saved to ./output/cmu_events/children/events.cmu.edu_event_7307-here-to-stay-celebrating-40-years-at-the/event_details.txt\n",
      "Links saved to ./output/cmu_events/children/events.cmu.edu_event_7307-here-to-stay-celebrating-40-years-at-the/url.txt\n"
     ]
    },
    {
     "name": "stderr",
     "output_type": "stream",
     "text": [
      " 88%|████████▊ | 514/585 [02:04<00:13,  5.28it/s]"
     ]
    },
    {
     "name": "stdout",
     "output_type": "stream",
     "text": [
      "Event details saved to ./output/cmu_events/children/events.cmu.edu_event_12526-asian-american-and-pacific-islander-heritage-month/event_details.txt\n",
      "Links saved to ./output/cmu_events/children/events.cmu.edu_event_12526-asian-american-and-pacific-islander-heritage-month/url.txt\n",
      "Event details saved to ./output/cmu_events/children/events.cmu.edu_event_7307-here-to-stay-celebrating-40-years-at-the/event_details.txt\n",
      "Links saved to ./output/cmu_events/children/events.cmu.edu_event_7307-here-to-stay-celebrating-40-years-at-the/url.txt\n"
     ]
    },
    {
     "name": "stderr",
     "output_type": "stream",
     "text": [
      " 88%|████████▊ | 515/585 [02:04<00:13,  5.26it/s]"
     ]
    },
    {
     "name": "stdout",
     "output_type": "stream",
     "text": [
      "Event details saved to ./output/cmu_events/children/events.cmu.edu_event_12526-asian-american-and-pacific-islander-heritage-month/event_details.txt\n",
      "Links saved to ./output/cmu_events/children/events.cmu.edu_event_12526-asian-american-and-pacific-islander-heritage-month/url.txt\n"
     ]
    },
    {
     "name": "stderr",
     "output_type": "stream",
     "text": [
      " 88%|████████▊ | 516/585 [02:05<00:14,  4.61it/s]"
     ]
    },
    {
     "name": "stdout",
     "output_type": "stream",
     "text": [
      "Event details saved to ./output/cmu_events/children/events.cmu.edu_event_12364-commencement/event_details.txt\n",
      "Links saved to ./output/cmu_events/children/events.cmu.edu_event_12364-commencement/url.txt\n"
     ]
    },
    {
     "name": "stderr",
     "output_type": "stream",
     "text": [
      " 89%|████████▊ | 518/585 [02:05<00:13,  5.14it/s]"
     ]
    },
    {
     "name": "stdout",
     "output_type": "stream",
     "text": [
      "Event details saved to ./output/cmu_events/children/events.cmu.edu_event_12526-asian-american-and-pacific-islander-heritage-month/event_details.txt\n",
      "Links saved to ./output/cmu_events/children/events.cmu.edu_event_12526-asian-american-and-pacific-islander-heritage-month/url.txt\n",
      "Event details saved to ./output/cmu_events/children/events.cmu.edu_event_7307-here-to-stay-celebrating-40-years-at-the/event_details.txt\n",
      "Links saved to ./output/cmu_events/children/events.cmu.edu_event_7307-here-to-stay-celebrating-40-years-at-the/url.txt\n"
     ]
    },
    {
     "name": "stderr",
     "output_type": "stream",
     "text": [
      " 89%|████████▊ | 519/585 [02:05<00:12,  5.13it/s]"
     ]
    },
    {
     "name": "stdout",
     "output_type": "stream",
     "text": [
      "Event details saved to ./output/cmu_events/children/events.cmu.edu_event_12526-asian-american-and-pacific-islander-heritage-month/event_details.txt\n",
      "Links saved to ./output/cmu_events/children/events.cmu.edu_event_12526-asian-american-and-pacific-islander-heritage-month/url.txt\n"
     ]
    },
    {
     "name": "stderr",
     "output_type": "stream",
     "text": [
      " 89%|████████▉ | 521/585 [02:06<00:13,  4.77it/s]"
     ]
    },
    {
     "name": "stdout",
     "output_type": "stream",
     "text": [
      "Event details saved to ./output/cmu_events/children/events.cmu.edu_event_12362-final-grades-due-by-4-pm/event_details.txt\n",
      "Links saved to ./output/cmu_events/children/events.cmu.edu_event_12362-final-grades-due-by-4-pm/url.txt\n",
      "Event details saved to ./output/cmu_events/children/events.cmu.edu_event_12526-asian-american-and-pacific-islander-heritage-month/event_details.txt\n",
      "Links saved to ./output/cmu_events/children/events.cmu.edu_event_12526-asian-american-and-pacific-islander-heritage-month/url.txt\n"
     ]
    },
    {
     "name": "stderr",
     "output_type": "stream",
     "text": [
      " 89%|████████▉ | 522/585 [02:06<00:12,  5.14it/s]"
     ]
    },
    {
     "name": "stdout",
     "output_type": "stream",
     "text": [
      "Event details saved to ./output/cmu_events/children/events.cmu.edu_event_7307-here-to-stay-celebrating-40-years-at-the/event_details.txt\n",
      "Links saved to ./output/cmu_events/children/events.cmu.edu_event_7307-here-to-stay-celebrating-40-years-at-the/url.txt\n"
     ]
    },
    {
     "name": "stderr",
     "output_type": "stream",
     "text": [
      " 90%|████████▉ | 524/585 [02:06<00:13,  4.60it/s]"
     ]
    },
    {
     "name": "stdout",
     "output_type": "stream",
     "text": [
      "Event details saved to ./output/cmu_events/children/events.cmu.edu_event_12526-asian-american-and-pacific-islander-heritage-month/event_details.txt\n",
      "Links saved to ./output/cmu_events/children/events.cmu.edu_event_12526-asian-american-and-pacific-islander-heritage-month/url.txt\n",
      "Event details saved to ./output/cmu_events/children/events.cmu.edu_event_7307-here-to-stay-celebrating-40-years-at-the/event_details.txt\n",
      "Links saved to ./output/cmu_events/children/events.cmu.edu_event_7307-here-to-stay-celebrating-40-years-at-the/url.txt\n"
     ]
    },
    {
     "name": "stderr",
     "output_type": "stream",
     "text": [
      " 90%|████████▉ | 526/585 [02:07<00:11,  5.21it/s]"
     ]
    },
    {
     "name": "stdout",
     "output_type": "stream",
     "text": [
      "Event details saved to ./output/cmu_events/children/events.cmu.edu_event_12526-asian-american-and-pacific-islander-heritage-month/event_details.txt\n",
      "Links saved to ./output/cmu_events/children/events.cmu.edu_event_12526-asian-american-and-pacific-islander-heritage-month/url.txt\n",
      "Event details saved to ./output/cmu_events/children/events.cmu.edu_event_7307-here-to-stay-celebrating-40-years-at-the/event_details.txt\n",
      "Links saved to ./output/cmu_events/children/events.cmu.edu_event_7307-here-to-stay-celebrating-40-years-at-the/url.txt\n"
     ]
    },
    {
     "name": "stderr",
     "output_type": "stream",
     "text": [
      " 90%|█████████ | 528/585 [02:07<00:14,  3.96it/s]"
     ]
    },
    {
     "name": "stdout",
     "output_type": "stream",
     "text": [
      "Event details saved to ./output/cmu_events/children/events.cmu.edu_event_12526-asian-american-and-pacific-islander-heritage-month/event_details.txt\n",
      "Links saved to ./output/cmu_events/children/events.cmu.edu_event_12526-asian-american-and-pacific-islander-heritage-month/url.txt\n",
      "Event details saved to ./output/cmu_events/children/events.cmu.edu_event_7307-here-to-stay-celebrating-40-years-at-the/event_details.txt\n",
      "Links saved to ./output/cmu_events/children/events.cmu.edu_event_7307-here-to-stay-celebrating-40-years-at-the/url.txt\n"
     ]
    },
    {
     "name": "stderr",
     "output_type": "stream",
     "text": [
      " 91%|█████████ | 530/585 [02:08<00:11,  4.86it/s]"
     ]
    },
    {
     "name": "stdout",
     "output_type": "stream",
     "text": [
      "Event details saved to ./output/cmu_events/children/events.cmu.edu_event_12526-asian-american-and-pacific-islander-heritage-month/event_details.txt\n",
      "Links saved to ./output/cmu_events/children/events.cmu.edu_event_12526-asian-american-and-pacific-islander-heritage-month/url.txt\n",
      "Event details saved to ./output/cmu_events/children/events.cmu.edu_event_7307-here-to-stay-celebrating-40-years-at-the/event_details.txt\n",
      "Links saved to ./output/cmu_events/children/events.cmu.edu_event_7307-here-to-stay-celebrating-40-years-at-the/url.txt\n"
     ]
    },
    {
     "name": "stderr",
     "output_type": "stream",
     "text": [
      " 91%|█████████ | 532/585 [02:08<00:13,  4.02it/s]"
     ]
    },
    {
     "name": "stdout",
     "output_type": "stream",
     "text": [
      "Event details saved to ./output/cmu_events/children/events.cmu.edu_event_12526-asian-american-and-pacific-islander-heritage-month/event_details.txt\n",
      "Links saved to ./output/cmu_events/children/events.cmu.edu_event_12526-asian-american-and-pacific-islander-heritage-month/url.txt\n",
      "Event details saved to ./output/cmu_events/children/events.cmu.edu_event_7307-here-to-stay-celebrating-40-years-at-the/event_details.txt\n",
      "Links saved to ./output/cmu_events/children/events.cmu.edu_event_7307-here-to-stay-celebrating-40-years-at-the/url.txt\n"
     ]
    },
    {
     "name": "stderr",
     "output_type": "stream",
     "text": [
      " 91%|█████████▏| 534/585 [02:09<00:10,  4.73it/s]"
     ]
    },
    {
     "name": "stdout",
     "output_type": "stream",
     "text": [
      "Event details saved to ./output/cmu_events/children/events.cmu.edu_event_12526-asian-american-and-pacific-islander-heritage-month/event_details.txt\n",
      "Links saved to ./output/cmu_events/children/events.cmu.edu_event_12526-asian-american-and-pacific-islander-heritage-month/url.txt\n",
      "Event details saved to ./output/cmu_events/children/events.cmu.edu_event_7307-here-to-stay-celebrating-40-years-at-the/event_details.txt\n",
      "Links saved to ./output/cmu_events/children/events.cmu.edu_event_7307-here-to-stay-celebrating-40-years-at-the/url.txt\n"
     ]
    },
    {
     "name": "stderr",
     "output_type": "stream",
     "text": [
      " 92%|█████████▏| 536/585 [02:09<00:09,  5.33it/s]"
     ]
    },
    {
     "name": "stdout",
     "output_type": "stream",
     "text": [
      "Event details saved to ./output/cmu_events/children/events.cmu.edu_event_12526-asian-american-and-pacific-islander-heritage-month/event_details.txt\n",
      "Links saved to ./output/cmu_events/children/events.cmu.edu_event_12526-asian-american-and-pacific-islander-heritage-month/url.txt\n",
      "Event details saved to ./output/cmu_events/children/events.cmu.edu_event_7307-here-to-stay-celebrating-40-years-at-the/event_details.txt\n",
      "Links saved to ./output/cmu_events/children/events.cmu.edu_event_7307-here-to-stay-celebrating-40-years-at-the/url.txt\n"
     ]
    },
    {
     "name": "stderr",
     "output_type": "stream",
     "text": [
      " 92%|█████████▏| 538/585 [02:09<00:08,  5.60it/s]"
     ]
    },
    {
     "name": "stdout",
     "output_type": "stream",
     "text": [
      "Event details saved to ./output/cmu_events/children/events.cmu.edu_event_12526-asian-american-and-pacific-islander-heritage-month/event_details.txt\n",
      "Links saved to ./output/cmu_events/children/events.cmu.edu_event_12526-asian-american-and-pacific-islander-heritage-month/url.txt\n",
      "Event details saved to ./output/cmu_events/children/events.cmu.edu_event_7307-here-to-stay-celebrating-40-years-at-the/event_details.txt\n",
      "Links saved to ./output/cmu_events/children/events.cmu.edu_event_7307-here-to-stay-celebrating-40-years-at-the/url.txt\n"
     ]
    },
    {
     "name": "stderr",
     "output_type": "stream",
     "text": [
      " 92%|█████████▏| 539/585 [02:10<00:08,  5.65it/s]"
     ]
    },
    {
     "name": "stdout",
     "output_type": "stream",
     "text": [
      "Event details saved to ./output/cmu_events/children/events.cmu.edu_event_12526-asian-american-and-pacific-islander-heritage-month/event_details.txt\n",
      "Links saved to ./output/cmu_events/children/events.cmu.edu_event_12526-asian-american-and-pacific-islander-heritage-month/url.txt\n"
     ]
    },
    {
     "name": "stderr",
     "output_type": "stream",
     "text": [
      " 92%|█████████▏| 541/585 [02:10<00:09,  4.87it/s]"
     ]
    },
    {
     "name": "stdout",
     "output_type": "stream",
     "text": [
      "Event details saved to ./output/cmu_events/children/events.cmu.edu_event_12515-declaration-of-the-bab/event_details.txt\n",
      "Links saved to ./output/cmu_events/children/events.cmu.edu_event_12515-declaration-of-the-bab/url.txt\n",
      "Event details saved to ./output/cmu_events/children/events.cmu.edu_event_12526-asian-american-and-pacific-islander-heritage-month/event_details.txt\n",
      "Links saved to ./output/cmu_events/children/events.cmu.edu_event_12526-asian-american-and-pacific-islander-heritage-month/url.txt\n"
     ]
    },
    {
     "name": "stderr",
     "output_type": "stream",
     "text": [
      " 93%|█████████▎| 543/585 [02:10<00:08,  5.21it/s]"
     ]
    },
    {
     "name": "stdout",
     "output_type": "stream",
     "text": [
      "Event details saved to ./output/cmu_events/children/events.cmu.edu_event_7307-here-to-stay-celebrating-40-years-at-the/event_details.txt\n",
      "Links saved to ./output/cmu_events/children/events.cmu.edu_event_7307-here-to-stay-celebrating-40-years-at-the/url.txt\n",
      "Event details saved to ./output/cmu_events/children/events.cmu.edu_event_12526-asian-american-and-pacific-islander-heritage-month/event_details.txt\n",
      "Links saved to ./output/cmu_events/children/events.cmu.edu_event_12526-asian-american-and-pacific-islander-heritage-month/url.txt\n"
     ]
    },
    {
     "name": "stderr",
     "output_type": "stream",
     "text": [
      " 93%|█████████▎| 545/585 [02:11<00:07,  5.49it/s]"
     ]
    },
    {
     "name": "stdout",
     "output_type": "stream",
     "text": [
      "Event details saved to ./output/cmu_events/children/events.cmu.edu_event_7307-here-to-stay-celebrating-40-years-at-the/event_details.txt\n",
      "Links saved to ./output/cmu_events/children/events.cmu.edu_event_7307-here-to-stay-celebrating-40-years-at-the/url.txt\n",
      "Event details saved to ./output/cmu_events/children/events.cmu.edu_event_12526-asian-american-and-pacific-islander-heritage-month/event_details.txt\n",
      "Links saved to ./output/cmu_events/children/events.cmu.edu_event_12526-asian-american-and-pacific-islander-heritage-month/url.txt\n"
     ]
    },
    {
     "name": "stderr",
     "output_type": "stream",
     "text": [
      " 94%|█████████▎| 547/585 [02:11<00:06,  5.79it/s]"
     ]
    },
    {
     "name": "stdout",
     "output_type": "stream",
     "text": [
      "Event details saved to ./output/cmu_events/children/events.cmu.edu_event_7307-here-to-stay-celebrating-40-years-at-the/event_details.txt\n",
      "Links saved to ./output/cmu_events/children/events.cmu.edu_event_7307-here-to-stay-celebrating-40-years-at-the/url.txt\n",
      "Event details saved to ./output/cmu_events/children/events.cmu.edu_event_12526-asian-american-and-pacific-islander-heritage-month/event_details.txt\n",
      "Links saved to ./output/cmu_events/children/events.cmu.edu_event_12526-asian-american-and-pacific-islander-heritage-month/url.txt\n"
     ]
    },
    {
     "name": "stderr",
     "output_type": "stream",
     "text": [
      " 94%|█████████▍| 549/585 [02:11<00:05,  6.03it/s]"
     ]
    },
    {
     "name": "stdout",
     "output_type": "stream",
     "text": [
      "Event details saved to ./output/cmu_events/children/events.cmu.edu_event_7307-here-to-stay-celebrating-40-years-at-the/event_details.txt\n",
      "Links saved to ./output/cmu_events/children/events.cmu.edu_event_7307-here-to-stay-celebrating-40-years-at-the/url.txt\n",
      "Event details saved to ./output/cmu_events/children/events.cmu.edu_event_12526-asian-american-and-pacific-islander-heritage-month/event_details.txt\n",
      "Links saved to ./output/cmu_events/children/events.cmu.edu_event_12526-asian-american-and-pacific-islander-heritage-month/url.txt\n"
     ]
    },
    {
     "name": "stderr",
     "output_type": "stream",
     "text": [
      " 94%|█████████▍| 551/585 [02:12<00:05,  5.90it/s]"
     ]
    },
    {
     "name": "stdout",
     "output_type": "stream",
     "text": [
      "Event details saved to ./output/cmu_events/children/events.cmu.edu_event_7307-here-to-stay-celebrating-40-years-at-the/event_details.txt\n",
      "Links saved to ./output/cmu_events/children/events.cmu.edu_event_7307-here-to-stay-celebrating-40-years-at-the/url.txt\n",
      "Event details saved to ./output/cmu_events/children/events.cmu.edu_event_12526-asian-american-and-pacific-islander-heritage-month/event_details.txt\n",
      "Links saved to ./output/cmu_events/children/events.cmu.edu_event_12526-asian-american-and-pacific-islander-heritage-month/url.txt\n"
     ]
    },
    {
     "name": "stderr",
     "output_type": "stream",
     "text": [
      " 95%|█████████▍| 553/585 [02:12<00:04,  7.49it/s]"
     ]
    },
    {
     "name": "stdout",
     "output_type": "stream",
     "text": [
      "An error occurred: 403 Client Error: Forbidden for url: https://events.cmu.edu/event/7307-here-to-stay-celebrating-40-years-at-the\n",
      "An error occurred: 403 Client Error: Forbidden for url: https://events.cmu.edu/event/12526-asian-american-and-pacific-islander-heritage-month\n"
     ]
    },
    {
     "name": "stderr",
     "output_type": "stream",
     "text": [
      " 95%|█████████▌| 556/585 [02:12<00:03,  9.03it/s]"
     ]
    },
    {
     "name": "stdout",
     "output_type": "stream",
     "text": [
      "An error occurred: 403 Client Error: Forbidden for url: https://events.cmu.edu/event/7307-here-to-stay-celebrating-40-years-at-the\n",
      "An error occurred: 403 Client Error: Forbidden for url: https://events.cmu.edu/event/12526-asian-american-and-pacific-islander-heritage-month\n",
      "An error occurred: 403 Client Error: Forbidden for url: https://events.cmu.edu/event/12528-jewish-american-heritage\n"
     ]
    },
    {
     "name": "stderr",
     "output_type": "stream",
     "text": [
      " 95%|█████████▌| 558/585 [02:12<00:02,  9.51it/s]"
     ]
    },
    {
     "name": "stdout",
     "output_type": "stream",
     "text": [
      "An error occurred: 403 Client Error: Forbidden for url: https://events.cmu.edu/event/7307-here-to-stay-celebrating-40-years-at-the\n",
      "An error occurred: 403 Client Error: Forbidden for url: https://events.cmu.edu/event/12356-summer-one-mini-5-passno-pass-withdrawal\n"
     ]
    },
    {
     "name": "stderr",
     "output_type": "stream",
     "text": [
      " 96%|█████████▌| 561/585 [02:13<00:02, 10.30it/s]"
     ]
    },
    {
     "name": "stdout",
     "output_type": "stream",
     "text": [
      "An error occurred: 403 Client Error: Forbidden for url: https://events.cmu.edu/event/12355-summer-one-mini-5-faculty-course-evaluations\n",
      "An error occurred: 403 Client Error: Forbidden for url: https://events.cmu.edu/event/12354-summer-all-course-drop-deadline-withdrawal-grade\n",
      "An error occurred: 403 Client Error: Forbidden for url: https://events.cmu.edu/event/12352-summer-one-mini-5-last-day-of-classes\n"
     ]
    },
    {
     "name": "stderr",
     "output_type": "stream",
     "text": [
      " 96%|█████████▌| 563/585 [02:13<00:01, 11.06it/s]"
     ]
    },
    {
     "name": "stdout",
     "output_type": "stream",
     "text": [
      "An error occurred: 403 Client Error: Forbidden for url: https://events.cmu.edu/event/12353-summer-one-mini-5-voucher-deadline\n",
      "An error occurred: 403 Client Error: Forbidden for url: https://events.cmu.edu/event/12351-juneteenth-university-closed-no-classes\n",
      "An error occurred: 403 Client Error: Forbidden for url: https://events.cmu.edu/event/12349-summer-one-mini-5-faculty-course-evaluations\n"
     ]
    },
    {
     "name": "stderr",
     "output_type": "stream",
     "text": [
      " 97%|█████████▋| 567/585 [02:13<00:01, 11.32it/s]"
     ]
    },
    {
     "name": "stdout",
     "output_type": "stream",
     "text": [
      "An error occurred: 403 Client Error: Forbidden for url: https://events.cmu.edu/event/12350-summer-one-mini-5-final-exams\n",
      "An error occurred: 403 Client Error: Forbidden for url: https://events.cmu.edu/event/12348-summer-two-mini-6-first-day-of-classes\n",
      "An error occurred: 403 Client Error: Forbidden for url: https://events.cmu.edu/event/12347-summer-one-mini-5-final-grades-due-by\n"
     ]
    },
    {
     "name": "stderr",
     "output_type": "stream",
     "text": [
      " 97%|█████████▋| 569/585 [02:13<00:01, 10.77it/s]"
     ]
    },
    {
     "name": "stdout",
     "output_type": "stream",
     "text": [
      "An error occurred: 403 Client Error: Forbidden for url: https://events.cmu.edu/event/12346-summer-two-mini-6-add-audit-tuition\n",
      "An error occurred: 403 Client Error: Forbidden for url: https://events.cmu.edu/event/12345-summer-all-passno-pass-withdrawal-grade\n",
      "An error occurred: 403 Client Error: Forbidden for url: https://events.cmu.edu/event/12344-independence-day-university-closed-no-classes\n"
     ]
    },
    {
     "name": "stderr",
     "output_type": "stream",
     "text": [
      " 98%|█████████▊| 573/585 [02:14<00:01, 11.72it/s]"
     ]
    },
    {
     "name": "stdout",
     "output_type": "stream",
     "text": [
      "An error occurred: 403 Client Error: Forbidden for url: https://events.cmu.edu/event/12345-summer-all-passno-pass-withdrawal-grade\n",
      "An error occurred: 403 Client Error: Forbidden for url: https://events.cmu.edu/event/12344-independence-day-university-closed-no-classes\n",
      "An error occurred: 403 Client Error: Forbidden for url: https://events.cmu.edu/event/12343-summer-two-mini-6-drop-deadline-withdrawal\n"
     ]
    },
    {
     "name": "stderr",
     "output_type": "stream",
     "text": [
      " 98%|█████████▊| 575/585 [02:14<00:00, 11.25it/s]"
     ]
    },
    {
     "name": "stdout",
     "output_type": "stream",
     "text": [
      "An error occurred: 403 Client Error: Forbidden for url: https://events.cmu.edu/event/12342-summer-two-mini-6-passno-pass-withdrawal\n",
      "An error occurred: 403 Client Error: Forbidden for url: https://events.cmu.edu/event/12341-summer-all-two-mini-6-faculty-course\n"
     ]
    },
    {
     "name": "stderr",
     "output_type": "stream",
     "text": [
      " 99%|█████████▊| 577/585 [02:14<00:00, 11.06it/s]"
     ]
    },
    {
     "name": "stdout",
     "output_type": "stream",
     "text": [
      "An error occurred: 403 Client Error: Forbidden for url: https://events.cmu.edu/event/12339-summer-all-two-mini-6-last-day-of-classes\n",
      "An error occurred: 403 Client Error: Forbidden for url: https://events.cmu.edu/event/12340-summer-all-two-mini-6-voucher-deadline\n"
     ]
    },
    {
     "name": "stderr",
     "output_type": "stream",
     "text": [
      " 99%|█████████▉| 579/585 [02:14<00:00, 10.95it/s]"
     ]
    },
    {
     "name": "stdout",
     "output_type": "stream",
     "text": [
      "An error occurred: 403 Client Error: Forbidden for url: https://events.cmu.edu/event/12337-summer-all-two-mini-6-faculty-course\n",
      "An error occurred: 403 Client Error: Forbidden for url: https://events.cmu.edu/event/12338-summer-all-two-mini-6-final-exams\n",
      "An error occurred: 403 Client Error: Forbidden for url: https://events.cmu.edu/event/12341-summer-all-two-mini-6-faculty-course\n"
     ]
    },
    {
     "name": "stderr",
     "output_type": "stream",
     "text": [
      "100%|█████████▉| 583/585 [02:15<00:00, 10.73it/s]"
     ]
    },
    {
     "name": "stdout",
     "output_type": "stream",
     "text": [
      "An error occurred: 403 Client Error: Forbidden for url: https://events.cmu.edu/event/12339-summer-all-two-mini-6-last-day-of-classes\n",
      "An error occurred: 403 Client Error: Forbidden for url: https://events.cmu.edu/event/12340-summer-all-two-mini-6-voucher-deadline\n",
      "An error occurred: 403 Client Error: Forbidden for url: https://events.cmu.edu/event/12337-summer-all-two-mini-6-faculty-course\n"
     ]
    },
    {
     "name": "stderr",
     "output_type": "stream",
     "text": [
      "100%|██████████| 585/585 [02:15<00:00,  4.32it/s]"
     ]
    },
    {
     "name": "stdout",
     "output_type": "stream",
     "text": [
      "An error occurred: 403 Client Error: Forbidden for url: https://events.cmu.edu/event/12338-summer-all-two-mini-6-final-exams\n",
      "An error occurred: 403 Client Error: Forbidden for url: https://events.cmu.edu/event/12336-summer-all-two-mini-6-final-grades-due-by-4pm\n"
     ]
    },
    {
     "name": "stderr",
     "output_type": "stream",
     "text": [
      "\n"
     ]
    }
   ],
   "source": [
    "import os\n",
    "import requests\n",
    "from bs4 import BeautifulSoup\n",
    "import urllib.parse\n",
    "import json\n",
    "from tqdm import tqdm\n",
    "\n",
    "def scrape_event_page(url, output_path):\n",
    "    # Ensure the output directory exists\n",
    "    if not os.path.exists(output_path):\n",
    "        os.makedirs(output_path)\n",
    "\n",
    "    try:\n",
    "        # Fetch the webpage content\n",
    "        response = requests.get(url)\n",
    "        response.raise_for_status()  # Check for HTTP errors\n",
    "        \n",
    "        # Parse the HTML content using BeautifulSoup\n",
    "        soup = BeautifulSoup(response.content, 'html.parser')\n",
    "        \n",
    "        # Extract the meta information (for description, title, etc.)\n",
    "        title = soup.find('meta', property='og:title')\n",
    "        title_text = title['content'] if title else 'No title found'\n",
    "\n",
    "        description = soup.find('meta', property='og:description')\n",
    "        description_text = description['content'] if description else 'No description found'\n",
    "\n",
    "        event_url = soup.find('meta', property='og:url')\n",
    "        event_url_text = event_url['content'] if event_url else 'No URL found'\n",
    "\n",
    "        image_url = soup.find('meta', property='og:image')\n",
    "        image_url_text = image_url['content'] if image_url else 'No image URL found'\n",
    "        \n",
    "        # Extract JSON-LD data for structured event info (if available)\n",
    "        json_ld_script = soup.find('script', type='application/ld+json')\n",
    "        if json_ld_script:\n",
    "            try:\n",
    "                event_data = json.loads(json_ld_script.string)\n",
    "                event_start = event_data.get('startDate', 'No start date found')\n",
    "                event_end = event_data.get('endDate', 'No end date found')\n",
    "            except json.JSONDecodeError:\n",
    "                event_data = {}\n",
    "                event_start = 'No start date found'\n",
    "                event_end = 'No end date found'\n",
    "        else:\n",
    "            event_data = {}\n",
    "            event_start = 'No start date found'\n",
    "            event_end = 'No end date found'\n",
    "\n",
    "        # Save extracted data to a text file\n",
    "        event_details_file = os.path.join(output_path, 'event_details.txt')\n",
    "        with open(event_details_file, 'w', encoding='utf-8') as f:\n",
    "            f.write(f\"Title: {title_text}\\n\")\n",
    "            f.write(f\"Description: {description_text}\\n\")\n",
    "            f.write(f\"Event URL: {event_url_text}\\n\")\n",
    "            f.write(f\"Image URL: {image_url_text}\\n\")\n",
    "            f.write(f\"Start Date: {event_start}\\n\")\n",
    "            f.write(f\"End Date: {event_end}\\n\")\n",
    "        print(f\"Event details saved to {event_details_file}\")\n",
    "\n",
    "        # Extract all links and save to url.txt\n",
    "        links = []\n",
    "        for link in soup.find_all('a', href=True):\n",
    "            href = link['href']\n",
    "            full_url = urllib.parse.urljoin(url, href)\n",
    "            links.append(full_url)\n",
    "        links_file = os.path.join(output_path, 'url.txt')\n",
    "        with open(links_file, 'w', encoding='utf-8') as f:\n",
    "            for link in links:\n",
    "                f.write(link + '\\n')\n",
    "        print(f\"Links saved to {links_file}\")\n",
    "        \n",
    "    except requests.exceptions.RequestException as e:\n",
    "        print(f\"An error occurred: {e}\")\n",
    "\n",
    "\n",
    "with open('./output/cmu_events/events_url.txt', 'r') as file:\n",
    "    urls = file.readlines()\n",
    "    for url in tqdm(urls):\n",
    "        url = url.strip()\n",
    "        title = url.split('//')[-1].replace('/', '_')\n",
    "        scrape_event_page(url, f'./output/cmu_events/children/{title}')"
   ]
  },
  {
   "cell_type": "code",
   "execution_count": 81,
   "metadata": {},
   "outputs": [
    {
     "name": "stderr",
     "output_type": "stream",
     "text": [
      "  0%|          | 1/356 [00:00<03:18,  1.79it/s]"
     ]
    },
    {
     "name": "stdout",
     "output_type": "stream",
     "text": [
      "Paragraphs saved to ./output/pghcitypaper_events/children/twitter.com_PGHCityPaper/paragraphs.txt\n",
      "Links saved to ./output/pghcitypaper_events/children/twitter.com_PGHCityPaper/url.txt\n",
      "[]\n",
      "All PDFs and DOCX files have been downloaded.\n",
      "No events found in the HTML content.\n"
     ]
    },
    {
     "name": "stderr",
     "output_type": "stream",
     "text": [
      "  1%|          | 2/356 [00:00<02:28,  2.38it/s]"
     ]
    },
    {
     "name": "stdout",
     "output_type": "stream",
     "text": [
      "Paragraphs saved to ./output/pghcitypaper_events/children/www.facebook.com_PittsburghCityPaper?sk=wall/paragraphs.txt\n",
      "Links saved to ./output/pghcitypaper_events/children/www.facebook.com_PittsburghCityPaper?sk=wall/url.txt\n",
      "[]\n",
      "All PDFs and DOCX files have been downloaded.\n",
      "No events found in the HTML content.\n"
     ]
    },
    {
     "name": "stderr",
     "output_type": "stream",
     "text": [
      "  1%|          | 3/356 [00:01<04:01,  1.46it/s]"
     ]
    },
    {
     "name": "stdout",
     "output_type": "stream",
     "text": [
      "Paragraphs saved to ./output/pghcitypaper_events/children/instagram.com_pghcitypaper_/paragraphs.txt\n",
      "Links saved to ./output/pghcitypaper_events/children/instagram.com_pghcitypaper_/url.txt\n",
      "[]\n",
      "All PDFs and DOCX files have been downloaded.\n",
      "No events found in the HTML content.\n",
      "Paragraphs saved to ./output/pghcitypaper_events/children/www.pghcitypaper.com_pittsburgh_EventSearch?sortType=date&v=d/paragraphs.txt\n"
     ]
    },
    {
     "name": "stderr",
     "output_type": "stream",
     "text": [
      "  1%|          | 4/356 [00:02<02:55,  2.01it/s]"
     ]
    },
    {
     "name": "stdout",
     "output_type": "stream",
     "text": [
      "Links saved to ./output/pghcitypaper_events/children/www.pghcitypaper.com_pittsburgh_EventSearch?sortType=date&v=d/url.txt\n",
      "[]\n",
      "All PDFs and DOCX files have been downloaded.\n",
      "Extracted 33 events and saved to ./output/pghcitypaper_events/children/www.pghcitypaper.com_pittsburgh_EventSearch?sortType=date&v=d/events.csv\n"
     ]
    },
    {
     "name": "stderr",
     "output_type": "stream",
     "text": [
      "  1%|▏         | 5/356 [00:03<05:32,  1.05it/s]"
     ]
    },
    {
     "name": "stdout",
     "output_type": "stream",
     "text": [
      "Paragraphs saved to ./output/pghcitypaper_events/children/posting.pghcitypaper.com_pittsburgh_MyProfile/paragraphs.txt\n",
      "Links saved to ./output/pghcitypaper_events/children/posting.pghcitypaper.com_pittsburgh_MyProfile/url.txt\n",
      "[]\n",
      "All PDFs and DOCX files have been downloaded.\n",
      "No events found in the HTML content.\n"
     ]
    },
    {
     "name": "stderr",
     "output_type": "stream",
     "text": [
      "  2%|▏         | 6/356 [00:04<04:10,  1.40it/s]"
     ]
    },
    {
     "name": "stdout",
     "output_type": "stream",
     "text": [
      "An error occurred: 524 Server Error: Resource Temporarily Unavailable for url: https://posting.pghcitypaper.com/pittsburgh/Profile/MySettings\n"
     ]
    },
    {
     "name": "stderr",
     "output_type": "stream",
     "text": [
      "  2%|▏         | 8/356 [00:04<02:30,  2.31it/s]"
     ]
    },
    {
     "name": "stdout",
     "output_type": "stream",
     "text": [
      "An error occurred: 524 Server Error: Resource Temporarily Unavailable for url: https://posting.pghcitypaper.com/pittsburgh/Logout\n",
      "Paragraphs saved to ./output/pghcitypaper_events/children/www.pghcitypaper.com_pittsburgh_EventSearch?sortType=date&v=d#LogIn/paragraphs.txt\n",
      "Links saved to ./output/pghcitypaper_events/children/www.pghcitypaper.com_pittsburgh_EventSearch?sortType=date&v=d#LogIn/url.txt\n",
      "[]\n",
      "All PDFs and DOCX files have been downloaded.\n",
      "Extracted 33 events and saved to ./output/pghcitypaper_events/children/www.pghcitypaper.com_pittsburgh_EventSearch?sortType=date&v=d#LogIn/events.csv\n"
     ]
    },
    {
     "name": "stderr",
     "output_type": "stream",
     "text": [
      "  3%|▎         | 9/356 [00:04<01:57,  2.96it/s]"
     ]
    },
    {
     "name": "stdout",
     "output_type": "stream",
     "text": [
      "Paragraphs saved to ./output/pghcitypaper_events/children/www.pghcitypaper.com_/paragraphs.txt\n",
      "Links saved to ./output/pghcitypaper_events/children/www.pghcitypaper.com_/url.txt\n",
      "[]\n",
      "All PDFs and DOCX files have been downloaded.\n",
      "Extracted 4 events and saved to ./output/pghcitypaper_events/children/www.pghcitypaper.com_/events.csv\n"
     ]
    },
    {
     "name": "stderr",
     "output_type": "stream",
     "text": [
      "  3%|▎         | 10/356 [00:05<02:02,  2.83it/s]"
     ]
    },
    {
     "name": "stdout",
     "output_type": "stream",
     "text": [
      "An error occurred: 524 Server Error: Resource Temporarily Unavailable for url: https://posting.pghcitypaper.com/pittsburgh/Newsletter\n"
     ]
    },
    {
     "name": "stderr",
     "output_type": "stream",
     "text": [
      "  3%|▎         | 11/356 [00:05<02:17,  2.51it/s]"
     ]
    },
    {
     "name": "stdout",
     "output_type": "stream",
     "text": [
      "An error occurred: 524 Server Error: Resource Temporarily Unavailable for url: https://posting.pghcitypaper.com/pittsburgh/PittsburghCityPapersMembershipCampaign/Page\n"
     ]
    },
    {
     "name": "stderr",
     "output_type": "stream",
     "text": [
      "  3%|▎         | 12/356 [00:05<02:00,  2.86it/s]"
     ]
    },
    {
     "name": "stdout",
     "output_type": "stream",
     "text": [
      "An error occurred: 524 Server Error: Resource Temporarily Unavailable for url: https://posting.pghcitypaper.com/pittsburgh/Search\n"
     ]
    },
    {
     "name": "stderr",
     "output_type": "stream",
     "text": [
      "  4%|▎         | 13/356 [00:06<01:56,  2.93it/s]"
     ]
    },
    {
     "name": "stdout",
     "output_type": "stream",
     "text": [
      "Paragraphs saved to ./output/pghcitypaper_events/children/www.pghcitypaper.com_pittsburgh_ArticleArchives/paragraphs.txt\n",
      "Links saved to ./output/pghcitypaper_events/children/www.pghcitypaper.com_pittsburgh_ArticleArchives/url.txt\n",
      "[]\n",
      "All PDFs and DOCX files have been downloaded.\n",
      "Extracted 28 events and saved to ./output/pghcitypaper_events/children/www.pghcitypaper.com_pittsburgh_ArticleArchives/events.csv\n"
     ]
    },
    {
     "name": "stderr",
     "output_type": "stream",
     "text": [
      "  4%|▍         | 14/356 [00:06<01:42,  3.33it/s]"
     ]
    },
    {
     "name": "stdout",
     "output_type": "stream",
     "text": [
      "Paragraphs saved to ./output/pghcitypaper_events/children/www.pghcitypaper.com_pittsburgh_SlideshowArchives/paragraphs.txt\n",
      "Links saved to ./output/pghcitypaper_events/children/www.pghcitypaper.com_pittsburgh_SlideshowArchives/url.txt\n",
      "[]\n",
      "All PDFs and DOCX files have been downloaded.\n",
      "No events found in the HTML content.\n"
     ]
    },
    {
     "name": "stderr",
     "output_type": "stream",
     "text": [
      "  4%|▍         | 15/356 [00:06<01:36,  3.54it/s]"
     ]
    },
    {
     "name": "stdout",
     "output_type": "stream",
     "text": [
      "Paragraphs saved to ./output/pghcitypaper_events/children/www.pghcitypaper.com_pittsburgh_EventSearch/paragraphs.txt\n",
      "Links saved to ./output/pghcitypaper_events/children/www.pghcitypaper.com_pittsburgh_EventSearch/url.txt\n",
      "[]\n",
      "All PDFs and DOCX files have been downloaded.\n",
      "Extracted 33 events and saved to ./output/pghcitypaper_events/children/www.pghcitypaper.com_pittsburgh_EventSearch/events.csv\n"
     ]
    },
    {
     "name": "stderr",
     "output_type": "stream",
     "text": [
      "  4%|▍         | 16/356 [00:06<01:29,  3.81it/s]"
     ]
    },
    {
     "name": "stdout",
     "output_type": "stream",
     "text": [
      "Paragraphs saved to ./output/pghcitypaper_events/children/www.pghcitypaper.com_pittsburgh_LocationSearch/paragraphs.txt\n",
      "Links saved to ./output/pghcitypaper_events/children/www.pghcitypaper.com_pittsburgh_LocationSearch/url.txt\n",
      "[]\n",
      "All PDFs and DOCX files have been downloaded.\n",
      "Extracted 28 events and saved to ./output/pghcitypaper_events/children/www.pghcitypaper.com_pittsburgh_LocationSearch/events.csv\n"
     ]
    },
    {
     "name": "stderr",
     "output_type": "stream",
     "text": [
      "  5%|▍         | 17/356 [00:06<01:24,  4.01it/s]"
     ]
    },
    {
     "name": "stdout",
     "output_type": "stream",
     "text": [
      "An error occurred: 524 Server Error: Resource Temporarily Unavailable for url: https://posting.pghcitypaper.com/pittsburgh/Search\n"
     ]
    },
    {
     "name": "stderr",
     "output_type": "stream",
     "text": [
      "  5%|▌         | 19/356 [00:07<01:14,  4.50it/s]"
     ]
    },
    {
     "name": "stdout",
     "output_type": "stream",
     "text": [
      "An error occurred: 524 Server Error: Resource Temporarily Unavailable for url: https://posting.pghcitypaper.com/pittsburgh/Search\n",
      "Paragraphs saved to ./output/pghcitypaper_events/children/www.pghcitypaper.com_pittsburgh_ArticleArchives/paragraphs.txt\n",
      "Links saved to ./output/pghcitypaper_events/children/www.pghcitypaper.com_pittsburgh_ArticleArchives/url.txt\n",
      "[]\n",
      "All PDFs and DOCX files have been downloaded.\n",
      "Extracted 28 events and saved to ./output/pghcitypaper_events/children/www.pghcitypaper.com_pittsburgh_ArticleArchives/events.csv\n"
     ]
    },
    {
     "name": "stderr",
     "output_type": "stream",
     "text": [
      "  6%|▌         | 21/356 [00:07<01:05,  5.14it/s]"
     ]
    },
    {
     "name": "stdout",
     "output_type": "stream",
     "text": [
      "Paragraphs saved to ./output/pghcitypaper_events/children/www.pghcitypaper.com_pittsburgh_SlideshowArchives/paragraphs.txt\n",
      "Links saved to ./output/pghcitypaper_events/children/www.pghcitypaper.com_pittsburgh_SlideshowArchives/url.txt\n",
      "[]\n",
      "All PDFs and DOCX files have been downloaded.\n",
      "No events found in the HTML content.\n",
      "Paragraphs saved to ./output/pghcitypaper_events/children/www.pghcitypaper.com_pittsburgh_EventSearch/paragraphs.txt\n",
      "Links saved to ./output/pghcitypaper_events/children/www.pghcitypaper.com_pittsburgh_EventSearch/url.txt\n",
      "[]\n",
      "All PDFs and DOCX files have been downloaded.\n",
      "Extracted 33 events and saved to ./output/pghcitypaper_events/children/www.pghcitypaper.com_pittsburgh_EventSearch/events.csv\n"
     ]
    },
    {
     "name": "stderr",
     "output_type": "stream",
     "text": [
      "  6%|▌         | 22/356 [00:07<00:58,  5.73it/s]"
     ]
    },
    {
     "name": "stdout",
     "output_type": "stream",
     "text": [
      "Paragraphs saved to ./output/pghcitypaper_events/children/www.pghcitypaper.com_pittsburgh_LocationSearch/paragraphs.txt\n",
      "Links saved to ./output/pghcitypaper_events/children/www.pghcitypaper.com_pittsburgh_LocationSearch/url.txt\n",
      "[]\n",
      "All PDFs and DOCX files have been downloaded.\n",
      "Extracted 28 events and saved to ./output/pghcitypaper_events/children/www.pghcitypaper.com_pittsburgh_LocationSearch/events.csv\n"
     ]
    },
    {
     "name": "stderr",
     "output_type": "stream",
     "text": [
      "  6%|▋         | 23/356 [00:08<01:03,  5.25it/s]"
     ]
    },
    {
     "name": "stdout",
     "output_type": "stream",
     "text": [
      "An error occurred: 524 Server Error: Resource Temporarily Unavailable for url: https://posting.pghcitypaper.com/pittsburgh/Search\n"
     ]
    },
    {
     "name": "stderr",
     "output_type": "stream",
     "text": [
      "  7%|▋         | 24/356 [00:10<05:32,  1.00s/it]"
     ]
    },
    {
     "name": "stdout",
     "output_type": "stream",
     "text": [
      "Paragraphs saved to ./output/pghcitypaper_events/children/www.pghcitypaper.com_pittsburgh_Home/paragraphs.txt\n",
      "Links saved to ./output/pghcitypaper_events/children/www.pghcitypaper.com_pittsburgh_Home/url.txt\n",
      "[]\n",
      "All PDFs and DOCX files have been downloaded.\n",
      "Extracted 4 events and saved to ./output/pghcitypaper_events/children/www.pghcitypaper.com_pittsburgh_Home/events.csv\n"
     ]
    },
    {
     "name": "stderr",
     "output_type": "stream",
     "text": [
      "  7%|▋         | 25/356 [00:11<04:15,  1.30it/s]"
     ]
    },
    {
     "name": "stdout",
     "output_type": "stream",
     "text": [
      "Paragraphs saved to ./output/pghcitypaper_events/children/www.pghcitypaper.com_news/paragraphs.txt\n",
      "Links saved to ./output/pghcitypaper_events/children/www.pghcitypaper.com_news/url.txt\n",
      "[]\n",
      "All PDFs and DOCX files have been downloaded.\n",
      "Extracted 26 events and saved to ./output/pghcitypaper_events/children/www.pghcitypaper.com_news/events.csv\n"
     ]
    },
    {
     "name": "stderr",
     "output_type": "stream",
     "text": [
      "  7%|▋         | 26/356 [00:11<03:27,  1.59it/s]"
     ]
    },
    {
     "name": "stdout",
     "output_type": "stream",
     "text": [
      "Paragraphs saved to ./output/pghcitypaper_events/children/www.pghcitypaper.com_category_community-profile-18792262/paragraphs.txt\n",
      "Links saved to ./output/pghcitypaper_events/children/www.pghcitypaper.com_category_community-profile-18792262/url.txt\n",
      "[]\n",
      "All PDFs and DOCX files have been downloaded.\n",
      "Extracted 26 events and saved to ./output/pghcitypaper_events/children/www.pghcitypaper.com_category_community-profile-18792262/events.csv\n"
     ]
    },
    {
     "name": "stderr",
     "output_type": "stream",
     "text": [
      "  8%|▊         | 28/356 [00:11<02:12,  2.48it/s]"
     ]
    },
    {
     "name": "stdout",
     "output_type": "stream",
     "text": [
      "Paragraphs saved to ./output/pghcitypaper_events/children/www.pghcitypaper.com_category_environment-22045756/paragraphs.txt\n",
      "Links saved to ./output/pghcitypaper_events/children/www.pghcitypaper.com_category_environment-22045756/url.txt\n",
      "[]\n",
      "All PDFs and DOCX files have been downloaded.\n",
      "Extracted 20 events and saved to ./output/pghcitypaper_events/children/www.pghcitypaper.com_category_environment-22045756/events.csv\n",
      "Paragraphs saved to ./output/pghcitypaper_events/children/www.pghcitypaper.com_category_health-22045736/paragraphs.txt\n",
      "Links saved to ./output/pghcitypaper_events/children/www.pghcitypaper.com_category_health-22045736/url.txt\n",
      "[]\n",
      "All PDFs and DOCX files have been downloaded.\n",
      "Extracted 26 events and saved to ./output/pghcitypaper_events/children/www.pghcitypaper.com_category_health-22045736/events.csv\n"
     ]
    },
    {
     "name": "stderr",
     "output_type": "stream",
     "text": [
      "  8%|▊         | 29/356 [00:12<01:55,  2.84it/s]"
     ]
    },
    {
     "name": "stdout",
     "output_type": "stream",
     "text": [
      "Paragraphs saved to ./output/pghcitypaper_events/children/www.pghcitypaper.com_category_infrastructure-22045766/paragraphs.txt\n",
      "Links saved to ./output/pghcitypaper_events/children/www.pghcitypaper.com_category_infrastructure-22045766/url.txt\n",
      "[]\n",
      "All PDFs and DOCX files have been downloaded.\n",
      "Extracted 25 events and saved to ./output/pghcitypaper_events/children/www.pghcitypaper.com_category_infrastructure-22045766/events.csv\n"
     ]
    },
    {
     "name": "stderr",
     "output_type": "stream",
     "text": [
      "  8%|▊         | 30/356 [00:12<01:42,  3.19it/s]"
     ]
    },
    {
     "name": "stdout",
     "output_type": "stream",
     "text": [
      "Paragraphs saved to ./output/pghcitypaper_events/children/www.pghcitypaper.com_category_labor-22045776/paragraphs.txt\n",
      "Links saved to ./output/pghcitypaper_events/children/www.pghcitypaper.com_category_labor-22045776/url.txt\n",
      "[]\n",
      "All PDFs and DOCX files have been downloaded.\n",
      "Extracted 6 events and saved to ./output/pghcitypaper_events/children/www.pghcitypaper.com_category_labor-22045776/events.csv\n"
     ]
    },
    {
     "name": "stderr",
     "output_type": "stream",
     "text": [
      "  9%|▊         | 31/356 [00:12<01:36,  3.38it/s]"
     ]
    },
    {
     "name": "stdout",
     "output_type": "stream",
     "text": [
      "Paragraphs saved to ./output/pghcitypaper_events/children/www.pghcitypaper.com_category_lgbtq-18791966/paragraphs.txt\n",
      "Links saved to ./output/pghcitypaper_events/children/www.pghcitypaper.com_category_lgbtq-18791966/url.txt\n",
      "[]\n",
      "All PDFs and DOCX files have been downloaded.\n",
      "Extracted 10 events and saved to ./output/pghcitypaper_events/children/www.pghcitypaper.com_category_lgbtq-18791966/events.csv\n"
     ]
    },
    {
     "name": "stderr",
     "output_type": "stream",
     "text": [
      "  9%|▉         | 33/356 [00:12<01:19,  4.06it/s]"
     ]
    },
    {
     "name": "stdout",
     "output_type": "stream",
     "text": [
      "Paragraphs saved to ./output/pghcitypaper_events/children/www.pghcitypaper.com_category_politics-22045746/paragraphs.txt\n",
      "Links saved to ./output/pghcitypaper_events/children/www.pghcitypaper.com_category_politics-22045746/url.txt\n",
      "[]\n",
      "All PDFs and DOCX files have been downloaded.\n",
      "Extracted 21 events and saved to ./output/pghcitypaper_events/children/www.pghcitypaper.com_category_politics-22045746/events.csv\n",
      "Paragraphs saved to ./output/pghcitypaper_events/children/www.pghcitypaper.com_category_social-justice-22051864/paragraphs.txt\n",
      "Links saved to ./output/pghcitypaper_events/children/www.pghcitypaper.com_category_social-justice-22051864/url.txt\n",
      "[]\n",
      "All PDFs and DOCX files have been downloaded.\n",
      "Extracted 26 events and saved to ./output/pghcitypaper_events/children/www.pghcitypaper.com_category_social-justice-22051864/events.csv\n"
     ]
    },
    {
     "name": "stderr",
     "output_type": "stream",
     "text": [
      " 10%|▉         | 35/356 [00:13<01:05,  4.89it/s]"
     ]
    },
    {
     "name": "stdout",
     "output_type": "stream",
     "text": [
      "Paragraphs saved to ./output/pghcitypaper_events/children/www.pghcitypaper.com_news/paragraphs.txt\n",
      "Links saved to ./output/pghcitypaper_events/children/www.pghcitypaper.com_news/url.txt\n",
      "[]\n",
      "All PDFs and DOCX files have been downloaded.\n",
      "Extracted 26 events and saved to ./output/pghcitypaper_events/children/www.pghcitypaper.com_news/events.csv\n",
      "Paragraphs saved to ./output/pghcitypaper_events/children/www.pghcitypaper.com_category_weed-21373633/paragraphs.txt\n",
      "Links saved to ./output/pghcitypaper_events/children/www.pghcitypaper.com_category_weed-21373633/url.txt\n",
      "[]\n",
      "All PDFs and DOCX files have been downloaded.\n",
      "Extracted 7 events and saved to ./output/pghcitypaper_events/children/www.pghcitypaper.com_category_weed-21373633/events.csv\n"
     ]
    },
    {
     "name": "stderr",
     "output_type": "stream",
     "text": [
      " 10%|█         | 37/356 [00:13<01:01,  5.16it/s]"
     ]
    },
    {
     "name": "stdout",
     "output_type": "stream",
     "text": [
      "Paragraphs saved to ./output/pghcitypaper_events/children/www.pghcitypaper.com_food-drink/paragraphs.txt\n",
      "Links saved to ./output/pghcitypaper_events/children/www.pghcitypaper.com_food-drink/url.txt\n",
      "[]\n",
      "All PDFs and DOCX files have been downloaded.\n",
      "Extracted 26 events and saved to ./output/pghcitypaper_events/children/www.pghcitypaper.com_food-drink/events.csv\n",
      "Paragraphs saved to ./output/pghcitypaper_events/children/www.pghcitypaper.com_food-drink/paragraphs.txt\n",
      "Links saved to ./output/pghcitypaper_events/children/www.pghcitypaper.com_food-drink/url.txt\n",
      "[]\n",
      "All PDFs and DOCX files have been downloaded.\n",
      "Extracted 26 events and saved to ./output/pghcitypaper_events/children/www.pghcitypaper.com_food-drink/events.csv\n"
     ]
    },
    {
     "name": "stderr",
     "output_type": "stream",
     "text": [
      " 11%|█         | 38/356 [00:13<01:01,  5.14it/s]"
     ]
    },
    {
     "name": "stdout",
     "output_type": "stream",
     "text": [
      "Paragraphs saved to ./output/pghcitypaper_events/children/www.pghcitypaper.com_category_food-2320126/paragraphs.txt\n",
      "Links saved to ./output/pghcitypaper_events/children/www.pghcitypaper.com_category_food-2320126/url.txt\n",
      "[]\n",
      "All PDFs and DOCX files have been downloaded.\n",
      "Extracted 26 events and saved to ./output/pghcitypaper_events/children/www.pghcitypaper.com_category_food-2320126/events.csv\n"
     ]
    },
    {
     "name": "stderr",
     "output_type": "stream",
     "text": [
      " 11%|█         | 39/356 [00:14<01:14,  4.27it/s]"
     ]
    },
    {
     "name": "stdout",
     "output_type": "stream",
     "text": [
      "Paragraphs saved to ./output/pghcitypaper_events/children/www.pghcitypaper.com_category_drink-1380413/paragraphs.txt\n",
      "Links saved to ./output/pghcitypaper_events/children/www.pghcitypaper.com_category_drink-1380413/url.txt\n",
      "[]\n",
      "All PDFs and DOCX files have been downloaded.\n",
      "Extracted 18 events and saved to ./output/pghcitypaper_events/children/www.pghcitypaper.com_category_drink-1380413/events.csv\n"
     ]
    },
    {
     "name": "stderr",
     "output_type": "stream",
     "text": [
      " 12%|█▏        | 41/356 [00:14<01:09,  4.52it/s]"
     ]
    },
    {
     "name": "stdout",
     "output_type": "stream",
     "text": [
      "Paragraphs saved to ./output/pghcitypaper_events/children/www.pghcitypaper.com_arts-entertainment/paragraphs.txt\n",
      "Links saved to ./output/pghcitypaper_events/children/www.pghcitypaper.com_arts-entertainment/url.txt\n",
      "[]\n",
      "All PDFs and DOCX files have been downloaded.\n",
      "Extracted 26 events and saved to ./output/pghcitypaper_events/children/www.pghcitypaper.com_arts-entertainment/events.csv\n",
      "Paragraphs saved to ./output/pghcitypaper_events/children/www.pghcitypaper.com_arts-entertainment/paragraphs.txt\n",
      "Links saved to ./output/pghcitypaper_events/children/www.pghcitypaper.com_arts-entertainment/url.txt\n",
      "[]\n",
      "All PDFs and DOCX files have been downloaded.\n",
      "Extracted 26 events and saved to ./output/pghcitypaper_events/children/www.pghcitypaper.com_arts-entertainment/events.csv\n"
     ]
    },
    {
     "name": "stderr",
     "output_type": "stream",
     "text": [
      " 12%|█▏        | 42/356 [00:14<01:08,  4.57it/s]"
     ]
    },
    {
     "name": "stdout",
     "output_type": "stream",
     "text": [
      "Paragraphs saved to ./output/pghcitypaper_events/children/www.pghcitypaper.com_category_comedy-22075546/paragraphs.txt\n",
      "Links saved to ./output/pghcitypaper_events/children/www.pghcitypaper.com_category_comedy-22075546/url.txt\n",
      "[]\n",
      "All PDFs and DOCX files have been downloaded.\n",
      "Extracted 10 events and saved to ./output/pghcitypaper_events/children/www.pghcitypaper.com_category_comedy-22075546/events.csv\n"
     ]
    },
    {
     "name": "stderr",
     "output_type": "stream",
     "text": [
      " 12%|█▏        | 43/356 [00:15<01:12,  4.34it/s]"
     ]
    },
    {
     "name": "stdout",
     "output_type": "stream",
     "text": [
      "Paragraphs saved to ./output/pghcitypaper_events/children/www.pghcitypaper.com_pittsburgh_ArticleArchives?category=19719084/paragraphs.txt\n",
      "Links saved to ./output/pghcitypaper_events/children/www.pghcitypaper.com_pittsburgh_ArticleArchives?category=19719084/url.txt\n",
      "[]\n",
      "All PDFs and DOCX files have been downloaded.\n",
      "Extracted 28 events and saved to ./output/pghcitypaper_events/children/www.pghcitypaper.com_pittsburgh_ArticleArchives?category=19719084/events.csv\n"
     ]
    },
    {
     "name": "stderr",
     "output_type": "stream",
     "text": [
      " 12%|█▏        | 44/356 [00:15<01:11,  4.36it/s]"
     ]
    },
    {
     "name": "stdout",
     "output_type": "stream",
     "text": [
      "An error occurred: 524 Server Error:  for url: https://www.pghcitypaper.com/category/literary-arts-1332595\n"
     ]
    },
    {
     "name": "stderr",
     "output_type": "stream",
     "text": [
      " 13%|█▎        | 45/356 [00:15<01:13,  4.25it/s]"
     ]
    },
    {
     "name": "stdout",
     "output_type": "stream",
     "text": [
      "Paragraphs saved to ./output/pghcitypaper_events/children/www.pghcitypaper.com_category_music-1332586/paragraphs.txt\n",
      "Links saved to ./output/pghcitypaper_events/children/www.pghcitypaper.com_category_music-1332586/url.txt\n",
      "[]\n",
      "All PDFs and DOCX files have been downloaded.\n",
      "Extracted 26 events and saved to ./output/pghcitypaper_events/children/www.pghcitypaper.com_category_music-1332586/events.csv\n"
     ]
    },
    {
     "name": "stderr",
     "output_type": "stream",
     "text": [
      " 13%|█▎        | 46/356 [00:15<01:14,  4.18it/s]"
     ]
    },
    {
     "name": "stdout",
     "output_type": "stream",
     "text": [
      "Paragraphs saved to ./output/pghcitypaper_events/children/www.pghcitypaper.com_pittsburgh_ArticleArchives?category=22112083/paragraphs.txt\n",
      "Links saved to ./output/pghcitypaper_events/children/www.pghcitypaper.com_pittsburgh_ArticleArchives?category=22112083/url.txt\n",
      "[]\n",
      "All PDFs and DOCX files have been downloaded.\n",
      "Extracted 28 events and saved to ./output/pghcitypaper_events/children/www.pghcitypaper.com_pittsburgh_ArticleArchives?category=22112083/events.csv\n"
     ]
    },
    {
     "name": "stderr",
     "output_type": "stream",
     "text": [
      " 13%|█▎        | 47/356 [00:16<01:10,  4.35it/s]"
     ]
    },
    {
     "name": "stdout",
     "output_type": "stream",
     "text": [
      "An error occurred: 524 Server Error:  for url: https://www.pghcitypaper.com/category/screen-1332592\n"
     ]
    },
    {
     "name": "stderr",
     "output_type": "stream",
     "text": [
      " 13%|█▎        | 48/356 [00:16<01:14,  4.15it/s]"
     ]
    },
    {
     "name": "stdout",
     "output_type": "stream",
     "text": [
      "Paragraphs saved to ./output/pghcitypaper_events/children/www.pghcitypaper.com_category_theater-1332590/paragraphs.txt\n",
      "Links saved to ./output/pghcitypaper_events/children/www.pghcitypaper.com_category_theater-1332590/url.txt\n",
      "[]\n",
      "All PDFs and DOCX files have been downloaded.\n",
      "Extracted 16 events and saved to ./output/pghcitypaper_events/children/www.pghcitypaper.com_category_theater-1332590/events.csv\n"
     ]
    },
    {
     "name": "stderr",
     "output_type": "stream",
     "text": [
      " 14%|█▍        | 49/356 [00:16<01:12,  4.24it/s]"
     ]
    },
    {
     "name": "stdout",
     "output_type": "stream",
     "text": [
      "Paragraphs saved to ./output/pghcitypaper_events/children/www.pghcitypaper.com_category_visual-art-15401462/paragraphs.txt\n",
      "Links saved to ./output/pghcitypaper_events/children/www.pghcitypaper.com_category_visual-art-15401462/url.txt\n",
      "[]\n",
      "All PDFs and DOCX files have been downloaded.\n",
      "Extracted 26 events and saved to ./output/pghcitypaper_events/children/www.pghcitypaper.com_category_visual-art-15401462/events.csv\n",
      "An error occurred: 524 Server Error:  for url: https://www.pghcitypaper.com/columns\n"
     ]
    },
    {
     "name": "stderr",
     "output_type": "stream",
     "text": [
      " 14%|█▍        | 51/356 [00:16<01:00,  5.06it/s]"
     ]
    },
    {
     "name": "stdout",
     "output_type": "stream",
     "text": [
      "An error occurred: 524 Server Error:  for url: https://www.pghcitypaper.com/columns\n"
     ]
    },
    {
     "name": "stderr",
     "output_type": "stream",
     "text": [
      " 15%|█▍        | 52/356 [00:17<01:04,  4.68it/s]"
     ]
    },
    {
     "name": "stdout",
     "output_type": "stream",
     "text": [
      "Paragraphs saved to ./output/pghcitypaper_events/children/www.pghcitypaper.com_category_opinion-1787522/paragraphs.txt\n",
      "Links saved to ./output/pghcitypaper_events/children/www.pghcitypaper.com_category_opinion-1787522/url.txt\n",
      "[]\n",
      "All PDFs and DOCX files have been downloaded.\n",
      "Extracted 14 events and saved to ./output/pghcitypaper_events/children/www.pghcitypaper.com_category_opinion-1787522/events.csv\n"
     ]
    },
    {
     "name": "stderr",
     "output_type": "stream",
     "text": [
      " 15%|█▍        | 53/356 [00:17<01:06,  4.56it/s]"
     ]
    },
    {
     "name": "stdout",
     "output_type": "stream",
     "text": [
      "Paragraphs saved to ./output/pghcitypaper_events/children/www.pghcitypaper.com_pittsburgh_LynnCullenLive_Page/paragraphs.txt\n",
      "Links saved to ./output/pghcitypaper_events/children/www.pghcitypaper.com_pittsburgh_LynnCullenLive_Page/url.txt\n",
      "[]\n",
      "All PDFs and DOCX files have been downloaded.\n",
      "No events found in the HTML content.\n"
     ]
    },
    {
     "name": "stderr",
     "output_type": "stream",
     "text": [
      " 15%|█▌        | 54/356 [00:17<01:06,  4.57it/s]"
     ]
    },
    {
     "name": "stdout",
     "output_type": "stream",
     "text": [
      "An error occurred: 524 Server Error:  for url: https://www.pghcitypaper.com/category/pillow-talk-with-jessie-sage-25432809\n",
      "Paragraphs saved to ./output/pghcitypaper_events/children/www.pghcitypaper.com_category_affordable-ish-housing-25087355/paragraphs.txt\n",
      "Links saved to ./output/pghcitypaper_events/children/www.pghcitypaper.com_category_affordable-ish-housing-25087355/url.txt\n",
      "[]\n",
      "All PDFs and DOCX files have been downloaded.\n"
     ]
    },
    {
     "name": "stderr",
     "output_type": "stream",
     "text": [
      " 15%|█▌        | 55/356 [00:17<01:04,  4.66it/s]"
     ]
    },
    {
     "name": "stdout",
     "output_type": "stream",
     "text": [
      "Extracted 25 events and saved to ./output/pghcitypaper_events/children/www.pghcitypaper.com_category_affordable-ish-housing-25087355/events.csv\n"
     ]
    },
    {
     "name": "stderr",
     "output_type": "stream",
     "text": [
      " 16%|█▌        | 56/356 [00:18<01:11,  4.21it/s]"
     ]
    },
    {
     "name": "stdout",
     "output_type": "stream",
     "text": [
      "Paragraphs saved to ./output/pghcitypaper_events/children/www.pghcitypaper.com_category_free-will-astrology-6520482/paragraphs.txt\n",
      "Links saved to ./output/pghcitypaper_events/children/www.pghcitypaper.com_category_free-will-astrology-6520482/url.txt\n",
      "[]\n",
      "All PDFs and DOCX files have been downloaded.\n",
      "Extracted 25 events and saved to ./output/pghcitypaper_events/children/www.pghcitypaper.com_category_free-will-astrology-6520482/events.csv\n"
     ]
    },
    {
     "name": "stderr",
     "output_type": "stream",
     "text": [
      " 16%|█▋        | 58/356 [00:18<01:02,  4.74it/s]"
     ]
    },
    {
     "name": "stdout",
     "output_type": "stream",
     "text": [
      "Paragraphs saved to ./output/pghcitypaper_events/children/www.pghcitypaper.com_pittsburgh_ArticleArchives?category=20388759/paragraphs.txt\n",
      "Links saved to ./output/pghcitypaper_events/children/www.pghcitypaper.com_pittsburgh_ArticleArchives?category=20388759/url.txt\n",
      "[]\n",
      "All PDFs and DOCX files have been downloaded.\n",
      "Extracted 28 events and saved to ./output/pghcitypaper_events/children/www.pghcitypaper.com_pittsburgh_ArticleArchives?category=20388759/events.csv\n",
      "An error occurred: 524 Server Error:  for url: https://www.pghcitypaper.com/pittsburgh/SlideshowArchives?keywords=\n"
     ]
    },
    {
     "name": "stderr",
     "output_type": "stream",
     "text": [
      " 17%|█▋        | 59/356 [00:18<01:01,  4.84it/s]"
     ]
    },
    {
     "name": "stdout",
     "output_type": "stream",
     "text": [
      "Paragraphs saved to ./output/pghcitypaper_events/children/www.pghcitypaper.com_pittsburgh_EventSearch/paragraphs.txt\n",
      "Links saved to ./output/pghcitypaper_events/children/www.pghcitypaper.com_pittsburgh_EventSearch/url.txt\n",
      "[]\n",
      "All PDFs and DOCX files have been downloaded.\n",
      "Extracted 33 events and saved to ./output/pghcitypaper_events/children/www.pghcitypaper.com_pittsburgh_EventSearch/events.csv\n"
     ]
    },
    {
     "name": "stderr",
     "output_type": "stream",
     "text": [
      " 17%|█▋        | 61/356 [00:19<00:59,  4.94it/s]"
     ]
    },
    {
     "name": "stdout",
     "output_type": "stream",
     "text": [
      "An error occurred: 524 Server Error:  for url: https://www.pghcitypaper.com/category/this-weeks-top-events-20785992\n",
      "Paragraphs saved to ./output/pghcitypaper_events/children/www.pghcitypaper.com_pittsburgh_EventSearch/paragraphs.txt\n",
      "Links saved to ./output/pghcitypaper_events/children/www.pghcitypaper.com_pittsburgh_EventSearch/url.txt\n",
      "[]\n",
      "All PDFs and DOCX files have been downloaded.\n",
      "Extracted 33 events and saved to ./output/pghcitypaper_events/children/www.pghcitypaper.com_pittsburgh_EventSearch/events.csv\n"
     ]
    },
    {
     "name": "stderr",
     "output_type": "stream",
     "text": [
      " 18%|█▊        | 63/356 [00:19<00:51,  5.70it/s]"
     ]
    },
    {
     "name": "stdout",
     "output_type": "stream",
     "text": [
      "An error occurred: 524 Server Error:  for url: https://www.pghcitypaper.com/pittsburgh/Events/AddEvent\n",
      "Paragraphs saved to ./output/pghcitypaper_events/children/www.pghcitypaper.com_bestof/paragraphs.txt\n",
      "Links saved to ./output/pghcitypaper_events/children/www.pghcitypaper.com_bestof/url.txt\n",
      "[]\n",
      "All PDFs and DOCX files have been downloaded.\n",
      "No events found in the HTML content.\n"
     ]
    },
    {
     "name": "stderr",
     "output_type": "stream",
     "text": [
      " 18%|█▊        | 65/356 [00:19<00:45,  6.46it/s]"
     ]
    },
    {
     "name": "stdout",
     "output_type": "stream",
     "text": [
      "Paragraphs saved to ./output/pghcitypaper_events/children/www.pghcitypaper.com_pittsburgh_BestOf?category=1467879/paragraphs.txt\n",
      "Links saved to ./output/pghcitypaper_events/children/www.pghcitypaper.com_pittsburgh_BestOf?category=1467879/url.txt\n",
      "[]\n",
      "All PDFs and DOCX files have been downloaded.\n",
      "No events found in the HTML content.\n",
      "Paragraphs saved to ./output/pghcitypaper_events/children/www.pghcitypaper.com_pittsburgh_BestOf?category=26707713/paragraphs.txt\n",
      "Links saved to ./output/pghcitypaper_events/children/www.pghcitypaper.com_pittsburgh_BestOf?category=26707713/url.txt\n",
      "[]\n",
      "All PDFs and DOCX files have been downloaded.\n",
      "No events found in the HTML content.\n"
     ]
    },
    {
     "name": "stderr",
     "output_type": "stream",
     "text": [
      " 19%|█▉        | 67/356 [00:19<00:42,  6.77it/s]"
     ]
    },
    {
     "name": "stdout",
     "output_type": "stream",
     "text": [
      "An error occurred: 524 Server Error:  for url: https://www.pghcitypaper.com/specials-guides\n",
      "Paragraphs saved to ./output/pghcitypaper_events/children/www.pghcitypaper.com_guide_shop-local/paragraphs.txt\n",
      "Links saved to ./output/pghcitypaper_events/children/www.pghcitypaper.com_guide_shop-local/url.txt\n",
      "[]\n",
      "All PDFs and DOCX files have been downloaded.\n",
      "No events found in the HTML content.\n"
     ]
    },
    {
     "name": "stderr",
     "output_type": "stream",
     "text": [
      " 19%|█▉        | 69/356 [00:20<00:47,  6.03it/s]"
     ]
    },
    {
     "name": "stdout",
     "output_type": "stream",
     "text": [
      "Paragraphs saved to ./output/pghcitypaper_events/children/www.pghcitypaper.com_category_pittsburghs-people-of-the-year-16399436/paragraphs.txt\n",
      "Links saved to ./output/pghcitypaper_events/children/www.pghcitypaper.com_category_pittsburghs-people-of-the-year-16399436/url.txt\n",
      "[]\n",
      "All PDFs and DOCX files have been downloaded.\n",
      "Extracted 7 events and saved to ./output/pghcitypaper_events/children/www.pghcitypaper.com_category_pittsburghs-people-of-the-year-16399436/events.csv\n",
      "Paragraphs saved to ./output/pghcitypaper_events/children/www.pghcitypaper.com_guide_give-local/paragraphs.txt\n",
      "Links saved to ./output/pghcitypaper_events/children/www.pghcitypaper.com_guide_give-local/url.txt\n",
      "[]\n",
      "All PDFs and DOCX files have been downloaded.\n",
      "No events found in the HTML content.\n"
     ]
    },
    {
     "name": "stderr",
     "output_type": "stream",
     "text": [
      " 20%|█▉        | 71/356 [00:20<00:51,  5.57it/s]"
     ]
    },
    {
     "name": "stdout",
     "output_type": "stream",
     "text": [
      "An error occurred: 524 Server Error:  for url: https://www.pghcitypaper.com/category/election-guide-14973309\n",
      "An error occurred: 524 Server Error:  for url: https://www.pghcitypaper.com/pittsburgh/2022-winter-guide/Content?oid=20992964\n"
     ]
    },
    {
     "name": "stderr",
     "output_type": "stream",
     "text": [
      " 20%|██        | 72/356 [00:20<00:52,  5.43it/s]"
     ]
    },
    {
     "name": "stdout",
     "output_type": "stream",
     "text": [
      "An error occurred: 524 Server Error:  for url: https://www.pghcitypaper.com/category/spring-guide-14191717\n"
     ]
    },
    {
     "name": "stderr",
     "output_type": "stream",
     "text": [
      " 21%|██        | 73/356 [00:21<00:56,  5.04it/s]"
     ]
    },
    {
     "name": "stdout",
     "output_type": "stream",
     "text": [
      "Paragraphs saved to ./output/pghcitypaper_events/children/www.pghcitypaper.com_specials-guides_pittsburgh-city-papers-2023-summer-guide-24022837/paragraphs.txt\n",
      "Links saved to ./output/pghcitypaper_events/children/www.pghcitypaper.com_specials-guides_pittsburgh-city-papers-2023-summer-guide-24022837/url.txt\n",
      "[]\n",
      "All PDFs and DOCX files have been downloaded.\n",
      "No events found in the HTML content.\n"
     ]
    },
    {
     "name": "stderr",
     "output_type": "stream",
     "text": [
      " 21%|██        | 74/356 [00:21<00:59,  4.77it/s]"
     ]
    },
    {
     "name": "stdout",
     "output_type": "stream",
     "text": [
      "An error occurred: 524 Server Error:  for url: https://www.pghcitypaper.com/category/fall-guide-15817790\n"
     ]
    },
    {
     "name": "stderr",
     "output_type": "stream",
     "text": [
      " 21%|██        | 75/356 [00:21<01:01,  4.61it/s]"
     ]
    },
    {
     "name": "stdout",
     "output_type": "stream",
     "text": [
      "Paragraphs saved to ./output/pghcitypaper_events/children/www.pghcitypaper.com_pittsburgh_IssueArchives/paragraphs.txt\n",
      "Links saved to ./output/pghcitypaper_events/children/www.pghcitypaper.com_pittsburgh_IssueArchives/url.txt\n",
      "[]\n",
      "All PDFs and DOCX files have been downloaded.\n",
      "No events found in the HTML content.\n"
     ]
    },
    {
     "name": "stderr",
     "output_type": "stream",
     "text": [
      " 21%|██▏       | 76/356 [00:21<01:13,  3.80it/s]"
     ]
    },
    {
     "name": "stdout",
     "output_type": "stream",
     "text": [
      "An error occurred: 524 Server Error: Resource Temporarily Unavailable for url: https://posting.pghcitypaper.com/pittsburgh/PittsburghCityPapersMembershipCampaign/Page\n"
     ]
    },
    {
     "name": "stderr",
     "output_type": "stream",
     "text": [
      " 22%|██▏       | 77/356 [00:22<01:48,  2.58it/s]"
     ]
    },
    {
     "name": "stdout",
     "output_type": "stream",
     "text": [
      "Paragraphs saved to ./output/pghcitypaper_events/children/pghcitypaperstore.com_collections_all/paragraphs.txt\n",
      "Links saved to ./output/pghcitypaper_events/children/pghcitypaperstore.com_collections_all/url.txt\n",
      "[]\n",
      "All PDFs and DOCX files have been downloaded.\n",
      "No events found in the HTML content.\n"
     ]
    },
    {
     "name": "stderr",
     "output_type": "stream",
     "text": [
      " 22%|██▏       | 78/356 [00:23<01:51,  2.50it/s]"
     ]
    },
    {
     "name": "stdout",
     "output_type": "stream",
     "text": [
      "An error occurred: 524 Server Error: Resource Temporarily Unavailable for url: https://posting.pghcitypaper.com/pittsburgh/PittsburghCityPapersMembershipCampaign/Page\n"
     ]
    },
    {
     "name": "stderr",
     "output_type": "stream",
     "text": [
      " 22%|██▏       | 80/356 [00:23<01:28,  3.11it/s]"
     ]
    },
    {
     "name": "stdout",
     "output_type": "stream",
     "text": [
      "An error occurred: 524 Server Error: Resource Temporarily Unavailable for url: https://posting.pghcitypaper.com/pittsburgh/Newsletter\n",
      "An error occurred: 524 Server Error:  for url: https://www.pghcitypaper.com/blogs/Blogh/\n"
     ]
    },
    {
     "name": "stderr",
     "output_type": "stream",
     "text": [
      " 23%|██▎       | 81/356 [00:23<01:30,  3.04it/s]"
     ]
    },
    {
     "name": "stdout",
     "output_type": "stream",
     "text": [
      "An error occurred: 524 Server Error: Resource Temporarily Unavailable for url: https://posting.pghcitypaper.com/pittsburgh/Newsletter\n"
     ]
    },
    {
     "name": "stderr",
     "output_type": "stream",
     "text": [
      " 23%|██▎       | 82/356 [00:24<01:31,  3.00it/s]"
     ]
    },
    {
     "name": "stdout",
     "output_type": "stream",
     "text": [
      "An error occurred: 524 Server Error: Resource Temporarily Unavailable for url: https://posting.pghcitypaper.com/pittsburgh/Newsletter\n"
     ]
    },
    {
     "name": "stderr",
     "output_type": "stream",
     "text": [
      " 23%|██▎       | 83/356 [00:24<01:32,  2.97it/s]"
     ]
    },
    {
     "name": "stdout",
     "output_type": "stream",
     "text": [
      "An error occurred: 524 Server Error: Resource Temporarily Unavailable for url: https://posting.pghcitypaper.com/pittsburgh/PittsburghCityPapersMembershipCampaign/Page\n"
     ]
    },
    {
     "name": "stderr",
     "output_type": "stream",
     "text": [
      " 24%|██▎       | 84/356 [00:25<01:44,  2.61it/s]"
     ]
    },
    {
     "name": "stdout",
     "output_type": "stream",
     "text": [
      "Paragraphs saved to ./output/pghcitypaper_events/children/twitter.com_PGHCityPaper/paragraphs.txt\n",
      "Links saved to ./output/pghcitypaper_events/children/twitter.com_PGHCityPaper/url.txt\n",
      "[]\n",
      "All PDFs and DOCX files have been downloaded.\n",
      "No events found in the HTML content.\n"
     ]
    },
    {
     "name": "stderr",
     "output_type": "stream",
     "text": [
      " 24%|██▍       | 85/356 [00:25<01:42,  2.64it/s]"
     ]
    },
    {
     "name": "stdout",
     "output_type": "stream",
     "text": [
      "Paragraphs saved to ./output/pghcitypaper_events/children/www.facebook.com_PittsburghCityPaper?sk=wall/paragraphs.txt\n",
      "Links saved to ./output/pghcitypaper_events/children/www.facebook.com_PittsburghCityPaper?sk=wall/url.txt\n",
      "[]\n",
      "All PDFs and DOCX files have been downloaded.\n",
      "No events found in the HTML content.\n"
     ]
    },
    {
     "name": "stderr",
     "output_type": "stream",
     "text": [
      " 24%|██▍       | 87/356 [00:26<01:50,  2.44it/s]"
     ]
    },
    {
     "name": "stdout",
     "output_type": "stream",
     "text": [
      "Paragraphs saved to ./output/pghcitypaper_events/children/instagram.com_pghcitypaper_/paragraphs.txt\n",
      "Links saved to ./output/pghcitypaper_events/children/instagram.com_pghcitypaper_/url.txt\n",
      "[]\n",
      "All PDFs and DOCX files have been downloaded.\n",
      "No events found in the HTML content.\n",
      "Paragraphs saved to ./output/pghcitypaper_events/children/www.pghcitypaper.com_pittsburgh_Home/paragraphs.txt\n",
      "Links saved to ./output/pghcitypaper_events/children/www.pghcitypaper.com_pittsburgh_Home/url.txt\n",
      "[]\n",
      "All PDFs and DOCX files have been downloaded.\n",
      "Extracted 4 events and saved to ./output/pghcitypaper_events/children/www.pghcitypaper.com_pittsburgh_Home/events.csv\n"
     ]
    },
    {
     "name": "stderr",
     "output_type": "stream",
     "text": [
      " 25%|██▌       | 89/356 [00:26<01:12,  3.66it/s]"
     ]
    },
    {
     "name": "stdout",
     "output_type": "stream",
     "text": [
      "Paragraphs saved to ./output/pghcitypaper_events/children/www.pghcitypaper.com_news/paragraphs.txt\n",
      "Links saved to ./output/pghcitypaper_events/children/www.pghcitypaper.com_news/url.txt\n",
      "[]\n",
      "All PDFs and DOCX files have been downloaded.\n",
      "Extracted 26 events and saved to ./output/pghcitypaper_events/children/www.pghcitypaper.com_news/events.csv\n",
      "Paragraphs saved to ./output/pghcitypaper_events/children/www.pghcitypaper.com_category_community-profile-18792262/paragraphs.txt\n",
      "Links saved to ./output/pghcitypaper_events/children/www.pghcitypaper.com_category_community-profile-18792262/url.txt\n",
      "[]\n",
      "All PDFs and DOCX files have been downloaded.\n",
      "Extracted 26 events and saved to ./output/pghcitypaper_events/children/www.pghcitypaper.com_category_community-profile-18792262/events.csv\n"
     ]
    },
    {
     "name": "stderr",
     "output_type": "stream",
     "text": [
      " 26%|██▌       | 91/356 [00:27<00:56,  4.69it/s]"
     ]
    },
    {
     "name": "stdout",
     "output_type": "stream",
     "text": [
      "Paragraphs saved to ./output/pghcitypaper_events/children/www.pghcitypaper.com_category_environment-22045756/paragraphs.txt\n",
      "Links saved to ./output/pghcitypaper_events/children/www.pghcitypaper.com_category_environment-22045756/url.txt\n",
      "[]\n",
      "All PDFs and DOCX files have been downloaded.\n",
      "Extracted 20 events and saved to ./output/pghcitypaper_events/children/www.pghcitypaper.com_category_environment-22045756/events.csv\n",
      "Paragraphs saved to ./output/pghcitypaper_events/children/www.pghcitypaper.com_category_health-22045736/paragraphs.txt\n",
      "Links saved to ./output/pghcitypaper_events/children/www.pghcitypaper.com_category_health-22045736/url.txt\n",
      "[]\n",
      "All PDFs and DOCX files have been downloaded.\n",
      "Extracted 26 events and saved to ./output/pghcitypaper_events/children/www.pghcitypaper.com_category_health-22045736/events.csv\n"
     ]
    },
    {
     "name": "stderr",
     "output_type": "stream",
     "text": [
      " 26%|██▌       | 93/356 [00:27<00:46,  5.72it/s]"
     ]
    },
    {
     "name": "stdout",
     "output_type": "stream",
     "text": [
      "Paragraphs saved to ./output/pghcitypaper_events/children/www.pghcitypaper.com_category_infrastructure-22045766/paragraphs.txt\n",
      "Links saved to ./output/pghcitypaper_events/children/www.pghcitypaper.com_category_infrastructure-22045766/url.txt\n",
      "[]\n",
      "All PDFs and DOCX files have been downloaded.\n",
      "Extracted 25 events and saved to ./output/pghcitypaper_events/children/www.pghcitypaper.com_category_infrastructure-22045766/events.csv\n",
      "Paragraphs saved to ./output/pghcitypaper_events/children/www.pghcitypaper.com_category_labor-22045776/paragraphs.txt\n",
      "Links saved to ./output/pghcitypaper_events/children/www.pghcitypaper.com_category_labor-22045776/url.txt\n",
      "[]\n",
      "All PDFs and DOCX files have been downloaded.\n",
      "Extracted 6 events and saved to ./output/pghcitypaper_events/children/www.pghcitypaper.com_category_labor-22045776/events.csv\n"
     ]
    },
    {
     "name": "stderr",
     "output_type": "stream",
     "text": [
      " 27%|██▋       | 95/356 [00:27<00:41,  6.30it/s]"
     ]
    },
    {
     "name": "stdout",
     "output_type": "stream",
     "text": [
      "Paragraphs saved to ./output/pghcitypaper_events/children/www.pghcitypaper.com_category_lgbtq-18791966/paragraphs.txt\n",
      "Links saved to ./output/pghcitypaper_events/children/www.pghcitypaper.com_category_lgbtq-18791966/url.txt\n",
      "[]\n",
      "All PDFs and DOCX files have been downloaded.\n",
      "Extracted 10 events and saved to ./output/pghcitypaper_events/children/www.pghcitypaper.com_category_lgbtq-18791966/events.csv\n",
      "Paragraphs saved to ./output/pghcitypaper_events/children/www.pghcitypaper.com_category_politics-22045746/paragraphs.txt\n",
      "Links saved to ./output/pghcitypaper_events/children/www.pghcitypaper.com_category_politics-22045746/url.txt\n",
      "[]\n",
      "All PDFs and DOCX files have been downloaded.\n",
      "Extracted 21 events and saved to ./output/pghcitypaper_events/children/www.pghcitypaper.com_category_politics-22045746/events.csv\n"
     ]
    },
    {
     "name": "stderr",
     "output_type": "stream",
     "text": [
      " 27%|██▋       | 97/356 [00:27<00:38,  6.68it/s]"
     ]
    },
    {
     "name": "stdout",
     "output_type": "stream",
     "text": [
      "Paragraphs saved to ./output/pghcitypaper_events/children/www.pghcitypaper.com_category_social-justice-22051864/paragraphs.txt\n",
      "Links saved to ./output/pghcitypaper_events/children/www.pghcitypaper.com_category_social-justice-22051864/url.txt\n",
      "[]\n",
      "All PDFs and DOCX files have been downloaded.\n",
      "Extracted 26 events and saved to ./output/pghcitypaper_events/children/www.pghcitypaper.com_category_social-justice-22051864/events.csv\n",
      "Paragraphs saved to ./output/pghcitypaper_events/children/www.pghcitypaper.com_news/paragraphs.txt\n",
      "Links saved to ./output/pghcitypaper_events/children/www.pghcitypaper.com_news/url.txt\n",
      "[]\n",
      "All PDFs and DOCX files have been downloaded.\n",
      "Extracted 26 events and saved to ./output/pghcitypaper_events/children/www.pghcitypaper.com_news/events.csv\n"
     ]
    },
    {
     "name": "stderr",
     "output_type": "stream",
     "text": [
      " 28%|██▊       | 99/356 [00:28<00:40,  6.35it/s]"
     ]
    },
    {
     "name": "stdout",
     "output_type": "stream",
     "text": [
      "Paragraphs saved to ./output/pghcitypaper_events/children/www.pghcitypaper.com_category_weed-21373633/paragraphs.txt\n",
      "Links saved to ./output/pghcitypaper_events/children/www.pghcitypaper.com_category_weed-21373633/url.txt\n",
      "[]\n",
      "All PDFs and DOCX files have been downloaded.\n",
      "Extracted 7 events and saved to ./output/pghcitypaper_events/children/www.pghcitypaper.com_category_weed-21373633/events.csv\n",
      "Paragraphs saved to ./output/pghcitypaper_events/children/www.pghcitypaper.com_food-drink/paragraphs.txt\n",
      "Links saved to ./output/pghcitypaper_events/children/www.pghcitypaper.com_food-drink/url.txt\n",
      "[]\n",
      "All PDFs and DOCX files have been downloaded.\n",
      "Extracted 26 events and saved to ./output/pghcitypaper_events/children/www.pghcitypaper.com_food-drink/events.csv\n"
     ]
    },
    {
     "name": "stderr",
     "output_type": "stream",
     "text": [
      " 28%|██▊       | 101/356 [00:28<00:39,  6.47it/s]"
     ]
    },
    {
     "name": "stdout",
     "output_type": "stream",
     "text": [
      "Paragraphs saved to ./output/pghcitypaper_events/children/www.pghcitypaper.com_food-drink/paragraphs.txt\n",
      "Links saved to ./output/pghcitypaper_events/children/www.pghcitypaper.com_food-drink/url.txt\n",
      "[]\n",
      "All PDFs and DOCX files have been downloaded.\n",
      "Extracted 26 events and saved to ./output/pghcitypaper_events/children/www.pghcitypaper.com_food-drink/events.csv\n",
      "Paragraphs saved to ./output/pghcitypaper_events/children/www.pghcitypaper.com_category_food-2320126/paragraphs.txt\n",
      "Links saved to ./output/pghcitypaper_events/children/www.pghcitypaper.com_category_food-2320126/url.txt\n",
      "[]\n",
      "All PDFs and DOCX files have been downloaded.\n",
      "Extracted 26 events and saved to ./output/pghcitypaper_events/children/www.pghcitypaper.com_category_food-2320126/events.csv\n"
     ]
    },
    {
     "name": "stderr",
     "output_type": "stream",
     "text": [
      " 29%|██▉       | 103/356 [00:28<00:37,  6.78it/s]"
     ]
    },
    {
     "name": "stdout",
     "output_type": "stream",
     "text": [
      "Paragraphs saved to ./output/pghcitypaper_events/children/www.pghcitypaper.com_category_drink-1380413/paragraphs.txt\n",
      "Links saved to ./output/pghcitypaper_events/children/www.pghcitypaper.com_category_drink-1380413/url.txt\n",
      "[]\n",
      "All PDFs and DOCX files have been downloaded.\n",
      "Extracted 18 events and saved to ./output/pghcitypaper_events/children/www.pghcitypaper.com_category_drink-1380413/events.csv\n",
      "Paragraphs saved to ./output/pghcitypaper_events/children/www.pghcitypaper.com_arts-entertainment/paragraphs.txt\n",
      "Links saved to ./output/pghcitypaper_events/children/www.pghcitypaper.com_arts-entertainment/url.txt\n",
      "[]\n",
      "All PDFs and DOCX files have been downloaded.\n",
      "Extracted 26 events and saved to ./output/pghcitypaper_events/children/www.pghcitypaper.com_arts-entertainment/events.csv\n"
     ]
    },
    {
     "name": "stderr",
     "output_type": "stream",
     "text": [
      " 29%|██▉       | 105/356 [00:29<00:36,  6.92it/s]"
     ]
    },
    {
     "name": "stdout",
     "output_type": "stream",
     "text": [
      "Paragraphs saved to ./output/pghcitypaper_events/children/www.pghcitypaper.com_arts-entertainment/paragraphs.txt\n",
      "Links saved to ./output/pghcitypaper_events/children/www.pghcitypaper.com_arts-entertainment/url.txt\n",
      "[]\n",
      "All PDFs and DOCX files have been downloaded.\n",
      "Extracted 26 events and saved to ./output/pghcitypaper_events/children/www.pghcitypaper.com_arts-entertainment/events.csv\n",
      "Paragraphs saved to ./output/pghcitypaper_events/children/www.pghcitypaper.com_category_comedy-22075546/paragraphs.txt\n",
      "Links saved to ./output/pghcitypaper_events/children/www.pghcitypaper.com_category_comedy-22075546/url.txt\n",
      "[]\n",
      "All PDFs and DOCX files have been downloaded.\n",
      "Extracted 10 events and saved to ./output/pghcitypaper_events/children/www.pghcitypaper.com_category_comedy-22075546/events.csv\n"
     ]
    },
    {
     "name": "stderr",
     "output_type": "stream",
     "text": [
      " 30%|███       | 107/356 [00:29<00:41,  6.01it/s]"
     ]
    },
    {
     "name": "stdout",
     "output_type": "stream",
     "text": [
      "Paragraphs saved to ./output/pghcitypaper_events/children/www.pghcitypaper.com_pittsburgh_ArticleArchives?category=19719084/paragraphs.txt\n",
      "Links saved to ./output/pghcitypaper_events/children/www.pghcitypaper.com_pittsburgh_ArticleArchives?category=19719084/url.txt\n",
      "[]\n",
      "All PDFs and DOCX files have been downloaded.\n",
      "Extracted 28 events and saved to ./output/pghcitypaper_events/children/www.pghcitypaper.com_pittsburgh_ArticleArchives?category=19719084/events.csv\n",
      "An error occurred: 524 Server Error:  for url: https://www.pghcitypaper.com/category/literary-arts-1332595\n"
     ]
    },
    {
     "name": "stderr",
     "output_type": "stream",
     "text": [
      " 30%|███       | 108/356 [00:29<00:47,  5.25it/s]"
     ]
    },
    {
     "name": "stdout",
     "output_type": "stream",
     "text": [
      "Paragraphs saved to ./output/pghcitypaper_events/children/www.pghcitypaper.com_category_music-1332586/paragraphs.txt\n",
      "Links saved to ./output/pghcitypaper_events/children/www.pghcitypaper.com_category_music-1332586/url.txt\n",
      "[]\n",
      "All PDFs and DOCX files have been downloaded.\n",
      "Extracted 26 events and saved to ./output/pghcitypaper_events/children/www.pghcitypaper.com_category_music-1332586/events.csv\n",
      "Paragraphs saved to ./output/pghcitypaper_events/children/www.pghcitypaper.com_pittsburgh_ArticleArchives?category=22112083/paragraphs.txt\n",
      "Links saved to ./output/pghcitypaper_events/children/www.pghcitypaper.com_pittsburgh_ArticleArchives?category=22112083/url.txt\n",
      "[]\n",
      "All PDFs and DOCX files have been downloaded.\n"
     ]
    },
    {
     "name": "stderr",
     "output_type": "stream",
     "text": [
      " 31%|███       | 110/356 [00:30<00:47,  5.17it/s]"
     ]
    },
    {
     "name": "stdout",
     "output_type": "stream",
     "text": [
      "Extracted 28 events and saved to ./output/pghcitypaper_events/children/www.pghcitypaper.com_pittsburgh_ArticleArchives?category=22112083/events.csv\n",
      "An error occurred: 524 Server Error:  for url: https://www.pghcitypaper.com/category/screen-1332592\n"
     ]
    },
    {
     "name": "stderr",
     "output_type": "stream",
     "text": [
      " 31%|███       | 111/356 [00:30<00:58,  4.20it/s]"
     ]
    },
    {
     "name": "stdout",
     "output_type": "stream",
     "text": [
      "Paragraphs saved to ./output/pghcitypaper_events/children/www.pghcitypaper.com_category_theater-1332590/paragraphs.txt\n",
      "Links saved to ./output/pghcitypaper_events/children/www.pghcitypaper.com_category_theater-1332590/url.txt\n",
      "[]\n",
      "All PDFs and DOCX files have been downloaded.\n",
      "Extracted 16 events and saved to ./output/pghcitypaper_events/children/www.pghcitypaper.com_category_theater-1332590/events.csv\n"
     ]
    },
    {
     "name": "stderr",
     "output_type": "stream",
     "text": [
      " 31%|███▏      | 112/356 [00:30<00:59,  4.10it/s]"
     ]
    },
    {
     "name": "stdout",
     "output_type": "stream",
     "text": [
      "Paragraphs saved to ./output/pghcitypaper_events/children/www.pghcitypaper.com_category_visual-art-15401462/paragraphs.txt\n",
      "Links saved to ./output/pghcitypaper_events/children/www.pghcitypaper.com_category_visual-art-15401462/url.txt\n",
      "[]\n",
      "All PDFs and DOCX files have been downloaded.\n",
      "Extracted 26 events and saved to ./output/pghcitypaper_events/children/www.pghcitypaper.com_category_visual-art-15401462/events.csv\n"
     ]
    },
    {
     "name": "stderr",
     "output_type": "stream",
     "text": [
      " 32%|███▏      | 114/356 [00:31<00:55,  4.35it/s]"
     ]
    },
    {
     "name": "stdout",
     "output_type": "stream",
     "text": [
      "An error occurred: 524 Server Error:  for url: https://www.pghcitypaper.com/columns\n",
      "An error occurred: 524 Server Error:  for url: https://www.pghcitypaper.com/columns\n"
     ]
    },
    {
     "name": "stderr",
     "output_type": "stream",
     "text": [
      " 33%|███▎      | 116/356 [00:31<00:45,  5.23it/s]"
     ]
    },
    {
     "name": "stdout",
     "output_type": "stream",
     "text": [
      "Paragraphs saved to ./output/pghcitypaper_events/children/www.pghcitypaper.com_category_opinion-1787522/paragraphs.txt\n",
      "Links saved to ./output/pghcitypaper_events/children/www.pghcitypaper.com_category_opinion-1787522/url.txt\n",
      "[]\n",
      "All PDFs and DOCX files have been downloaded.\n",
      "Extracted 14 events and saved to ./output/pghcitypaper_events/children/www.pghcitypaper.com_category_opinion-1787522/events.csv\n",
      "Paragraphs saved to ./output/pghcitypaper_events/children/www.pghcitypaper.com_pittsburgh_LynnCullenLive_Page/paragraphs.txt\n",
      "Links saved to ./output/pghcitypaper_events/children/www.pghcitypaper.com_pittsburgh_LynnCullenLive_Page/url.txt\n",
      "[]\n",
      "All PDFs and DOCX files have been downloaded.\n",
      "No events found in the HTML content.\n"
     ]
    },
    {
     "name": "stderr",
     "output_type": "stream",
     "text": [
      " 33%|███▎      | 118/356 [00:31<00:42,  5.62it/s]"
     ]
    },
    {
     "name": "stdout",
     "output_type": "stream",
     "text": [
      "An error occurred: 524 Server Error:  for url: https://www.pghcitypaper.com/category/pillow-talk-with-jessie-sage-25432809\n",
      "Paragraphs saved to ./output/pghcitypaper_events/children/www.pghcitypaper.com_category_affordable-ish-housing-25087355/paragraphs.txt\n",
      "Links saved to ./output/pghcitypaper_events/children/www.pghcitypaper.com_category_affordable-ish-housing-25087355/url.txt\n",
      "[]\n",
      "All PDFs and DOCX files have been downloaded.\n",
      "Extracted 25 events and saved to ./output/pghcitypaper_events/children/www.pghcitypaper.com_category_affordable-ish-housing-25087355/events.csv\n"
     ]
    },
    {
     "name": "stderr",
     "output_type": "stream",
     "text": [
      " 34%|███▎      | 120/356 [00:32<00:38,  6.09it/s]"
     ]
    },
    {
     "name": "stdout",
     "output_type": "stream",
     "text": [
      "Paragraphs saved to ./output/pghcitypaper_events/children/www.pghcitypaper.com_category_free-will-astrology-6520482/paragraphs.txt\n",
      "Links saved to ./output/pghcitypaper_events/children/www.pghcitypaper.com_category_free-will-astrology-6520482/url.txt\n",
      "[]\n",
      "All PDFs and DOCX files have been downloaded.\n",
      "Extracted 25 events and saved to ./output/pghcitypaper_events/children/www.pghcitypaper.com_category_free-will-astrology-6520482/events.csv\n",
      "Paragraphs saved to ./output/pghcitypaper_events/children/www.pghcitypaper.com_pittsburgh_ArticleArchives?category=20388759/paragraphs.txt\n",
      "Links saved to ./output/pghcitypaper_events/children/www.pghcitypaper.com_pittsburgh_ArticleArchives?category=20388759/url.txt\n",
      "[]\n",
      "All PDFs and DOCX files have been downloaded.\n",
      "Extracted 28 events and saved to ./output/pghcitypaper_events/children/www.pghcitypaper.com_pittsburgh_ArticleArchives?category=20388759/events.csv\n"
     ]
    },
    {
     "name": "stderr",
     "output_type": "stream",
     "text": [
      " 34%|███▍      | 121/356 [00:32<00:37,  6.20it/s]"
     ]
    },
    {
     "name": "stdout",
     "output_type": "stream",
     "text": [
      "An error occurred: 524 Server Error:  for url: https://www.pghcitypaper.com/pittsburgh/SlideshowArchives?keywords=\n"
     ]
    },
    {
     "name": "stderr",
     "output_type": "stream",
     "text": [
      " 35%|███▍      | 123/356 [00:32<00:40,  5.79it/s]"
     ]
    },
    {
     "name": "stdout",
     "output_type": "stream",
     "text": [
      "Paragraphs saved to ./output/pghcitypaper_events/children/www.pghcitypaper.com_pittsburgh_EventSearch/paragraphs.txt\n",
      "Links saved to ./output/pghcitypaper_events/children/www.pghcitypaper.com_pittsburgh_EventSearch/url.txt\n",
      "[]\n",
      "All PDFs and DOCX files have been downloaded.\n",
      "Extracted 33 events and saved to ./output/pghcitypaper_events/children/www.pghcitypaper.com_pittsburgh_EventSearch/events.csv\n",
      "An error occurred: 524 Server Error:  for url: https://www.pghcitypaper.com/category/this-weeks-top-events-20785992\n"
     ]
    },
    {
     "name": "stderr",
     "output_type": "stream",
     "text": [
      " 35%|███▍      | 124/356 [00:32<00:41,  5.59it/s]"
     ]
    },
    {
     "name": "stdout",
     "output_type": "stream",
     "text": [
      "Paragraphs saved to ./output/pghcitypaper_events/children/www.pghcitypaper.com_pittsburgh_EventSearch/paragraphs.txt\n",
      "Links saved to ./output/pghcitypaper_events/children/www.pghcitypaper.com_pittsburgh_EventSearch/url.txt\n",
      "[]\n",
      "All PDFs and DOCX files have been downloaded.\n",
      "Extracted 33 events and saved to ./output/pghcitypaper_events/children/www.pghcitypaper.com_pittsburgh_EventSearch/events.csv\n"
     ]
    },
    {
     "name": "stderr",
     "output_type": "stream",
     "text": [
      " 35%|███▌      | 126/356 [00:33<00:38,  5.98it/s]"
     ]
    },
    {
     "name": "stdout",
     "output_type": "stream",
     "text": [
      "An error occurred: 524 Server Error:  for url: https://www.pghcitypaper.com/pittsburgh/Events/AddEvent\n",
      "Paragraphs saved to ./output/pghcitypaper_events/children/www.pghcitypaper.com_bestof/paragraphs.txt\n",
      "Links saved to ./output/pghcitypaper_events/children/www.pghcitypaper.com_bestof/url.txt\n",
      "[]\n",
      "All PDFs and DOCX files have been downloaded.\n",
      "No events found in the HTML content.\n"
     ]
    },
    {
     "name": "stderr",
     "output_type": "stream",
     "text": [
      " 36%|███▌      | 128/356 [00:33<00:33,  6.79it/s]"
     ]
    },
    {
     "name": "stdout",
     "output_type": "stream",
     "text": [
      "Paragraphs saved to ./output/pghcitypaper_events/children/www.pghcitypaper.com_pittsburgh_BestOf?category=1467879/paragraphs.txt\n",
      "Links saved to ./output/pghcitypaper_events/children/www.pghcitypaper.com_pittsburgh_BestOf?category=1467879/url.txt\n",
      "[]\n",
      "All PDFs and DOCX files have been downloaded.\n",
      "No events found in the HTML content.\n",
      "Paragraphs saved to ./output/pghcitypaper_events/children/www.pghcitypaper.com_pittsburgh_BestOf?category=26707713/paragraphs.txt\n",
      "Links saved to ./output/pghcitypaper_events/children/www.pghcitypaper.com_pittsburgh_BestOf?category=26707713/url.txt\n",
      "[]\n",
      "All PDFs and DOCX files have been downloaded.\n",
      "No events found in the HTML content.\n"
     ]
    },
    {
     "name": "stderr",
     "output_type": "stream",
     "text": [
      " 37%|███▋      | 130/356 [00:33<00:33,  6.81it/s]"
     ]
    },
    {
     "name": "stdout",
     "output_type": "stream",
     "text": [
      "An error occurred: 524 Server Error:  for url: https://www.pghcitypaper.com/specials-guides\n",
      "Paragraphs saved to ./output/pghcitypaper_events/children/www.pghcitypaper.com_guide_shop-local/paragraphs.txt\n",
      "Links saved to ./output/pghcitypaper_events/children/www.pghcitypaper.com_guide_shop-local/url.txt\n",
      "[]\n",
      "All PDFs and DOCX files have been downloaded.\n",
      "No events found in the HTML content.\n"
     ]
    },
    {
     "name": "stderr",
     "output_type": "stream",
     "text": [
      " 37%|███▋      | 132/356 [00:34<00:32,  6.81it/s]"
     ]
    },
    {
     "name": "stdout",
     "output_type": "stream",
     "text": [
      "Paragraphs saved to ./output/pghcitypaper_events/children/www.pghcitypaper.com_category_pittsburghs-people-of-the-year-16399436/paragraphs.txt\n",
      "Links saved to ./output/pghcitypaper_events/children/www.pghcitypaper.com_category_pittsburghs-people-of-the-year-16399436/url.txt\n",
      "[]\n",
      "All PDFs and DOCX files have been downloaded.\n",
      "Extracted 7 events and saved to ./output/pghcitypaper_events/children/www.pghcitypaper.com_category_pittsburghs-people-of-the-year-16399436/events.csv\n",
      "Paragraphs saved to ./output/pghcitypaper_events/children/www.pghcitypaper.com_guide_give-local/paragraphs.txt\n",
      "Links saved to ./output/pghcitypaper_events/children/www.pghcitypaper.com_guide_give-local/url.txt\n",
      "[]\n",
      "All PDFs and DOCX files have been downloaded.\n",
      "No events found in the HTML content.\n"
     ]
    },
    {
     "name": "stderr",
     "output_type": "stream",
     "text": [
      " 38%|███▊      | 134/356 [00:34<00:33,  6.66it/s]"
     ]
    },
    {
     "name": "stdout",
     "output_type": "stream",
     "text": [
      "An error occurred: 524 Server Error:  for url: https://www.pghcitypaper.com/category/election-guide-14973309\n",
      "An error occurred: 524 Server Error:  for url: https://www.pghcitypaper.com/pittsburgh/2022-winter-guide/Content?oid=20992964\n"
     ]
    },
    {
     "name": "stderr",
     "output_type": "stream",
     "text": [
      " 38%|███▊      | 135/356 [00:34<00:31,  7.06it/s]"
     ]
    },
    {
     "name": "stdout",
     "output_type": "stream",
     "text": [
      "An error occurred: 524 Server Error:  for url: https://www.pghcitypaper.com/category/spring-guide-14191717\n"
     ]
    },
    {
     "name": "stderr",
     "output_type": "stream",
     "text": [
      " 38%|███▊      | 137/356 [00:34<00:34,  6.30it/s]"
     ]
    },
    {
     "name": "stdout",
     "output_type": "stream",
     "text": [
      "Paragraphs saved to ./output/pghcitypaper_events/children/www.pghcitypaper.com_specials-guides_pittsburgh-city-papers-2023-summer-guide-24022837/paragraphs.txt\n",
      "Links saved to ./output/pghcitypaper_events/children/www.pghcitypaper.com_specials-guides_pittsburgh-city-papers-2023-summer-guide-24022837/url.txt\n",
      "[]\n",
      "All PDFs and DOCX files have been downloaded.\n",
      "No events found in the HTML content.\n",
      "An error occurred: 524 Server Error:  for url: https://www.pghcitypaper.com/category/fall-guide-15817790\n"
     ]
    },
    {
     "name": "stderr",
     "output_type": "stream",
     "text": [
      " 39%|███▉      | 138/356 [00:34<00:33,  6.54it/s]"
     ]
    },
    {
     "name": "stdout",
     "output_type": "stream",
     "text": [
      "Paragraphs saved to ./output/pghcitypaper_events/children/www.pghcitypaper.com_pittsburgh_IssueArchives/paragraphs.txt\n",
      "Links saved to ./output/pghcitypaper_events/children/www.pghcitypaper.com_pittsburgh_IssueArchives/url.txt\n",
      "[]\n",
      "All PDFs and DOCX files have been downloaded.\n",
      "No events found in the HTML content.\n"
     ]
    },
    {
     "name": "stderr",
     "output_type": "stream",
     "text": [
      " 39%|███▉      | 139/356 [00:35<00:48,  4.47it/s]"
     ]
    },
    {
     "name": "stdout",
     "output_type": "stream",
     "text": [
      "An error occurred: 524 Server Error: Resource Temporarily Unavailable for url: https://posting.pghcitypaper.com/pittsburgh/PittsburghCityPapersMembershipCampaign/Page\n"
     ]
    },
    {
     "name": "stderr",
     "output_type": "stream",
     "text": [
      " 39%|███▉      | 140/356 [00:35<00:52,  4.11it/s]"
     ]
    },
    {
     "name": "stdout",
     "output_type": "stream",
     "text": [
      "Paragraphs saved to ./output/pghcitypaper_events/children/pghcitypaperstore.com_collections_all/paragraphs.txt\n",
      "Links saved to ./output/pghcitypaper_events/children/pghcitypaperstore.com_collections_all/url.txt\n",
      "[]\n",
      "All PDFs and DOCX files have been downloaded.\n",
      "No events found in the HTML content.\n"
     ]
    },
    {
     "name": "stderr",
     "output_type": "stream",
     "text": [
      " 40%|███▉      | 141/356 [00:36<00:59,  3.61it/s]"
     ]
    },
    {
     "name": "stdout",
     "output_type": "stream",
     "text": [
      "An error occurred: 524 Server Error: Resource Temporarily Unavailable for url: https://posting.pghcitypaper.com/pittsburgh/PittsburghCityPapersMembershipCampaign/Page\n"
     ]
    },
    {
     "name": "stderr",
     "output_type": "stream",
     "text": [
      " 40%|████      | 143/356 [00:36<00:54,  3.91it/s]"
     ]
    },
    {
     "name": "stdout",
     "output_type": "stream",
     "text": [
      "An error occurred: 524 Server Error: Resource Temporarily Unavailable for url: https://posting.pghcitypaper.com/pittsburgh/Newsletter\n",
      "An error occurred: 524 Server Error:  for url: https://www.pghcitypaper.com/blogs/Blogh/\n"
     ]
    },
    {
     "name": "stderr",
     "output_type": "stream",
     "text": [
      " 40%|████      | 144/356 [00:36<00:59,  3.55it/s]"
     ]
    },
    {
     "name": "stdout",
     "output_type": "stream",
     "text": [
      "An error occurred: 524 Server Error: Resource Temporarily Unavailable for url: https://posting.pghcitypaper.com/pittsburgh/Newsletter\n"
     ]
    },
    {
     "name": "stderr",
     "output_type": "stream",
     "text": [
      " 41%|████      | 145/356 [00:37<01:04,  3.26it/s]"
     ]
    },
    {
     "name": "stdout",
     "output_type": "stream",
     "text": [
      "An error occurred: 524 Server Error: Resource Temporarily Unavailable for url: https://posting.pghcitypaper.com/pittsburgh/Newsletter\n"
     ]
    },
    {
     "name": "stderr",
     "output_type": "stream",
     "text": [
      " 41%|████      | 146/356 [00:37<01:08,  3.08it/s]"
     ]
    },
    {
     "name": "stdout",
     "output_type": "stream",
     "text": [
      "An error occurred: 524 Server Error: Resource Temporarily Unavailable for url: https://posting.pghcitypaper.com/pittsburgh/PittsburghCityPapersMembershipCampaign/Page\n"
     ]
    },
    {
     "name": "stderr",
     "output_type": "stream",
     "text": [
      " 41%|████▏     | 147/356 [00:38<01:20,  2.61it/s]"
     ]
    },
    {
     "name": "stdout",
     "output_type": "stream",
     "text": [
      "Paragraphs saved to ./output/pghcitypaper_events/children/twitter.com_PGHCityPaper/paragraphs.txt\n",
      "Links saved to ./output/pghcitypaper_events/children/twitter.com_PGHCityPaper/url.txt\n",
      "[]\n",
      "All PDFs and DOCX files have been downloaded.\n",
      "No events found in the HTML content.\n"
     ]
    },
    {
     "name": "stderr",
     "output_type": "stream",
     "text": [
      " 42%|████▏     | 148/356 [00:38<01:22,  2.53it/s]"
     ]
    },
    {
     "name": "stdout",
     "output_type": "stream",
     "text": [
      "Paragraphs saved to ./output/pghcitypaper_events/children/www.facebook.com_PittsburghCityPaper?sk=wall/paragraphs.txt\n",
      "Links saved to ./output/pghcitypaper_events/children/www.facebook.com_PittsburghCityPaper?sk=wall/url.txt\n",
      "[]\n",
      "All PDFs and DOCX files have been downloaded.\n",
      "No events found in the HTML content.\n"
     ]
    },
    {
     "name": "stderr",
     "output_type": "stream",
     "text": [
      " 42%|████▏     | 149/356 [00:39<01:33,  2.22it/s]"
     ]
    },
    {
     "name": "stdout",
     "output_type": "stream",
     "text": [
      "Paragraphs saved to ./output/pghcitypaper_events/children/instagram.com_pghcitypaper_/paragraphs.txt\n",
      "Links saved to ./output/pghcitypaper_events/children/instagram.com_pghcitypaper_/url.txt\n",
      "[]\n",
      "All PDFs and DOCX files have been downloaded.\n",
      "No events found in the HTML content.\n",
      "Paragraphs saved to ./output/pghcitypaper_events/children/www.pghcitypaper.com_pittsburgh_EventSearch?sortType=date&v=d#LogIn/paragraphs.txt\n",
      "Links saved to ./output/pghcitypaper_events/children/www.pghcitypaper.com_pittsburgh_EventSearch?sortType=date&v=d#LogIn/url.txt\n",
      "[]\n",
      "All PDFs and DOCX files have been downloaded.\n"
     ]
    },
    {
     "name": "stderr",
     "output_type": "stream",
     "text": [
      " 42%|████▏     | 151/356 [00:39<01:05,  3.15it/s]"
     ]
    },
    {
     "name": "stdout",
     "output_type": "stream",
     "text": [
      "Extracted 33 events and saved to ./output/pghcitypaper_events/children/www.pghcitypaper.com_pittsburgh_EventSearch?sortType=date&v=d#LogIn/events.csv\n",
      "Paragraphs saved to ./output/pghcitypaper_events/children/www.pghcitypaper.com_pittsburgh_EventSearch?sortType=date&v=d/paragraphs.txt\n",
      "Links saved to ./output/pghcitypaper_events/children/www.pghcitypaper.com_pittsburgh_EventSearch?sortType=date&v=d/url.txt\n",
      "[]\n",
      "All PDFs and DOCX files have been downloaded.\n",
      "Extracted 33 events and saved to ./output/pghcitypaper_events/children/www.pghcitypaper.com_pittsburgh_EventSearch?sortType=date&v=d/events.csv\n"
     ]
    },
    {
     "name": "stderr",
     "output_type": "stream",
     "text": [
      " 43%|████▎     | 152/356 [00:39<01:04,  3.15it/s]"
     ]
    },
    {
     "name": "stdout",
     "output_type": "stream",
     "text": [
      "An error occurred: 524 Server Error: Resource Temporarily Unavailable for url: https://posting.pghcitypaper.com/pittsburgh/MyProfile\n"
     ]
    },
    {
     "name": "stderr",
     "output_type": "stream",
     "text": [
      " 43%|████▎     | 153/356 [00:40<00:59,  3.39it/s]"
     ]
    },
    {
     "name": "stdout",
     "output_type": "stream",
     "text": [
      "An error occurred: 524 Server Error: Resource Temporarily Unavailable for url: https://posting.pghcitypaper.com/pittsburgh/Profile/MySettings\n"
     ]
    },
    {
     "name": "stderr",
     "output_type": "stream",
     "text": [
      " 44%|████▎     | 155/356 [00:40<00:49,  4.04it/s]"
     ]
    },
    {
     "name": "stdout",
     "output_type": "stream",
     "text": [
      "An error occurred: 524 Server Error: Resource Temporarily Unavailable for url: https://posting.pghcitypaper.com/pittsburgh/Logout\n",
      "An error occurred: 524 Server Error:  for url: https://www.pghcitypaper.com/pittsburgh/EventSearch?feature=Promoted\n"
     ]
    },
    {
     "name": "stderr",
     "output_type": "stream",
     "text": [
      " 44%|████▍     | 156/356 [00:40<00:45,  4.41it/s]"
     ]
    },
    {
     "name": "stdout",
     "output_type": "stream",
     "text": [
      "An error occurred: 524 Server Error:  for url: https://www.pghcitypaper.com/pittsburgh/norberts-haunted-festival/Event?oid=26562450\n"
     ]
    },
    {
     "name": "stderr",
     "output_type": "stream",
     "text": [
      " 44%|████▍     | 157/356 [00:40<00:43,  4.55it/s]"
     ]
    },
    {
     "name": "stdout",
     "output_type": "stream",
     "text": [
      "An error occurred: 524 Server Error:  for url: https://www.pghcitypaper.com/pittsburgh/god-hates-unicorns-stereo-scandal-and-love-dumpster-halloween-bash/Event?oid=26732700\n"
     ]
    },
    {
     "name": "stderr",
     "output_type": "stream",
     "text": [
      " 45%|████▍     | 159/356 [00:41<00:40,  4.87it/s]"
     ]
    },
    {
     "name": "stdout",
     "output_type": "stream",
     "text": [
      "An error occurred: 524 Server Error:  for url: https://www.pghcitypaper.com/pittsburgh/wyep-hellbender-ball-night-of-the-living-hellbender/Event?oid=26574798\n",
      "Paragraphs saved to ./output/pghcitypaper_events/children/www.pghcitypaper.com_pittsburgh_EventSearch?sortType=date&v=d/paragraphs.txt\n",
      "Links saved to ./output/pghcitypaper_events/children/www.pghcitypaper.com_pittsburgh_EventSearch?sortType=date&v=d/url.txt\n",
      "[]\n",
      "All PDFs and DOCX files have been downloaded.\n",
      "Extracted 33 events and saved to ./output/pghcitypaper_events/children/www.pghcitypaper.com_pittsburgh_EventSearch?sortType=date&v=d/events.csv\n"
     ]
    },
    {
     "name": "stderr",
     "output_type": "stream",
     "text": [
      " 45%|████▍     | 160/356 [00:41<00:39,  5.02it/s]"
     ]
    },
    {
     "name": "stdout",
     "output_type": "stream",
     "text": [
      "Paragraphs saved to ./output/pghcitypaper_events/children/www.pghcitypaper.com_pittsburgh_EventSearch?sortType=date&v=d/paragraphs.txt\n",
      "Links saved to ./output/pghcitypaper_events/children/www.pghcitypaper.com_pittsburgh_EventSearch?sortType=date&v=d/url.txt\n",
      "[]\n",
      "All PDFs and DOCX files have been downloaded.\n",
      "Extracted 33 events and saved to ./output/pghcitypaper_events/children/www.pghcitypaper.com_pittsburgh_EventSearch?sortType=date&v=d/events.csv\n"
     ]
    },
    {
     "name": "stderr",
     "output_type": "stream",
     "text": [
      " 46%|████▌     | 162/356 [00:41<00:35,  5.41it/s]"
     ]
    },
    {
     "name": "stdout",
     "output_type": "stream",
     "text": [
      "An error occurred: 524 Server Error:  for url: https://www.pghcitypaper.com/pittsburgh/ritual-sound-movement-healing-art-wellness-workshop-and-quarterly-immersion/Event?oid=26756233\n",
      "An error occurred: 524 Server Error:  for url: https://www.pghcitypaper.com/pittsburgh/ritual-sound-movement-healing-art-wellness-workshop-and-quarterly-immersion/Event?oid=26756233\n"
     ]
    },
    {
     "name": "stderr",
     "output_type": "stream",
     "text": [
      " 46%|████▌     | 163/356 [00:42<00:38,  5.05it/s]"
     ]
    },
    {
     "name": "stdout",
     "output_type": "stream",
     "text": [
      "Paragraphs saved to ./output/pghcitypaper_events/children/www.pghcitypaper.com_pittsburgh_wightman-school_Location?oid=1423258/paragraphs.txt\n",
      "Links saved to ./output/pghcitypaper_events/children/www.pghcitypaper.com_pittsburgh_wightman-school_Location?oid=1423258/url.txt\n",
      "[]\n",
      "All PDFs and DOCX files have been downloaded.\n",
      "Extracted 7 events and saved to ./output/pghcitypaper_events/children/www.pghcitypaper.com_pittsburgh_wightman-school_Location?oid=1423258/events.csv\n"
     ]
    },
    {
     "name": "stderr",
     "output_type": "stream",
     "text": [
      " 46%|████▌     | 164/356 [00:43<01:59,  1.61it/s]"
     ]
    },
    {
     "name": "stdout",
     "output_type": "stream",
     "text": [
      "Paragraphs saved to ./output/pghcitypaper_events/children/www.eventbrite.com_e_ritual-sound-movement-healing-art-wellness-workshop-tickets-1031264037497?aff=oddtdtcreator/paragraphs.txt\n",
      "Links saved to ./output/pghcitypaper_events/children/www.eventbrite.com_e_ritual-sound-movement-healing-art-wellness-workshop-tickets-1031264037497?aff=oddtdtcreator/url.txt\n",
      "[]\n",
      "All PDFs and DOCX files have been downloaded.\n",
      "No events found in the HTML content.\n"
     ]
    },
    {
     "name": "stderr",
     "output_type": "stream",
     "text": [
      " 46%|████▋     | 165/356 [00:44<02:20,  1.35it/s]"
     ]
    },
    {
     "name": "stdout",
     "output_type": "stream",
     "text": [
      "Paragraphs saved to ./output/pghcitypaper_events/children/www.eventbrite.com_e_ritual-sound-movement-healing-art-wellness-workshop-tickets-1031264037497?aff=oddtdtcreator/paragraphs.txt\n",
      "Links saved to ./output/pghcitypaper_events/children/www.eventbrite.com_e_ritual-sound-movement-healing-art-wellness-workshop-tickets-1031264037497?aff=oddtdtcreator/url.txt\n",
      "[]\n",
      "All PDFs and DOCX files have been downloaded.\n",
      "No events found in the HTML content.\n"
     ]
    },
    {
     "name": "stderr",
     "output_type": "stream",
     "text": [
      " 47%|████▋     | 166/356 [00:44<01:59,  1.59it/s]"
     ]
    },
    {
     "name": "stdout",
     "output_type": "stream",
     "text": [
      "Paragraphs saved to ./output/pghcitypaper_events/children/www.pghcitypaper.com_pittsburgh_EventSearch?eventCategory=1354759/paragraphs.txt\n",
      "Links saved to ./output/pghcitypaper_events/children/www.pghcitypaper.com_pittsburgh_EventSearch?eventCategory=1354759/url.txt\n",
      "[]\n",
      "All PDFs and DOCX files have been downloaded.\n",
      "Extracted 32 events and saved to ./output/pghcitypaper_events/children/www.pghcitypaper.com_pittsburgh_EventSearch?eventCategory=1354759/events.csv\n"
     ]
    },
    {
     "name": "stderr",
     "output_type": "stream",
     "text": [
      " 47%|████▋     | 168/356 [00:45<01:18,  2.40it/s]"
     ]
    },
    {
     "name": "stdout",
     "output_type": "stream",
     "text": [
      "Paragraphs saved to ./output/pghcitypaper_events/children/www.pghcitypaper.com_pittsburgh_EventSearch?eventCategory=1354775/paragraphs.txt\n",
      "Links saved to ./output/pghcitypaper_events/children/www.pghcitypaper.com_pittsburgh_EventSearch?eventCategory=1354775/url.txt\n",
      "[]\n",
      "All PDFs and DOCX files have been downloaded.\n",
      "Extracted 8 events and saved to ./output/pghcitypaper_events/children/www.pghcitypaper.com_pittsburgh_EventSearch?eventCategory=1354775/events.csv\n",
      "Paragraphs saved to ./output/pghcitypaper_events/children/www.pghcitypaper.com_pittsburgh_EventSearch?eventCategory=1354760/paragraphs.txt\n",
      "Links saved to ./output/pghcitypaper_events/children/www.pghcitypaper.com_pittsburgh_EventSearch?eventCategory=1354760/url.txt\n",
      "[]\n",
      "All PDFs and DOCX files have been downloaded.\n",
      "Extracted 27 events and saved to ./output/pghcitypaper_events/children/www.pghcitypaper.com_pittsburgh_EventSearch?eventCategory=1354760/events.csv\n"
     ]
    },
    {
     "name": "stderr",
     "output_type": "stream",
     "text": [
      " 48%|████▊     | 170/356 [00:45<00:54,  3.43it/s]"
     ]
    },
    {
     "name": "stdout",
     "output_type": "stream",
     "text": [
      "Paragraphs saved to ./output/pghcitypaper_events/children/www.pghcitypaper.com_pittsburgh_pittsburgh-playhouse-fall-fest_Event?oid=26623755/paragraphs.txt\n",
      "Links saved to ./output/pghcitypaper_events/children/www.pghcitypaper.com_pittsburgh_pittsburgh-playhouse-fall-fest_Event?oid=26623755/url.txt\n",
      "[]\n",
      "All PDFs and DOCX files have been downloaded.\n",
      "Extracted 1 events and saved to ./output/pghcitypaper_events/children/www.pghcitypaper.com_pittsburgh_pittsburgh-playhouse-fall-fest_Event?oid=26623755/events.csv\n",
      "Paragraphs saved to ./output/pghcitypaper_events/children/www.pghcitypaper.com_pittsburgh_pittsburgh-playhouse-fall-fest_Event?oid=26623755/paragraphs.txt\n",
      "Links saved to ./output/pghcitypaper_events/children/www.pghcitypaper.com_pittsburgh_pittsburgh-playhouse-fall-fest_Event?oid=26623755/url.txt\n",
      "[]\n",
      "All PDFs and DOCX files have been downloaded.\n",
      "Extracted 1 events and saved to ./output/pghcitypaper_events/children/www.pghcitypaper.com_pittsburgh_pittsburgh-playhouse-fall-fest_Event?oid=26623755/events.csv\n"
     ]
    },
    {
     "name": "stderr",
     "output_type": "stream",
     "text": [
      " 48%|████▊     | 171/356 [00:46<00:48,  3.82it/s]"
     ]
    },
    {
     "name": "stdout",
     "output_type": "stream",
     "text": [
      "An error occurred: 524 Server Error:  for url: https://www.pghcitypaper.com/pittsburgh/pittsburgh-playhouse-of-point-park-university/Location?oid=15032237\n"
     ]
    },
    {
     "name": "stderr",
     "output_type": "stream",
     "text": [
      " 48%|████▊     | 172/356 [00:46<00:58,  3.17it/s]"
     ]
    },
    {
     "name": "stdout",
     "output_type": "stream",
     "text": [
      "An error occurred: 403 Client Error: Forbidden for url: https://playhouse.culturaldistrict.org/production/95569/fall-festival-halloween-show\n",
      "An error occurred: 403 Client Error: Forbidden for url: https://playhouse.culturaldistrict.org/production/95569/fall-festival-halloween-show\n"
     ]
    },
    {
     "name": "stderr",
     "output_type": "stream",
     "text": [
      " 49%|████▉     | 174/356 [00:46<00:45,  3.98it/s]"
     ]
    },
    {
     "name": "stdout",
     "output_type": "stream",
     "text": [
      "Paragraphs saved to ./output/pghcitypaper_events/children/www.pghcitypaper.com_pittsburgh_EventSearch?eventCategory=1354758/paragraphs.txt\n",
      "Links saved to ./output/pghcitypaper_events/children/www.pghcitypaper.com_pittsburgh_EventSearch?eventCategory=1354758/url.txt\n",
      "[]\n",
      "All PDFs and DOCX files have been downloaded.\n",
      "Extracted 21 events and saved to ./output/pghcitypaper_events/children/www.pghcitypaper.com_pittsburgh_EventSearch?eventCategory=1354758/events.csv\n"
     ]
    },
    {
     "name": "stderr",
     "output_type": "stream",
     "text": [
      " 49%|████▉     | 175/356 [00:47<00:47,  3.85it/s]"
     ]
    },
    {
     "name": "stdout",
     "output_type": "stream",
     "text": [
      "Paragraphs saved to ./output/pghcitypaper_events/children/www.pghcitypaper.com_pittsburgh_EventSearch?eventCategory=1354753/paragraphs.txt\n",
      "Links saved to ./output/pghcitypaper_events/children/www.pghcitypaper.com_pittsburgh_EventSearch?eventCategory=1354753/url.txt\n",
      "[]\n",
      "All PDFs and DOCX files have been downloaded.\n",
      "Extracted 33 events and saved to ./output/pghcitypaper_events/children/www.pghcitypaper.com_pittsburgh_EventSearch?eventCategory=1354753/events.csv\n"
     ]
    },
    {
     "name": "stderr",
     "output_type": "stream",
     "text": [
      " 49%|████▉     | 176/356 [00:47<00:47,  3.83it/s]"
     ]
    },
    {
     "name": "stdout",
     "output_type": "stream",
     "text": [
      "Paragraphs saved to ./output/pghcitypaper_events/children/www.pghcitypaper.com_pittsburgh_EventSearch?eventCategory=1354763/paragraphs.txt\n",
      "Links saved to ./output/pghcitypaper_events/children/www.pghcitypaper.com_pittsburgh_EventSearch?eventCategory=1354763/url.txt\n",
      "[]\n",
      "All PDFs and DOCX files have been downloaded.\n",
      "Extracted 24 events and saved to ./output/pghcitypaper_events/children/www.pghcitypaper.com_pittsburgh_EventSearch?eventCategory=1354763/events.csv\n"
     ]
    },
    {
     "name": "stderr",
     "output_type": "stream",
     "text": [
      " 50%|█████     | 178/356 [00:47<00:40,  4.37it/s]"
     ]
    },
    {
     "name": "stdout",
     "output_type": "stream",
     "text": [
      "Paragraphs saved to ./output/pghcitypaper_events/children/www.pghcitypaper.com_pittsburgh_fall-used-book-sale_Event?oid=26714475/paragraphs.txt\n",
      "Links saved to ./output/pghcitypaper_events/children/www.pghcitypaper.com_pittsburgh_fall-used-book-sale_Event?oid=26714475/url.txt\n",
      "[]\n",
      "All PDFs and DOCX files have been downloaded.\n",
      "Extracted 1 events and saved to ./output/pghcitypaper_events/children/www.pghcitypaper.com_pittsburgh_fall-used-book-sale_Event?oid=26714475/events.csv\n",
      "Paragraphs saved to ./output/pghcitypaper_events/children/www.pghcitypaper.com_pittsburgh_fall-used-book-sale_Event?oid=26714475/paragraphs.txt\n",
      "Links saved to ./output/pghcitypaper_events/children/www.pghcitypaper.com_pittsburgh_fall-used-book-sale_Event?oid=26714475/url.txt\n",
      "[]\n",
      "All PDFs and DOCX files have been downloaded.\n",
      "Extracted 1 events and saved to ./output/pghcitypaper_events/children/www.pghcitypaper.com_pittsburgh_fall-used-book-sale_Event?oid=26714475/events.csv\n"
     ]
    },
    {
     "name": "stderr",
     "output_type": "stream",
     "text": [
      " 51%|█████     | 180/356 [00:48<00:35,  4.93it/s]"
     ]
    },
    {
     "name": "stdout",
     "output_type": "stream",
     "text": [
      "Paragraphs saved to ./output/pghcitypaper_events/children/www.pghcitypaper.com_pittsburgh_scott-township-public-library_Location?oid=20078475/paragraphs.txt\n",
      "Links saved to ./output/pghcitypaper_events/children/www.pghcitypaper.com_pittsburgh_scott-township-public-library_Location?oid=20078475/url.txt\n",
      "[]\n",
      "All PDFs and DOCX files have been downloaded.\n",
      "Extracted 4 events and saved to ./output/pghcitypaper_events/children/www.pghcitypaper.com_pittsburgh_scott-township-public-library_Location?oid=20078475/events.csv\n",
      "An error occurred: 524 Server Error:  for url: https://www.pghcitypaper.com/pittsburgh/EventSearch?eventCategory=1354762\n"
     ]
    },
    {
     "name": "stderr",
     "output_type": "stream",
     "text": [
      " 51%|█████     | 182/356 [00:48<00:30,  5.65it/s]"
     ]
    },
    {
     "name": "stdout",
     "output_type": "stream",
     "text": [
      "An error occurred: 524 Server Error:  for url: https://www.pghcitypaper.com/pittsburgh/fall-fest/Event?oid=26691520\n",
      "An error occurred: 524 Server Error:  for url: https://www.pghcitypaper.com/pittsburgh/fall-fest/Event?oid=26691520\n"
     ]
    },
    {
     "name": "stderr",
     "output_type": "stream",
     "text": [
      " 52%|█████▏    | 185/356 [00:48<00:22,  7.68it/s]"
     ]
    },
    {
     "name": "stdout",
     "output_type": "stream",
     "text": [
      "An error occurred: 524 Server Error:  for url: https://www.pghcitypaper.com/pittsburgh/pittsburgh-playhouse-of-point-park-university/Location?oid=15032237\n",
      "An error occurred: 403 Client Error: Forbidden for url: https://playhouse.culturaldistrict.org/production/95569/fall-festival-halloween-show\n",
      "An error occurred: 403 Client Error: Forbidden for url: https://playhouse.culturaldistrict.org/production/95569/fall-festival-halloween-show\n"
     ]
    },
    {
     "name": "stderr",
     "output_type": "stream",
     "text": [
      " 53%|█████▎    | 187/356 [00:49<00:28,  6.01it/s]"
     ]
    },
    {
     "name": "stdout",
     "output_type": "stream",
     "text": [
      "Paragraphs saved to ./output/pghcitypaper_events/children/www.pghcitypaper.com_pittsburgh_EventSearch?eventCategory=1354758/paragraphs.txt\n",
      "Links saved to ./output/pghcitypaper_events/children/www.pghcitypaper.com_pittsburgh_EventSearch?eventCategory=1354758/url.txt\n",
      "[]\n",
      "All PDFs and DOCX files have been downloaded.\n",
      "Extracted 21 events and saved to ./output/pghcitypaper_events/children/www.pghcitypaper.com_pittsburgh_EventSearch?eventCategory=1354758/events.csv\n",
      "An error occurred: 524 Server Error:  for url: https://www.pghcitypaper.com/pittsburgh/the-trees/Event?oid=26691518\n"
     ]
    },
    {
     "name": "stderr",
     "output_type": "stream",
     "text": [
      " 53%|█████▎    | 189/356 [00:49<00:25,  6.55it/s]"
     ]
    },
    {
     "name": "stdout",
     "output_type": "stream",
     "text": [
      "An error occurred: 524 Server Error:  for url: https://www.pghcitypaper.com/pittsburgh/the-trees/Event?oid=26691518\n",
      "An error occurred: 524 Server Error:  for url: https://www.pghcitypaper.com/pittsburgh/pittsburgh-playhouse-of-point-park-university/Location?oid=15032237\n"
     ]
    },
    {
     "name": "stderr",
     "output_type": "stream",
     "text": [
      " 53%|█████▎    | 190/356 [00:49<00:22,  7.23it/s]"
     ]
    },
    {
     "name": "stdout",
     "output_type": "stream",
     "text": [
      "An error occurred: 403 Client Error: Forbidden for url: https://playhouse.culturaldistrict.org/production/95451/list_performances\n",
      "An error occurred: 403 Client Error: Forbidden for url: https://playhouse.culturaldistrict.org/production/95451/list_performances\n"
     ]
    },
    {
     "name": "stderr",
     "output_type": "stream",
     "text": [
      " 54%|█████▍    | 192/356 [00:49<00:23,  6.86it/s]"
     ]
    },
    {
     "name": "stdout",
     "output_type": "stream",
     "text": [
      "Paragraphs saved to ./output/pghcitypaper_events/children/www.pghcitypaper.com_pittsburgh_EventSearch?eventCategory=1354753/paragraphs.txt\n",
      "Links saved to ./output/pghcitypaper_events/children/www.pghcitypaper.com_pittsburgh_EventSearch?eventCategory=1354753/url.txt\n",
      "[]\n",
      "All PDFs and DOCX files have been downloaded.\n",
      "Extracted 33 events and saved to ./output/pghcitypaper_events/children/www.pghcitypaper.com_pittsburgh_EventSearch?eventCategory=1354753/events.csv\n"
     ]
    },
    {
     "name": "stderr",
     "output_type": "stream",
     "text": [
      " 54%|█████▍    | 194/356 [00:50<00:27,  5.97it/s]"
     ]
    },
    {
     "name": "stdout",
     "output_type": "stream",
     "text": [
      "Paragraphs saved to ./output/pghcitypaper_events/children/www.pghcitypaper.com_pittsburgh_halloween-season-of-the-sketch_Event?oid=26694744/paragraphs.txt\n",
      "Links saved to ./output/pghcitypaper_events/children/www.pghcitypaper.com_pittsburgh_halloween-season-of-the-sketch_Event?oid=26694744/url.txt\n",
      "[]\n",
      "All PDFs and DOCX files have been downloaded.\n",
      "Extracted 1 events and saved to ./output/pghcitypaper_events/children/www.pghcitypaper.com_pittsburgh_halloween-season-of-the-sketch_Event?oid=26694744/events.csv\n",
      "Paragraphs saved to ./output/pghcitypaper_events/children/www.pghcitypaper.com_pittsburgh_halloween-season-of-the-sketch_Event?oid=26694744/paragraphs.txt\n",
      "Links saved to ./output/pghcitypaper_events/children/www.pghcitypaper.com_pittsburgh_halloween-season-of-the-sketch_Event?oid=26694744/url.txt\n",
      "[]\n",
      "All PDFs and DOCX files have been downloaded.\n",
      "Extracted 1 events and saved to ./output/pghcitypaper_events/children/www.pghcitypaper.com_pittsburgh_halloween-season-of-the-sketch_Event?oid=26694744/events.csv\n"
     ]
    },
    {
     "name": "stderr",
     "output_type": "stream",
     "text": [
      " 55%|█████▍    | 195/356 [00:50<00:41,  3.86it/s]"
     ]
    },
    {
     "name": "stdout",
     "output_type": "stream",
     "text": [
      "Paragraphs saved to ./output/pghcitypaper_events/children/www.pghcitypaper.com_pittsburgh_arcade-comedy-theater_Location?oid=1623712/paragraphs.txt\n",
      "Links saved to ./output/pghcitypaper_events/children/www.pghcitypaper.com_pittsburgh_arcade-comedy-theater_Location?oid=1623712/url.txt\n",
      "[]\n",
      "All PDFs and DOCX files have been downloaded.\n",
      "Extracted 8 events and saved to ./output/pghcitypaper_events/children/www.pghcitypaper.com_pittsburgh_arcade-comedy-theater_Location?oid=1623712/events.csv\n"
     ]
    },
    {
     "name": "stderr",
     "output_type": "stream",
     "text": [
      "\n"
     ]
    },
    {
     "ename": "OSError",
     "evalue": "[Errno 63] File name too long: './output/pghcitypaper_events/children/l.facebook.com_l.php?u=https%3A%2F%2Fwww.showclix.com%2Fevent%2Fhalloween-season-of-the-sketch-2410%3Ffbclid%3DIwZXh0bgNhZW0CMTAAAR08zTRgoD2BoCyWrx-bHHCbGDPkE5L-Q44u8ajEsMsVmM-DjqJu7k0S7wM_aem_P0XoKR4-Y4VOovQlTPGNOg&h=AT0qIpn-UffVImGex1UFYPWWs2qFwEw77bfYyjGweMghg20C8bfodosfOq2vOUIwaOG91Bsqd941eJFezu19TlrmRq0Njip-FDR0M11FMvalTYfqxTX0934NYJN4c06q&__tn__=-UK-R&c[0]=AT33nWt55T_SMwTGmkUa8GDkGHT3KWtouGrDQuUvSFrwLv3xILeqx8Sb0Y8f0AOnBKQJ9ABZTbsYvYc5mdC6JkQbOvDDzkhp9H8aYFDUlmaJCynmfObMXhYBllZjXn7xZBI0Fp09kermbj5Qe3IcOTFYmQgptc860nkZC-lx8kVdF9KMTuAWoUJJndsL-YwnBOohlY28BhH9HRzmV9fBxxpZL1JyY2idkR9-9g'",
     "output_type": "error",
     "traceback": [
      "\u001b[0;31m---------------------------------------------------------------------------\u001b[0m",
      "\u001b[0;31mOSError\u001b[0m                                   Traceback (most recent call last)",
      "Cell \u001b[0;32mIn[81], line 169\u001b[0m\n\u001b[1;32m    167\u001b[0m url \u001b[38;5;241m=\u001b[39m url\u001b[38;5;241m.\u001b[39mstrip()\n\u001b[1;32m    168\u001b[0m title \u001b[38;5;241m=\u001b[39m url\u001b[38;5;241m.\u001b[39msplit(\u001b[38;5;124m'\u001b[39m\u001b[38;5;124m//\u001b[39m\u001b[38;5;124m'\u001b[39m)[\u001b[38;5;241m-\u001b[39m\u001b[38;5;241m1\u001b[39m]\u001b[38;5;241m.\u001b[39mreplace(\u001b[38;5;124m'\u001b[39m\u001b[38;5;124m/\u001b[39m\u001b[38;5;124m'\u001b[39m, \u001b[38;5;124m'\u001b[39m\u001b[38;5;124m_\u001b[39m\u001b[38;5;124m'\u001b[39m)\n\u001b[0;32m--> 169\u001b[0m \u001b[43mscrape_website\u001b[49m\u001b[43m(\u001b[49m\u001b[43murl\u001b[49m\u001b[43m,\u001b[49m\u001b[43m \u001b[49m\u001b[38;5;124;43mf\u001b[39;49m\u001b[38;5;124;43m'\u001b[39;49m\u001b[38;5;124;43m./output/pghcitypaper_events/children/\u001b[39;49m\u001b[38;5;132;43;01m{\u001b[39;49;00m\u001b[43mtitle\u001b[49m\u001b[38;5;132;43;01m}\u001b[39;49;00m\u001b[38;5;124;43m'\u001b[39;49m\u001b[43m)\u001b[49m\n",
      "Cell \u001b[0;32mIn[81], line 102\u001b[0m, in \u001b[0;36mscrape_website\u001b[0;34m(url, output_path)\u001b[0m\n\u001b[1;32m     99\u001b[0m \u001b[38;5;28;01mdef\u001b[39;00m \u001b[38;5;21mscrape_website\u001b[39m(url, output_path):\n\u001b[1;32m    100\u001b[0m     \u001b[38;5;66;03m# Ensure the output directory exists\u001b[39;00m\n\u001b[1;32m    101\u001b[0m     \u001b[38;5;28;01mif\u001b[39;00m \u001b[38;5;129;01mnot\u001b[39;00m os\u001b[38;5;241m.\u001b[39mpath\u001b[38;5;241m.\u001b[39mexists(output_path):\n\u001b[0;32m--> 102\u001b[0m         \u001b[43mos\u001b[49m\u001b[38;5;241;43m.\u001b[39;49m\u001b[43mmakedirs\u001b[49m\u001b[43m(\u001b[49m\u001b[43moutput_path\u001b[49m\u001b[43m)\u001b[49m\n\u001b[1;32m    104\u001b[0m     \u001b[38;5;28;01mtry\u001b[39;00m:\n\u001b[1;32m    105\u001b[0m         \u001b[38;5;66;03m# Fetch the webpage content\u001b[39;00m\n\u001b[1;32m    106\u001b[0m         response \u001b[38;5;241m=\u001b[39m requests\u001b[38;5;241m.\u001b[39mget(url)\n",
      "File \u001b[0;32m~/miniconda3/envs/optimization/lib/python3.10/os.py:225\u001b[0m, in \u001b[0;36mmakedirs\u001b[0;34m(name, mode, exist_ok)\u001b[0m\n\u001b[1;32m    223\u001b[0m         \u001b[38;5;28;01mreturn\u001b[39;00m\n\u001b[1;32m    224\u001b[0m \u001b[38;5;28;01mtry\u001b[39;00m:\n\u001b[0;32m--> 225\u001b[0m     \u001b[43mmkdir\u001b[49m\u001b[43m(\u001b[49m\u001b[43mname\u001b[49m\u001b[43m,\u001b[49m\u001b[43m \u001b[49m\u001b[43mmode\u001b[49m\u001b[43m)\u001b[49m\n\u001b[1;32m    226\u001b[0m \u001b[38;5;28;01mexcept\u001b[39;00m \u001b[38;5;167;01mOSError\u001b[39;00m:\n\u001b[1;32m    227\u001b[0m     \u001b[38;5;66;03m# Cannot rely on checking for EEXIST, since the operating system\u001b[39;00m\n\u001b[1;32m    228\u001b[0m     \u001b[38;5;66;03m# could give priority to other errors like EACCES or EROFS\u001b[39;00m\n\u001b[1;32m    229\u001b[0m     \u001b[38;5;28;01mif\u001b[39;00m \u001b[38;5;129;01mnot\u001b[39;00m exist_ok \u001b[38;5;129;01mor\u001b[39;00m \u001b[38;5;129;01mnot\u001b[39;00m path\u001b[38;5;241m.\u001b[39misdir(name):\n",
      "\u001b[0;31mOSError\u001b[0m: [Errno 63] File name too long: './output/pghcitypaper_events/children/l.facebook.com_l.php?u=https%3A%2F%2Fwww.showclix.com%2Fevent%2Fhalloween-season-of-the-sketch-2410%3Ffbclid%3DIwZXh0bgNhZW0CMTAAAR08zTRgoD2BoCyWrx-bHHCbGDPkE5L-Q44u8ajEsMsVmM-DjqJu7k0S7wM_aem_P0XoKR4-Y4VOovQlTPGNOg&h=AT0qIpn-UffVImGex1UFYPWWs2qFwEw77bfYyjGweMghg20C8bfodosfOq2vOUIwaOG91Bsqd941eJFezu19TlrmRq0Njip-FDR0M11FMvalTYfqxTX0934NYJN4c06q&__tn__=-UK-R&c[0]=AT33nWt55T_SMwTGmkUa8GDkGHT3KWtouGrDQuUvSFrwLv3xILeqx8Sb0Y8f0AOnBKQJ9ABZTbsYvYc5mdC6JkQbOvDDzkhp9H8aYFDUlmaJCynmfObMXhYBllZjXn7xZBI0Fp09kermbj5Qe3IcOTFYmQgptc860nkZC-lx8kVdF9KMTuAWoUJJndsL-YwnBOohlY28BhH9HRzmV9fBxxpZL1JyY2idkR9-9g'"
     ]
    }
   ],
   "source": [
    "def extract_events_pghcitypaper(soup, output_path, base_url):\n",
    "    \"\"\"\n",
    "    Extracts event details from the pghcitypaper.com website and saves them into 'events.csv'.\n",
    "\n",
    "    Args:\n",
    "        soup (BeautifulSoup): The parsed HTML content.\n",
    "        output_path (str): The directory where output files will be saved.\n",
    "        base_url (str): The base URL of the website.\n",
    "    \"\"\"\n",
    "    events = []\n",
    "\n",
    "    # Find all <li> elements with class 'fdn-pres-item'\n",
    "    event_items = soup.find_all('li', class_='fdn-pres-item')\n",
    "\n",
    "    if not event_items:\n",
    "        print(\"No events found in the HTML content.\")\n",
    "        return\n",
    "\n",
    "    for event_item in event_items:\n",
    "        # Event Name and URL\n",
    "        headline_p = event_item.find('p', class_='fdn-teaser-headline')\n",
    "        if headline_p:\n",
    "            event_name_tag = headline_p.find('a')\n",
    "            event_name = event_name_tag.get_text(strip=True) if event_name_tag else 'N/A'\n",
    "            event_url = urllib.parse.urljoin(base_url, event_name_tag['href']) if event_name_tag else 'N/A'\n",
    "        else:\n",
    "            event_name = 'N/A'\n",
    "            event_url = 'N/A'\n",
    "\n",
    "        # Event Date and Time\n",
    "        date_time_p = event_item.find('p', class_='fdn-teaser-subheadline')\n",
    "        event_date_time = date_time_p.get_text(strip=True) if date_time_p else 'N/A'\n",
    "\n",
    "        # Venue Name\n",
    "        venue_p = event_item.find('p', class_='fdn-event-teaser-location')\n",
    "        if venue_p:\n",
    "            venue_a = venue_p.find('a')\n",
    "            venue_name = venue_a.get_text(strip=True) if venue_a else 'N/A'\n",
    "        else:\n",
    "            venue_name = 'N/A'\n",
    "\n",
    "        # Venue Address\n",
    "        address_p = event_item.find('p', class_='fdn-inline-split-list fdn-teaser-infoline')\n",
    "        if address_p:\n",
    "            address_spans = address_p.find_all('span')\n",
    "            if len(address_spans) >= 1:\n",
    "                venue_address = address_spans[0].get_text(strip=True)\n",
    "            else:\n",
    "                venue_address = 'N/A'\n",
    "        else:\n",
    "            venue_address = 'N/A'\n",
    "\n",
    "        # Price\n",
    "        price_div = event_item.find('div', class_='fdn-pres-details-split fdn-teaser-infoline')\n",
    "        if price_div:\n",
    "            price_span = price_div.find('span')\n",
    "            price = price_span.get_text(strip=True) if price_span else 'N/A'\n",
    "        else:\n",
    "            price = 'N/A'\n",
    "\n",
    "        # Category\n",
    "        category_p = event_item.find('p', class_='fdn-teaser-infoline uk-text-break uk-margin-xsmall-top')\n",
    "        if category_p:\n",
    "            category_a = category_p.find('a')\n",
    "            category = category_a.get_text(strip=True) if category_a else 'N/A'\n",
    "        else:\n",
    "            category = 'N/A'\n",
    "\n",
    "        # Description\n",
    "        description_div = event_item.find('div', class_='fdn-teaser-description')\n",
    "        description = description_div.get_text(strip=True) if description_div else 'N/A'\n",
    "\n",
    "        # Store the extracted data\n",
    "        event = {\n",
    "            'Event Name': event_name,\n",
    "            'Event URL': event_url,\n",
    "            'Date and Time': event_date_time,\n",
    "            'Venue Name': venue_name,\n",
    "            'Venue Address': venue_address,\n",
    "            'Price': price,\n",
    "            'Category': category,\n",
    "            'Description': description\n",
    "        }\n",
    "        events.append(event)\n",
    "\n",
    "    # Save events to a CSV file\n",
    "    if events:\n",
    "        events_file = os.path.join(output_path, 'events.csv')\n",
    "        keys = ['Event Name', 'Event URL', 'Date and Time', 'Venue Name', 'Venue Address', 'Price', 'Category', 'Description']\n",
    "        with open(events_file, 'w', newline='', encoding='utf-8') as f:\n",
    "            dict_writer = csv.DictWriter(f, fieldnames=keys)\n",
    "            dict_writer.writeheader()\n",
    "            dict_writer.writerows(events)\n",
    "        print(f\"Extracted {len(events)} events and saved to {events_file}\")\n",
    "    else:\n",
    "        print(\"No events were extracted.\")\n",
    "\n",
    "\n",
    "def scrape_website(url, output_path):\n",
    "    # Ensure the output directory exists\n",
    "    if not os.path.exists(output_path):\n",
    "        os.makedirs(output_path)\n",
    "\n",
    "    try:\n",
    "        # Fetch the webpage content\n",
    "        response = requests.get(url)\n",
    "        response.raise_for_status()  # Check for HTTP errors\n",
    "        \n",
    "        # Parse the HTML content using BeautifulSoup\n",
    "        soup = BeautifulSoup(response.content, 'html.parser')\n",
    "        \n",
    "        # Extract all paragraphs and save to paragraphs.txt\n",
    "        paragraphs = soup.find_all('p')\n",
    "        paragraphs_text = [para.get_text(strip=True) for para in paragraphs if para.get_text(strip=True)]\n",
    "        paragraphs_file = os.path.join(output_path, 'paragraphs.txt')\n",
    "        with open(paragraphs_file, 'w', encoding='utf-8') as f:\n",
    "            for para in paragraphs_text:\n",
    "                f.write(para + '\\n\\n')\n",
    "        print(f\"Paragraphs saved to {paragraphs_file}\")\n",
    "        \n",
    "        # Extract all links and save to url.txt\n",
    "        links = []\n",
    "        for link in soup.find_all('a', href=True):\n",
    "            href = link['href']\n",
    "            full_url = urllib.parse.urljoin(url, href)\n",
    "            links.append(full_url)\n",
    "        links_file = os.path.join(output_path, 'url.txt')\n",
    "        with open(links_file, 'w', encoding='utf-8') as f:\n",
    "            for link in links:\n",
    "                f.write(link + '\\n')\n",
    "        print(f\"Links saved to {links_file}\")\n",
    "        \n",
    "        # Find all PDF and DOCX links and download them\n",
    "        file_extensions = ('.pdf', '.docx')\n",
    "        file_links = [link for link in links if link.lower().endswith(file_extensions)]\n",
    "        print(file_links)\n",
    "        if (len(file_links) > 0):\n",
    "            downloads_folder = os.path.join(output_path, 'downloaded_files')\n",
    "            if not os.path.exists(downloads_folder):\n",
    "                os.makedirs(downloads_folder)\n",
    "        for file_link in file_links:\n",
    "            file_url = file_link\n",
    "            file_name = os.path.basename(urllib.parse.urlsplit(file_url).path)\n",
    "            file_path = os.path.join(downloads_folder, file_name)\n",
    "            print(f\"Downloading {file_name}...\")\n",
    "            file_response = requests.get(file_url)\n",
    "            file_response.raise_for_status()\n",
    "            with open(file_path, 'wb') as f:\n",
    "                f.write(file_response.content)\n",
    "            print(f\"Saved {file_name} to {downloads_folder}\")\n",
    "        print(\"All PDFs and DOCX files have been downloaded.\")\n",
    "        \n",
    "        # Extract event details and save to events.csv\n",
    "        extract_events_pghcitypaper(soup, output_path, url)\n",
    "        \n",
    "    except requests.exceptions.RequestException as e:\n",
    "        print(f\"An error occurred: {e}\")\n",
    "\n",
    "\n",
    "url = 'https://www.pghcitypaper.com/pittsburgh/EventSearch?sortType=date&v=d'\n",
    "\n",
    "# scrape_website(url, './output/pghcitypaper_events/')\n",
    "\n",
    "with open('./output/pghcitypaper_events/url.txt', 'r') as file:\n",
    "    urls = file.readlines()\n",
    "    for url in tqdm(urls):\n",
    "        url = url.strip()\n",
    "        title = url.split('//')[-1].replace('/', '_')\n",
    "        scrape_website(url, f'./output/pghcitypaper_events/children/{title}')"
   ]
  }
 ],
 "metadata": {
  "kernelspec": {
   "display_name": "optimization",
   "language": "python",
   "name": "python3"
  },
  "language_info": {
   "codemirror_mode": {
    "name": "ipython",
    "version": 3
   },
   "file_extension": ".py",
   "mimetype": "text/x-python",
   "name": "python",
   "nbconvert_exporter": "python",
   "pygments_lexer": "ipython3",
   "version": "3.10.13"
  }
 },
 "nbformat": 4,
 "nbformat_minor": 2
}
